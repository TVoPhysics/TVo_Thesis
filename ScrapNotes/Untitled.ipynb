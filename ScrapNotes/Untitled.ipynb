{
 "cells": [
  {
   "cell_type": "code",
   "execution_count": 1,
   "metadata": {
    "collapsed": false
   },
   "outputs": [
    {
     "name": "stderr",
     "output_type": "stream",
     "text": [
      "/ligo/home/hang.yu/.py_dev/lib/python2.7/site-packages/scipy/linalg/basic.py:17: RuntimeWarning: numpy.dtype size changed, may indicate binary incompatibility. Expected 96, got 88\n",
      "  from ._solve_toeplitz import levinson\n",
      "/ligo/home/hang.yu/.py_dev/lib/python2.7/site-packages/scipy/linalg/__init__.py:207: RuntimeWarning: numpy.dtype size changed, may indicate binary incompatibility. Expected 96, got 88\n",
      "  from ._decomp_update import *\n",
      "/ligo/home/hang.yu/.py_dev/lib/python2.7/site-packages/scipy/special/__init__.py:640: RuntimeWarning: numpy.dtype size changed, may indicate binary incompatibility. Expected 96, got 88\n",
      "  from ._ufuncs import *\n",
      "/ligo/home/hang.yu/.py_dev/lib/python2.7/site-packages/scipy/special/_ellip_harm.py:7: RuntimeWarning: numpy.dtype size changed, may indicate binary incompatibility. Expected 96, got 88\n",
      "  from ._ellip_harm_2 import _ellipsoid, _ellipsoid_norm\n",
      "/ligo/home/hang.yu/.py_dev/lib/python2.7/site-packages/scipy/interpolate/_bsplines.py:10: RuntimeWarning: numpy.dtype size changed, may indicate binary incompatibility. Expected 96, got 88\n",
      "  from . import _bspl\n",
      "/ligo/home/hang.yu/.py_dev/lib/python2.7/site-packages/scipy/sparse/lil.py:19: RuntimeWarning: numpy.dtype size changed, may indicate binary incompatibility. Expected 96, got 88\n",
      "  from . import _csparsetools\n",
      "/ligo/home/hang.yu/.py_dev/lib/python2.7/site-packages/scipy/sparse/csgraph/__init__.py:165: RuntimeWarning: numpy.dtype size changed, may indicate binary incompatibility. Expected 96, got 88\n",
      "  from ._shortest_path import shortest_path, floyd_warshall, dijkstra,\\\n",
      "/ligo/home/hang.yu/.py_dev/lib/python2.7/site-packages/scipy/sparse/csgraph/_validation.py:5: RuntimeWarning: numpy.dtype size changed, may indicate binary incompatibility. Expected 96, got 88\n",
      "  from ._tools import csgraph_to_dense, csgraph_from_dense,\\\n",
      "/ligo/home/hang.yu/.py_dev/lib/python2.7/site-packages/scipy/sparse/csgraph/__init__.py:167: RuntimeWarning: numpy.dtype size changed, may indicate binary incompatibility. Expected 96, got 88\n",
      "  from ._traversal import breadth_first_order, depth_first_order, \\\n",
      "/ligo/home/hang.yu/.py_dev/lib/python2.7/site-packages/scipy/sparse/csgraph/__init__.py:169: RuntimeWarning: numpy.dtype size changed, may indicate binary incompatibility. Expected 96, got 88\n",
      "  from ._min_spanning_tree import minimum_spanning_tree\n",
      "/ligo/home/hang.yu/.py_dev/lib/python2.7/site-packages/scipy/sparse/csgraph/__init__.py:170: RuntimeWarning: numpy.dtype size changed, may indicate binary incompatibility. Expected 96, got 88\n",
      "  from ._reordering import reverse_cuthill_mckee, maximum_bipartite_matching, \\\n",
      "/ligo/home/hang.yu/.py_dev/lib/python2.7/site-packages/scipy/spatial/__init__.py:95: RuntimeWarning: numpy.dtype size changed, may indicate binary incompatibility. Expected 96, got 88\n",
      "  from .ckdtree import *\n",
      "/ligo/home/hang.yu/.py_dev/lib/python2.7/site-packages/scipy/spatial/__init__.py:96: RuntimeWarning: numpy.dtype size changed, may indicate binary incompatibility. Expected 96, got 88\n",
      "  from .qhull import *\n",
      "/ligo/home/hang.yu/.py_dev/lib/python2.7/site-packages/scipy/spatial/_spherical_voronoi.py:18: RuntimeWarning: numpy.dtype size changed, may indicate binary incompatibility. Expected 96, got 88\n",
      "  from . import _voronoi\n",
      "/ligo/home/hang.yu/.py_dev/lib/python2.7/site-packages/scipy/spatial/distance.py:122: RuntimeWarning: numpy.dtype size changed, may indicate binary incompatibility. Expected 96, got 88\n",
      "  from . import _hausdorff\n",
      "/ligo/home/hang.yu/.py_dev/lib/python2.7/site-packages/scipy/ndimage/measurements.py:36: RuntimeWarning: numpy.dtype size changed, may indicate binary incompatibility. Expected 96, got 88\n",
      "  from . import _ni_label\n",
      "/ligo/cds/lho/h1/anaconda/anaconda2/lib/python2.7/site-packages/skimage/filter/__init__.py:6: skimage_deprecation: The `skimage.filter` module has been renamed to `skimage.filters`.  This placeholder module will be removed in v0.13.\n",
      "  warn(skimage_deprecation('The `skimage.filter` module has been renamed '\n",
      "/ligo/home/hang.yu/.py_dev/lib/python2.7/site-packages/scipy/signal/_max_len_seq.py:8: RuntimeWarning: numpy.dtype size changed, may indicate binary incompatibility. Expected 96, got 88\n",
      "  from ._max_len_seq_inner import _max_len_seq_inner\n",
      "/ligo/home/hang.yu/.py_dev/lib/python2.7/site-packages/scipy/signal/_upfirdn.py:36: RuntimeWarning: numpy.dtype size changed, may indicate binary incompatibility. Expected 96, got 88\n",
      "  from ._upfirdn_apply import _output_len, _apply\n",
      "/ligo/home/hang.yu/.py_dev/lib/python2.7/site-packages/scipy/optimize/_trlib/__init__.py:1: RuntimeWarning: numpy.dtype size changed, may indicate binary incompatibility. Expected 96, got 88\n",
      "  from ._trlib import TRLIBQuadraticSubproblem\n",
      "/ligo/home/hang.yu/.py_dev/lib/python2.7/site-packages/scipy/optimize/_numdiff.py:10: RuntimeWarning: numpy.dtype size changed, may indicate binary incompatibility. Expected 96, got 88\n",
      "  from ._group_columns import group_dense, group_sparse\n",
      "/ligo/home/hang.yu/.py_dev/lib/python2.7/site-packages/scipy/signal/spectral.py:10: RuntimeWarning: numpy.dtype size changed, may indicate binary incompatibility. Expected 96, got 88\n",
      "  from ._spectral import _lombscargle\n",
      "/ligo/home/hang.yu/.py_dev/lib/python2.7/site-packages/scipy/stats/_continuous_distns.py:18: RuntimeWarning: numpy.dtype size changed, may indicate binary incompatibility. Expected 96, got 88\n",
      "  from . import _stats\n",
      "/ligo/home/hang.yu/.py_dev/lib/python2.7/site-packages/scipy/signal/_peak_finding.py:13: RuntimeWarning: numpy.dtype size changed, may indicate binary incompatibility. Expected 96, got 88\n",
      "  from ._peak_finding_utils import (_argmaxima1d, _select_by_peak_distance,\n"
     ]
    },
    {
     "data": {
      "text/plain": [
       "Text(0.5,1,'Spherical power vs offset')"
      ]
     },
     "execution_count": 1,
     "metadata": {},
     "output_type": "execute_result"
    }
   ],
   "source": [
    "import sys\n",
    "sys.path.append('/ligo/home/daniel.brown/git/hws-binaries/src')\n",
    "sys.path.append('/opt/rtcds/userapps/release/tcs/common/scripts/hws_tools')\n",
    "import HS_LIGO_utilities as hws\n",
    "\n",
    "import HS_LIGO_utilities\n",
    "import HS_Export\n",
    "import HSM_WFN\n",
    "import HS_Image\n",
    "\n",
    "import numpy as np\n",
    "import matplotlib.pyplot as plt\n",
    "from mpl_toolkits.axes_grid1 import make_axes_locatable\n",
    "\n",
    "start = 1225716021 - 3000\n",
    "end   = 1225716021 + 1000\n",
    "\n",
    "files = hws.get_files(start, end, 'ITMX')\n",
    "images = []\n",
    "\n",
    "for i in files.values()[::]:\n",
    "    images.append( hws.open_file(i).avImage )\n",
    "\n",
    "# Make sure we are using the correct reference for this time period\n",
    "# then we can load up the file and find the reference centroids\n",
    "ref_file = hws.get_file(1225651598, 60, 'ITMX')\n",
    "                        \n",
    "ref      = hws.open_file(ref_file[1])\n",
    "ref_c    = hws.get_centroids(ref.avImage)\n",
    "\n",
    "data_spherical = np.zeros(len(images), dtype=np.float)\n",
    "data_prismx    = np.zeros(len(images), dtype=np.float)\n",
    "data_prismy    = np.zeros(len(images), dtype=np.float)\n",
    "\n",
    "for offset in [(511.5, 511.5), (700, 450)]:\n",
    "    for n,I in enumerate(images):\n",
    "        img_c  = hws.get_centroids( I, ref_c)\n",
    "        hsg    = hws.get_gradients(ref_c, img_c, offset)\n",
    "        seidel = hws.get_seidel(hsg)\n",
    "\n",
    "        data_spherical[n] = seidel['spherical_power']\n",
    "        data_prismx[n] = seidel['prism_x']\n",
    "        data_prismy[n] = seidel['prism_y']\n",
    "    \n",
    "    plt.plot((data_spherical-data_spherical.mean())/1e-6, label=offset)\n",
    "\n",
    "plt.xlabel(\"HWS Images [num]\")\n",
    "plt.ylabel(\"Spherical power [uD]\")\n",
    "plt.grid(True)\n",
    "plt.legend()\n",
    "plt.title(\"Spherical power vs offset\")"
   ]
  }
 ],
 "metadata": {
  "kernelspec": {
   "display_name": "Python 2",
   "language": "python",
   "name": "python2"
  },
  "language_info": {
   "codemirror_mode": {
    "name": "ipython",
    "version": 2
   },
   "file_extension": ".py",
   "mimetype": "text/x-python",
   "name": "python",
   "nbconvert_exporter": "python",
   "pygments_lexer": "ipython2",
   "version": "2.7.13"
  }
 },
 "nbformat": 4,
 "nbformat_minor": 2
}
