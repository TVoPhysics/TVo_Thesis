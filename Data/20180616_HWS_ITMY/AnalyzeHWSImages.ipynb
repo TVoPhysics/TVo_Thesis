{
 "cells": [
  {
   "cell_type": "code",
   "execution_count": 2,
   "metadata": {
    "collapsed": true
   },
   "outputs": [],
   "source": [
    "import imageio\n",
    "import pickle\n",
    "import os\n",
    "from pylab import *\n",
    "import numpy as np\n",
    "import matplotlib.pyplot as plt\n",
    "import matplotlib.colors as colors\n",
    "import matplotlib.cm as cmx\n",
    "from PIL import Image\n",
    "import argparse\n",
    "\n",
    "%matplotlib inline"
   ]
  },
  {
   "cell_type": "code",
   "execution_count": 3,
   "metadata": {
    "collapsed": true
   },
   "outputs": [],
   "source": [
    "def make_movie(name,direc, tstart, tend):    \n",
    "    images = []\n",
    "    filenames =  os.listdir(direc)\n",
    "    for filename in filenames:\n",
    "        x = filename.split('_')\n",
    "        if int(x[0])>tstart and int(x[0])<tend:\n",
    "            f = images.append(imageio.imread(direc+filename))\n",
    "        else:\n",
    "            continue\n",
    "    imageio.mimsave(str(name), images, loop=1)"
   ]
  },
  {
   "cell_type": "code",
   "execution_count": 4,
   "metadata": {
    "collapsed": true
   },
   "outputs": [],
   "source": [
    "tstart1 = 1212866778\n",
    "tend1 = 1212872478\n",
    "tstart2 = 1212884820\n",
    "tend2 = 1212887416"
   ]
  },
  {
   "cell_type": "code",
   "execution_count": 5,
   "metadata": {},
   "outputs": [],
   "source": [
    "name = \"movie_first_scan.gif\"\n",
    "direc = \"./images/\"\n",
    "make_movie(name,direc, tstart1, tstart1+1000)"
   ]
  },
  {
   "cell_type": "code",
   "execution_count": 86,
   "metadata": {
    "collapsed": true
   },
   "outputs": [],
   "source": [
    "direc2 = \"./images_second_scan/\"\n",
    "name2 = \"movie_second_scan.gif\"\n",
    "make_movie(name2,direc2, 1212884820, 1212887416)"
   ]
  },
  {
   "cell_type": "code",
   "execution_count": 70,
   "metadata": {
    "collapsed": true
   },
   "outputs": [],
   "source": []
  },
  {
   "cell_type": "code",
   "execution_count": null,
   "metadata": {
    "collapsed": true
   },
   "outputs": [],
   "source": []
  }
 ],
 "metadata": {
  "kernelspec": {
   "display_name": "Python 3",
   "language": "python",
   "name": "python3"
  },
  "language_info": {
   "codemirror_mode": {
    "name": "ipython",
    "version": 3
   },
   "file_extension": ".py",
   "mimetype": "text/x-python",
   "name": "python",
   "nbconvert_exporter": "python",
   "pygments_lexer": "ipython3",
   "version": "3.6.2"
  }
 },
 "nbformat": 4,
 "nbformat_minor": 2
}
