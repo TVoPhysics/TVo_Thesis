{
 "cells": [
  {
   "cell_type": "code",
   "execution_count": 1,
   "metadata": {
    "collapsed": false
   },
   "outputs": [],
   "source": [
    "import numpy as np\n",
    "import Gauss"
   ]
  },
  {
   "cell_type": "code",
   "execution_count": 2,
   "metadata": {
    "collapsed": true
   },
   "outputs": [],
   "source": [
    "### Spot size on the ITM HR surface\n",
    "w = 0.05299\n",
    "lamda = 1064E-9"
   ]
  },
  {
   "cell_type": "code",
   "execution_count": 3,
   "metadata": {
    "collapsed": true
   },
   "outputs": [],
   "source": [
    "### Spot size of the point absorber.\n",
    "A = 1E-6\n",
    "\n",
    "theta1 = 0.0\n",
    "theta2 = 0.1\n",
    "\n",
    "r1 = np.linspace(0.0001,.001,10)\n",
    "r2 = np.sqrt( (2*A)/(theta2-theta1) + r1**2 )"
   ]
  },
  {
   "cell_type": "code",
   "execution_count": 4,
   "metadata": {
    "collapsed": false
   },
   "outputs": [
    {
     "name": "stdout",
     "output_type": "stream",
     "text": [
      "Area of the absorption spot is [  1.00000000e-06   1.00000000e-06   1.00000000e-06   1.00000000e-06\n",
      "   1.00000000e-06   1.00000000e-06   1.00000000e-06   1.00000000e-06\n",
      "   1.00000000e-06   1.00000000e-06]\n"
     ]
    }
   ],
   "source": [
    "spot_area = 0.5* (r2**2 - r1**2) *(theta2-theta1)\n",
    "print(\"Area of the absorption spot is \" + str(spot_area))"
   ]
  },
  {
   "cell_type": "code",
   "execution_count": 5,
   "metadata": {
    "collapsed": false
   },
   "outputs": [
    {
     "name": "stdout",
     "output_type": "stream",
     "text": [
      "Normalized Power is [ 0.01591538  0.01591504  0.01591447  0.01591368  0.01591266  0.01591141\n",
      "  0.01590994  0.01590824  0.01590631  0.01590416]\n",
      "Loss in PPM is [ 15915.38094895  15915.04087309  15914.47409613  15913.6806423\n",
      "  15912.6605455   15911.41384933  15909.94060705  15908.24088161\n",
      "  15906.31474563  15904.1622814 ]\n"
     ]
    }
   ],
   "source": [
    "p_spot = Gauss.Power(w,lamda,r1,r2,theta1,theta2)\n",
    "\n",
    "loss = (p_spot) * 1E6\n",
    "print(\"Loss in PPM is \" +str(loss))"
   ]
  },
  {
   "cell_type": "code",
   "execution_count": 6,
   "metadata": {
    "collapsed": false
   },
   "outputs": [
    {
     "data": {
      "text/plain": [
       "-9.066203320000568"
      ]
     },
     "execution_count": 6,
     "metadata": {},
     "output_type": "execute_result"
    }
   ],
   "source": [
    "15906.31474563 - 15915.38094895"
   ]
  },
  {
   "cell_type": "code",
   "execution_count": 8,
   "metadata": {
    "collapsed": false
   },
   "outputs": [
    {
     "name": "stdout",
     "output_type": "stream",
     "text": [
      "Normalized Power is 1.0\n"
     ]
    }
   ],
   "source": [
    "### Idiot Check\n",
    "r1 = 0.0\n",
    "r2 = 'inf'\n",
    "theta1 = 0.0\n",
    "theta2 = 2*np.pi\n",
    "\n",
    "p_tot = Gauss.Power(w,lamda,r1,r2,theta1,theta2)"
   ]
  }
 ],
 "metadata": {
  "kernelspec": {
   "display_name": "Python 3",
   "language": "python",
   "name": "python3"
  },
  "language_info": {
   "codemirror_mode": {
    "name": "ipython",
    "version": 3
   },
   "file_extension": ".py",
   "mimetype": "text/x-python",
   "name": "python",
   "nbconvert_exporter": "python",
   "pygments_lexer": "ipython3",
   "version": "3.5.1"
  }
 },
 "nbformat": 4,
 "nbformat_minor": 0
}
