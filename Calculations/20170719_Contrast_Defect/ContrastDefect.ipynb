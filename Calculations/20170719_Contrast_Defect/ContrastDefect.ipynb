{
 "cells": [
  {
   "cell_type": "code",
   "execution_count": 1,
   "metadata": {
    "collapsed": true
   },
   "outputs": [],
   "source": [
    "#### Using Finesse, Calculate the contrast defect and the required ring heater power neccesary to correct\n",
    "#### for the discrepancy between the radii of curvature."
   ]
  },
  {
   "cell_type": "code",
   "execution_count": 2,
   "metadata": {
    "collapsed": false
   },
   "outputs": [
    {
     "name": "stdout",
     "output_type": "stream",
     "text": [
      "                                              ..-\n",
      "    PyKat 1.1.244         _                  '(\n",
      "                          \\`.|\\.__...-\"\"\"\"-_.\" )\n",
      "       ..+-----.._        /  ' `            .-'\n",
      "   . '            `:      7/* _/._\\    \\   (\n",
      "  (        '::;;+;;:      `-\"' =\" /,`\"\" `) /\n",
      "  L.        \\`:::a:f            c_/     n_'\n",
      "  ..`--...___`.  .    ,  \n",
      "   `^-....____:   +.      www.gwoptics.org/pykat\n",
      "\n"
     ]
    }
   ],
   "source": [
    "import pykat\n",
    "from pykat.ifo import aligo\n",
    "import pykat.ifo.aligo.plot\n",
    "import matplotlib.pyplot as plt\n",
    "import numpy as np\n",
    "\n",
    "#### My functions\n",
    "import trace_mode"
   ]
  },
  {
   "cell_type": "code",
   "execution_count": 3,
   "metadata": {
    "collapsed": true
   },
   "outputs": [],
   "source": [
    "katfile = \"aLIGO_IFO_AWC_tuning_DCoff_maxtem2.kat\""
   ]
  },
  {
   "cell_type": "code",
   "execution_count": 4,
   "metadata": {},
   "outputs": [],
   "source": [
    "def calc_CD(overlap):\n",
    "    CD = (1.0 - np.real(overlap) )/ 2.0\n",
    "    return CD"
   ]
  },
  {
   "cell_type": "code",
   "execution_count": 5,
   "metadata": {},
   "outputs": [],
   "source": [
    "class ifo_cavs(object):\n",
    "    \"\"\" an IFO object that calculates the q for the various cavities in at three points\n",
    "    ITMX, ITMY, and the Beamsplitter HR surface\n",
    "    \n",
    "    This will allow us to calculate the beam overlaps for the various modes.\n",
    "    \"\"\"\n",
    "    def _init_(self, kat):\n",
    "        None\n",
    "        \n",
    "    def calc_qs(self,kat):\n",
    "        #### Turn off all the cav commands except XARM to extract the eigenmode at the BS\n",
    "        [q_XARM_BS_x,q_XARM_BS_y] = trace_mode.from_cav_to_BS(kat,'cavXARM')\n",
    "\n",
    "        #### Turn off all the cav commands except YARM to extract the eigenmode at the BS\n",
    "        [q_YARM_BS_x,q_YARM_BS_y] = trace_mode.from_cav_to_BS(kat,'cavYARM')\n",
    "\n",
    "        #### Turn off all cav commands except XARM and extrat mode at HR surface of ITMX\n",
    "        [q_XARM_ITM_x,q_XARM_ITM_y]  = trace_mode.from_cav_to_node(kat,'cavXARM','nITMX2')\n",
    "\n",
    "        #### Turn off all cav commands except YARM and extrat mode at HR surface of ITMY\n",
    "        [q_YARM_ITM_x, q_YARM_ITM_y]  = trace_mode.from_cav_to_node(kat,'cavYARM','nITMY2')\n",
    "\n",
    "        #### Turn off all cav commands except IMC and extrat mode at HR surface of ITMX\n",
    "        [q_IMC_ITMX_x, q_IMC_ITMX_y]  = trace_mode.from_cav_to_node(kat,'cavIMC','nITMX2')\n",
    "\n",
    "        #### Turn off all cav commands except IMC and extrat mode at HR surface of ITMY\n",
    "        [q_IMC_ITMY_x, q_IMC_ITMY_y]  = trace_mode.from_cav_to_node(kat,'cavIMC','nITMY2')\n",
    "\n",
    "         #### Turn off all cav commands except IMC and extrat mode at HR surface of ITMX\n",
    "        [q_IMC_BS_x, q_IMC_BS_y]  = trace_mode.from_cav_to_node(kat,'cavIMC','nITMX2')\n",
    "\n",
    "        #### Turn off all cav commands except PRX and extrat mode at HR surface of ITMX\n",
    "        [q_PRX_ITMX_x,q_PRX_ITMX_y]  = trace_mode.from_cav_to_node(kat,'cavPRX','nITMX2')\n",
    "\n",
    "        #### Turn off all cav commands except PRX and extrat mode at HR surface of ITMY\n",
    "        [q_PRX_ITMY_x, q_PRX_ITMY_y]  = trace_mode.from_cav_to_node(kat,'cavPRX','nITMY2')\n",
    "        \n",
    "        #### Turn off all cav commands except PRX and extrat mode at HR surface of ITMX\n",
    "        [q_PRY_ITMX_x,q_PRY_ITMX_y]  = trace_mode.from_cav_to_node(kat,'cavPRY','nITMX2')\n",
    "\n",
    "        #### Turn off all cav commands except PRX and extrat mode at HR surface of ITMY\n",
    "        [q_PRY_ITMY_x, q_PRY_ITMY_y]  = trace_mode.from_cav_to_node(kat,'cavPRY','nITMY2')\n",
    "        \n",
    "        q_dict = {\"q_XARM_BS_x\":q_XARM_BS_x,\n",
    "                  \"q_XARM_BS_y\":q_XARM_BS_y,\n",
    "                  \"q_YARM_BS_x\":q_YARM_BS_x,\n",
    "                  \"q_YARM_BS_y\":q_YARM_BS_y,\n",
    "\n",
    "                  \"q_XARM_ITM_x\":q_XARM_ITM_x,\n",
    "                  \"q_XARM_ITM_y\":q_XARM_ITM_y,\n",
    "                  \"q_YARM_ITM_x\":q_YARM_ITM_x,\n",
    "                  \"q_YARM_ITM_y\":q_YARM_ITM_y,\n",
    "                  \n",
    "                  \"q_IMC_ITMX_x\":q_IMC_ITMX_x,\n",
    "                  \"q_IMC_ITMX_y\":q_IMC_ITMX_y,\n",
    "                  \"q_IMC_ITMY_x\":q_IMC_ITMY_x,\n",
    "                  \"q_IMC_ITMY_y\":q_IMC_ITMY_y,\n",
    "                \n",
    "                  \"q_PRX_ITMX_x\":q_PRX_ITMX_x,\n",
    "                  \"q_PRX_ITMX_y\":q_PRX_ITMX_y,\n",
    "                  \"q_PRX_ITMY_x\":q_PRX_ITMY_x,\n",
    "                  \"q_PRX_ITMY_y\":q_PRX_ITMY_y,\n",
    "                \n",
    "                  \"q_PRY_ITMX_x\":q_PRY_ITMX_x,\n",
    "                  \"q_PRY_ITMX_y\":q_PRY_ITMX_y,\n",
    "                  \"q_PRY_ITMY_x\":q_PRY_ITMY_x,\n",
    "                  \"q_PRY_ITMY_y\":q_PRY_ITMY_y,\n",
    "                \n",
    "                  \"q_IMC_BS_x\":q_IMC_BS_x,\n",
    "                  \"q_IMC_BS_y\":q_IMC_BS_y,\n",
    "                 }\n",
    "        \n",
    "        return q_dict"
   ]
  },
  {
   "cell_type": "code",
   "execution_count": 6,
   "metadata": {
    "collapsed": false
   },
   "outputs": [],
   "source": [
    "#### Get the amplitude overlap between two gaussian beams\n",
    "def amp_ovl(q1,q2):\n",
    "    a = 2 * 1j * np.sqrt(np.imag(q1) * np.imag(q2)) / (q1-np.conjugate(q2))\n",
    "    return a"
   ]
  },
  {
   "cell_type": "code",
   "execution_count": 7,
   "metadata": {},
   "outputs": [],
   "source": [
    "### Calculate the required thermal power to change curvature\n",
    "def calc_P(calib, R_new, R_old):\n",
    "    \n",
    "    P = 1/calib * ( 1/(R_new) - (1/R_old))\n",
    "    \n",
    "    return P"
   ]
  },
  {
   "cell_type": "code",
   "execution_count": 8,
   "metadata": {
    "collapsed": false
   },
   "outputs": [],
   "source": [
    "basekat = pykat.finesse.kat() \n",
    "basekat.load(katfile)\n",
    "basekat.parse(\"noxaxis\")\n",
    "basekat.parse(\"maxtem \"+str(2))\n",
    "basekat.parse(\"\"\"\n",
    "ad SB9Mhz_plus 0 0 9.099471M nITMX2\n",
    "ad SB9Mhz_minus 0 0 -9.099471M nITMX2\n",
    "\n",
    "ad SB45Mhz_plus 0 0 45.497355M nITMX2\n",
    "ad SB45Mhz_minus 0 0 -45.497355M nITMX2\n",
    "\n",
    "bp ITMX_q_x x q nITMX2\n",
    "bp ITMX_q_y y q nITMX2\n",
    "\n",
    "bp ITMY_q_x x q nITMY2\n",
    "bp ITMY_q_y y q nITMY2\n",
    "\n",
    "pd REFL_port nPRBS\n",
    "\n",
    "pd AS_port nSRBS\n",
    "\n",
    "yaxis re:im\n",
    "\"\"\")\n",
    "kat=basekat.deepcopy() #copy kat code\n",
    "kat.verbose = False\n",
    "out = kat.run()"
   ]
  },
  {
   "cell_type": "code",
   "execution_count": 9,
   "metadata": {},
   "outputs": [],
   "source": [
    "#### Set up the before parameters\n",
    "kat.ITMXHR.Rcx.value = -1939.9\n",
    "kat.ITMXHR.Rcy.value = -1939.9\n",
    "\n",
    "kat.ITMYHR.Rcx.value = -1939.2\n",
    "kat.ITMYHR.Rcy.value = -1939.2\n",
    "\n",
    "kat.ETMXHR.Rcx.value = 2241.54 \n",
    "kat.ETMXHR.Rcy.value = 2241.54 \n",
    "\n",
    "kat.ETMYHR.Rcx.value = 2238.9\n",
    "kat.ETMYHR.Rcy.value = 2238.9\n",
    "\n",
    "Before = ifo_cavs().calc_qs(kat)"
   ]
  },
  {
   "cell_type": "markdown",
   "metadata": {},
   "source": []
  },
  {
   "cell_type": "code",
   "execution_count": 385,
   "metadata": {
    "collapsed": false
   },
   "outputs": [],
   "source": [
    "#### Set up the after parameters\n",
    "kat1=basekat.deepcopy()\n",
    "kat1.verbose=False\n",
    "\n",
    "kat1.ITMXHR.Rcx.value = -1940.3\n",
    "kat1.ITMXHR.Rcy.value = -1940.3\n",
    "\n",
    "kat1.ITMYHR.Rcx.value = -1939.2\n",
    "kat1.ITMYHR.Rcy.value = -1939.2\n",
    "\n",
    "kat1.ETMXHR.Rcx.value = 2244.2 \n",
    "kat1.ETMXHR.Rcy.value = 2244.2 \n",
    "\n",
    "kat1.ETMYHR.Rcx.value = 2246.9\n",
    "kat1.ETMYHR.Rcy.value = 2246.9\n",
    "\n",
    "After = ifo_cavs().calc_qs(kat1)"
   ]
  },
  {
   "cell_type": "code",
   "execution_count": 386,
   "metadata": {
    "collapsed": true
   },
   "outputs": [],
   "source": [
    "before_overlap_ITM = amp_ovl(Before['q_XARM_ITM_x'],Before['q_YARM_ITM_x'])\n",
    "before_overlap_BS = amp_ovl(Before['q_XARM_BS_x'],Before['q_YARM_BS_x'])\n",
    "\n",
    "after_overlap_ITM = amp_ovl(After['q_XARM_ITM_x'],After['q_YARM_ITM_x'])\n",
    "after_overlap_BS = amp_ovl(After['q_XARM_BS_x'],After['q_YARM_BS_x'])"
   ]
  },
  {
   "cell_type": "code",
   "execution_count": 387,
   "metadata": {
    "collapsed": false
   },
   "outputs": [
    {
     "name": "stdout",
     "output_type": "stream",
     "text": [
      "5.934299324494852e-06 3.865230617516868e-06\n",
      "0.2691773810030645\n"
     ]
    }
   ],
   "source": [
    "### Contrast defect at the ITMs with resonating arms\n",
    "CD_old_ITM =calc_CD(before_overlap_ITM)\n",
    "CD_new_ITM =calc_CD(after_overlap_ITM)\n",
    "\n",
    "print(CD_old_ITM, CD_new_ITM)\n",
    "\n",
    "\n",
    "RH_calib = .79e-6 #diopters per watt T1400685\n",
    "P_RH_Arms_resonant = calc_P(RH_calib, -1940,-1939.2)\n",
    "print(P_RH_Arms_resonant)"
   ]
  },
  {
   "cell_type": "code",
   "execution_count": 388,
   "metadata": {
    "collapsed": false
   },
   "outputs": [
    {
     "name": "stdout",
     "output_type": "stream",
     "text": [
      "5.683696534086735e-06 4.5933131715414355e-06\n"
     ]
    }
   ],
   "source": [
    "### Contrast defect at the BS (includes Schnupp Asymmetry and Thermal lens) with resonating arms\n",
    "CD_old_BS = calc_CD(before_overlap_BS)\n",
    "CD_new_BS = calc_CD(after_overlap_BS)\n",
    "print(CD_old_BS, CD_new_BS)"
   ]
  },
  {
   "cell_type": "code",
   "execution_count": 389,
   "metadata": {},
   "outputs": [
    {
     "name": "stdout",
     "output_type": "stream",
     "text": [
      "160.91119351957505\n",
      "-1921.5105534290692 -1922.0134399380925 0.17236286304909376\n"
     ]
    }
   ],
   "source": [
    "### Propogate only the IMC Mode to the ITMs \n",
    "IMC_overlap_ITM = pykat.BeamParam.overlap(After['q_IMC_ITMX_x'],After['q_IMC_ITMY_y'])\n",
    "IMC_CD = calc_CD(IMC_overlap_ITM)\n",
    "\n",
    "#Modal CD for single bounce mode\n",
    "print(IMC_CD*1e6)\n",
    "\n",
    "R_IMC_ITMX = 1/np.real(1/After['q_IMC_ITMX_x'])\n",
    "R_IMC_ITMY = 1/np.real(1/After['q_IMC_ITMY_x'])\n",
    "P_IMC_mode = calc_P(RH_calib,R_IMC_ITMY,R_IMC_ITMX)\n",
    "print(R_IMC_ITMX,R_IMC_ITMY,P_IMC_mode)"
   ]
  },
  {
   "cell_type": "code",
   "execution_count": 390,
   "metadata": {},
   "outputs": [
    {
     "name": "stdout",
     "output_type": "stream",
     "text": [
      "186.45815364726204\n"
     ]
    }
   ],
   "source": [
    "### Propogate only the PRX to the ITMX, and PRY to ITMY, this should estimate the overlap of the DRMI setup\n",
    "PRC_overlap_ITM = pykat.BeamParam.overlap(After['q_PRX_ITMX_x'],After['q_PRY_ITMY_y'])\n",
    "\n",
    "### Modal CD for DRMI\n",
    "DRMI_CD = calc_CD(PRC_overlap_ITM)\n",
    "print(DRMI_CD*1e6)"
   ]
  },
  {
   "cell_type": "code",
   "execution_count": 434,
   "metadata": {},
   "outputs": [],
   "source": [
    "#### Set up the after co2 parameters\n",
    "kat2=basekat.deepcopy()\n",
    "kat2.verbose=False\n",
    "\n",
    "kat2.ITMXHR.Rcx.value = -1940.3\n",
    "kat2.ITMXHR.Rcy.value = -1940.3\n",
    "\n",
    "kat2.ITMYHR.Rcx.value = -1940.3\n",
    "kat2.ITMYHR.Rcy.value = -1940.3\n",
    "\n",
    "#kat2.ITMYHR.Rcx.value = -1939.2\n",
    "#kat2.ITMYHR.Rcy.value = -1939.2\n",
    "\n",
    "kat2.ETMXHR.Rcx.value = 2244.2 \n",
    "kat2.ETMXHR.Rcy.value = 2244.2 \n",
    "\n",
    "kat2.ETMYHR.Rcx.value = 2246.9\n",
    "kat2.ETMYHR.Rcy.value = 2246.9\n",
    "\n",
    "kat2.ITMXTL.f = 43300.0 # Guess\n",
    "\n",
    "After_co2 = ifo_cavs().calc_qs(kat2)"
   ]
  },
  {
   "cell_type": "code",
   "execution_count": 424,
   "metadata": {},
   "outputs": [
    {
     "name": "stdout",
     "output_type": "stream",
     "text": [
      "56.12644799263266\n",
      "-1944.9033632799972 -1921.5279719847917 -7.9174815490305255\n"
     ]
    }
   ],
   "source": [
    "### Propogate only the IMC Mode to the ITMs \n",
    "IMC_overlap_ITM = pykat.BeamParam.overlap(After_co2['q_IMC_ITMX_x'],After_co2['q_IMC_ITMY_y'])\n",
    "IMC_CD = calc_CD(IMC_overlap_ITM)\n",
    "\n",
    "#Modal CD for single bounce mode\n",
    "print(IMC_CD*1e6)\n",
    "\n",
    "R_IMC_ITMX = 1/np.real(1/After_co2['q_IMC_ITMX_x'])\n",
    "R_IMC_ITMY = 1/np.real(1/After_co2['q_IMC_ITMY_x'])\n",
    "P_IMC_mode = calc_P(RH_calib,R_IMC_ITMY,R_IMC_ITMX)\n",
    "print(R_IMC_ITMX,R_IMC_ITMY,P_IMC_mode)"
   ]
  },
  {
   "cell_type": "code",
   "execution_count": 438,
   "metadata": {},
   "outputs": [
    {
     "name": "stdout",
     "output_type": "stream",
     "text": [
      "Contrast Defect (PPM) is 0.9284982430135535\n",
      "Required Co2 power -0.09455568257893743\n"
     ]
    }
   ],
   "source": [
    "### Propogate only the PRX to the ITMX, and PRY to ITMY, this should estimate the overlap of the DRMI setup\n",
    "PRC_overlap_ITM_co2 = pykat.BeamParam.overlap(After_co2['q_PRX_ITMX_x'],After_co2['q_PRY_ITMY_y'])\n",
    "\n",
    "### Modal CD for DRMI\n",
    "DRMI_CD_co2 = calc_CD(PRC_overlap_ITM_co2)\n",
    "print(\"Contrast Defect (PPM) is \" + str(DRMI_CD_co2*1e6))\n",
    "\n",
    "co2_calib = 62.3e-6 #diopters per watt\n",
    "\n",
    "P_DRMI = calc_P(co2_calib, kat2.ITMXTL.f.value,kat1.ITMXTL.f.value)\n",
    "print(\"Required Co2 power \"+ str(P_DRMI))"
   ]
  }
 ],
 "metadata": {
  "kernelspec": {
   "display_name": "Python 3",
   "language": "python",
   "name": "python3"
  },
  "language_info": {
   "codemirror_mode": {
    "name": "ipython",
    "version": 3
   },
   "file_extension": ".py",
   "mimetype": "text/x-python",
   "name": "python",
   "nbconvert_exporter": "python",
   "pygments_lexer": "ipython3",
   "version": "3.6.2"
  }
 },
 "nbformat": 4,
 "nbformat_minor": 2
}
