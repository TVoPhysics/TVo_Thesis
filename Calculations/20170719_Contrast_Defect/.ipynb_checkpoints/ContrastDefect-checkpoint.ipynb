{
 "cells": [
  {
   "cell_type": "code",
   "execution_count": 1,
   "metadata": {
    "collapsed": true
   },
   "outputs": [],
   "source": [
    "####\n"
   ]
  },
  {
   "cell_type": "code",
   "execution_count": 2,
   "metadata": {
    "collapsed": false
   },
   "outputs": [
    {
     "name": "stdout",
     "output_type": "stream",
     "text": [
      "                                              ..-\n",
      "    PyKat 1.1.244         _                  '(\n",
      "                          \\`.|\\.__...-\"\"\"\"-_.\" )\n",
      "       ..+-----.._        /  ' `            .-'\n",
      "   . '            `:      7/* _/._\\    \\   (\n",
      "  (        '::;;+;;:      `-\"' =\" /,`\"\" `) /\n",
      "  L.        \\`:::a:f            c_/     n_'\n",
      "  ..`--...___`.  .    ,  \n",
      "   `^-....____:   +.      www.gwoptics.org/pykat\n",
      "\n"
     ]
    }
   ],
   "source": [
    "import pykat\n",
    "from pykat.ifo import aligo\n",
    "import pykat.ifo.aligo.plot\n",
    "import matplotlib.pyplot as plt\n",
    "import numpy as np\n",
    "\n",
    "pykat.init_pykat_plotting()\n",
    "\n",
    "#### My functions\n",
    "import trace_mode"
   ]
  },
  {
   "cell_type": "code",
   "execution_count": 3,
   "metadata": {
    "collapsed": true
   },
   "outputs": [],
   "source": [
    "katfile = \"aLIGO_IFO_AWC_tuning_DCoff_maxtem2.kat\""
   ]
  },
  {
   "cell_type": "code",
   "execution_count": 4,
   "metadata": {
    "collapsed": false
   },
   "outputs": [],
   "source": [
    "basekat = pykat.finesse.kat() \n",
    "basekat.load(katfile)\n",
    "basekat.parse(\"noxaxis\")\n",
    "basekat.parse(\"maxtem \"+str(2))\n",
    "basekat.parse(\"\"\"\n",
    "ad SB9Mhz_plus 0 0 9.099471M nITMX2\n",
    "ad SB9Mhz_minus 0 0 -9.099471M nITMX2\n",
    "\n",
    "ad SB45Mhz_plus 0 0 45.497355M nITMX2\n",
    "ad SB45Mhz_minus 0 0 -45.497355M nITMX2\n",
    "\n",
    "pd REFL_port nPRBS\n",
    "\n",
    "pd AS_port nSRBS\n",
    "\n",
    "yaxis re:im\n",
    "\"\"\")\n",
    "kat=basekat.deepcopy() #copy kat code\n",
    "kat.verbose = False\n",
    "out = kat.run()"
   ]
  },
  {
   "cell_type": "code",
   "execution_count": 5,
   "metadata": {
    "collapsed": false
   },
   "outputs": [],
   "source": [
    "#### Get the amplitude overlap between two gaussian beams\n",
    "def amp_ovl(q1,q2):\n",
    "    a = 2 * 1j * np.sqrt(np.imag(q1) * np.imag(q2)) / (q1-np.conjugate(q2))\n",
    "    return a"
   ]
  },
  {
   "cell_type": "code",
   "execution_count": 6,
   "metadata": {
    "collapsed": false
   },
   "outputs": [],
   "source": [
    "#### Set up the before parameters\n",
    "kat.ITMXHR.Rcx.value = -1939.9\n",
    "kat.ITMXHR.Rcy.value = -1939.9\n",
    "\n",
    "kat.ITMYHR.Rcx.value = -1939.2\n",
    "kat.ITMYHR.Rcy.value = -1939.2\n",
    "\n",
    "kat.ETMXHR.Rcx.value = 2241.54 \n",
    "kat.ETMXHR.Rcy.value = 2241.54 \n",
    "\n",
    "kat.ETMYHR.Rcx.value = 2238.9\n",
    "kat.ETMYHR.Rcy.value = 2238.9"
   ]
  },
  {
   "cell_type": "code",
   "execution_count": 7,
   "metadata": {
    "collapsed": false
   },
   "outputs": [],
   "source": [
    "#### Turn off all the cav commands except XARM to extract the eigenmode at the BS\n",
    "[XARMx,XARMy] = trace_mode.from_cav_to_BS(kat,'cavXARM')\n",
    "\n",
    "#### Turn off all the cav commands except YARM to extract the eigenmode at the BS\n",
    "[YARMx,YARMy] = trace_mode.from_cav_to_BS(kat,'cavYARM')\n",
    "\n",
    "#### Turn off all cav commands except XARM and extrat mode at HR surface of ITMX\n",
    "[qyITMX_0x,q_ITMX_0y]  = trace_mode.from_cav_to_node(kat,'cavXARM','nITMX2')\n",
    "\n",
    "#### Turn off all cav commands except YARM and extrat mode at HR surface of ITMY\n",
    "[q_ITMY_0x, q_ITMY_0y]  = trace_mode.from_cav_to_node(kat,'cavYARM','nITMY2')\n",
    "\n",
    "#### Turn off all cav commands except IMC and extrat mode at HR surface of ITMX\n",
    "[qy_IMC_ITMX_0x,q_IMC_ITMX_0y]  = trace_mode.from_cav_to_node(kat,'cavIMC','nITMX2')\n",
    "\n",
    "#### Turn off all cav commands except IMC and extrat mode at HR surface of ITMY\n",
    "[q_IMC_ITMY_0x, q_IMC_ITMY_0y]  = trace_mode.from_cav_to_node(kat,'cavIMC','nITMY2')\n",
    "\n",
    "#### Turn off all cav commands except PRX and extrat mode at HR surface of ITMX\n",
    "[qy_PRX_ITMX_0x,q_PRX_ITMX_0y]  = trace_mode.from_cav_to_node(kat,'cavPRX','nITMX2')\n",
    "\n",
    "#### Turn off all cav commands except PRX and extrat mode at HR surface of ITMY\n",
    "[q_PRX_ITMY_0x, q_PRX_ITMY_0y]  = trace_mode.from_cav_to_node(kat,'cavPRX','nITMY2')"
   ]
  },
  {
   "cell_type": "code",
   "execution_count": 40,
   "metadata": {},
   "outputs": [],
   "source": [
    "class ifo_cavs(object):\n",
    "    \"\"\" an IFO object that calculates the q for the various cavities in at three points\n",
    "    ITMX, ITMY, and the Beamsplitter HR surface\n",
    "    \n",
    "    This will allow us to calculate the beam overlaps for the various modes.\n",
    "    \"\"\"\n",
    "    def _init_(self, kat):\n",
    "        None\n",
    "        \n",
    "    def calc_qs(self,kat):\n",
    "        #### Turn off all the cav commands except XARM to extract the eigenmode at the BS\n",
    "        [q_XARM_BS_x,q_XARM_BS_y] = trace_mode.from_cav_to_BS(kat,'cavXARM')\n",
    "\n",
    "        #### Turn off all the cav commands except YARM to extract the eigenmode at the BS\n",
    "        [q_YARM_BS_x,q_YARM_BS_y] = trace_mode.from_cav_to_BS(kat,'cavYARM')\n",
    "\n",
    "        #### Turn off all cav commands except XARM and extrat mode at HR surface of ITMX\n",
    "        [q_XARM_ITM_x,q_XARM_ITM_y]  = trace_mode.from_cav_to_node(kat,'cavXARM','nITMX2')\n",
    "\n",
    "        #### Turn off all cav commands except YARM and extrat mode at HR surface of ITMY\n",
    "        [q_YARM_ITM_x, q_YARM_ITM_y]  = trace_mode.from_cav_to_node(kat,'cavYARM','nITMY2')\n",
    "\n",
    "        #### Turn off all cav commands except IMC and extrat mode at HR surface of ITMX\n",
    "        [q_IMC_ITMX_x, q_IMC_ITMX_y]  = trace_mode.from_cav_to_node(kat,'cavIMC','nITMX2')\n",
    "\n",
    "        #### Turn off all cav commands except IMC and extrat mode at HR surface of ITMY\n",
    "        [q_IMC_ITMY_x, q_IMC_ITMY_y]  = trace_mode.from_cav_to_node(kat,'cavIMC','nITMY2')\n",
    "\n",
    "        #### Turn off all cav commands except PRX and extrat mode at HR surface of ITMX\n",
    "        [q_PRX_ITMX_x,q_PRX_ITMX_y]  = trace_mode.from_cav_to_node(kat,'cavPRX','nITMX2')\n",
    "\n",
    "        #### Turn off all cav commands except PRX and extrat mode at HR surface of ITMY\n",
    "        [q_PRX_ITMY_x, q_PRX_ITMY_y]  = trace_mode.from_cav_to_node(kat,'cavPRX','nITMY2')\n",
    "        \n",
    "        #### Turn off all cav commands except PRX and extrat mode at HR surface of ITMX\n",
    "        [q_PRY_ITMX_x,q_PRY_ITMX_y]  = trace_mode.from_cav_to_node(kat,'cavPRY','nITMX2')\n",
    "\n",
    "        #### Turn off all cav commands except PRX and extrat mode at HR surface of ITMY\n",
    "        [q_PRY_ITMY_x, q_PRY_ITMY_y]  = trace_mode.from_cav_to_node(kat,'cavPRY','nITMY2')\n",
    "        \n",
    "        q_dict = {\"q_XARM_BS_x\":q_XARM_BS_x,\n",
    "                  \"q_XARM_BS_y\":q_XARM_BS_y,\n",
    "                  \"q_YARM_BS_x\":q_YARM_BS_x,\n",
    "                  \"q_YARM_BS_y\":q_YARM_BS_y,\n",
    "\n",
    "                  \"q_XARM_ITM_x\":q_XARM_ITM_x,\n",
    "                  \"q_XARM_ITM_y\":q_XARM_ITM_y,\n",
    "                  \"q_YARM_ITM_x\":q_YARM_ITM_x,\n",
    "                  \"q_YARM_ITM_y\":q_YARM_ITM_y,\n",
    "                  \n",
    "                  \"q_IMC_ITMX_x\":q_IMC_ITMX_x,\n",
    "                  \"q_IMC_ITMX_y\":q_IMC_ITMX_y,\n",
    "                  \"q_IMC_ITMY_x\":q_IMC_ITMY_x,\n",
    "                  \"q_IMC_ITMY_y\":q_IMC_ITMY_y,\n",
    "                \n",
    "                  \"q_PRX_ITMX_x\":q_PRX_ITMX_x,\n",
    "                  \"q_PRX_ITMX_y\":q_PRX_ITMX_y,\n",
    "                  \"q_PRX_ITMY_x\":q_PRX_ITMY_x,\n",
    "                  \"q_PRX_ITMY_y\":q_PRX_ITMY_y,\n",
    "                \n",
    "                  \"q_PRY_ITMX_x\":q_PRY_ITMX_x,\n",
    "                  \"q_PRY_ITMX_y\":q_PRY_ITMX_y,\n",
    "                  \"q_PRY_ITMY_x\":q_PRY_ITMY_x,\n",
    "                  \"q_PRY_ITMY_y\":q_PRY_ITMY_y,\n",
    "                 }\n",
    "        \n",
    "        return q_dict"
   ]
  },
  {
   "cell_type": "code",
   "execution_count": 43,
   "metadata": {},
   "outputs": [],
   "source": [
    "Before = ifo_cavs().calc_qs(kat)"
   ]
  },
  {
   "cell_type": "markdown",
   "metadata": {},
   "source": []
  },
  {
   "cell_type": "code",
   "execution_count": 44,
   "metadata": {
    "collapsed": false
   },
   "outputs": [],
   "source": [
    "#### Set up the after parameters\n",
    "kat1=basekat.deepcopy()\n",
    "\n",
    "kat1.ITMXHR.Rcx.value = -1940.3\n",
    "kat1.ITMXHR.Rcy.value = -1940.3\n",
    "\n",
    "kat1.ITMYHR.Rcx.value = -1939.2\n",
    "kat1.ITMYHR.Rcy.value = -1939.2\n",
    "\n",
    "kat1.ETMXHR.Rcx.value = 2244.2 \n",
    "kat1.ETMXHR.Rcy.value = 2244.2 \n",
    "\n",
    "kat1.ETMYHR.Rcx.value = 2246.9\n",
    "kat1.ETMYHR.Rcy.value = 2246.9"
   ]
  },
  {
   "cell_type": "code",
   "execution_count": 45,
   "metadata": {},
   "outputs": [
    {
     "name": "stdout",
     "output_type": "stream",
     "text": [
      "--------------------------------------------------------------\n",
      "Running kat - Started at 2018-07-20 18:05:06.013217\n"
     ]
    },
    {
     "name": "stderr",
     "output_type": "stream",
     "text": [
      "\r",
      "  0% | ETA:  --:--:-- | Calculating                                            \r",
      "100% | ETA:  0:00:00 | Calculating                                             "
     ]
    },
    {
     "name": "stdout",
     "output_type": "stream",
     "text": [
      "\n",
      "Finished in 0.360074 seconds\n",
      "--------------------------------------------------------------\n",
      "Running kat - Started at 2018-07-20 18:05:06.373291\n"
     ]
    },
    {
     "name": "stderr",
     "output_type": "stream",
     "text": [
      "\r",
      "  0% | ETA:  --:--:-- | Calculating                                            \r",
      "100% | ETA:  0:00:00 | Calculating                                             "
     ]
    },
    {
     "name": "stdout",
     "output_type": "stream",
     "text": [
      "\n",
      "Finished in 0.381954 seconds\n",
      "--------------------------------------------------------------\n",
      "Running kat - Started at 2018-07-20 18:05:06.755244\n"
     ]
    },
    {
     "name": "stderr",
     "output_type": "stream",
     "text": [
      "\r",
      "  0% | ETA:  --:--:-- | Calculating                                            \r",
      "100% | ETA:  0:00:00 | Calculating                                             "
     ]
    },
    {
     "name": "stdout",
     "output_type": "stream",
     "text": [
      "\n",
      "Finished in 0.35604 seconds\n",
      "--------------------------------------------------------------\n",
      "Running kat - Started at 2018-07-20 18:05:07.111284\n"
     ]
    },
    {
     "name": "stderr",
     "output_type": "stream",
     "text": [
      "\r",
      "  0% | ETA:  --:--:-- | Calculating                                            \r",
      "100% | ETA:  0:00:00 | Calculating                                             "
     ]
    },
    {
     "name": "stdout",
     "output_type": "stream",
     "text": [
      "\n",
      "Finished in 0.364808 seconds\n",
      "--------------------------------------------------------------\n",
      "Running kat - Started at 2018-07-20 18:05:07.476310\n"
     ]
    },
    {
     "name": "stderr",
     "output_type": "stream",
     "text": [
      "\r",
      "  0% | ETA:  --:--:-- | Calculating                                            \r",
      "100% | ETA:  0:00:00 | Calculating                                             "
     ]
    },
    {
     "name": "stdout",
     "output_type": "stream",
     "text": [
      "\n",
      "Finished in 0.383969 seconds\n",
      "--------------------------------------------------------------\n",
      "Running kat - Started at 2018-07-20 18:05:07.861277\n"
     ]
    },
    {
     "name": "stderr",
     "output_type": "stream",
     "text": [
      "\r",
      "  0% | ETA:  --:--:-- | Calculating                                            \r",
      "100% | ETA:  0:00:00 | Calculating                                             "
     ]
    },
    {
     "name": "stdout",
     "output_type": "stream",
     "text": [
      "\n",
      "Finished in 0.398934 seconds\n",
      "--------------------------------------------------------------\n",
      "Running kat - Started at 2018-07-20 18:05:08.260211\n"
     ]
    },
    {
     "name": "stderr",
     "output_type": "stream",
     "text": [
      "\r",
      "  0% | ETA:  --:--:-- | Calculating                                            \r",
      "100% | ETA:  0:00:00 | Calculating                                             "
     ]
    },
    {
     "name": "stdout",
     "output_type": "stream",
     "text": [
      "\n",
      "Finished in 0.382002 seconds\n",
      "--------------------------------------------------------------\n",
      "Running kat - Started at 2018-07-20 18:05:08.642213\n"
     ]
    },
    {
     "name": "stderr",
     "output_type": "stream",
     "text": [
      "\r",
      "  0% | ETA:  --:--:-- | Calculating                                            \r",
      "100% | ETA:  0:00:00 | Calculating                                             "
     ]
    },
    {
     "name": "stdout",
     "output_type": "stream",
     "text": [
      "\n",
      "Finished in 0.414865 seconds\n",
      "--------------------------------------------------------------\n",
      "Running kat - Started at 2018-07-20 18:05:09.058076\n"
     ]
    },
    {
     "name": "stderr",
     "output_type": "stream",
     "text": [
      "\r",
      "  0% | ETA:  --:--:-- | Calculating                                            \r",
      "100% | ETA:  0:00:00 | Calculating                                             "
     ]
    },
    {
     "name": "stdout",
     "output_type": "stream",
     "text": [
      "\n",
      "Finished in 0.380025 seconds\n",
      "--------------------------------------------------------------\n",
      "Running kat - Started at 2018-07-20 18:05:09.439218\n",
      "\n",
      "Finished in 0.382815 seconds\n"
     ]
    },
    {
     "name": "stderr",
     "output_type": "stream",
     "text": [
      "\r",
      "  0% | ETA:  --:--:-- | Calculating                                            \r",
      "100% | ETA:  0:00:00 | Calculating                                             "
     ]
    }
   ],
   "source": [
    "After = ifo_cavs().calc_qs(kat1)"
   ]
  },
  {
   "cell_type": "code",
   "execution_count": null,
   "metadata": {},
   "outputs": [],
   "source": []
  },
  {
   "cell_type": "code",
   "execution_count": 48,
   "metadata": {
    "collapsed": true
   },
   "outputs": [],
   "source": [
    "before_overlap_ITM = amp_ovl(Before['q_XARM_ITM_x'],Before['q_YARM_ITM_x'])\n",
    "before_overlap_BS = amp_ovl(Before['q_XARM_BS_x'],Before['q_YARM_BS_x'])"
   ]
  },
  {
   "cell_type": "code",
   "execution_count": 49,
   "metadata": {
    "collapsed": true
   },
   "outputs": [],
   "source": [
    "after_overlap_ITM = amp_ovl(After['q_XARM_ITM_x'],After['q_YARM_ITM_x'])\n",
    "after_overlap_BS = amp_ovl(After['q_XARM_BS_x'],After['q_YARM_BS_x'])"
   ]
  },
  {
   "cell_type": "code",
   "execution_count": 50,
   "metadata": {
    "collapsed": false
   },
   "outputs": [
    {
     "name": "stdout",
     "output_type": "stream",
     "text": [
      "5.934299324494852e-06 3.865230617516868e-06\n"
     ]
    }
   ],
   "source": [
    "### Contrast defect at the ITMs\n",
    "CD_old_ITM = (1.0 - np.real(before_overlap_ITM) )/ 2.0\n",
    "CD_new_ITM = (1.0 - np.real(after_overlap_ITM) )/ 2.0\n",
    "\n",
    "print(CD_old_ITM, CD_new_ITM)"
   ]
  },
  {
   "cell_type": "code",
   "execution_count": 51,
   "metadata": {
    "collapsed": false
   },
   "outputs": [
    {
     "name": "stdout",
     "output_type": "stream",
     "text": [
      "5.683696534086735e-06 4.5933131715414355e-06\n"
     ]
    }
   ],
   "source": [
    "### Contrast defect at the BS (includes Schnupp Asymmetry and Thermal lens)\n",
    "CD_old_BS = (1.0 - np.real(before_overlap_BS) )/ 2.0\n",
    "CD_new_BS = (1.0 - np.real(after_overlap_BS) )/ 2.0\n",
    "\n",
    "print(CD_old_BS, CD_new_BS)"
   ]
  },
  {
   "cell_type": "code",
   "execution_count": 24,
   "metadata": {},
   "outputs": [
    {
     "name": "stdout",
     "output_type": "stream",
     "text": [
      "(-0.525504277244327-0.082432367249099j)\n",
      "(-0.525539436612076+0.0822704301650559j)\n",
      "(-0.0534630147280517-0.258408603571655j)\n",
      "(-0.0530438034392257+0.258247109554201j)\n"
     ]
    }
   ],
   "source": [
    "print(out['SB9Mhz_plus'])\n",
    "print(out['SB9Mhz_minus'])\n",
    "print(out['SB45Mhz_plus'])\n",
    "print(out['SB45Mhz_minus'])"
   ]
  },
  {
   "cell_type": "code",
   "execution_count": 39,
   "metadata": {},
   "outputs": [
    {
     "name": "stdout",
     "output_type": "stream",
     "text": [
      "(-1839.02518148105+430.710263905649j) (-1839.02518148105+430.710263905649j)\n"
     ]
    }
   ],
   "source": [
    "print(Before['q_XARM_ITM_x'],After['q_XARM_ITM_x'])"
   ]
  },
  {
   "cell_type": "code",
   "execution_count": 46,
   "metadata": {},
   "outputs": [
    {
     "data": {
      "text/plain": [
       "0.9999814300445772"
      ]
     },
     "execution_count": 46,
     "metadata": {},
     "output_type": "execute_result"
    }
   ],
   "source": [
    "pykat.BeamParam.overlap(Before['q_XARM_ITM_x'],After['q_XARM_ITM_x'])"
   ]
  },
  {
   "cell_type": "code",
   "execution_count": 60,
   "metadata": {},
   "outputs": [
    {
     "data": {
      "text/plain": [
       "147.84144435953107"
      ]
     },
     "execution_count": 60,
     "metadata": {},
     "output_type": "execute_result"
    }
   ],
   "source": [
    "(1-pykat.BeamParam.overlap(q_IMC_ITMX_0[0],q_ITMX_0[0]))*1e6"
   ]
  }
 ],
 "metadata": {
  "kernelspec": {
   "display_name": "Python 3",
   "language": "python",
   "name": "python3"
  },
  "language_info": {
   "codemirror_mode": {
    "name": "ipython",
    "version": 3
   },
   "file_extension": ".py",
   "mimetype": "text/x-python",
   "name": "python",
   "nbconvert_exporter": "python",
   "pygments_lexer": "ipython3",
   "version": "3.6.2"
  }
 },
 "nbformat": 4,
 "nbformat_minor": 2
}
