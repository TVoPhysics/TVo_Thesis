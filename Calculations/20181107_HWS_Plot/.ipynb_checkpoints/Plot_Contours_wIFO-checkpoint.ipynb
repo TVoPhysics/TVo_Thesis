{
 "cells": [
  {
   "cell_type": "code",
   "execution_count": 1,
   "metadata": {
    "collapsed": false
   },
   "outputs": [
    {
     "name": "stderr",
     "output_type": "stream",
     "text": [
      "/ligo/home/hang.yu/.py_dev/lib/python2.7/site-packages/scipy/linalg/basic.py:17: RuntimeWarning: numpy.dtype size changed, may indicate binary incompatibility. Expected 96, got 88\n",
      "  from ._solve_toeplitz import levinson\n",
      "/ligo/home/hang.yu/.py_dev/lib/python2.7/site-packages/scipy/linalg/__init__.py:207: RuntimeWarning: numpy.dtype size changed, may indicate binary incompatibility. Expected 96, got 88\n",
      "  from ._decomp_update import *\n",
      "/ligo/home/hang.yu/.py_dev/lib/python2.7/site-packages/scipy/special/__init__.py:640: RuntimeWarning: numpy.dtype size changed, may indicate binary incompatibility. Expected 96, got 88\n",
      "  from ._ufuncs import *\n",
      "/ligo/home/hang.yu/.py_dev/lib/python2.7/site-packages/scipy/special/_ellip_harm.py:7: RuntimeWarning: numpy.dtype size changed, may indicate binary incompatibility. Expected 96, got 88\n",
      "  from ._ellip_harm_2 import _ellipsoid, _ellipsoid_norm\n",
      "/ligo/home/hang.yu/.py_dev/lib/python2.7/site-packages/scipy/interpolate/_bsplines.py:10: RuntimeWarning: numpy.dtype size changed, may indicate binary incompatibility. Expected 96, got 88\n",
      "  from . import _bspl\n",
      "/ligo/home/hang.yu/.py_dev/lib/python2.7/site-packages/scipy/sparse/lil.py:19: RuntimeWarning: numpy.dtype size changed, may indicate binary incompatibility. Expected 96, got 88\n",
      "  from . import _csparsetools\n",
      "/ligo/home/hang.yu/.py_dev/lib/python2.7/site-packages/scipy/sparse/csgraph/__init__.py:165: RuntimeWarning: numpy.dtype size changed, may indicate binary incompatibility. Expected 96, got 88\n",
      "  from ._shortest_path import shortest_path, floyd_warshall, dijkstra,\\\n",
      "/ligo/home/hang.yu/.py_dev/lib/python2.7/site-packages/scipy/sparse/csgraph/_validation.py:5: RuntimeWarning: numpy.dtype size changed, may indicate binary incompatibility. Expected 96, got 88\n",
      "  from ._tools import csgraph_to_dense, csgraph_from_dense,\\\n",
      "/ligo/home/hang.yu/.py_dev/lib/python2.7/site-packages/scipy/sparse/csgraph/__init__.py:167: RuntimeWarning: numpy.dtype size changed, may indicate binary incompatibility. Expected 96, got 88\n",
      "  from ._traversal import breadth_first_order, depth_first_order, \\\n",
      "/ligo/home/hang.yu/.py_dev/lib/python2.7/site-packages/scipy/sparse/csgraph/__init__.py:169: RuntimeWarning: numpy.dtype size changed, may indicate binary incompatibility. Expected 96, got 88\n",
      "  from ._min_spanning_tree import minimum_spanning_tree\n",
      "/ligo/home/hang.yu/.py_dev/lib/python2.7/site-packages/scipy/sparse/csgraph/__init__.py:170: RuntimeWarning: numpy.dtype size changed, may indicate binary incompatibility. Expected 96, got 88\n",
      "  from ._reordering import reverse_cuthill_mckee, maximum_bipartite_matching, \\\n",
      "/ligo/home/hang.yu/.py_dev/lib/python2.7/site-packages/scipy/spatial/__init__.py:95: RuntimeWarning: numpy.dtype size changed, may indicate binary incompatibility. Expected 96, got 88\n",
      "  from .ckdtree import *\n",
      "/ligo/home/hang.yu/.py_dev/lib/python2.7/site-packages/scipy/spatial/__init__.py:96: RuntimeWarning: numpy.dtype size changed, may indicate binary incompatibility. Expected 96, got 88\n",
      "  from .qhull import *\n",
      "/ligo/home/hang.yu/.py_dev/lib/python2.7/site-packages/scipy/spatial/_spherical_voronoi.py:18: RuntimeWarning: numpy.dtype size changed, may indicate binary incompatibility. Expected 96, got 88\n",
      "  from . import _voronoi\n",
      "/ligo/home/hang.yu/.py_dev/lib/python2.7/site-packages/scipy/spatial/distance.py:122: RuntimeWarning: numpy.dtype size changed, may indicate binary incompatibility. Expected 96, got 88\n",
      "  from . import _hausdorff\n",
      "/ligo/home/hang.yu/.py_dev/lib/python2.7/site-packages/scipy/optimize/_trlib/__init__.py:1: RuntimeWarning: numpy.dtype size changed, may indicate binary incompatibility. Expected 96, got 88\n",
      "  from ._trlib import TRLIBQuadraticSubproblem\n",
      "/ligo/home/hang.yu/.py_dev/lib/python2.7/site-packages/scipy/optimize/_numdiff.py:10: RuntimeWarning: numpy.dtype size changed, may indicate binary incompatibility. Expected 96, got 88\n",
      "  from ._group_columns import group_dense, group_sparse\n",
      "/ligo/home/hang.yu/.py_dev/lib/python2.7/site-packages/scipy/stats/_continuous_distns.py:18: RuntimeWarning: numpy.dtype size changed, may indicate binary incompatibility. Expected 96, got 88\n",
      "  from . import _stats\n",
      "/ligo/home/hang.yu/.py_dev/lib/python2.7/site-packages/scipy/ndimage/measurements.py:36: RuntimeWarning: numpy.dtype size changed, may indicate binary incompatibility. Expected 96, got 88\n",
      "  from . import _ni_label\n",
      "/ligo/cds/lho/h1/anaconda/anaconda2/lib/python2.7/site-packages/skimage/filter/__init__.py:6: skimage_deprecation: The `skimage.filter` module has been renamed to `skimage.filters`.  This placeholder module will be removed in v0.13.\n",
      "  warn(skimage_deprecation('The `skimage.filter` module has been renamed '\n",
      "/ligo/home/hang.yu/.py_dev/lib/python2.7/site-packages/scipy/signal/_max_len_seq.py:8: RuntimeWarning: numpy.dtype size changed, may indicate binary incompatibility. Expected 96, got 88\n",
      "  from ._max_len_seq_inner import _max_len_seq_inner\n",
      "/ligo/home/hang.yu/.py_dev/lib/python2.7/site-packages/scipy/signal/_upfirdn.py:36: RuntimeWarning: numpy.dtype size changed, may indicate binary incompatibility. Expected 96, got 88\n",
      "  from ._upfirdn_apply import _output_len, _apply\n",
      "/ligo/home/hang.yu/.py_dev/lib/python2.7/site-packages/scipy/signal/spectral.py:10: RuntimeWarning: numpy.dtype size changed, may indicate binary incompatibility. Expected 96, got 88\n",
      "  from ._spectral import _lombscargle\n",
      "/ligo/home/hang.yu/.py_dev/lib/python2.7/site-packages/scipy/signal/_peak_finding.py:13: RuntimeWarning: numpy.dtype size changed, may indicate binary incompatibility. Expected 96, got 88\n",
      "  from ._peak_finding_utils import (_argmaxima1d, _select_by_peak_distance,\n"
     ]
    }
   ],
   "source": [
    "%matplotlib inline\n",
    "import numpy as np\n",
    "import matplotlib.pyplot as pl\n",
    "from matplotlib import cm\n",
    "import subprocess\n",
    "import sys\n",
    "import scipy\n",
    "from scipy import interpolate\n",
    "from scipy import stats\n",
    "from scipy.optimize import least_squares\n",
    "import matplotlib.pyplot as plt\n",
    "import matplotlib.animation as animation\n",
    "\n",
    "sys.path.append('/opt/rtcds/userapps/release/tcs/common/scripts/hws_tools/')\n",
    "sys.path.append('/ligo/home/daniel.brown/git/hws-binaries/src')\n",
    "\n",
    "import HS_LIGO_utilities\n",
    "import HS_Export\n",
    "import HSM_WFN"
   ]
  },
  {
   "cell_type": "code",
   "execution_count": 2,
   "metadata": {
    "collapsed": false
   },
   "outputs": [
    {
     "name": "stderr",
     "output_type": "stream",
     "text": [
      "/ligo/home/hang.yu/.py_dev/lib/python2.7/site-packages/h5py/__init__.py:36: RuntimeWarning: numpy.dtype size changed, may indicate binary incompatibility. Expected 96, got 88\n",
      "  from ._conv import register_converters as _register_converters\n",
      "/ligo/home/hang.yu/.py_dev/lib/python2.7/site-packages/h5py/__init__.py:45: RuntimeWarning: numpy.dtype size changed, may indicate binary incompatibility. Expected 96, got 88\n",
      "  from . import h5a, h5d, h5ds, h5f, h5fd, h5g, h5r, h5s, h5t, h5p, h5z\n",
      "/ligo/home/hang.yu/.py_dev/lib/python2.7/site-packages/h5py/_hl/group.py:22: RuntimeWarning: numpy.dtype size changed, may indicate binary incompatibility. Expected 96, got 88\n",
      "  from .. import h5g, h5i, h5o, h5r, h5t, h5l, h5p\n"
     ]
    }
   ],
   "source": [
    "import pyctrl\n",
    "import os\n",
    "if not os.path.exists('data'):\n",
    "    os.makedirs('data')"
   ]
  },
  {
   "cell_type": "code",
   "execution_count": 3,
   "metadata": {
    "collapsed": true
   },
   "outputs": [],
   "source": [
    "#gps_start= 1225704621\n",
    "gps_start= 1225714021\n",
    "duration=8000\n",
    "\n",
    "fs=4\n",
    "\n",
    "wit_chan=['TCS-ITMX_CO2_LSRPWR_MTR_OUTPUT', 'TCS-ITMY_CO2_LSRPWR_MTR_OUTPUT',\n",
    "          'TCS-ITMX_HWS_PROBE_SPHERICAL_POWER','TCS-ITMY_HWS_PROBE_SPHERICAL_POWER',\n",
    "         'IMC-PWR_IN_OUT16']"
   ]
  },
  {
   "cell_type": "code",
   "execution_count": 4,
   "metadata": {
    "collapsed": false
   },
   "outputs": [
    {
     "name": "stdout",
     "output_type": "stream",
     "text": [
      "fetching data...\n",
      "fetched!!!\n",
      "saving data to: data/H1_1225714021_8000.h5\n",
      "0\n",
      "TCS-ITMX_CO2_LSRPWR_MTR_OUTPUT\n",
      "down-sampling to 4.000000 Hz\n",
      "1\n",
      "TCS-ITMY_CO2_LSRPWR_MTR_OUTPUT\n",
      "2\n",
      "TCS-ITMX_HWS_PROBE_SPHERICAL_POWER\n",
      "3\n",
      "TCS-ITMY_HWS_PROBE_SPHERICAL_POWER\n",
      "4\n",
      "IMC-PWR_IN_OUT16\n"
     ]
    },
    {
     "name": "stderr",
     "output_type": "stream",
     "text": [
      "/ligo/home/hang.yu/.py_dev/lib/python2.7/site-packages/scipy/signal/signaltools.py:2383: FutureWarning: Using a non-tuple sequence for multidimensional indexing is deprecated; use `arr[tuple(seq)]` instead of `arr[seq]`. In the future this will be interpreted as an array index, `arr[np.array(seq)]`, which will result either in an error or a different result.\n",
      "  return y[keep]\n",
      "/ligo/home/hang.yu/.py_dev/lib/python2.7/site-packages/scipy/signal/signaltools.py:3463: FutureWarning: Using a non-tuple sequence for multidimensional indexing is deprecated; use `arr[tuple(seq)]` instead of `arr[seq]`. In the future this will be interpreted as an array index, `arr[np.array(seq)]`, which will result either in an error or a different result.\n",
      "  return y[sl]\n"
     ]
    }
   ],
   "source": [
    "pyctrl.fetch_data_nds(gps_start, duration, wit_chan, fs=fs)"
   ]
  },
  {
   "cell_type": "code",
   "execution_count": 5,
   "metadata": {
    "collapsed": false
   },
   "outputs": [],
   "source": [
    "wit, __=pyctrl.read_data_multi_chan(gps_start, duration, wit_chan)\n",
    "t_vect=np.arange(0., duration, 1./fs)"
   ]
  },
  {
   "cell_type": "code",
   "execution_count": 6,
   "metadata": {
    "collapsed": true
   },
   "outputs": [],
   "source": [
    "ifo_dict = dict(zip(wit_chan, wit))"
   ]
  },
  {
   "cell_type": "code",
   "execution_count": 7,
   "metadata": {
    "collapsed": false
   },
   "outputs": [
    {
     "data": {
      "text/plain": [
       "(-1e-05, 1e-05)"
      ]
     },
     "execution_count": 7,
     "metadata": {},
     "output_type": "execute_result"
    },
    {
     "data": {
      "image/png": "[encoded data removed]",
      "text/plain": [
       "<Figure size 432x288 with 3 Axes>"
      ]
     },
     "metadata": {},
     "output_type": "display_data"
    }
   ],
   "source": [
    "fig=pl.figure()\n",
    "ax=fig.add_subplot(311)\n",
    "ax.plot(t_vect, ifo_dict['IMC-PWR_IN_OUT16'])\n",
    "ax.grid(which='both')\n",
    "ax.set_ylim([0, 30])\n",
    "ax.set_xticklabels([])\n",
    "\n",
    "bx=fig.add_subplot(312)\n",
    "bx.plot(t_vect, ifo_dict['TCS-ITMX_CO2_LSRPWR_MTR_OUTPUT'])\n",
    "bx.grid(which='both')\n",
    "bx.set_xticklabels([])\n",
    "\n",
    "cx=fig.add_subplot(313)\n",
    "cx.plot(t_vect, ifo_dict['TCS-ITMX_HWS_PROBE_SPHERICAL_POWER'])\n",
    "cx.grid(which='both')\n",
    "cx.set_ylim([-1e-5, 1e-5])"
   ]
  },
  {
   "cell_type": "code",
   "execution_count": 8,
   "metadata": {
    "collapsed": false
   },
   "outputs": [
    {
     "data": {
      "text/plain": [
       "(-4e-05, 1e-05)"
      ]
     },
     "execution_count": 8,
     "metadata": {},
     "output_type": "execute_result"
    },
    {
     "data": {
      "image/png": "[encoded data removed]",
      "text/plain": [
       "<Figure size 432x288 with 3 Axes>"
      ]
     },
     "metadata": {},
     "output_type": "display_data"
    }
   ],
   "source": [
    "fig=pl.figure()\n",
    "ax=fig.add_subplot(311)\n",
    "ax.plot(t_vect, ifo_dict['IMC-PWR_IN_OUT16'])\n",
    "ax.grid(which='both')\n",
    "ax.set_ylim([0, 30])\n",
    "ax.set_xticklabels([])\n",
    "\n",
    "bx=fig.add_subplot(312)\n",
    "bx.plot(t_vect, ifo_dict['TCS-ITMY_CO2_LSRPWR_MTR_OUTPUT'])\n",
    "bx.grid(which='both')\n",
    "bx.set_xticklabels([])\n",
    "\n",
    "cx=fig.add_subplot(313)\n",
    "cx.plot(t_vect, ifo_dict['TCS-ITMY_HWS_PROBE_SPHERICAL_POWER'])\n",
    "cx.grid(which='both')\n",
    "cx.set_ylim([-4e-5, 1e-5])"
   ]
  },
  {
   "cell_type": "code",
   "execution_count": 9,
   "metadata": {
    "collapsed": false
   },
   "outputs": [
    {
     "data": {
      "image/png": "[encoded data removed]",
      "text/plain": [
       "<Figure size 400x240 with 1 Axes>"
      ]
     },
     "metadata": {},
     "output_type": "display_data"
    }
   ],
   "source": []
  },
  {
   "cell_type": "code",
   "execution_count": 14,
   "metadata": {
    "collapsed": false
   },
   "outputs": [],
   "source": [
    "# Get HWS data\n",
    "subprocess.call('hwsdata')\n",
    "hws_data_dir = '/h1hwsmsr/data'\n",
    "\n",
    "ITMX_dict= HS_LIGO_utilities.get_files(gps_start, gps_start+duration,\n",
    "                                           optic='ITMX', \n",
    "                                           data_dir=None, \n",
    "                                           ifo=None,  \n",
    "                                           extension='.p')\n",
    "ITMY_dict= HS_LIGO_utilities.get_files(gps_start, gps_start+duration, \n",
    "                                           optic='ITMY', \n",
    "                                           data_dir=None, \n",
    "                                           ifo=None,  \n",
    "                                           extension='.p')"
   ]
  },
  {
   "cell_type": "code",
   "execution_count": 38,
   "metadata": {
    "collapsed": false
   },
   "outputs": [],
   "source": [
    "def extract(dictionary):\n",
    "    grs = []\n",
    "    imgs = []\n",
    "    for key,string in dictionary.items():\n",
    "        export = HS_LIGO_utilities.open_file(dictionary[key])\n",
    "        grs.append(export.avGradients)\n",
    "        imgs.append(export.avImage)\n",
    "    \n",
    "    grs = np.array(grs)\n",
    "    imgs = np.array(imgs)\n",
    "\n",
    "    return grs,imgs"
   ]
  },
  {
   "cell_type": "code",
   "execution_count": 39,
   "metadata": {
    "collapsed": false
   },
   "outputs": [],
   "source": [
    "ITMX_grads,ITMX_img = extract(ITMX_dict)\n",
    "ITMY_grads,ITMY_img = extract(ITMY_dict)"
   ]
  },
  {
   "cell_type": "code",
   "execution_count": 56,
   "metadata": {
    "collapsed": false
   },
   "outputs": [],
   "source": [
    "def get_new_SC(imgs,orig):\n",
    "    ref_cens = HS_LIGO_utilities.get_centroids(imgs[0])\n",
    "    SCs = []\n",
    "    keys = ['phi','prism_y','prism_x','prism','cylindrical_power','spherical_power','alpha']\n",
    "    f = dict.fromkeys(keys)\n",
    "    for key in f:\n",
    "        f[str(key)] = []\n",
    "    for i in range(len(imgs)):\n",
    "        cens = HS_LIGO_utilities.get_centroids(imgs[i],ref_centroids=ref_cens)\n",
    "        shifted_grads = HS_LIGO_utilities.get_gradients(ref_cens, cens, origin=orig)\n",
    "        siedels = HS_LIGO_utilities.get_seidel(shifted_grads)\n",
    "        for key in f:\n",
    "            f[str(key)].append(siedels[str(key)])\n",
    "    return f"
   ]
  },
  {
   "cell_type": "code",
   "execution_count": null,
   "metadata": {
    "collapsed": false
   },
   "outputs": [],
   "source": [
    "ITMX_origin = np.array([700.0, 450.5])\n",
    "ITMY_origin = np.array([511.5, 511.5])\n",
    "\n",
    "ITMX_SCs = get_new_SC(ITMX_img,ITMX_origin)\n",
    "ITMY_SCs = get_new_SC(ITMY_img,ITMY_origin)"
   ]
  },
  {
   "cell_type": "code",
   "execution_count": null,
   "metadata": {
    "collapsed": false
   },
   "outputs": [],
   "source": []
  },
  {
   "cell_type": "code",
   "execution_count": 44,
   "metadata": {
    "collapsed": false
   },
   "outputs": [],
   "source": [
    "ITMX_origin = np.array([700.0, 471.5])\n",
    "\n",
    "ITMX_shifted_grads = HS_LIGO_utilities.get_gradients(ITMX_ref_cens, ITMX_cens, origin=ITMX_origin)\n",
    "\n",
    "ITMX_sc = HS_LIGO_utilities.get_seidel(ITMX_shifted_grads)"
   ]
  },
  {
   "cell_type": "code",
   "execution_count": null,
   "metadata": {
    "collapsed": false
   },
   "outputs": [],
   "source": [
    "fig=pl.figure()\n",
    "ax=fig.add_subplot(111)\n",
    "ax.plot(t_vect, ITMX_sc[spherical_power])\n",
    "ax.grid(which='both')\n",
    "#ax.set_ylim([0, 30])\n",
    "#ax.set_xticklabels([])"
   ]
  },
  {
   "cell_type": "code",
   "execution_count": 17,
   "metadata": {
    "collapsed": false
   },
   "outputs": [],
   "source": [
    "#Gradients of the reference (start time)\n",
    "def calculate_grads_wfs(grads_in):\n",
    "    \n",
    "    gr_list = []\n",
    "    wf_list = []\n",
    "    \n",
    "    #Loop the input grads\n",
    "    for i in range(len(grads_in)):\n",
    "\n",
    "        #Gradient of the current\n",
    "        hsg = grads_in[i]\n",
    "        ref = grads_in[0]\n",
    "\n",
    "        # get the difference in centroids\n",
    "        U = +hsg[:,0]-ref[:,0]\n",
    "        V = +hsg[:,1]-ref[:,1]\n",
    "\n",
    "        #remove tilt\n",
    "        U = U - np.mean(U)\n",
    "        V = V - np.mean(V)\n",
    "\n",
    "        rmsV = scipy.mean(scipy.sqrt(U**2 + V**2))\n",
    "\n",
    "        # Get the gradients\n",
    "        limits = {'x': [-0.1, 0.1], 'y': [-0.1, 0.1]}\n",
    "        spc = 0.2/200.\n",
    "        x_g,y_g = HSM_WFN.setup_grid(limits,spc)\n",
    "\n",
    "        cents = hsg[:,2:4]\n",
    "        grads = np.transpose(np.array([U,V]))\n",
    "\n",
    "        gr_list.append(grads)\n",
    "\n",
    "        # calculate the wavefront\n",
    "        wf = -1E9*HSM_WFN.calculate_wf(cents,grads,limits,spc)\n",
    "        wf = wf-np.max(wf[50:150,50:150])\n",
    "\n",
    "        wf_list.append(wf)\n",
    "        \n",
    "        #Make the arrays\n",
    "        wf_array = np.array(wf_list)\n",
    "        gr_array = np.array(gr_list)\n",
    "    \n",
    "    return wf_array,gr_array"
   ]
  },
  {
   "cell_type": "code",
   "execution_count": null,
   "metadata": {
    "collapsed": false
   },
   "outputs": [],
   "source": [
    "ITMX_wfs , ITMX_grs = calculate_grads_wfs(ITMX_grads)\n",
    "ITMY_wfs , ITMY_grs = calculate_grads_wfs(ITMY_grads)"
   ]
  },
  {
   "cell_type": "code",
   "execution_count": null,
   "metadata": {
    "collapsed": false
   },
   "outputs": [],
   "source": [
    "ITMX_c_range = np.arange(-60,10,1)\n",
    "ITMY_c_range = np.arange(-275,10,1)"
   ]
  },
  {
   "cell_type": "code",
   "execution_count": null,
   "metadata": {
    "collapsed": true
   },
   "outputs": [],
   "source": [
    "def initialize_graphing():\n",
    "    fig = pl.figure(figsize=(9,5))\n",
    "\n",
    "    ax1 = fig.add_subplot(121)\n",
    "    ax1.set_xlim([-0.17, 0.17])\n",
    "    ax1.set_ylim([-0.17, 0.17])\n",
    "    ax1.grid()\n",
    "\n",
    "    acir1, = ax1.plot([], [], 'b-', linewidth=1)\n",
    "    acir2, = ax1.plot([], [], 'b-', linewidth=1)\n",
    "\n",
    "    ax2= fig.add_subplot(122)\n",
    "\n",
    "    ax2.set_xlim([-0.17, 0.17])\n",
    "    ax2.set_ylim([-0.17, 0.17])\n",
    "    ax2.grid()\n",
    "\n",
    "    bcir1, = ax2.plot([], [], 'b-', linewidth=1)\n",
    "    bcir2, = ax2.plot([], [], 'b-', linewidth=1)\n",
    "    \n",
    "    # Make the ITM circle\n",
    "    cir1, = ax2.plot([], [], 'b-', linewidth=1)\n",
    "    cir2, = ax2.plot([], [], 'b-', linewidth=1)\n",
    "    \n",
    "    theta = np.arange(-np.pi/200, 2*np.pi, np.pi/200)\n",
    "    xITM = 0.17*np.cos(theta)\n",
    "    yITM = 0.17*np.sin(theta)\n",
    "    indEdge = np.where(abs(xITM) > 326.5E-3/2)\n",
    "    xITM[indEdge] = np.sign(xITM[indEdge])*326.5E-3/2\n",
    "    cir1.set_data(xITM, yITM)\n",
    "\n",
    "    xITM = 0.1686 * np.cos(theta)\n",
    "    yITM = 0.1686 * np.sin(theta)\n",
    "    indEdge = np.where(abs(xITM) > 326.5E-3/2 - 1.41E-3)\n",
    "    xITM[indEdge] = np.sign(xITM[indEdge])*(326.5E-3/2-1.41E-3)\n",
    "    cir2.set_data(xITM, yITM)\n",
    "    \n",
    "    return fig, [ax1,ax2]\n",
    "\n",
    "def plot_wf_quiver(fig,axes,c_range,wfs_in, grs_in, grads_in):\n",
    "    \n",
    "    hsg = grads_in\n",
    "    U = grs_in[:,0]\n",
    "    V = grs_in[:,1]\n",
    "    \n",
    "    ax1=axes[0]\n",
    "    ax2=axes[1]\n",
    "    \n",
    "    ax1.quiver(hsg[:,2], hsg[:,3], U, V, units='x', scale_units='height')\n",
    "    \n",
    "    img0= ax2.contourf(x_g,y_g,wfs_in,c_range,cmap='plasma')\n",
    "    \n",
    "    cb_ax = fig.add_axes([0.92, 0.1, 0.02, 0.8])\n",
    "    cbar = fig.colorbar(img0,cax=cb_ax)\n",
    "    \n",
    "    img1= ax2.contour(x_g,y_g,wfs_in, colors='k', linewidths=1.3,linestyles='solid')\n",
    "    "
   ]
  },
  {
   "cell_type": "code",
   "execution_count": null,
   "metadata": {
    "collapsed": false
   },
   "outputs": [],
   "source": [
    "fig,axes = initialize_graphing()\n",
    "plot_wf_quiver(fig,axes,ITMX_c_range,ITMX_wfs[-1],ITMX_grs[-1],ITMX_grads[-1])"
   ]
  },
  {
   "cell_type": "code",
   "execution_count": null,
   "metadata": {
    "collapsed": false
   },
   "outputs": [],
   "source": [
    "fig,axes = initialize_graphing()\n",
    "plot_wf_quiver(fig,axes,ITMY_c_range,ITMY_wfs[-1],ITMY_grs[-1],ITMY_grads[-1])"
   ]
  },
  {
   "cell_type": "code",
   "execution_count": null,
   "metadata": {
    "collapsed": false,
    "scrolled": false
   },
   "outputs": [],
   "source": [
    "# fig = pl.figure(figsize=(9,5))\n",
    "\n",
    "# ax1 = fig.add_subplot(121)\n",
    "# ax1.set_xlim([-0.17, 0.17])\n",
    "# ax1.set_ylim([-0.17, 0.17])\n",
    "# ax1.grid()\n",
    "\n",
    "# acir1, = ax1.plot([], [], 'b-', linewidth=1)\n",
    "# acir2, = ax1.plot([], [], 'b-', linewidth=1)\n",
    "\n",
    "# ax2= fig.add_subplot(122)\n",
    "\n",
    "# ax2.set_xlim([-0.17, 0.17])\n",
    "# ax2.set_ylim([-0.17, 0.17])\n",
    "# ax2.grid()\n",
    "\n",
    "# bcir1, = ax2.plot([], [], 'b-', linewidth=1)\n",
    "# bcir2, = ax2.plot([], [], 'b-', linewidth=1)\n",
    "\n",
    "# # Make the ITM circle\n",
    "# cir1, = ax2.plot([], [], 'b-', linewidth=1)\n",
    "# cir2, = ax2.plot([], [], 'b-', linewidth=1)\n",
    "\n",
    "# theta = np.arange(-np.pi/200, 2*np.pi, np.pi/200)\n",
    "# xITM = 0.17*np.cos(theta)\n",
    "# yITM = 0.17*np.sin(theta)\n",
    "# indEdge = np.where(abs(xITM) > 326.5E-3/2)\n",
    "# xITM[indEdge] = np.sign(xITM[indEdge])*326.5E-3/2\n",
    "# cir1.set_data(xITM, yITM)\n",
    "\n",
    "# xITM = 0.1686 * np.cos(theta)\n",
    "# yITM = 0.1686 * np.sin(theta)\n",
    "# indEdge = np.where(abs(xITM) > 326.5E-3/2 - 1.41E-3)\n",
    "# xITM[indEdge] = np.sign(xITM[indEdge])*(326.5E-3/2-1.41E-3)\n",
    "# cir2.set_data(xITM, yITM)\n",
    "\n",
    "# anim_axes= [ax1,ax2]\n",
    "\n",
    "# def plot(i):\n",
    "#     for coll in ax1.collections: \n",
    "#         coll.remove()\n",
    "#     for coll in ax2.collections: \n",
    "#         coll.remove()\n",
    "#     f = plot_wf_quiver(fig,anim_axes,ITMX_c_range,ITMX_wfs[i],ITMX_grs[i],ITMX_grads[i])\n",
    "#     return f\n",
    "\n",
    "# ani = animation.FuncAnimation(fig, plot, interval=500,frames=len(ITMX_grads))\n",
    "# ani.save('ITMX_new.mp4', extra_args=['-vcodec', 'libx264'], dpi=100)\n",
    "# HTML(ani.to_html5_video())"
   ]
  },
  {
   "cell_type": "code",
   "execution_count": null,
   "metadata": {
    "collapsed": false
   },
   "outputs": [],
   "source": [
    "# fig = pl.figure(figsize=(9,5))\n",
    "\n",
    "# ax1 = fig.add_subplot(121)\n",
    "# ax1.set_xlim([-0.17, 0.17])\n",
    "# ax1.set_ylim([-0.17, 0.17])\n",
    "# ax1.grid()\n",
    "\n",
    "# acir1, = ax1.plot([], [], 'b-', linewidth=1)\n",
    "# acir2, = ax1.plot([], [], 'b-', linewidth=1)\n",
    "\n",
    "# ax2= fig.add_subplot(122)\n",
    "\n",
    "# ax2.set_xlim([-0.17, 0.17])\n",
    "# ax2.set_ylim([-0.17, 0.17])\n",
    "# ax2.grid()\n",
    "\n",
    "# bcir1, = ax2.plot([], [], 'b-', linewidth=1)\n",
    "# bcir2, = ax2.plot([], [], 'b-', linewidth=1)\n",
    "\n",
    "# # Make the ITM circle\n",
    "# cir1, = ax2.plot([], [], 'b-', linewidth=1)\n",
    "# cir2, = ax2.plot([], [], 'b-', linewidth=1)\n",
    "\n",
    "# theta = np.arange(-np.pi/200, 2*np.pi, np.pi/200)\n",
    "# xITM = 0.17*np.cos(theta)\n",
    "# yITM = 0.17*np.sin(theta)\n",
    "# indEdge = np.where(abs(xITM) > 326.5E-3/2)\n",
    "# xITM[indEdge] = np.sign(xITM[indEdge])*326.5E-3/2\n",
    "# cir1.set_data(xITM, yITM)\n",
    "\n",
    "# xITM = 0.1686 * np.cos(theta)\n",
    "# yITM = 0.1686 * np.sin(theta)\n",
    "# indEdge = np.where(abs(xITM) > 326.5E-3/2 - 1.41E-3)\n",
    "# xITM[indEdge] = np.sign(xITM[indEdge])*(326.5E-3/2-1.41E-3)\n",
    "# cir2.set_data(xITM, yITM)\n",
    "\n",
    "# anim_axes= [ax1,ax2]\n",
    "\n",
    "# def plot(i):\n",
    "#     for coll in ax1.collections: \n",
    "#         coll.remove()\n",
    "#     for coll in ax2.collections: \n",
    "#         coll.remove()\n",
    "#     f = plot_wf_quiver(fig,anim_axes,ITMY_c_range,ITMY_wfs[i],ITMY_grs[i],ITMY_grads[i])\n",
    "#     return f\n",
    "\n",
    "# ani = animation.FuncAnimation(fig, plot, interval=500,frames=len(ITMY_grads))\n",
    "# ani.save('ITMY_new.mp4', extra_args=['-vcodec', 'libx264'], dpi=100)\n",
    "# HTML(ani.to_html5_video())"
   ]
  },
  {
   "cell_type": "code",
   "execution_count": null,
   "metadata": {
    "collapsed": true
   },
   "outputs": [],
   "source": [
    "# Comsol model of the self heating\n",
    "model = np.loadtxt('1W_self_heating_defocus_doublepass.txt')\n",
    "\n",
    "time_model = model[:,0]\n",
    "abs_model  = model[:,1]\n",
    "\n",
    "def TL(x,a,b):    \n",
    "    y = interpolate.interp1d(time_model,-abs_model/1e6,fill_value=\"extrapolate\")\n",
    "    ynew = y(x)\n",
    "    return a + (b * ynew)\n",
    "\n",
    "a=0.0\n",
    "b=2.0\n",
    "x = np.arange(0,2,.001) #hours\n",
    "f = TL(x,a,b)\n",
    "\n",
    "#### Plot\n",
    "pl.figure(figsize=(5, 3), dpi=80)\n",
    "pl.plot(x,f)\n",
    "pl.grid()\n",
    "pl.show()\n",
    "\n",
    "p_in=17.0\n",
    "prc_g = 45.0\n",
    "bs = 0.5\n",
    "arm_g = 282.0\n",
    "\n",
    "p_arm = p_in*prc_g*bs*arm_g\n",
    "\n",
    "#s_indx = 0 + (50*30) #choose a start time a little bit after power down to get a quieter time after lockloss\n",
    "#e_indx = s_indx + 1*60*45*16  #convert index to seconds (1hour)\n",
    "\n",
    "s_indx = 650*4\n",
    "e_indx = len(t_vect)\n",
    "\n",
    "def get_abs(data,opticname):\n",
    "    \n",
    "    time_ix = t_vect[s_indx:e_indx] - t_vect[s_indx]\n",
    "    data_ix = data[s_indx:e_indx] - data[s_indx]\n",
    "\n",
    "    time_ix = time_ix/3600\n",
    "    \n",
    "    data_start_avg = np.average(data_ix[0:100])#rescale start to zero, guess\n",
    "    data_ix = data_ix - data_start_avg\n",
    "    \n",
    "    [opt,b]=scipy.optimize.curve_fit(TL,time_ix,data_ix)\n",
    "\n",
    "    arm_abs = 1e9*opt[1]/p_arm #scale to get the absorption in ppm\n",
    "    print(arm_abs)\n",
    "    perr = np.sqrt(np.diag(b))\n",
    "    print(perr)\n",
    "    \n",
    "    res = TL(time_ix,opt[0],opt[1])-data_ix\n",
    "    \n",
    "    [opt,b]=scipy.optimize.curve_fit(TL,time_ix,data_ix,sigma=1/res)\n",
    "    \n",
    "    pl.figure(figsize=(10, 8), dpi=80)\n",
    "    pl.subplot(211)\n",
    "    pl.plot(time_ix,data_ix*1e6,label=\"Data\")\n",
    "    #pl.plot(time_ix,res*1e6,label=\"Residuals\")\n",
    "    pl.plot(time_ix,TL(time_ix,opt[0],opt[1])*1e6,label=\"Comsol Model\",linewidth=3.0)\n",
    "    pl.ylabel(\"Spherical Power (uDiopters)\")\n",
    "    pl.xlabel(\"Time After Lockloss (Hours)\")\n",
    "    pl.legend()\n",
    "    #pl.title(opticname + \" Abs Estimate = \"+str(round(arm_abs,2))+\"+/-\"+str(round(1e9*rms/p_arm,2)) + \"ppb\")\n",
    "    pl.grid()\n",
    "    \n",
    "    pl.show()\n",
    "\n",
    "get_abs(ifo_dict['TCS-ITMX_HWS_PROBE_SPHERICAL_POWER'],'ITMX')\n",
    "\n",
    "get_abs(ifo_dict['TCS-ITMY_HWS_PROBE_SPHERICAL_POWER'],'ITMY')"
   ]
  }
 ],
 "metadata": {
  "kernelspec": {
   "display_name": "Python 2",
   "language": "python",
   "name": "python2"
  },
  "language_info": {
   "codemirror_mode": {
    "name": "ipython",
    "version": 2
   },
   "file_extension": ".py",
   "mimetype": "text/x-python",
   "name": "python",
   "nbconvert_exporter": "python",
   "pygments_lexer": "ipython2",
   "version": "2.7.13"
  }
 },
 "nbformat": 4,
 "nbformat_minor": 2
}
