{
 "cells": [
  {
   "cell_type": "code",
   "execution_count": 165,
   "metadata": {
    "collapsed": false
   },
   "outputs": [],
   "source": [
    "%matplotlib inline\n",
    "import pykat\n",
    "import pylab as pl\n",
    "import pandas\n",
    "import matplotlib.pyplot as plt\n",
    "import matplotlib\n",
    "import csv\n",
    "import math\n",
    "import numpy as np\n",
    "from pykat.parallel import parakat\n",
    "\n",
    "pandas.set_eng_float_format(accuracy=3, use_eng_prefix=True)"
   ]
  },
  {
   "cell_type": "code",
   "execution_count": 166,
   "metadata": {
    "collapsed": false
   },
   "outputs": [
    {
     "name": "stdout",
     "output_type": "stream",
     "text": [
      "Parsing `put lx1 L $Lmx` into pykat object not implemented yet, added as extra line.\n",
      "Parsing `put ly1 L $Lmy` into pykat object not implemented yet, added as extra line.\n"
     ]
    }
   ],
   "source": [
    "#extract the amplitude and beam profile from the input at the BS.\n",
    "\n",
    "katfile = \"aLIGO_IFO_AWC_MM.kat\"\n",
    "basekat = pykat.finesse.kat()\n",
    "basekat.loadKatFile(katfile)\n",
    "basekat.parseCommands(\"\"\"\n",
    "ad inputa 0 nPRBS\n",
    "\n",
    "bp inputxr x r nPRBS\n",
    "bp inputyr y r nPRBS\n",
    "\n",
    "bp inputxw x w nPRBS\n",
    "bp inputyw y w nPRBS\n",
    "\n",
    "\"\"\")\n",
    "\n",
    "basekat.undumpNodes() #undump the vacuum nodes\n",
    "kat=basekat.deepcopy() #copy kat code\n",
    "kat.noxaxis = True\n",
    "kat.verbose = False\n",
    "\n",
    "out = kat.run(getTraceData=True)"
   ]
  },
  {
   "cell_type": "code",
   "execution_count": 167,
   "metadata": {
    "collapsed": false
   },
   "outputs": [],
   "source": [
    "#### Extract the beam radius and curvature incident on BS\n",
    "inputxw = float(np.real(out[0]['inputxw']))\n",
    "inputxr = float(np.real(out[0]['inputxr']))\n",
    "\n",
    "inputyw = float(np.real(out[0]['inputyw']))\n",
    "inputyr = float(np.real(out[0]['inputyr']))\n",
    "\n",
    "### Calculate the input power to match real aLIGO IFO\n",
    "c = 3.0e8\n",
    "n = 1.0\n",
    "eps = 8.854e-12\n",
    "\n",
    "input_I = (float(np.absolute(out[0]['inputa'])**2)) * (c * n * eps/2 )\n",
    "           \n",
    "avg_w = (inputxw +inputyw)/2\n",
    "\n",
    "input_P = input_I * 4 *np.pi * avg_w**2"
   ]
  },
  {
   "cell_type": "code",
   "execution_count": 212,
   "metadata": {
    "collapsed": false
   },
   "outputs": [
    {
     "name": "stdout",
     "output_type": "stream",
     "text": [
      "Parsing `put lx1 L $Lmx` into pykat object not implemented yet, added as extra line.\n",
      "Parsing `put ly1 L $Lmy` into pykat object not implemented yet, added as extra line.\n"
     ]
    }
   ],
   "source": [
    "katfile1 = \"aLIGO_IFO_AWC_MM_slim.kat\"\n",
    "\n",
    "basekat1 = pykat.finesse.kat()\n",
    "basekat1.loadKatFile(katfile1)\n",
    "\n",
    "# Add cavity parameter detectors\n",
    "basekat1.parseCommands(\"\"\"\n",
    "bp itmxq x q nITMX2\n",
    "\n",
    "bp wx x w nYBS\n",
    "bp wy y w nYBS\n",
    "bp rcx x r nYBS\n",
    "bp rcy y r nYBS\n",
    "\n",
    "#cp cavOMC x w\n",
    "#cp cavOMC x w0\n",
    "#cp cavOMC x z\n",
    "#cp cavOMC x r\n",
    "#cp cavOMC x q\n",
    "#cp cavOMC x length\n",
    "#cp cavOMC x loss\n",
    "\n",
    "yaxis lin re:im\n",
    "\"\"\")\n",
    "\n",
    "\"\"\"cp cavXARM x w\n",
    "cp cavXARM x w0\n",
    "cp cavXARM x z\n",
    "cp cavXARM x r\n",
    "cp cavXARM x q\n",
    "cp cavXARM x length\n",
    "cp cavXARM x loss\n",
    "\n",
    "cp cavYARM x w\n",
    "cp cavYARM x w0\n",
    "cp cavYARM x z\n",
    "cp cavYARM x r\n",
    "cp cavYARM x q\n",
    "cp cavYARM x length\n",
    "cp cavYARM x loss\"\"\"\n",
    "\n",
    "\n",
    "#define the gaussian beam parameters incident on BS from PRM\n",
    "gauss_string = 'gauss gaussin L0 nPRBS ' + str(inputxw) + ' ' \\\n",
    "+ str(inputxr)+' '\\\n",
    "+ str(inputyw) + ' '\\\n",
    "+ str(inputyr)\n",
    "basekat1.parseCommands(gauss_string)\n",
    "\n",
    "basekat1.undumpNodes() #undump the vacuum nodes\n",
    "kat1=basekat1.deepcopy() #copy kat code\n",
    "kat1.noxaxis = True\n",
    "kat1.verbose = False\n",
    "\n",
    "#Turn off everthing except for OMC, Finesse will work very hard to get the right parameters\n",
    "#to lock the OMC.\n",
    "for cav in kat1.getAll(pykat.commands.cavity):\n",
    "    cav.enabled=False\n",
    "          \n",
    "#kat1.cavOMC.enabled=False\n",
    "kat1.cavXARM.enabled=True\n",
    "kat1.cavYARM.enabled=True\n",
    "\n",
    "\n",
    "kat1.L0._laser__power._value = input_P\n",
    "\n",
    "kat1.SRMHR.Rc = -5.6938\n",
    "out1  = kat1.run(getTraceData=True)\n",
    "\n",
    "kat1.SRMHR.Rc = 'inf'\n",
    "out2 = kat1.run(getTraceData=True)\n",
    "\n",
    "kat1.SRMHR.Rc.value = -6.0\n",
    "out3 = kat1.run(getTraceData=True)"
   ]
  },
  {
   "cell_type": "code",
   "execution_count": 192,
   "metadata": {
    "collapsed": false
   },
   "outputs": [
    {
     "name": "stdout",
     "output_type": "stream",
     "text": [
      "0.140764742971947\n",
      "(0.140764742972+0.707540463523j)\n",
      "3.69714894084054\n",
      "0.000499115038950642\n",
      "1.1314\n",
      "0.0151533625445898\n"
     ]
    }
   ],
   "source": [
    "omc_z_1 = np.real(out1[0]['cavOMC_x_z'])\n",
    "print(omc_z_1)\n",
    "\n",
    "omc_q_1 = out1[0]['cavOMC_x_q']\n",
    "print(omc_q_1)\n",
    "\n",
    "omc_r_1 = np.real(out1[0]['cavOMC_x_r'])\n",
    "print(omc_r_1)\n",
    "\n",
    "omc_w_1 = np.real(out1[0]['cavOMC_x_w'])\n",
    "print(omc_w_1)\n",
    "\n",
    "omc_l_1 = np.real(out1[0]['cavOMC_x_length'])\n",
    "print(omc_l_1)\n",
    "\n",
    "omc_l_1 = np.real(out1[0]['cavOMC_x_loss'])\n",
    "print(omc_l_1)"
   ]
  },
  {
   "cell_type": "code",
   "execution_count": 188,
   "metadata": {
    "collapsed": false
   },
   "outputs": [
    {
     "name": "stdout",
     "output_type": "stream",
     "text": [
      "(0.140764738352+0.707540452373j)\n"
     ]
    }
   ],
   "source": [
    "# doublecheck q values\n",
    "lam = 1064e-9\n",
    "pi = 3.1415926\n",
    "q_check =1/( (1/omc_r_1) - 1j * (lam/(pi*omc_w_1**2)) )\n",
    "print(q_check)"
   ]
  },
  {
   "cell_type": "code",
   "execution_count": 215,
   "metadata": {
    "collapsed": false,
    "scrolled": true
   },
   "outputs": [
    {
     "name": "stdout",
     "output_type": "stream",
     "text": [
      "(3.35258124181355+0.913594763941617j)\n",
      "(3.35258124181355+0.913594763941617j)\n",
      "(3.35258124181355+0.913594763941617j)\n"
     ]
    }
   ],
   "source": [
    "#look at nodal trace of full IFO\n",
    "print(out1[1][0]['nSRMHRa'][0].q)\n",
    "print(out2[1][0]['nSRMHRa'][0].q)\n",
    "print(out3[1][0]['nSRMHRa'][0].q)"
   ]
  },
  {
   "cell_type": "code",
   "execution_count": 214,
   "metadata": {
    "collapsed": false
   },
   "outputs": [
    {
     "name": "stdout",
     "output_type": "stream",
     "text": [
      "(3.35258124181355+0.913594763941617j)\n"
     ]
    }
   ],
   "source": [
    "print(out1[1][0]['nSRMHRa'][0].q)"
   ]
  }
 ],
 "metadata": {
  "kernelspec": {
   "display_name": "Python 3",
   "language": "python",
   "name": "python3"
  },
  "language_info": {
   "codemirror_mode": {
    "name": "ipython",
    "version": 3
   },
   "file_extension": ".py",
   "mimetype": "text/x-python",
   "name": "python",
   "nbconvert_exporter": "python",
   "pygments_lexer": "ipython3",
   "version": "3.5.1"
  }
 },
 "nbformat": 4,
 "nbformat_minor": 0
}
