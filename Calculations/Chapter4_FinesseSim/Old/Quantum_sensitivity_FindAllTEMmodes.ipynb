{
 "cells": [
  {
   "cell_type": "code",
   "execution_count": 1,
   "metadata": {
    "collapsed": false
   },
   "outputs": [
    {
     "name": "stdout",
     "output_type": "stream",
     "text": [
      "                                              ..-\n",
      "    PyKat 1.0.8           _                  '(\n",
      "                          \\`.|\\.__...-\"\"\"\"-_.\" )\n",
      "       ..+-----.._        /  ' `            .-'\n",
      "   . '            `:      7/* _/._\\    \\   (\n",
      "  (        '::;;+;;:      `-\"' =\" /,`\"\" `) /\n",
      "  L.        \\`:::a:f            c_/     n_'\n",
      "  ..`--...___`.  .    ,  \n",
      "   `^-....____:   +.      www.gwoptics.org/pykat\n",
      "\n"
     ]
    }
   ],
   "source": [
    "%matplotlib inline\n",
    "import pykat\n",
    "import pylab as pl\n",
    "import pandas\n",
    "import matplotlib.pyplot as plt\n",
    "import matplotlib\n",
    "import csv\n",
    "import math\n",
    "import numpy as np\n",
    "from pykat.parallel import parakat\n",
    "import pprint\n",
    "\n",
    "\n",
    "pandas.set_eng_float_format(accuracy=3, use_eng_prefix=True)"
   ]
  },
  {
   "cell_type": "code",
   "execution_count": 35,
   "metadata": {
    "collapsed": false,
    "scrolled": true
   },
   "outputs": [
    {
     "name": "stdout",
     "output_type": "stream",
     "text": [
      "Parsing `put lx1 L $Lmx` into pykat object not implemented yet, added as extra line.\n",
      "Parsing `put ly1 L $Lmy` into pykat object not implemented yet, added as extra line.\n",
      "--------------------------------------------------------------\n",
      "Running kat - Started at 2016-08-23 21:01:53.354735\n"
     ]
    },
    {
     "name": "stderr",
     "output_type": "stream",
     "text": [
      "\r",
      "  0% | ETA:  --:--:-- | Calculating                                            \r",
      "100% | ETA:  0:00:00 | Calculating                                             "
     ]
    },
    {
     "name": "stdout",
     "output_type": "stream",
     "text": [
      "\n",
      "Finished in 2.37365 seconds\n",
      "--------------------------------------------------------------\n",
      "Running kat - Started at 2016-08-23 21:01:55.728611\n",
      "\n",
      "Finished in 2.20919 seconds\n"
     ]
    },
    {
     "name": "stderr",
     "output_type": "stream",
     "text": [
      "\r",
      "  0% | ETA:  --:--:-- | Calculating                                            \r",
      "100% | ETA:  0:00:00 | Calculating                                             "
     ]
    }
   ],
   "source": [
    "#Perfct Mode-Matching Conditions\n",
    "\n",
    "katfile = './aLIGO_IFO_AWC_tuning_DCoff_maxtem4.kat'\n",
    "basekat = pykat.finesse.kat()\n",
    "basekat.loadKatFile(katfile)\n",
    "\n",
    "basekat.parseCommands(\"\"\"\n",
    "tf sus 1 0 p $mech_fres $mech_Q\n",
    "const mech_fres 1  # Approx. resonance frequency\n",
    "const mech_Q    1M # Guess for suspension Q factor\n",
    "\n",
    "# Differentially modulate the strain in the arms\n",
    "fsig darm  LXarm 1 0 1\n",
    "fsig darm2 LYarm 1 180 1\n",
    "\n",
    "sq sqz 0 10 0 nsqz\n",
    "\n",
    "ad testad 0 0 0 nOMC_AROC_trans\n",
    "ad testad1 1 1 0 nOMC_AROC_trans\n",
    "\n",
    "#qnoisedS NSR_with_RP    1 $fs nOMC_AROC_trans\n",
    "#xaxis darm f log 5 5k 50\n",
    "yaxis re:im\n",
    "noxaxis\n",
    "\n",
    "\"\"\")\n",
    "\n",
    "basekat.undumpNodes() #undump the vacuum nodes\n",
    "kat=basekat.deepcopy() #copy kat code\n",
    "\n",
    "trace_out = kat.run(getTraceData=True)\n",
    "\n",
    "out = kat.run()"
   ]
  },
  {
   "cell_type": "code",
   "execution_count": 36,
   "metadata": {
    "collapsed": true
   },
   "outputs": [],
   "source": [
    "# [access object][trace data]\n",
    "outdict = trace_out[1][0]\n",
    "\n",
    "#parse the output to name and q's\n",
    "dictlist = []\n",
    "for key, value in outdict.items():\n",
    "    temp = [key,value]\n",
    "    dictlist.append(temp)\n",
    "\n",
    "\n",
    "nodename_list = []\n",
    "q_x_list = []\n",
    "q_y_list = []\n",
    " \n",
    "    \n",
    "#[node_list][key/parameters][x/y]\n",
    "for i in range(len(dictlist)):\n",
    "    nodename_list.append(dictlist[i][0])\n",
    "    q_x_list.append(dictlist[i][1][0]._gauss_param__q)\n",
    "    q_y_list.append(dictlist[i][1][1]._gauss_param__q)"
   ]
  },
  {
   "cell_type": "code",
   "execution_count": 47,
   "metadata": {
    "collapsed": false
   },
   "outputs": [
    {
     "ename": "AttributeError",
     "evalue": "'kat_26' object has no attribute 'getCavities'",
     "output_type": "error",
     "traceback": [
      "\u001b[1;31m---------------------------------------------------------------------------\u001b[0m",
      "\u001b[1;31mAttributeError\u001b[0m                            Traceback (most recent call last)",
      "\u001b[1;32m<ipython-input-47-b8378922fc78>\u001b[0m in \u001b[0;36m<module>\u001b[1;34m()\u001b[0m\n\u001b[1;32m----> 1\u001b[1;33m \u001b[0mkat\u001b[0m\u001b[1;33m.\u001b[0m\u001b[0mgetCavities\u001b[0m\u001b[1;33m(\u001b[0m\u001b[1;33m)\u001b[0m\u001b[1;33m\u001b[0m\u001b[0m\n\u001b[0m",
      "\u001b[1;31mAttributeError\u001b[0m: 'kat_26' object has no attribute 'getCavities'"
     ]
    }
   ],
   "source": [
    "kat.getCavities()"
   ]
  },
  {
   "cell_type": "code",
   "execution_count": null,
   "metadata": {
    "collapsed": false
   },
   "outputs": [],
   "source": []
  },
  {
   "cell_type": "code",
   "execution_count": null,
   "metadata": {
    "collapsed": false
   },
   "outputs": [],
   "source": []
  },
  {
   "cell_type": "code",
   "execution_count": null,
   "metadata": {
    "collapsed": false
   },
   "outputs": [],
   "source": []
  },
  {
   "cell_type": "code",
   "execution_count": null,
   "metadata": {
    "collapsed": false
   },
   "outputs": [
    {
     "name": "stdout",
     "output_type": "stream",
     "text": [
      "Parsing `put lx1 L $Lmx` into pykat object not implemented yet, added as extra line.\n",
      "Parsing `put ly1 L $Lmy` into pykat object not implemented yet, added as extra line.\n",
      "ad nITMYconstL_trans00 0 0 0 nITMYconstL_trans\n",
      "Parsing `put lx1 L $Lmx` into pykat object not implemented yet, added as extra line.\n",
      "Parsing `put ly1 L $Lmy` into pykat object not implemented yet, added as extra line.\n",
      "ad nITMYconstL_trans01 0 1 0 nITMYconstL_trans\n",
      "Parsing `put lx1 L $Lmx` into pykat object not implemented yet, added as extra line.\n",
      "Parsing `put ly1 L $Lmy` into pykat object not implemented yet, added as extra line.\n",
      "ad nITMYconstL_trans02 0 2 0 nITMYconstL_trans\n",
      "Parsing `put lx1 L $Lmx` into pykat object not implemented yet, added as extra line.\n",
      "Parsing `put ly1 L $Lmy` into pykat object not implemented yet, added as extra line.\n",
      "ad nITMY110 1 0 0 nITMY1\n",
      "Parsing `put lx1 L $Lmx` into pykat object not implemented yet, added as extra line.\n",
      "Parsing `put ly1 L $Lmy` into pykat object not implemented yet, added as extra line.\n",
      "ad nITMY111 1 1 0 nITMY1\n"
     ]
    }
   ],
   "source": [
    "pk = parakat()\n",
    "\n",
    "commands = \"\"\"\n",
    "tf sus 1 0 p $mech_fres $mech_Q\n",
    "const mech_fres 1  # Approx. resonance frequency\n",
    "const mech_Q    1M # Guess for suspension Q factor\n",
    "\n",
    "# Differentially modulate the strain in the arms\n",
    "fsig darm  LXarm 1 0 1\n",
    "fsig darm2 LYarm 1 180 1\n",
    "\n",
    "sq sqz 0 10 0 nsqz\n",
    "\n",
    "#qnoisedS NSR_with_RP    1 $fs nOMC_AROC_trans\n",
    "#xaxis darm f log 5 5k 50\n",
    "yaxis re:im\n",
    "noxaxis\n",
    "\n",
    "\"\"\"\n",
    "\n",
    "#loop through higherorder modes \n",
    "for k in range(0,10,1):\n",
    "    for i in range(0,3,1):\n",
    "        for j in range(0,3,1):\n",
    "            katfile1 = './aLIGO_IFO_AWC_tuning_DCoff_maxtem4.kat'\n",
    "            basekat1 = pykat.finesse.kat()\n",
    "            basekat1.loadKatFile(katfile)\n",
    "            basekat1.parseCommands(commands)\n",
    "            \n",
    "            node = nodename_list[i]\n",
    "            name = node+str(i)+str(j)\n",
    "            ad_input = \"ad \" + name + \" \" + str(i) +  \" \" + str(j) + \" 0 \" + node\n",
    "            print(ad_input)\n",
    "            basekat1.parseCommands(ad_input)\n",
    "            basekat1.undumpNodes() #undump the vacuum nodes\n",
    "            kat1=basekat1.deepcopy() #copy kat code\n",
    "            pk.run(kat1, cmd_args=[\"-cr=on\"])\n",
    "\n",
    "outs = pk.getResults()\n",
    "pk.clear()\n",
    "pk.close()\n",
    "\n",
    "#trace_out1 = kat1.run(getTraceData=True)"
   ]
  },
  {
   "cell_type": "code",
   "execution_count": 60,
   "metadata": {
    "collapsed": false
   },
   "outputs": [
    {
     "data": {
      "text/plain": [
       "{'StartDateTime': datetime.datetime(2016, 8, 23, 21, 1, 55, 728835),\n",
       " 'katScript': '% Generated by PyKat 23.08.2016 21:01:55\\n\\n%%% FTblock Laser\\nl L0 125.0 0.0 0.0 n0\\ns lmod1 1.0 n0 n1\\nmod mod1 9099471.0 0.18 1 pm 0.0 n1 n2\\ns lmod2 1.0 n2 n3\\nmod mod2 45497355.0 0.18 1 pm 0.0 n3 n4\\ns lmod3 1.0 n4 n5\\nmod mod3 24000000.0 0.1 2 pm 0.0 n5 n6\\ns mod3toMC1 1.0 n6 nMC1in\\n%%% FTend Laser\\n\\n%%% FTblock IMC\\nbs MC1 0.9939694 0.00603 0.0 44.59 nMC1in nMC1refl nMC1trans nMC1fromMC3\\ns sMC1toMC2 16.2405708 nMC1trans nMC2in\\nbs MC2 0.9999856 5.1e-06 0.0 0.82 nMC2in nMC2refl nMC2trans dump_0\\nattr MC2 Rcx 27.275\\nattr MC2 Rcy 27.275\\ns sMC2toMC3 16.2405708 nMC2refl nMC3in\\nbs MC3 0.9941542 0.005845 0.0 44.59 nMC3in nMC3refl nMC3trans nMCreturn_refl\\ns sMC3toMC1 0.465 nMC3refl nMC1fromMC3\\ns sMC3substrate 0.0845 1.44963098985906 nMC3trans nMC3ARin\\nbs MC3AR 0.0 1.0 0.0 28.9661 nMC3ARin dump_11 nMC3ARtrans dump_12\\ns sMC3ARtoIM1 0.4282 nMC3ARtrans nIM1in\\n%%% FTend IMC\\n\\n%%% FTblock HAM2\\nbs IM1 1.0 0.0 0.0 53.0 nIM1in nIM1refl nIM1HRtrans dump_33\\ns sIM1sub 0.02995 1.44963098985906 nIM1HRtrans nIM1ARin\\nbs IM1AR 0.0 1.0 0.0 33.4 nIM1ARin dump_34 nIM1ARtrans dump_35\\ns IM1ARtonanoscan 3.0 nIM1ARtrans nIOT2Lnanoscan\\ns sIM1toAOE1 0.1955 nIM1refl nAOE1in\\nlens AOE1 inf nAOE1in nAOE1trans\\ns sAOE1toIM2 1.0983 nAOE1trans nIM2in\\nbs IM2 1.0 0.0 0.0 7.0 nIM2in nIM2refl dump_13 dump_14\\nattr IM2 Rcx 12.8\\nattr IM2 Rcy 12.8\\ns sIM2toIM3 1.1704 nIM2refl nIM3in\\nbs IM3 1.0 0.0 0.0 7.1 nIM3in nIM3refl dump_9 dump_10\\nattr IM3 Rcx -6.24\\nattr IM3 Rcy -6.24\\ns sIM3toAOE2 1.041 nIM3refl nAOE2in\\nlens AOE2 inf nAOE2in nAOE2trans\\ns sAOE2toIM4 0.134 nAOE2trans nIM4in\\nbs IM4 0.9976 0.0024 0.0 45.0 nIM4in nIM4refl nIM4trans nIM4rettrans\\ns sIM4toPRMAR 0.4135 nIM4refl nREFL\\n%%% FTend HAM2\\n\\n%%% FTblock PRC\\nm PRMAR 3.5e-05 0.9999605 0.000176707384252606 nREFL nPRMARb\\ns sPRMsub1 0.0737 1.44963098985906 nPRMARb nPRMHRa\\nm PRMHR 0.9699915 0.03 0.000176707384252606 nPRMHRa nPRMHRb\\nattr PRMHR Rcx 11.009\\nattr PRMHR Rcy 11.009\\ns lp1 16.6107 nPRMHRb nPR2a\\nbs PR2 0.9997125 0.00025 0.0 -0.79 nPR2a nPR2b nPOP dump_17\\nattr PR2 Rcx -4.545\\nattr PR2 Rcy -4.545\\ns lp2 16.1647 nPR2b nPR3a\\nbs PR3 0.9999625 0.0 0.0 0.615 nPR3a nPR3b dump_5 dump_6\\nattr PR3 Rcx 36.027\\nattr PR3 Rcy 36.027\\ns lp3 19.5381 nPR3b nPRBS\\n%%% FTend PRC\\n\\n%%% FTblock BS\\nbs BS 0.4999625 0.5 0.0 45.0 nPRBS nYBS nBSi1 nBSi3\\ns BSsub1 0.0685 1.44963098985906 nBSi1 nBSi2\\ns BSsub2 0.0684 1.44963098985906 nBSi3 nBSi4\\nbs BSAR1 5e-05 0.99995 0.0 -29.195 nBSi2 dump_24 nXBS nPOX\\nbs BSAR2 5e-05 0.99995 0.0 29.195 nBSi4 dump_31 nSRBS dump_32\\n%%% FTend BS\\n\\n%%% FTblock Yarm\\ns ly1 5.0279 nYBS nITMY11\\nlens ITMYTL 34500.0 nITMY11 nITMYTLtrans\\ns ITMYTL_null 0.0 nITMYTLtrans nITMYconstL_in\\nlens ITMYconstL inf nITMYconstL_in nITMYconstL_trans\\ns ITMYTL_null2 0.0 nITMYconstL_trans nITMY1\\nm ITMYAR 2e-05 0.99998 -4.61212424992918e-05 nITMY1 nITMYs1\\ns ITMYsub 0.2 1.44963098985906 nITMYs1 nITMYs2\\nm ITMYHR 0.9859625 0.014 -4.61212424992918e-05 nITMYs2 nITMY2\\nattr ITMYHR Rcx -1934.0\\nattr ITMYHR Rcy -1934.0\\nattr ITMYHR mass 40.0\\nattr ITMYHR zmech sus\\ns LYarm 3994.5 nITMY2 nETMY1\\nm ETMYHR 0.9999575 5e-06 -0.00175684563686189 nETMY1 nETMYs1\\nattr ETMYHR Rcx 2245.0\\nattr ETMYHR Rcy 2245.0\\nattr ETMYHR mass 40.0\\nattr ETMYHR zmech sus\\ns ETMYsub 0.2 1.44963098985906 nETMYs1 nETMYs2\\nm ETMYAR 0.0005 0.9995 -0.00175684563686189 nETMYs2 nPTY\\n%%% FTend Yarm\\n\\n%%% FTblock Xarm\\ns lx1 5.0082 nXBS nITMX11\\nlens ITMXTL 34500.0 nITMX11 nITMXTLtrans\\ns ITMXtl_null 0.0 nITMXTLtrans nITMXconstL_in\\nlens ITMXconstL inf nITMXconstL_in nITMXconstL_trans\\ns ITMXTL_null2 0.0 nITMXconstL_trans nITMX1\\nm ITMXAR 2e-05 0.99998 4.61212424992918e-05 nITMX1 nITMXs1\\ns ITMXsub 0.2 1.44963098985906 nITMXs1 nITMXs2\\nm ITMXHR 0.9859625 0.014 4.61212424992918e-05 nITMXs2 nITMX2\\nattr ITMXHR Rcx -1934.0\\nattr ITMXHR Rcy -1934.0\\nattr ITMXHR mass 40.0\\nattr ITMXHR zmech sus\\ns LXarm 3994.5 nITMX2 nETMX1\\nm ETMXHR 0.9999575 5e-06 0.00171887764890592 nETMX1 nETMXs1\\nattr ETMXHR Rcx 2245.0\\nattr ETMXHR Rcy 2245.0\\nattr ETMXHR mass 40.0\\nattr ETMXHR zmech sus\\ns ETMXsub 0.2 1.44963098985906 nETMXs1 nETMXs2\\nm ETMXAR 0.0005 0.9995 0.00171887764890592 nETMXs2 nPTX\\n%%% FTend Xarm\\n\\n%%% FTblock SRC\\ns ls3 19.3661 nSRBS nSR3b\\nbs SR3 0.9999625 0.0 0.0 0.785 nSR3b nSR3a dump_3 dump_4\\nattr SR3 Rcx 35.972841\\nattr SR3 Rcy 35.972841\\ns ls2 15.4435 nSR3a nSR2b\\nbs SR2 0.9999625 0.0 0.0 -0.87 nSR2b nSR2a dump_18 dump_19\\nattr SR2 Rcx -6.406\\nattr SR2 Rcy -6.406\\ns ls1 15.7586 nSR2a nSRMHRa\\nm SRMHR 0.6499913 0.35 90.0079280184854 nSRMHRa nSRMHRb\\nattr SRMHR Rcx -5.6938\\nattr SRMHR Rcy -5.6938\\ns SRMsub 0.0749 1.44963098985906 nSRMHRb nSRMARa\\nm SRMAR 5e-08 0.99999995 90.0079280184854 nSRMARa nSRMARb\\n%%% FTend SRC\\n\\n%%% FTblock FI\\ns lIBAin 0.491516 nSRMARb nIBAin\\nm IBA 0.0 1.0 0.0 nIBAin nIBAout\\ns lOFIin 0.16 nIBAout nOFIin\\nbs IP 0.0 1.0 0.0 0.0 nOFIin dump_7 nIPtrans dump_8\\ns lIP 0.019 1.44963098985906 nIPtrans nROTin\\nm ROTin 0.0 1.0 0.0 nROTin nROTb\\ns lROT 0.08285 1.954 nROTb nROTouta\\nm ROTout 0.0 1.0 0.0 nROTouta nOPa\\ns lOP 0.019 1.44963098985906 nOPa nOPb\\nisol* OP 100000.0 nOPd nOPb nOPc\\ns lOP2 0.0 1.44963098985906 nOPc nOPe\\nm mOFIout2 0.0 1.0 0.0 nOPe nOFIout2\\ns lOP3 0.0 1.44963098985906 nOPd nOPf\\nm mOPinterface 0.0 1.0 0.0 nOPf nOFIout\\ns lWP 0.0127 1.65846 nOFIout nWPa\\nm WP 0.0 1.0 0.0 nWPa nWPb\\ns lOBA 0.2098563 nWPb nOBAin\\nm OBA 0.0 1.0 0.0 nOBAin nOBAout\\n%%% FTend FI\\n\\n%%% FTblock FilterCavity\\ns lOP_lensFC 0.541093376854 nOFIout2 nlensFC1a\\nlens lensFC1 -0.3 nlensFC1a nlensFC1b\\ns llensFC1_lensFC2 0.234279382609 nlensFC1b nlensFC2a\\nlens lensFC2 0.55 nlensFC2a nlensFC2b\\ns llensFC_FC 0.22462724054 nlensFC2b nIMFC2\\nbs IMFC 0.999939 6.1e-05 0.0 0.0 nIMFC1 nIMFC2 nIMFC3 nIMFC4\\nattr IMFC Rcx -15.999\\nattr IMFC Rcy -15.999\\ns lFC1 16.0 nIMFC3 nEMFC1\\ns lFC2 16.0 nEMFC2 nIMFC4\\nbs EMFC 1.0 0.0 -0.000882 0.0 nEMFC1 nEMFC2 dump_15 dump_16\\nattr EMFC Rcx 15.999\\nattr EMFC Rcy 15.999\\ns lsqz_FC 0.0 nsqz nIMFC1\\n%%% FTend FilterCavity\\n\\n%%% FTblock OMCpath\\ns lom1 2.724 nOBAout nOM1a\\nbs OM1 0.9991625 0.0008 0.0 2.251 nOM1a nOM1b dump_1 dump_2\\nattr OM1 Rcx 4.6\\nattr OM1 Rcy 4.6\\ns lom2 1.395 nOM1b nOM2a\\nbs OM2 0.9999525 1e-05 0.0 4.399 nOM2a nOM2b dump_36 dump_37\\nattr OM2 Rcx 1.7058\\nattr OM2 Rcy 1.7058\\ns lom3 0.631 nOM2b nOM3a\\nbs OM3 0.9999525 1e-05 0.0 30.037 nOM3a nOM3b nOM3trans dump_25\\ns lom3omc 0.196 nOM3b nOMC_ARIC_in\\ns lomOM3trans 0.1 nOM3trans nOMC_ARIC2_in\\n%%% FTend OMCpath\\n\\n%%% FTblock OMC\\nbs OMC_ARIC 0.0 1.0 0.0 4.004 nOMC_ARIC_in dump_20 nOMC_ARIC_trans dump_21\\ns subOMC_IC 0.01078 1.44963098985906 nOMC_ARIC_trans nOMC_HRIC_in\\nbs OMC_HRIC 0.99239 0.0076 0.0 2.7609 nOMC_HRIC_in dump_30 nOMC_HRIC_trans nOMC_HRICret\\ns OMC_ICOC 0.2815 nOMC_HRIC_trans nOMC_HROC_in\\nbs OMC_HROC 0.99249 0.0075 0.0 4.004 nOMC_HROC_in nOMC_HROC_refl nOMC_HROC_trans nOMC_HROC_ret\\ns subOMC_OC 0.01078 1.44963098985906 nOMC_HROC_trans nOMC_AROC_in\\nbs OMC_AROC 0.0 1.0 0.0 2.7609 nOMC_AROC_in dump_26 nOMC_AROC_trans dump_27\\ns OMC_OCCM1 0.2842 nOMC_HROC_refl nOMC_CM1_in\\nbs OMC_CM1 0.999954 3.6e-05 0.0 4.004 nOMC_CM1_in nOMC_CM1_refl dump_28 dump_29\\nattr OMC_CM1 Rcx 2.57321\\nattr OMC_CM1 Rcy 2.57321\\ns OMC_CM1CM2 0.2815 nOMC_CM1_refl nOMC_CM2_in\\nbs OMC_CM2 0.9999541 3.59e-05 0.0 4.004 nOMC_CM2_in nOMC_CM2_refl dump_22 dump_23\\nattr OMC_CM2 Rcx 2.57369\\nattr OMC_CM2 Rcy 2.57369\\ns CM2OC 0.2842 nOMC_CM2_refl nOMC_HRICret\\n%%% FTend OMC\\n\\n%%% FTblock Lengths\\nput lx1 L $Lmx\\nput ly1 L $Lmy\\nnoplot Laver\\nfunc Laver = 57.656 - 16.6107 - 16.1647 - 19.5381\\nnoplot Lmx\\nfunc Lmx = $Laver + 0.5*0.08 - 0.06873 * 1.44963098985906 - 0.2*1.44963098985906\\nnoplot Lmy\\nfunc Lmy = $Laver - 0.2*1.44963098985906 - 0.5*0.08\\n%%% FTend Lengths\\n\\n%%% FTblock HOMs\\ncav cavIMC MC2 nMC2in MC2 nMC2refl\\ncav cavPRX PRMHR nPRMHRb ITMXHR nITMXs2\\ncav cavPRY PRMHR nPRMHRb ITMYHR nITMYs2\\ncav cavSRX SRMHR nSRMHRa ITMXHR nITMXs2\\ncav cavSRY SRMHR nSRMHRa ITMYHR nITMYs2\\ncav cavXARM ITMXHR nITMX2 ETMXHR nETMX1\\ncav cavYARM ITMYHR nITMY2 ETMYHR nETMY1\\ncav cavFC IMFC nIMFC3 IMFC nIMFC4\\ncav cavOMC OMC_HROC nOMC_HROC_refl OMC_HROC nOMC_HROC_in\\n%%% FTend HOMs\\n\\ntf sus 1.0 0.0 p 1.0 1000000.0 \\nsq sqz 0.0 10.0 0.0 nsqz\\nad testad 0 0 0 nOMC_AROC_trans\\nad testad1 1 1 0 nOMC_AROC_trans\\nfsig darm LXarm phase 1.0 0.0 1.0\\nfsig darm2 LYarm phase 1.0 180.0 1.0\\nmaxtem 4\\nnoxaxis\\nyaxis lin re:im\\ntime\\ngnuterm no\\npyterm no\\n',\n",
       " 'katVersion': '2.1\\n',\n",
       " 'runDateTime': datetime.datetime(2016, 8, 23, 21, 1, 57, 937296),\n",
       " 'runtime': 2.0859,\n",
       " 'stderr': '\\r',\n",
       " 'stdout': '\\n------------------------------------------------------------------------\\n                     FINESSE 2.1                  (build 2.1-2-gb87c29b)\\n       o_.-=.        Frequency domain INterferomEter Simulation SoftwarE\\n      (\\\\\\'\".\\\\|        16.05.2016         http://www.gwoptics.org/finesse/\\n      .>\\' (_--.      \\n   _=/d   ,^\\\\        Input file /tmp/tmpxwxf3dhw.kat,\\n  ~~ \\\\)-\\'   \\'        Output file /tmp/tmpxwxf3dhw.out,\\n     / |             Gnuplot file /tmp/tmpxwxf3dhw.gnu \\n    \\'  \\'                                        Tue Aug 23 21:01:55 2016\\n------------------------------------------------------------------------\\n Using automatic retrace\\n \\'noxaxis\\' has been set, ignoring all other xaxis commands\\n \\n computation time:  2.0859s\\n',\n",
       " 'x': array(0.0),\n",
       " 'xlabel': ' ',\n",
       " 'y': array([[  6.07384048e-04,  -3.83831463e-01,   0.00000000e+00,\n",
       "           0.00000000e+00,   5.34250000e+00,   0.00000000e+00,\n",
       "           4.99294066e+00,   0.00000000e+00,   5.01257380e+00,\n",
       "           0.00000000e+00]]),\n",
       " 'yaxis': 'lin re:im',\n",
       " 'ylabels': ['testad Re',\n",
       "  'testad Im',\n",
       "  'testad1 Re',\n",
       "  'testad1 Im',\n",
       "  'Laver Re',\n",
       "  'Laver Im',\n",
       "  'Lmx Re',\n",
       "  'Lmx Im',\n",
       "  'Lmy Re',\n",
       "  'Lmy Im']}"
      ]
     },
     "execution_count": 60,
     "metadata": {},
     "output_type": "execute_result"
    }
   ],
   "source": [
    "vars(out)"
   ]
  },
  {
   "cell_type": "code",
   "execution_count": 54,
   "metadata": {
    "collapsed": false
   },
   "outputs": [
    {
     "name": "stdout",
     "output_type": "stream",
     "text": [
      "% Generated by PyKat 23.08.2016 21:18:19\n",
      "\n",
      "%%% FTblock Laser\n",
      "l L0 125.0 0.0 0.0 n0\n",
      "s lmod1 1.0 n0 n1\n",
      "mod mod1 9099471.0 0.18 1 pm 0.0 n1 n2\n",
      "s lmod2 1.0 n2 n3\n",
      "mod mod2 45497355.0 0.18 1 pm 0.0 n3 n4\n",
      "s lmod3 1.0 n4 n5\n",
      "mod mod3 24000000.0 0.1 2 pm 0.0 n5 n6\n",
      "s mod3toMC1 1.0 n6 nMC1in\n",
      "%%% FTend Laser\n",
      "\n",
      "%%% FTblock IMC\n",
      "bs MC1 0.9939694 0.00603 0.0 44.59 nMC1in nMC1refl nMC1trans nMC1fromMC3\n",
      "s sMC1toMC2 16.2405708 nMC1trans nMC2in\n",
      "bs MC2 0.9999856 5.1e-06 0.0 0.82 nMC2in nMC2refl nMC2trans dump_0\n",
      "attr MC2 Rcx 27.275\n",
      "attr MC2 Rcy 27.275\n",
      "s sMC2toMC3 16.2405708 nMC2refl nMC3in\n",
      "bs MC3 0.9941542 0.005845 0.0 44.59 nMC3in nMC3refl nMC3trans nMCreturn_refl\n",
      "s sMC3toMC1 0.465 nMC3refl nMC1fromMC3\n",
      "s sMC3substrate 0.0845 1.44963098985906 nMC3trans nMC3ARin\n",
      "bs MC3AR 0.0 1.0 0.0 28.9661 nMC3ARin dump_11 nMC3ARtrans dump_12\n",
      "s sMC3ARtoIM1 0.4282 nMC3ARtrans nIM1in\n",
      "%%% FTend IMC\n",
      "\n",
      "%%% FTblock HAM2\n",
      "bs IM1 1.0 0.0 0.0 53.0 nIM1in nIM1refl nIM1HRtrans dump_33\n",
      "s sIM1sub 0.02995 1.44963098985906 nIM1HRtrans nIM1ARin\n",
      "bs IM1AR 0.0 1.0 0.0 33.4 nIM1ARin dump_34 nIM1ARtrans dump_35\n",
      "s IM1ARtonanoscan 3.0 nIM1ARtrans nIOT2Lnanoscan\n",
      "s sIM1toAOE1 0.1955 nIM1refl nAOE1in\n",
      "lens AOE1 inf nAOE1in nAOE1trans\n",
      "s sAOE1toIM2 1.0983 nAOE1trans nIM2in\n",
      "bs IM2 1.0 0.0 0.0 7.0 nIM2in nIM2refl dump_13 dump_14\n",
      "attr IM2 Rcx 12.8\n",
      "attr IM2 Rcy 12.8\n",
      "s sIM2toIM3 1.1704 nIM2refl nIM3in\n",
      "bs IM3 1.0 0.0 0.0 7.1 nIM3in nIM3refl dump_9 dump_10\n",
      "attr IM3 Rcx -6.24\n",
      "attr IM3 Rcy -6.24\n",
      "s sIM3toAOE2 1.041 nIM3refl nAOE2in\n",
      "lens AOE2 inf nAOE2in nAOE2trans\n",
      "s sAOE2toIM4 0.134 nAOE2trans nIM4in\n",
      "bs IM4 0.9976 0.0024 0.0 45.0 nIM4in nIM4refl nIM4trans nIM4rettrans\n",
      "s sIM4toPRMAR 0.4135 nIM4refl nREFL\n",
      "%%% FTend HAM2\n",
      "\n",
      "%%% FTblock PRC\n",
      "m PRMAR 3.5e-05 0.9999605 0.000176707384252606 nREFL nPRMARb\n",
      "s sPRMsub1 0.0737 1.44963098985906 nPRMARb nPRMHRa\n",
      "m PRMHR 0.9699915 0.03 0.000176707384252606 nPRMHRa nPRMHRb\n",
      "attr PRMHR Rcx 11.009\n",
      "attr PRMHR Rcy 11.009\n",
      "s lp1 16.6107 nPRMHRb nPR2a\n",
      "bs PR2 0.9997125 0.00025 0.0 -0.79 nPR2a nPR2b nPOP dump_17\n",
      "attr PR2 Rcx -4.545\n",
      "attr PR2 Rcy -4.545\n",
      "s lp2 16.1647 nPR2b nPR3a\n",
      "bs PR3 0.9999625 0.0 0.0 0.615 nPR3a nPR3b dump_5 dump_6\n",
      "attr PR3 Rcx 36.027\n",
      "attr PR3 Rcy 36.027\n",
      "s lp3 19.5381 nPR3b nPRBS\n",
      "%%% FTend PRC\n",
      "\n",
      "%%% FTblock BS\n",
      "bs BS 0.4999625 0.5 0.0 45.0 nPRBS nYBS nBSi1 nBSi3\n",
      "s BSsub1 0.0685 1.44963098985906 nBSi1 nBSi2\n",
      "s BSsub2 0.0684 1.44963098985906 nBSi3 nBSi4\n",
      "bs BSAR1 5e-05 0.99995 0.0 -29.195 nBSi2 dump_24 nXBS nPOX\n",
      "bs BSAR2 5e-05 0.99995 0.0 29.195 nBSi4 dump_31 nSRBS dump_32\n",
      "%%% FTend BS\n",
      "\n",
      "%%% FTblock Yarm\n",
      "s ly1 5.0279 nYBS nITMY11\n",
      "lens ITMYTL 34500.0 nITMY11 nITMYTLtrans\n",
      "s ITMYTL_null 0.0 nITMYTLtrans nITMYconstL_in\n",
      "lens ITMYconstL inf nITMYconstL_in nITMYconstL_trans\n",
      "s ITMYTL_null2 0.0 nITMYconstL_trans nITMY1\n",
      "m ITMYAR 2e-05 0.99998 -4.61212424992918e-05 nITMY1 nITMYs1\n",
      "s ITMYsub 0.2 1.44963098985906 nITMYs1 nITMYs2\n",
      "m ITMYHR 0.9859625 0.014 -4.61212424992918e-05 nITMYs2 nITMY2\n",
      "attr ITMYHR Rcx -1934.0\n",
      "attr ITMYHR Rcy -1934.0\n",
      "attr ITMYHR mass 40.0\n",
      "attr ITMYHR zmech sus\n",
      "s LYarm 3994.5 nITMY2 nETMY1\n",
      "m ETMYHR 0.9999575 5e-06 -0.00175684563686189 nETMY1 nETMYs1\n",
      "attr ETMYHR Rcx 2245.0\n",
      "attr ETMYHR Rcy 2245.0\n",
      "attr ETMYHR mass 40.0\n",
      "attr ETMYHR zmech sus\n",
      "s ETMYsub 0.2 1.44963098985906 nETMYs1 nETMYs2\n",
      "m ETMYAR 0.0005 0.9995 -0.00175684563686189 nETMYs2 nPTY\n",
      "%%% FTend Yarm\n",
      "\n",
      "%%% FTblock Xarm\n",
      "s lx1 5.0082 nXBS nITMX11\n",
      "lens ITMXTL 34500.0 nITMX11 nITMXTLtrans\n",
      "s ITMXtl_null 0.0 nITMXTLtrans nITMXconstL_in\n",
      "lens ITMXconstL inf nITMXconstL_in nITMXconstL_trans\n",
      "s ITMXTL_null2 0.0 nITMXconstL_trans nITMX1\n",
      "m ITMXAR 2e-05 0.99998 4.61212424992918e-05 nITMX1 nITMXs1\n",
      "s ITMXsub 0.2 1.44963098985906 nITMXs1 nITMXs2\n",
      "m ITMXHR 0.9859625 0.014 4.61212424992918e-05 nITMXs2 nITMX2\n",
      "attr ITMXHR Rcx -1934.0\n",
      "attr ITMXHR Rcy -1934.0\n",
      "attr ITMXHR mass 40.0\n",
      "attr ITMXHR zmech sus\n",
      "s LXarm 3994.5 nITMX2 nETMX1\n",
      "m ETMXHR 0.9999575 5e-06 0.00171887764890592 nETMX1 nETMXs1\n",
      "attr ETMXHR Rcx 2245.0\n",
      "attr ETMXHR Rcy 2245.0\n",
      "attr ETMXHR mass 40.0\n",
      "attr ETMXHR zmech sus\n",
      "s ETMXsub 0.2 1.44963098985906 nETMXs1 nETMXs2\n",
      "m ETMXAR 0.0005 0.9995 0.00171887764890592 nETMXs2 nPTX\n",
      "%%% FTend Xarm\n",
      "\n",
      "%%% FTblock SRC\n",
      "s ls3 19.3661 nSRBS nSR3b\n",
      "bs SR3 0.9999625 0.0 0.0 0.785 nSR3b nSR3a dump_3 dump_4\n",
      "attr SR3 Rcx 35.972841\n",
      "attr SR3 Rcy 35.972841\n",
      "s ls2 15.4435 nSR3a nSR2b\n",
      "bs SR2 0.9999625 0.0 0.0 -0.87 nSR2b nSR2a dump_18 dump_19\n",
      "attr SR2 Rcx -6.406\n",
      "attr SR2 Rcy -6.406\n",
      "s ls1 15.7586 nSR2a nSRMHRa\n",
      "m SRMHR 0.6499913 0.35 90.0079280184854 nSRMHRa nSRMHRb\n",
      "attr SRMHR Rcx -5.6938\n",
      "attr SRMHR Rcy -5.6938\n",
      "s SRMsub 0.0749 1.44963098985906 nSRMHRb nSRMARa\n",
      "m SRMAR 5e-08 0.99999995 90.0079280184854 nSRMARa nSRMARb\n",
      "%%% FTend SRC\n",
      "\n",
      "%%% FTblock FI\n",
      "s lIBAin 0.491516 nSRMARb nIBAin\n",
      "m IBA 0.0 1.0 0.0 nIBAin nIBAout\n",
      "s lOFIin 0.16 nIBAout nOFIin\n",
      "bs IP 0.0 1.0 0.0 0.0 nOFIin dump_7 nIPtrans dump_8\n",
      "s lIP 0.019 1.44963098985906 nIPtrans nROTin\n",
      "m ROTin 0.0 1.0 0.0 nROTin nROTb\n",
      "s lROT 0.08285 1.954 nROTb nROTouta\n",
      "m ROTout 0.0 1.0 0.0 nROTouta nOPa\n",
      "s lOP 0.019 1.44963098985906 nOPa nOPb\n",
      "isol* OP 100000.0 nOPd nOPb nOPc\n",
      "s lOP2 0.0 1.44963098985906 nOPc nOPe\n",
      "m mOFIout2 0.0 1.0 0.0 nOPe nOFIout2\n",
      "s lOP3 0.0 1.44963098985906 nOPd nOPf\n",
      "m mOPinterface 0.0 1.0 0.0 nOPf nOFIout\n",
      "s lWP 0.0127 1.65846 nOFIout nWPa\n",
      "m WP 0.0 1.0 0.0 nWPa nWPb\n",
      "s lOBA 0.2098563 nWPb nOBAin\n",
      "m OBA 0.0 1.0 0.0 nOBAin nOBAout\n",
      "%%% FTend FI\n",
      "\n",
      "%%% FTblock FilterCavity\n",
      "s lOP_lensFC 0.541093376854 nOFIout2 nlensFC1a\n",
      "lens lensFC1 -0.3 nlensFC1a nlensFC1b\n",
      "s llensFC1_lensFC2 0.234279382609 nlensFC1b nlensFC2a\n",
      "lens lensFC2 0.55 nlensFC2a nlensFC2b\n",
      "s llensFC_FC 0.22462724054 nlensFC2b nIMFC2\n",
      "bs IMFC 0.999939 6.1e-05 0.0 0.0 nIMFC1 nIMFC2 nIMFC3 nIMFC4\n",
      "attr IMFC Rcx -15.999\n",
      "attr IMFC Rcy -15.999\n",
      "s lFC1 16.0 nIMFC3 nEMFC1\n",
      "s lFC2 16.0 nEMFC2 nIMFC4\n",
      "bs EMFC 1.0 0.0 -0.000882 0.0 nEMFC1 nEMFC2 dump_15 dump_16\n",
      "attr EMFC Rcx 15.999\n",
      "attr EMFC Rcy 15.999\n",
      "s lsqz_FC 0.0 nsqz nIMFC1\n",
      "%%% FTend FilterCavity\n",
      "\n",
      "%%% FTblock OMCpath\n",
      "s lom1 2.724 nOBAout nOM1a\n",
      "bs OM1 0.9991625 0.0008 0.0 2.251 nOM1a nOM1b dump_1 dump_2\n",
      "attr OM1 Rcx 4.6\n",
      "attr OM1 Rcy 4.6\n",
      "s lom2 1.395 nOM1b nOM2a\n",
      "bs OM2 0.9999525 1e-05 0.0 4.399 nOM2a nOM2b dump_36 dump_37\n",
      "attr OM2 Rcx 1.7058\n",
      "attr OM2 Rcy 1.7058\n",
      "s lom3 0.631 nOM2b nOM3a\n",
      "bs OM3 0.9999525 1e-05 0.0 30.037 nOM3a nOM3b nOM3trans dump_25\n",
      "s lom3omc 0.196 nOM3b nOMC_ARIC_in\n",
      "s lomOM3trans 0.1 nOM3trans nOMC_ARIC2_in\n",
      "%%% FTend OMCpath\n",
      "\n",
      "%%% FTblock OMC\n",
      "bs OMC_ARIC 0.0 1.0 0.0 4.004 nOMC_ARIC_in dump_20 nOMC_ARIC_trans dump_21\n",
      "s subOMC_IC 0.01078 1.44963098985906 nOMC_ARIC_trans nOMC_HRIC_in\n",
      "bs OMC_HRIC 0.99239 0.0076 0.0 2.7609 nOMC_HRIC_in dump_30 nOMC_HRIC_trans nOMC_HRICret\n",
      "s OMC_ICOC 0.2815 nOMC_HRIC_trans nOMC_HROC_in\n",
      "bs OMC_HROC 0.99249 0.0075 0.0 4.004 nOMC_HROC_in nOMC_HROC_refl nOMC_HROC_trans nOMC_HROC_ret\n",
      "s subOMC_OC 0.01078 1.44963098985906 nOMC_HROC_trans nOMC_AROC_in\n",
      "bs OMC_AROC 0.0 1.0 0.0 2.7609 nOMC_AROC_in dump_26 nOMC_AROC_trans dump_27\n",
      "s OMC_OCCM1 0.2842 nOMC_HROC_refl nOMC_CM1_in\n",
      "bs OMC_CM1 0.999954 3.6e-05 0.0 4.004 nOMC_CM1_in nOMC_CM1_refl dump_28 dump_29\n",
      "attr OMC_CM1 Rcx 2.57321\n",
      "attr OMC_CM1 Rcy 2.57321\n",
      "s OMC_CM1CM2 0.2815 nOMC_CM1_refl nOMC_CM2_in\n",
      "bs OMC_CM2 0.9999541 3.59e-05 0.0 4.004 nOMC_CM2_in nOMC_CM2_refl dump_22 dump_23\n",
      "attr OMC_CM2 Rcx 2.57369\n",
      "attr OMC_CM2 Rcy 2.57369\n",
      "s CM2OC 0.2842 nOMC_CM2_refl nOMC_HRICret\n",
      "%%% FTend OMC\n",
      "\n",
      "%%% FTblock Lengths\n",
      "put lx1 L $Lmx\n",
      "put ly1 L $Lmy\n",
      "noplot Laver\n",
      "func Laver = 57.656 - 16.6107 - 16.1647 - 19.5381\n",
      "noplot Lmx\n",
      "func Lmx = $Laver + 0.5*0.08 - 0.06873 * 1.44963098985906 - 0.2*1.44963098985906\n",
      "noplot Lmy\n",
      "func Lmy = $Laver - 0.2*1.44963098985906 - 0.5*0.08\n",
      "%%% FTend Lengths\n",
      "\n",
      "%%% FTblock HOMs\n",
      "cav cavIMC MC2 nMC2in MC2 nMC2refl\n",
      "cav cavPRX PRMHR nPRMHRb ITMXHR nITMXs2\n",
      "cav cavPRY PRMHR nPRMHRb ITMYHR nITMYs2\n",
      "cav cavSRX SRMHR nSRMHRa ITMXHR nITMXs2\n",
      "cav cavSRY SRMHR nSRMHRa ITMYHR nITMYs2\n",
      "cav cavXARM ITMXHR nITMX2 ETMXHR nETMX1\n",
      "cav cavYARM ITMYHR nITMY2 ETMYHR nETMY1\n",
      "cav cavFC IMFC nIMFC3 IMFC nIMFC4\n",
      "cav cavOMC OMC_HROC nOMC_HROC_refl OMC_HROC nOMC_HROC_in\n",
      "%%% FTend HOMs\n",
      "\n",
      "tf sus 1.0 0.0 p 1.0 1000000.0 \n",
      "sq sqz 0.0 10.0 0.0 nsqz\n",
      "ad testad 0 0 0 nOMC_AROC_trans\n",
      "ad testad1 1 1 0 nOMC_AROC_trans\n",
      "fsig darm LXarm phase 1.0 0.0 1.0\n",
      "fsig darm2 LYarm phase 1.0 180.0 1.0\n",
      "maxtem 4\n",
      "noxaxis\n",
      "yaxis lin re:im\n",
      "printmatrix\n",
      "\n",
      "--------------------------------------------------------------\n",
      "Running kat - Started at 2016-08-23 21:18:19.236048\n"
     ]
    },
    {
     "name": "stderr",
     "output_type": "stream",
     "text": [
      "\r",
      "  0% | ETA:  --:--:-- | Calculating                                            \r",
      "100% | ETA:  0:00:00 | Calculating                                             "
     ]
    },
    {
     "name": "stdout",
     "output_type": "stream",
     "text": [
      "\n",
      "Finished in 11.8778 seconds\n"
     ]
    },
    {
     "data": {
      "text/plain": [
       "(<48330x48330 sparse matrix of type '<class 'numpy.complex128'>'\n",
       " \twith 981630 stored elements in COOrdinate format>,\n",
       " <96664x96664 sparse matrix of type '<class 'numpy.complex128'>'\n",
       " \twith 1969744 stored elements in COOrdinate format>)"
      ]
     },
     "execution_count": 54,
     "metadata": {},
     "output_type": "execute_result"
    }
   ],
   "source": [
    "kat.getMatrices()"
   ]
  },
  {
   "cell_type": "code",
   "execution_count": null,
   "metadata": {
    "collapsed": false
   },
   "outputs": [],
   "source": []
  },
  {
   "cell_type": "code",
   "execution_count": null,
   "metadata": {
    "collapsed": false
   },
   "outputs": [],
   "source": [
    "plt.figure(figsize=(14,7))\n",
    "\n",
    "\n",
    "\n",
    "plt.loglog(out.x,out['NSR_with_RP'], label='Finesse QM limited Sensitivity')\n",
    "plt.loglog(out.x,out_frozenq['NSR_with_RP'], label='Finesse QM limited Sensitivity frozen Q')\n",
    "\n",
    "plt.title('GW detector: quantum-noise limited sensitivity')\n",
    "plt.xlabel('signal frequency [Hz]')\n",
    "plt.xlim([min(out.x),max(out.x)])\n",
    "\n",
    "plt.legend()\n",
    "plt.ylabel('sensitivity [1/sqrt(Hz)]')\n",
    "plt.grid(True)"
   ]
  }
 ],
 "metadata": {
  "kernelspec": {
   "display_name": "Python 3",
   "language": "python",
   "name": "python3"
  },
  "language_info": {
   "codemirror_mode": {
    "name": "ipython",
    "version": 3
   },
   "file_extension": ".py",
   "mimetype": "text/x-python",
   "name": "python",
   "nbconvert_exporter": "python",
   "pygments_lexer": "ipython3",
   "version": "3.5.1"
  }
 },
 "nbformat": 4,
 "nbformat_minor": 0
}
