{
 "cells": [
  {
   "cell_type": "code",
   "execution_count": 1,
   "metadata": {
    "collapsed": false
   },
   "outputs": [
    {
     "name": "stdout",
     "output_type": "stream",
     "text": [
      "                                              ..-\n",
      "    PyKat 1.0.7           _                  '(\n",
      "                          \\`.|\\.__...-\"\"\"\"-_.\" )\n",
      "       ..+-----.._        /  ' `            .-'\n",
      "   . '            `:      7/* _/._\\    \\   (\n",
      "  (        '::;;+;;:      `-\"' =\" /,`\"\" `) /\n",
      "  L.        \\`:::a:f            c_/     n_'\n",
      "  ..`--...___`.  .    ,  \n",
      "   `^-....____:   +.      www.gwoptics.org/pykat\n",
      "\n"
     ]
    }
   ],
   "source": [
    "%matplotlib inline\n",
    "import pykat\n",
    "import pylab as pl\n",
    "import pandas\n",
    "import matplotlib.pyplot as plt\n",
    "import csv\n",
    "import math\n",
    "import numpy as np\n",
    "pandas.set_eng_float_format(accuracy=3, use_eng_prefix=True)"
   ]
  },
  {
   "cell_type": "code",
   "execution_count": 2,
   "metadata": {
    "collapsed": false
   },
   "outputs": [
    {
     "name": "stdout",
     "output_type": "stream",
     "text": [
      "Parsing `put lx1 L $Lmx` into pykat object not implemented yet, added as extra line.\n",
      "Parsing `put ly1 L $Lmy` into pykat object not implemented yet, added as extra line.\n",
      "--------------------------------------------------------------\n",
      "Running kat - Started at 2016-05-16 15:13:34.161597\n",
      "\u001b[91m\n",
      "--------------------------------------------------------------\n",
      "Error from Finesse:\n",
      "\u001b[1m \n",
      "Error:  AOE1  focal length must not be 0 \u001b[0m\n",
      "--------------------------------------------------------------\n",
      "\u001b[0m\n",
      "\n",
      "Finished in 0.206332 seconds\n"
     ]
    },
    {
     "ename": "SystemExit",
     "evalue": "1",
     "output_type": "error",
     "traceback": [
      "An exception has occurred, use %tb to see the full traceback.\n",
      "\u001b[1;31mSystemExit\u001b[0m\u001b[1;31m:\u001b[0m 1\n"
     ]
    },
    {
     "name": "stderr",
     "output_type": "stream",
     "text": [
      "To exit: use 'exit', 'quit', or Ctrl-D.\n"
     ]
    }
   ],
   "source": [
    "katfile = './aLIGO_IFO_AWC_tuning_DCoff_maxtem2.kat'\n",
    "basekat = pykat.finesse.kat()\n",
    "basekat.loadKatFile(katfile)\n",
    "# Don't need these things so removing them\n",
    "#basekat.removeLine(\"startnode\")\n",
    "#basekat.removeBlock('locks',True)\n",
    "#basekat.removeBlock('ASuWFS',True)\n",
    "#basekat.removeBlock('REFLWFS',True)\n",
    "\n",
    "\n",
    "# Add QM noise detectors\n",
    "basekat.parseCommands(\"\"\"\n",
    "tf sus 1 0 p $mech_fres $mech_Q\n",
    "const mech_fres 1  # Approx. resonance frequency\n",
    "const mech_Q    1M # Guess for suspension Q factor\n",
    "\n",
    "# Differentially modulate the strain in the arms\n",
    "fsig darm  LXarm 1 0 1\n",
    "fsig darm2 LYarm 1 180 1\n",
    "\n",
    "#fsig darm  ETMXHR 1 0 .5\n",
    "#fsig darm2 ETMYHR 1 180 .5\n",
    "\n",
    "qnoisedS NSR_with_RP    1 $fs nOMC_AROC_trans\n",
    "qshotS   NSR_without_RP 1 $fs nOMC_AROC_trans\n",
    "#qnoised noise    $fs nOMCout\n",
    "#pd1     signal 1 $fs nOMCout\n",
    "#pdS3 power $f1 max $f2 max $fs max nOMCout\n",
    "#pdS sense\n",
    "\n",
    "\n",
    "xaxis darm f log 5 10k 1000\n",
    "yaxis log abs\n",
    "\"\"\")\n",
    "\n",
    "basekat.undumpNodes()\n",
    "kat=basekat.deepcopy()\n",
    "\n",
    "out = kat.run()\n",
    "\n",
    "hbar=6.62606957E-34/(2.0 *np.pi)\n",
    "m = 40.\n",
    "L = 3994.5\n",
    "SQL_x = np.sqrt( 8 * hbar / ( m * (2*np.pi*out.x)**2)) / L"
   ]
  },
  {
   "cell_type": "code",
   "execution_count": null,
   "metadata": {
    "collapsed": false
   },
   "outputs": [],
   "source": [
    "gwinc_data = np.genfromtxt('./GwincOutput125W.csv', delimiter=',')\n",
    "headers = ['Freq','MirrorThermal','Newtonian','Quantum','ResGas','Seismic','SuspThermal','Total']\n",
    "\n",
    "Freq = []\n",
    "MirrorThermal = []\n",
    "Newtonian = []\n",
    "Quantum = []\n",
    "ResGas = []\n",
    "Seismic = []\n",
    "SuspThermal = []\n",
    "Total = []\n",
    "for i in range(len(gwinc_data)):\n",
    "    Freq.append(gwinc_data[i][0])\n",
    "    MirrorThermal.append(math.sqrt(gwinc_data[i][1]))\n",
    "    Newtonian.append(math.sqrt(gwinc_data[i][2]))\n",
    "    Quantum.append(math.sqrt(gwinc_data[i][3]))\n",
    "    ResGas.append(math.sqrt(gwinc_data[i][4]))\n",
    "    Seismic.append(math.sqrt(gwinc_data[i][5]))\n",
    "    SuspThermal.append(math.sqrt(gwinc_data[i][6]))\n",
    "    Total.append(math.sqrt(gwinc_data[i][7]))\n",
    "    "
   ]
  },
  {
   "cell_type": "code",
   "execution_count": null,
   "metadata": {
    "collapsed": false
   },
   "outputs": [],
   "source": [
    "plt.figure(figsize=(14,7))\n",
    "plt.loglog(out.x,out['NSR_with_RP'], label='Finesse QM limited Sensitivity')\n",
    "plt.loglog(out.x,out['NSR_without_RP'],label='Finesse ShotNoise')\n",
    "plt.loglog(out.x,SQL_x,'-.',color='k', label='SQL')\n",
    "#plt.loglog(out.x,out['power'],label='Power on PD')\n",
    "#plt.loglog(out.x,out['sense'],label='Finesse Total')\n",
    "plt.loglog(Freq,Quantum,label='GwincQM noise')\n",
    "plt.loglog(Freq,Total,label='Gwinc total noise')\n",
    "plt.title('GW detector: quantum-noise limited sensitivity')\n",
    "plt.xlabel('signal frequency [Hz]')\n",
    "plt.xlim([min(out.x),max(out.x)])\n",
    "plt.ylim([1E-24,2E-22])\n",
    "plt.legend()\n",
    "plt.ylabel('sensitivity [1/sqrt(Hz)]')\n",
    "plt.grid(True)"
   ]
  },
  {
   "cell_type": "code",
   "execution_count": null,
   "metadata": {
    "collapsed": false
   },
   "outputs": [],
   "source": [
    "kat.verbose = False\n",
    "\n",
    "basekat.parseCommands(\"\"\"\n",
    "sq sq1 0 10 0 nsqz # 10 db of squeezing\n",
    "\"\"\")\n",
    "\n",
    "basekat.undumpNodes()\n",
    "kat=basekat.deepcopy()\n",
    "\n",
    "kat.sq1.angle = 0\n",
    "out1 = kat.run()\n",
    "kat.sq1.angle = 45\n",
    "out2 = kat.run()\n",
    "kat.sq1.angle = 90\n",
    "out3 = kat.run()"
   ]
  },
  {
   "cell_type": "code",
   "execution_count": null,
   "metadata": {
    "collapsed": true
   },
   "outputs": [],
   "source": []
  },
  {
   "cell_type": "code",
   "execution_count": null,
   "metadata": {
    "collapsed": false
   },
   "outputs": [],
   "source": [
    "plt.figure(figsize=(14,7))\n",
    "plt.loglog(out1.x,out1['NSR_with_RP'], label='squeezing angle = 0')\n",
    "plt.loglog(out2.x,out2['NSR_with_RP'], label='squeezing angle = 45')\n",
    "plt.loglog(out3.x,out3['NSR_with_RP'], label='squeezing angle = 90')\n",
    "plt.loglog(out3.x,SQL_x,'-.',color='k', label='SQL')\n",
    "plt.loglog(Freq,Quantum,label='GwincQM noise')\n",
    "plt.title('GW detector: SQL and (freq. independent) squeezing')\n",
    "plt.xlabel('signal frequency [Hz]')\n",
    "plt.xlim([min(out1.x),max(out1.x)])\n",
    "plt.ylim([1e-25,1e-22])\n",
    "#plt.ylim([1e-21,1e-18])\n",
    "plt.legend()\n",
    "plt.ylabel('sensitivity [1/sqrt(Hz)]')\n",
    "plt.grid(True)"
   ]
  }
 ],
 "metadata": {
  "kernelspec": {
   "display_name": "Python 3",
   "language": "python",
   "name": "python3"
  },
  "language_info": {
   "codemirror_mode": {
    "name": "ipython",
    "version": 3
   },
   "file_extension": ".py",
   "mimetype": "text/x-python",
   "name": "python",
   "nbconvert_exporter": "python",
   "pygments_lexer": "ipython3",
   "version": "3.5.1"
  }
 },
 "nbformat": 4,
 "nbformat_minor": 0
}
