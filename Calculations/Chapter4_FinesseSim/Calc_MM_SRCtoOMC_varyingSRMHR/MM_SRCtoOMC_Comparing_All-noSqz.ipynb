{
 "cells": [
  {
   "cell_type": "code",
   "execution_count": 1,
   "metadata": {
    "collapsed": true
   },
   "outputs": [],
   "source": [
    "#Question: How does changing the SRC Eigenmode ONLY effect the QM-limited Sensitivity?\n",
    "#Question: How does changing the lensing of the beam coming from SRC effect the QM-limited Sensitivity?\n",
    "####"
   ]
  },
  {
   "cell_type": "code",
   "execution_count": 2,
   "metadata": {
    "collapsed": false
   },
   "outputs": [
    {
     "name": "stdout",
     "output_type": "stream",
     "text": [
      "                                              ..-\n",
      "    PyKat 1.0.9           _                  '(\n",
      "                          \\`.|\\.__...-\"\"\"\"-_.\" )\n",
      "       ..+-----.._        /  ' `            .-'\n",
      "   . '            `:      7/* _/._\\    \\   (\n",
      "  (        '::;;+;;:      `-\"' =\" /,`\"\" `) /\n",
      "  L.        \\`:::a:f            c_/     n_'\n",
      "  ..`--...___`.  .    ,  \n",
      "   `^-....____:   +.      www.gwoptics.org/pykat\n",
      "\n"
     ]
    }
   ],
   "source": [
    "%matplotlib inline\n",
    "import pykat\n",
    "import pykat.optics.ABCD as abcd\n",
    "from pykat.tools import modematching\n",
    "import pylab as pl\n",
    "import pandas\n",
    "import matplotlib.pyplot as plt\n",
    "import matplotlib\n",
    "import csv\n",
    "import math\n",
    "import numpy as np\n",
    "\n",
    "### My functions\n",
    "from kat_commands import *\n",
    "from MMT import modematch\n",
    "from cav_commands import *\n",
    "from load_kat_data import *\n",
    "import get_WS\n",
    "import trace_mode"
   ]
  },
  {
   "cell_type": "code",
   "execution_count": 3,
   "metadata": {
    "collapsed": true
   },
   "outputs": [],
   "source": [
    "katfile = \"aLIGO_IFO_AWC_tuning_DCoff_maxtem4_modified.kat\" "
   ]
  },
  {
   "cell_type": "code",
   "execution_count": 4,
   "metadata": {
    "collapsed": false
   },
   "outputs": [],
   "source": [
    "#load the original kat file (ie Perfect Modematching) as a reference\n",
    "basekat = pykat.finesse.kat() \n",
    "basekat.loadKatFile(katfile)\n",
    "basekat.parseCommands(darm_commands)\n",
    "basekat.parseCommands(amplitude_detectors)\n",
    "basekat.parseCommands(pds)\n",
    "#basekat.parseCommands(add_squeezing)\n",
    "basekat.parseCommands(\"maxtem \"+str(2))\n",
    "basekat.undumpNodes() #undump the vacuum nodes\n",
    "kat=basekat.deepcopy() #copy kat code\n",
    "kat.verbose = False\n",
    "\n",
    "out_perfect_mm = kat.run()\n",
    "\n",
    "SR3_Rc_orig = kat.SR3.Rc.value\n",
    "SRMHR_Rc_orig = kat.SRMHR.Rc.value\n",
    "\n",
    "#out_perfect_mm_trace = kat.run(getTraceData=True)"
   ]
  },
  {
   "cell_type": "code",
   "execution_count": 5,
   "metadata": {
    "collapsed": false
   },
   "outputs": [],
   "source": [
    "SRCTL_q_perfect_x = out_perfect_mm[\"SRCoutx\"] #q's coming out of the SRC @ the OFI\n",
    "SRCTL_q_perfect_y = out_perfect_mm[\"SRCouty\"]\n",
    "\n",
    "SRMY_q_perfect_x = out_perfect_mm[\"SRMYqx\"] #q's at the face of SRMHR\n",
    "SRMY_q_perfect_y = out_perfect_mm[\"SRMYqy\"]"
   ]
  },
  {
   "cell_type": "code",
   "execution_count": 6,
   "metadata": {
    "collapsed": false
   },
   "outputs": [],
   "source": [
    "###\n",
    "###Extract the eigenmode of SRC with offsets in SR3\n",
    "###\n",
    "\n",
    "max_offset_SR3 = .01634 #20cm Roc change in SR3 curvature\n",
    "steps = 1\n",
    "\n",
    "get_OFI_qx_wrt_OMC_list=[]\n",
    "get_OFI_qy_wrt_OMC_list=[]\n",
    "\n",
    "get_SRM_qx_wrt_cavARM_list = []\n",
    "get_SRM_qy_wrt_cavARM_list = []\n",
    "\n",
    "for i in range(0,steps,1):\n",
    "    dRc = (float(i)/steps) * max_offset_SR3\n",
    "    \n",
    "    #Add Commands\n",
    "    basekat1 = pykat.finesse.kat() \n",
    "    basekat1.loadKatFile(katfile)\n",
    "    basekat1.parseCommands(commands)\n",
    "    basekat1.parseCommands(amplitude_detectors)\n",
    "    basekat1.parseCommands(pds)\n",
    "    #basekat1.parseCommands(add_squeezing)\n",
    "    basekat1.undumpNodes()\n",
    "    basekat1.parseCommands(\"maxtem \"+str(2))\n",
    "    kat1=basekat1.deepcopy() \n",
    "    kat1.verbose = False\n",
    "    \n",
    "    # Change the SRMHR_Roc\n",
    "    SR3_Rc_new = SR3_Rc_orig + dRc\n",
    "    kat1.SR3.Rcx.value = SR3_Rc_new\n",
    "    kat1.SR3.Rcy.value = SR3_Rc_new\n",
    "\n",
    "    #Run and extract the q's at the OFI and SRMHR\n",
    "    out_new_SRM_roc = kat1.run()\n",
    "   \n",
    "    #### Extract the mode at the SRMAR w.r.t the ARM\n",
    "    for cav in kat1.getAll(pykat.commands.cavity):\n",
    "        cav.enabled = False\n",
    "    kat1.cavXARM.enabled = True\n",
    "    kat1.cavYARM.enabled = True\n",
    "    \n",
    "    get_SRM_q_wrt_cavARM = kat1.run(getTraceData=True)\n",
    "    get_SRM_qx_wrt_cavARM_list.append(get_SRM_q_wrt_cavARM[1][0]['nSRMARb'][0]._gauss_param__q)\n",
    "    get_SRM_qy_wrt_cavARM_list.append(get_SRM_q_wrt_cavARM[1][0]['nSRMARb'][1]._gauss_param__q)\n",
    "    \n",
    "    \n",
    "    #### Extract the mode at the OFI w.r.t the OMC\n",
    "    for cav in kat1.getAll(pykat.commands.cavity):\n",
    "        cav.enabled = False\n",
    "    kat1.cavOMC.enabled = True\n",
    "    get_OFI_qx_wrt_OMC = kat1.run(getTraceData=True)\n",
    "    get_OFI_qx_wrt_OMC_list.append(-np.conjugate(get_OFI_qx_wrt_OMC[1][0]['nIBAin'][0]._gauss_param__q))\n",
    "    get_OFI_qy_wrt_OMC_list.append(-np.conjugate(get_OFI_qx_wrt_OMC[1][0]['nIBAin'][1]._gauss_param__q))\n",
    "\n",
    "\n",
    "q_refin_x_list = get_SRM_qx_wrt_cavARM_list\n",
    "q_refin_y_list = get_SRM_qy_wrt_cavARM_list\n",
    "\n",
    "q_refout_x_list = get_OFI_qx_wrt_OMC_list\n",
    "q_refout_y_list = get_OFI_qy_wrt_OMC_list"
   ]
  },
  {
   "cell_type": "code",
   "execution_count": 7,
   "metadata": {
    "collapsed": false,
    "scrolled": true
   },
   "outputs": [
    {
     "name": "stdout",
     "output_type": "stream",
     "text": [
      "Successfully Mode-Matched! >99.9% overlap\n",
      "f1 is 0.3696317498932183\n",
      "f2 is -0.36950886580337755\n"
     ]
    }
   ],
   "source": [
    "darm_list = []\n",
    "freq = []\n",
    "f_overlap_SRC_to_ARM_x=[]\n",
    "f_overlap_SRC_to_ARM_y=[]\n",
    "\n",
    "f_overlap_OMC_to_ARM_x = []\n",
    "f_overlap_OMC_to_ARM_y = []\n",
    "\n",
    "basekat1 = pykat.finesse.kat() \n",
    "basekat1.loadKatFile(katfile)\n",
    "basekat1.parseCommands(darm_commands)\n",
    "basekat1.parseCommands(amplitude_detectors)\n",
    "basekat1.parseCommands(pds)\n",
    "#basekat1.parseCommands(add_squeezing)\n",
    "basekat1.parseCommands(\"maxtem \"+str(4))\n",
    "basekat1.undumpNodes()\n",
    "kat1=basekat1.deepcopy()\n",
    "kat1.verbose = False\n",
    "    \n",
    "SR3_Rc = kat.SR3.Rc\n",
    "dRc = max_offset_SR3\n",
    "    \n",
    "kat1.SR3.Rcx.value = SR3_Rc + dRc\n",
    "kat1.SR3.Rcy.value = SR3_Rc + dRc\n",
    "\n",
    "#\n",
    "#    q1   d1   f1  d2   f2  d3   q2\n",
    "#    |   <-->  |  <-->  | <-->  |\n",
    "#    | <---------- D ---------> |\n",
    "#\n",
    "\n",
    "q1 = q_refin_x_list[0]\n",
    "q2 = q_refout_x_list[0]\n",
    "D  = 0.491516 # total distance from SRC to OFI\n",
    "d1 = 0.25\n",
    "d2 = 0.0001\n",
    "d3 = D-d1-d2\n",
    "\n",
    "[f1, f2] = modematch(q1, q2, d1, d2, d3)\n",
    "\n",
    "kat1.lSRMTT1.L.value = d1\n",
    "kat1.SRMTT1.f.value = f1\n",
    "kat1.lSRMTT2.L.value = d2\n",
    "kat1.SRMTT2.f.value = f2\n",
    "kat1.lIBAin.L.value = d3\n",
    "\n",
    "out1 = kat1.run()\n",
    "\n",
    "freq.append(out1.x)\n",
    "darm_list.append(out1['NSR_with_RP'])\n",
    "kat1.saveScript(\"VarySR3_95MM_wSqz_MMTTon_maxtem4.kat\")\n",
    "\n",
    "\n",
    "#### Turn off all the cav commands except SRCY to extract the eigenmode at the BS\n",
    "[srcx,srcy] = trace_mode.from_cav_to_BS(kat1,'cavSRY')\n",
    "\n",
    "#### Turn off all the cav commands except YARM to extract the eigenmode at the BS\n",
    "[ARMx,ARMy] = trace_mode.from_cav_to_BS(kat1,'cavXARM')\n",
    "\n",
    "#### Turn off all the cav commands except OMC to extract the eigenmode at the BS\n",
    "[OMCx,OMCy] = trace_mode.from_cav_to_BS(kat1,'cavOMC')\n",
    "\n",
    "f_overlap_SRC_to_ARM_x.append(pykat.beam_param.overlap(srcx,ARMx))\n",
    "f_overlap_SRC_to_ARM_y.append(pykat.beam_param.overlap(srcy,ARMy))\n",
    "\n"
   ]
  },
  {
   "cell_type": "code",
   "execution_count": 8,
   "metadata": {
    "collapsed": false
   },
   "outputs": [
    {
     "data": {
      "text/plain": [
       "[array([  2.94275503e-22+0.j,   2.54962894e-22+0.j,   2.21054887e-22+0.j,\n",
       "          1.91770753e-22+0.j,   1.66451848e-22+0.j,   1.44540289e-22+0.j,\n",
       "          1.25561879e-22+0.j,   1.09112312e-22+0.j,   9.48459489e-23+0.j,\n",
       "          8.24666103e-23+0.j,   7.17199818e-23+0.j,   6.23873080e-23+0.j,\n",
       "          5.42801326e-23+0.j,   4.72358868e-23+0.j,   4.11141758e-23+0.j,\n",
       "          3.57936387e-23+0.j,   3.11692858e-23+0.j,   2.71502324e-23+0.j,\n",
       "          2.36577652e-23+0.j,   2.06236894e-23+0.j,   1.79889105e-23+0.j,\n",
       "          1.57022166e-23+0.j,   1.37192294e-23+0.j,   1.20014981e-23+0.j,\n",
       "          1.05157126e-23+0.j,   9.23301831e-24+0.j,   8.12841299e-24+0.j,\n",
       "          7.18021094e-24+0.j,   6.36956126e-24+0.j,   5.68000940e-24+0.j,\n",
       "          5.09709624e-24+0.j,   4.60799464e-24+0.j,   4.20119075e-24+0.j,\n",
       "          3.86622342e-24+0.j,   3.59349648e-24+0.j,   3.37417225e-24+0.j,\n",
       "          3.20014158e-24+0.j,   3.06404915e-24+0.j,   2.95934260e-24+0.j,\n",
       "          2.88031348e-24+0.j,   2.82210823e-24+0.j,   2.78070107e-24+0.j,\n",
       "          2.75283344e-24+0.j,   2.73593093e-24+0.j,   2.72801023e-24+0.j,\n",
       "          2.72758669e-24+0.j,   2.73358910e-24+0.j,   2.74528567e-24+0.j,\n",
       "          2.76222227e-24+0.j,   2.78417250e-24+0.j,   2.81109847e-24+0.j,\n",
       "          2.84312089e-24+0.j,   2.88049688e-24+0.j,   2.92360471e-24+0.j,\n",
       "          2.97293481e-24+0.j,   3.02908747e-24+0.j,   3.09277734e-24+0.j,\n",
       "          3.16483917e-24+0.j,   3.24618190e-24+0.j,   3.33737658e-24+0.j,\n",
       "          3.43691841e-24+0.j,   3.54160650e-24+0.j,   3.65724356e-24+0.j,\n",
       "          3.78992846e-24+0.j,   3.93922303e-24+0.j,   4.10475232e-24+0.j,\n",
       "          4.28706909e-24+0.j,   4.48710776e-24+0.j,   4.70591012e-24+0.j,\n",
       "          4.94452970e-24+0.j,   5.20454313e-24+0.j,   5.49657348e-24+0.j,\n",
       "          5.84222595e-24+0.j,   6.17776333e-24+0.j,   6.53794495e-24+0.j,\n",
       "          6.93143948e-24+0.j,   7.35893986e-24+0.j,   7.82185935e-24+0.j,\n",
       "          8.32215242e-24+0.j,   8.86210952e-24+0.j,   9.44427832e-24+0.j,\n",
       "          1.00714386e-23+0.j,   1.07465992e-23+0.j,   1.14730048e-23+0.j,\n",
       "          1.22541482e-23+0.j,   1.30937858e-23+0.j,   1.39959552e-23+0.j,\n",
       "          1.49649951e-23+0.j,   1.60055662e-23+0.j,   1.71226754e-23+0.j,\n",
       "          1.83217004e-23+0.j,   1.96084173e-23+0.j,   2.09890295e-23+0.j,\n",
       "          2.24701999e-23+0.j,   2.40590845e-23+0.j,   2.57633689e-23+0.j,\n",
       "          2.75913078e-23+0.j,   2.95517649e-23+0.j,   3.16542594e-23+0.j,\n",
       "          3.39090036e-23+0.j,   3.63269508e-23+0.j])]"
      ]
     },
     "execution_count": 8,
     "metadata": {},
     "output_type": "execute_result"
    }
   ],
   "source": [
    "darm_list"
   ]
  },
  {
   "cell_type": "code",
   "execution_count": 9,
   "metadata": {
    "collapsed": false
   },
   "outputs": [],
   "source": [
    "###\n",
    "###Extract the eigenmode of SRC with offsets in SRMHR\n",
    "###\n",
    "\n",
    "SRMRoc_offset = []\n",
    "max_offset = .4661 #50cm Roc change in SRM curvature\n",
    "steps = 1\n",
    "\n",
    "get_OFI_qx_wrt_OMC_list=[]\n",
    "get_OFI_qy_wrt_OMC_list=[]\n",
    "\n",
    "get_SRM_qx_wrt_cavARM_list = []\n",
    "get_SRM_qy_wrt_cavARM_list = []\n",
    "\n",
    "\n",
    "for i in range(0,steps,1):\n",
    "    dRc = (float(i)/steps) * max_offset\n",
    "    SRMRoc_offset.append(dRc)\n",
    "    \n",
    "    #Add Commands\n",
    "    basekat1 = pykat.finesse.kat() \n",
    "    basekat1.loadKatFile(katfile)\n",
    "    basekat1.parseCommands(commands)\n",
    "    basekat1.parseCommands(amplitude_detectors)\n",
    "    basekat1.parseCommands(pds)\n",
    "    basekat1.parseCommands(\"maxtem \"+str(2))\n",
    "    #basekat1.parseCommands(add_squeezing)\n",
    "    basekat1.undumpNodes()\n",
    "    kat1=basekat1.deepcopy() \n",
    "    kat1.verbose = False\n",
    "    \n",
    "    # Change the SRMHR_Roc\n",
    "    SRMHR_Rc_new = SRMHR_Rc_orig + dRc\n",
    "    kat1.SRMHR.Rcx.value = SRMHR_Rc_new\n",
    "    kat1.SRMHR.Rcy.value = SRMHR_Rc_new\n",
    "\n",
    "    #Run and extract the q's at the OFI and SRMHR\n",
    "    out_new_SRM_roc = kat1.run()\n",
    "\n",
    "    #### Extract the mode at the SRMAR w.r.t the ARM\n",
    "    for cav in kat1.getAll(pykat.commands.cavity):\n",
    "        cav.enabled = False\n",
    "    kat1.cavXARM.enabled = True\n",
    "    kat1.cavYARM.enabled = True\n",
    "\n",
    "    get_SRM_q_wrt_cavARM = kat1.run(getTraceData=True)\n",
    "    get_SRM_qx_wrt_cavARM_list.append(get_SRM_q_wrt_cavARM[1][0]['nSRMARb'][0]._gauss_param__q)\n",
    "    get_SRM_qy_wrt_cavARM_list.append(get_SRM_q_wrt_cavARM[1][0]['nSRMARb'][1]._gauss_param__q)\n",
    "\n",
    "\n",
    "    #### Extract the mode at the OFI w.r.t the OMC\n",
    "    for cav in kat1.getAll(pykat.commands.cavity):\n",
    "        cav.enabled = False\n",
    "    kat1.cavOMC.enabled = True\n",
    "    get_OFI_qx_wrt_OMC = kat1.run(getTraceData=True)\n",
    "    get_OFI_qx_wrt_OMC_list.append(-np.conjugate(get_OFI_qx_wrt_OMC[1][0]['nIBAin'][0]._gauss_param__q))\n",
    "    get_OFI_qy_wrt_OMC_list.append(-np.conjugate(get_OFI_qx_wrt_OMC[1][0]['nIBAin'][1]._gauss_param__q))\n",
    "\n",
    "\n",
    "q_refin_x_list = get_SRM_qx_wrt_cavARM_list\n",
    "q_refin_y_list = get_SRM_qy_wrt_cavARM_list\n",
    "\n",
    "q_refout_x_list = get_OFI_qx_wrt_OMC_list\n",
    "q_refout_y_list = get_OFI_qy_wrt_OMC_list"
   ]
  },
  {
   "cell_type": "code",
   "execution_count": 10,
   "metadata": {
    "collapsed": false
   },
   "outputs": [
    {
     "data": {
      "text/plain": [
       "[(-3.0384235724512698+1.11364877778933j)]"
      ]
     },
     "execution_count": 10,
     "metadata": {},
     "output_type": "execute_result"
    }
   ],
   "source": [
    "get_OFI_qx_wrt_OMC_list"
   ]
  },
  {
   "cell_type": "code",
   "execution_count": 11,
   "metadata": {
    "collapsed": false
   },
   "outputs": [
    {
     "data": {
      "text/plain": [
       "[(-3.0384235724512698+1.11364877778933j)]"
      ]
     },
     "execution_count": 11,
     "metadata": {},
     "output_type": "execute_result"
    }
   ],
   "source": [
    "get_OFI_qx_wrt_OMC_list"
   ]
  },
  {
   "cell_type": "code",
   "execution_count": 12,
   "metadata": {
    "collapsed": false
   },
   "outputs": [
    {
     "name": "stdout",
     "output_type": "stream",
     "text": [
      "0.4661\n",
      "Successfully Mode-Matched! >99.9% overlap\n",
      "f1 is 0.3696317498932183\n",
      "f2 is -0.36950886580337755\n"
     ]
    }
   ],
   "source": [
    "# Finally, we use the q_in and q_out to create an anti-lensing effect with a telescoping array between\n",
    "# the SRM and OFI\n",
    "\n",
    "basekat3 = pykat.finesse.kat() \n",
    "basekat3.loadKatFile(katfile)\n",
    "basekat3.parseCommands(darm_commands)\n",
    "basekat3.parseCommands(amplitude_detectors)\n",
    "basekat3.parseCommands(\"maxtem \"+str(4))\n",
    "basekat3.parseCommands(pds)\n",
    "#basekat3.parseCommands(add_squeezing)\n",
    "basekat3.undumpNodes()\n",
    "kat3=basekat3.deepcopy()\n",
    "kat3.verbose = False\n",
    "\n",
    "\n",
    "SRMHR_Rc = kat.SRMHR.Rc\n",
    "dRc = max_offset\n",
    "print(dRc)\n",
    "kat3.SRMHR.Rcx.value = SRMHR_Rc + dRc\n",
    "kat3.SRMHR.Rcy.value = SRMHR_Rc + dRc\n",
    "\n",
    "#\n",
    "#    q1   d1   f1  d2   f2  d3   q2\n",
    "#    |   <-->  |  <-->  | <-->  |\n",
    "#    | <---------- D ---------> |\n",
    "#\n",
    "\n",
    "q1 = q_refin_x_list[0]\n",
    "q2 = q_refout_x_list[0]\n",
    "D  = 0.491516 # total distance from SRC to OFI\n",
    "d1 = 0.25\n",
    "d2 = 0.0001\n",
    "d3 = D-d1-d2\n",
    "\n",
    "[f1, f2] = modematch(q1, q2, d1, d2, d3)\n",
    "\n",
    "kat3.lSRMTT1.L.value = d1\n",
    "kat3.SRMTT1.f.value = f1\n",
    "kat3.lSRMTT2.L.value = d2\n",
    "kat3.SRMTT2.f.value = f2\n",
    "kat3.lIBAin.L.value = d3\n",
    "\n",
    "out3 = kat3.run()\n",
    "\n",
    "freq.append(out3.x)\n",
    "darm_list.append(out3['NSR_with_RP'])\n",
    "kat3.saveScript(\"VarySRM_95MM_wSqz_MMTTon_maxtem4.kat\")\n",
    "\n",
    "#### Turn off all the cav commands except SRCY to extract the eigenmode at the BS\n",
    "[srcx,srcy] = trace_mode.from_cav_to_BS(kat3,'cavSRY')\n",
    "\n",
    "#### Turn off all the cav commands except YARM to extract the eigenmode at the BS\n",
    "[ARMx,ARMy] = trace_mode.from_cav_to_BS(kat3,'cavXARM')\n",
    "\n",
    "#### Turn off all the cav commands except OMC to extract the eigenmode at the BS\n",
    "[OMCx,OMCy] = trace_mode.from_cav_to_BS(kat3,'cavOMC')\n",
    "\n",
    "f_overlap_SRC_to_ARM_x.append(pykat.beam_param.overlap(srcx,ARMx))\n",
    "f_overlap_SRC_to_ARM_y.append(pykat.beam_param.overlap(srcy,ARMy))\n",
    "\n"
   ]
  },
  {
   "cell_type": "code",
   "execution_count": 13,
   "metadata": {
    "collapsed": false
   },
   "outputs": [
    {
     "data": {
      "text/plain": [
       "[0.9500514484454374, 0.9500002660761544]"
      ]
     },
     "execution_count": 13,
     "metadata": {},
     "output_type": "execute_result"
    }
   ],
   "source": [
    "f_overlap_SRC_to_ARM_x"
   ]
  },
  {
   "cell_type": "code",
   "execution_count": 24,
   "metadata": {
    "collapsed": false
   },
   "outputs": [
    {
     "data": {
      "text/plain": [
       "0.3696317498932183"
      ]
     },
     "execution_count": 24,
     "metadata": {},
     "output_type": "execute_result"
    }
   ],
   "source": [
    "kat3.SRMTT1.f.value"
   ]
  },
  {
   "cell_type": "code",
   "execution_count": 15,
   "metadata": {
    "collapsed": true
   },
   "outputs": [],
   "source": [
    "###\n",
    "###Extract the eigenmode of SRC with offsets in SRMHR\n",
    "###\n",
    "\n",
    "MMTL_f_offset = []\n",
    "max_offset = 130 #20 microdiopters variance\n",
    "steps = 1\n",
    "\n",
    "        \n",
    "for i in range(0,steps,1):\n",
    "    df = (float(i)/steps) * max_offset\n",
    "    MMTL_f_offset.append(df)\n",
    "    \n",
    "    #Add Commands\n",
    "    basekat1 = pykat.finesse.kat() \n",
    "    basekat1.loadKatFile(katfile)\n",
    "    basekat1.parseCommands(darm_commands)\n",
    "    basekat1.parseCommands(amplitude_detectors)\n",
    "    basekat1.parseCommands(pds)\n",
    "    #basekat1.parseCommands(add_squeezing)\n",
    "    basekat1.parseCommands(\"maxtem \"+str(4))\n",
    "    basekat1.undumpNodes()\n",
    "    kat1=basekat1.deepcopy() \n",
    "    kat1.verbose = False\n",
    "    \n",
    "    # Change the SRMTT f \n",
    "    kat1.SRMTT1.f.value = 26.85\n",
    "\n",
    "    #Run and extract the q's at the OFI and SRMHR\n",
    "    out_new = kat1.run()\n",
    "    freq.append(out_new.x)\n",
    "    darm_list.append(out_new['NSR_with_RP'])\n",
    "    kat1.saveScript(\"VaryMMTT_95MM_wSqz_MMTTon_maxtem4.kat\")\n",
    "    #### Turn off all the cav commands except SRCY to extract the eigenmode at the BS\n",
    "    [srcx,srcy] = trace_mode.from_cav_to_BS(kat1,'cavSRY')\n",
    "    \n",
    "    #### Turn off all the cav commands except YARM to extract the eigenmode at the BS\n",
    "    [ARMx,ARMy] = trace_mode.from_cav_to_BS(kat1,'cavXARM')\n",
    "\n",
    "    #### Turn off all the cav commands except OMC to extract the eigenmode at the BS\n",
    "    [OMCx,OMCy] = trace_mode.from_cav_to_BS(kat1,'cavOMC')\n",
    "\n",
    "    f_overlap_SRC_to_ARM_x.append(pykat.beam_param.overlap(srcx,ARMx))\n",
    "    f_overlap_SRC_to_ARM_y.append(pykat.beam_param.overlap(srcy,ARMy))\n",
    "\n",
    "    f_overlap_OMC_to_ARM_x.append(pykat.beam_param.overlap(OMCx,ARMx))\n",
    "    f_overlap_OMC_to_ARM_y.append(pykat.beam_param.overlap(OMCy,ARMy))\n",
    "\n"
   ]
  },
  {
   "cell_type": "code",
   "execution_count": 23,
   "metadata": {
    "collapsed": false
   },
   "outputs": [
    {
     "data": {
      "text/plain": [
       "26.85"
      ]
     },
     "execution_count": 23,
     "metadata": {},
     "output_type": "execute_result"
    }
   ],
   "source": [
    "kat1.SRMTT1.f.value"
   ]
  },
  {
   "cell_type": "code",
   "execution_count": 17,
   "metadata": {
    "collapsed": false
   },
   "outputs": [],
   "source": [
    "darm_dict = {'perfect': out_perfect_mm['NSR_with_RP'], 'Varying SR3 to 95% MM': darm_list[0]\\\n",
    "      ,'Varying SRM to 95% MM': darm_list[1],'Varying MMT to 95% MM(between OMC and Arms)': darm_list[2]}"
   ]
  },
  {
   "cell_type": "code",
   "execution_count": 18,
   "metadata": {
    "collapsed": false
   },
   "outputs": [],
   "source": [
    "varyMMT_data_maxtem6 = np.loadtxt('./HigherOrderSims/VaryMMTT_95MM_wSqz_MMTTon_maxtem6.out',comments='%')\n",
    "varyMMT_data_maxtem6_freq,varyMMT_data_maxtex6_darm= load(varyMMT_data_maxtem6)\n",
    "\n",
    "varyMMT_data_maxtem8 = np.loadtxt('./HigherOrderSims/VaryMMTT_95MM_wSqz_MMTTon_maxtem8.out',comments='%')\n",
    "varyMMT_data_maxtem8_freq,varyMMT_data_maxtex8_darm= load(varyMMT_data_maxtem8)\n",
    "\n",
    "varyMMT_data_maxtem10 = np.loadtxt('./HigherOrderSims/VaryMMTT_95MM_wSqz_MMTTon_maxtem10.out',comments='%')\n",
    "varyMMT_data_maxtem10_freq,varyMMT_data_maxtex10_darm= load(varyMMT_data_maxtem10)\n",
    "\n",
    "varySRM_data_maxtem6 = np.loadtxt('./HigherOrderSims/VarySRM_95MM_wSqz_MMTTon_maxtem6.out',comments='%')\n",
    "varySRM_data_maxtem6_freq,varySRM_data_maxtex6_darm= load(varySRM_data_maxtem6)\n",
    "\n",
    "varySRM_data_maxtem8 = np.loadtxt('./HigherOrderSims/VarySRM_95MM_wSqz_MMTTon_maxtem8.out',comments='%')\n",
    "varySRM_data_maxtem8_freq,varySRM_data_maxtex8_darm= load(varySRM_data_maxtem8)\n",
    "\n",
    "varySRM_data_maxtem10 = np.loadtxt('./HigherOrderSims/VarySRM_95MM_wSqz_MMTTon_maxtem10.out',comments='%')\n",
    "varySRM_data_maxtem10_freq,varySRM_data_maxtex10_darm= load(varySRM_data_maxtem10)\n",
    "\n",
    "varySR3_data_maxtem6 = np.loadtxt('./HigherOrderSims/VarySR3_95MM_wSqz_MMTTon_maxtem6.out',comments='%')\n",
    "varySR3_data_maxtem6_freq,varySR3_data_maxtex6_darm= load(varySR3_data_maxtem6)\n",
    "\n",
    "varySR3_data_maxtem8 = np.loadtxt('./HigherOrderSims/VarySR3_95MM_wSqz_MMTTon_maxtem8.out',comments='%')\n",
    "varySR3_data_maxtem8_freq,varySR3_data_maxtex8_darm= load(varySR3_data_maxtem8)\n",
    "\n",
    "varySR3_data_maxtem10 = np.loadtxt('./HigherOrderSims/VarySR3_95MM_wSqz_MMTTon_maxtem10.out',comments='%')\n",
    "varySR3_data_maxtem10_freq,varySR3_data_maxtex10_darm= load(varySR3_data_maxtem10)"
   ]
  },
  {
   "cell_type": "code",
   "execution_count": 19,
   "metadata": {
    "collapsed": false,
    "scrolled": false
   },
   "outputs": [
    {
     "data": {
      "text/plain": [
       "'pl.figure(figsize=(18, 10), dpi=80)\\n\\n\\npl.subplot(111)\\n#pl.loglog(freq[0], np.real(darm_dict[\\'perfect\\']),linewidth=3, label=\\'Perfect\\')\\npl.loglog(freq[0], np.real(darm_dict[\\'Varying SR3 to 95% MM\\']),linewidth=3,label=\\'Varying SR3 to 95% MM maxtem4\\')\\npl.loglog(varySR3_data_maxtem6_freq, varySR3_data_maxtex6_darm,linewidth=3,label=\\'Varying SR3 to 95% MM maxtem6\\')\\npl.loglog(varySR3_data_maxtem8_freq, varySR3_data_maxtex8_darm,linewidth=3,label=\\'Varying SR3 to 95% MM maxtem8\\')\\npl.loglog(varySR3_data_maxtem10_freq, varySR3_data_maxtex10_darm,linewidth=3,label=\\'Varying SR3 to 95% MM maxtem10\\')\\n\\n\\npl.loglog(freq[0], np.real(darm_dict[\\'Varying SRM to 95% MM\\']),\\'o-\\',linewidth=3,label=\\'Varying SRM to 95% MM maxtem4\\')\\npl.loglog(varySRM_data_maxtem6_freq, varySRM_data_maxtex6_darm,\\'o-\\',linewidth=3,label=\\'Varying SRM to 95% MM maxtem6\\')\\npl.loglog(varySRM_data_maxtem8_freq, varySRM_data_maxtex8_darm,\\'o-\\',linewidth=3,label=\\'Varying SRM to 95% MM maxtem8\\')\\npl.loglog(varySRM_data_maxtem10_freq, varySRM_data_maxtex10_darm,\\'o-\\',linewidth=3,label=\\'Varying SRM to 95% MM maxtem10\\')\\n\\n\\n#pl.loglog(freq[0], np.real(darm_dict[\\'Varying MMT to 95% MM(between OMC and Arms)\\']),linewidth=3#          ,label=\\'Varying MMT to 95% MM(between OMC and Arms)\\')\\n\\n\\n#pl.title(\"QN-Limited Varying SR3 w/10Db Sqz\",fontsize=30)\\npl.xlim(freq[0].min(),freq[0].max())\\npl.ylim(7e-25,1e-22)\\n\\npl.xlabel(\"Frequency [Hz]\",fontsize=30)\\npl.ylabel(\"Strain sensitivity [$1/\\\\sqrt{\\\\mathrm{Hz}}$]\",fontsize=30)\\n\\n###Main plot formatting\\npl.tick_params(labelsize=20)\\npl.grid(True, zorder=-1)\\npl.legend(fontsize=20)\\n\\npl.savefig(\"ht_varyingCompareSR3SRMmaxTEM.png\")\\n\\npl.show()\\n'"
      ]
     },
     "execution_count": 19,
     "metadata": {},
     "output_type": "execute_result"
    }
   ],
   "source": [
    "\"\"\"pl.figure(figsize=(18, 10), dpi=80)\n",
    "\n",
    "\n",
    "pl.subplot(111)\n",
    "#pl.loglog(freq[0], np.real(darm_dict['perfect']),linewidth=3, label='Perfect')\n",
    "pl.loglog(freq[0], np.real(darm_dict['Varying SR3 to 95% MM']),linewidth=3,label='Varying SR3 to 95% MM maxtem4')\n",
    "pl.loglog(varySR3_data_maxtem6_freq, varySR3_data_maxtex6_darm,linewidth=3,label='Varying SR3 to 95% MM maxtem6')\n",
    "pl.loglog(varySR3_data_maxtem8_freq, varySR3_data_maxtex8_darm,linewidth=3,label='Varying SR3 to 95% MM maxtem8')\n",
    "pl.loglog(varySR3_data_maxtem10_freq, varySR3_data_maxtex10_darm,linewidth=3,label='Varying SR3 to 95% MM maxtem10')\n",
    "\n",
    "\n",
    "pl.loglog(freq[0], np.real(darm_dict['Varying SRM to 95% MM']),'o-',linewidth=3,label='Varying SRM to 95% MM maxtem4')\n",
    "pl.loglog(varySRM_data_maxtem6_freq, varySRM_data_maxtex6_darm,'o-',linewidth=3,label='Varying SRM to 95% MM maxtem6')\n",
    "pl.loglog(varySRM_data_maxtem8_freq, varySRM_data_maxtex8_darm,'o-',linewidth=3,label='Varying SRM to 95% MM maxtem8')\n",
    "pl.loglog(varySRM_data_maxtem10_freq, varySRM_data_maxtex10_darm,'o-',linewidth=3,label='Varying SRM to 95% MM maxtem10')\n",
    "\n",
    "\n",
    "#pl.loglog(freq[0], np.real(darm_dict['Varying MMT to 95% MM(between OMC and Arms)']),linewidth=3\\\n",
    "#          ,label='Varying MMT to 95% MM(between OMC and Arms)')\n",
    "\n",
    "\n",
    "#pl.title(\"QN-Limited Varying SR3 w/10Db Sqz\",fontsize=30)\n",
    "pl.xlim(freq[0].min(),freq[0].max())\n",
    "pl.ylim(7e-25,1e-22)\n",
    "\n",
    "pl.xlabel(\"Frequency [Hz]\",fontsize=30)\n",
    "pl.ylabel(\"Strain sensitivity [$1/\\\\sqrt{\\mathrm{Hz}}$]\",fontsize=30)\n",
    "\n",
    "###Main plot formatting\n",
    "pl.tick_params(labelsize=20)\n",
    "pl.grid(True, zorder=-1)\n",
    "pl.legend(fontsize=20)\n",
    "\n",
    "pl.savefig(\"ht_varyingCompareSR3SRMmaxTEM.png\")\n",
    "\n",
    "pl.show()\n",
    "\"\"\"\n"
   ]
  },
  {
   "cell_type": "code",
   "execution_count": 20,
   "metadata": {
    "collapsed": false,
    "scrolled": false
   },
   "outputs": [
    {
     "data": {
      "image/png": "[encoded data removed]",
      "text/plain": [
       "<matplotlib.figure.Figure at 0x7f6456db9630>"
      ]
     },
     "metadata": {},
     "output_type": "display_data"
    }
   ],
   "source": [
    "pl.figure(figsize=(18, 10), dpi=80)\n",
    "\n",
    "\n",
    "pl.subplot(111)\n",
    "\n",
    "\n",
    "pl.loglog(freq[0], np.real(darm_dict['perfect']),linewidth=3, label='Perfect')\n",
    "pl.loglog(freq[0], np.real(darm_dict['Varying MMT to 95% MM(between OMC and Arms)']),linewidth=3\\\n",
    "          ,label='Varying MMT to 95% MM(between OMC and Arms)')\n",
    "pl.loglog(freq[0], np.real(darm_dict['Varying SR3 to 95% MM']),linewidth=3,label='Varying SR3 to 95% MM maxtem4')\n",
    "pl.loglog(freq[0], np.real(darm_dict['Varying SRM to 95% MM']),'o-',linewidth=3,label='Varying SRM to 95% MM maxtem4')\n",
    "\n",
    "\n",
    "pl.xlim(freq[0].min(),freq[0].max())\n",
    "pl.ylim(3e-25,1e-22)\n",
    "\n",
    "pl.xlabel(\"Frequency [Hz]\",fontsize=30)\n",
    "pl.ylabel(\"Strain sensitivity [$1/\\\\sqrt{\\mathrm{Hz}}$]\",fontsize=30)\n",
    "\n",
    "###Main plot formatting\n",
    "pl.tick_params(labelsize=20)\n",
    "pl.grid(True, zorder=-1)\n",
    "pl.legend(fontsize=20)\n",
    "\n",
    "pl.savefig(\"ht_varyingCompareAll_noSqz.png\")\n",
    "\n",
    "pl.show()\n"
   ]
  },
  {
   "cell_type": "code",
   "execution_count": null,
   "metadata": {
    "collapsed": false
   },
   "outputs": [],
   "source": []
  },
  {
   "cell_type": "code",
   "execution_count": null,
   "metadata": {
    "collapsed": false
   },
   "outputs": [],
   "source": []
  }
 ],
 "metadata": {
  "kernelspec": {
   "display_name": "Python 3",
   "language": "python",
   "name": "python3"
  },
  "language_info": {
   "codemirror_mode": {
    "name": "ipython",
    "version": 3
   },
   "file_extension": ".py",
   "mimetype": "text/x-python",
   "name": "python",
   "nbconvert_exporter": "python",
   "pygments_lexer": "ipython3",
   "version": "3.5.1"
  }
 },
 "nbformat": 4,
 "nbformat_minor": 0
}
