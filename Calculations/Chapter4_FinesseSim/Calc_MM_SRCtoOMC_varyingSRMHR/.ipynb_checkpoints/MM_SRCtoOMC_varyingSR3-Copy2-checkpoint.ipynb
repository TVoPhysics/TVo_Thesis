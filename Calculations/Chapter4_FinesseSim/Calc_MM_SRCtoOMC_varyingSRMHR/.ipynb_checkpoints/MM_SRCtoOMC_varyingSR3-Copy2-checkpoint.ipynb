{
 "cells": [
  {
   "cell_type": "code",
   "execution_count": 93,
   "metadata": {
    "collapsed": true
   },
   "outputs": [],
   "source": [
    "####\n",
    "#Question: How does changing the SRC Eigenmode ONLY effect the QM-limited Sensitivity?\n",
    "#Question: How does changing the lensing of the beam coming from SRC effect the QM-limited Sensitivity?\n",
    "####"
   ]
  },
  {
   "cell_type": "code",
   "execution_count": 94,
   "metadata": {
    "collapsed": false
   },
   "outputs": [],
   "source": [
    "%matplotlib inline\n",
    "import pykat\n",
    "import pykat.optics.ABCD as abcd\n",
    "from pykat.tools import modematching\n",
    "import pylab as pl\n",
    "import pandas\n",
    "import matplotlib.pyplot as plt\n",
    "import matplotlib\n",
    "import csv\n",
    "import math\n",
    "import numpy as np\n",
    "from finding_f_TL import *\n",
    "#from pykat.parallel import parakat\n",
    "#import pykat.optics.gaussian_beams as gb\n",
    "\n",
    "\n",
    "pandas.set_eng_float_format(accuracy=3, use_eng_prefix=True)"
   ]
  },
  {
   "cell_type": "code",
   "execution_count": 95,
   "metadata": {
    "collapsed": true
   },
   "outputs": [],
   "source": [
    "#Commands to get QM-lim sensitivity\n",
    "commands = \"\"\"\n",
    "tf sus 1 0 p $mech_fres $mech_Q\n",
    "const mech_fres 1  # Approx. resonance frequency\n",
    "const mech_Q    1M # Guess for suspension Q factor\n",
    "# Differentially modulate the strain in the arms\n",
    "fsig darm  LXarm 1 0 1\n",
    "fsig darm2 LYarm 1 180 1\n",
    "sq sqz 0 10 0 nsqz\n",
    "#qnoisedS NSR_with_RP 1 $fs nOMC_AROC_trans\n",
    "#xaxis darm f log 5 5k 50\n",
    "yaxis lin re:im\n",
    "noxaxis\n",
    "retrace off\n",
    "\"\"\"\n",
    "###Add amplitude detectors to get Higher-Order mordal content within the cavity at the carrier freq\n",
    "amplitude_detectors = \"\"\"\n",
    "ad nSRMHRaTEM00 0 0 0 nSRMHRa\n",
    "ad nSRMHRaTEM01 0 1 0 nSRMHRa\n",
    "ad nSRMHRaTEM02 0 2 0 nSRMHRa\n",
    "ad nSRMHRaTEM03 0 3 0 nSRMHRa\n",
    "ad nSRMHRaTEM04 0 4 0 nSRMHRa\n",
    "\"\"\"\n",
    "###Add photodetectors to get gaussian beam parameters right outside of SRC after the anti-thermal lens correction\n",
    "pds = \"\"\"\n",
    "bp SRCoutx x q nIBAin\n",
    "bp SRCouty y q nIBAin\n",
    "\n",
    "bp SRMYqx x q nSRMHRa\n",
    "bp SRMYqy y q nSRMHRa\n",
    "\n",
    "bp ITMXqx x q nITMX2\n",
    "bp ITMXqy y q nITMX2\n",
    "\n",
    "bp ITMYqx x q nITMY2\n",
    "bp ITMYqy y q nITMY2\n",
    "\n",
    "bp OMCqx x q nOMC_HROC_refl\n",
    "bp OMCqy y q nOMC_HROC_refl\n",
    "\"\"\""
   ]
  },
  {
   "cell_type": "code",
   "execution_count": 96,
   "metadata": {
    "collapsed": false
   },
   "outputs": [],
   "source": [
    "#load the original kat file (ie Perfect Modematching)\n",
    "katfile = \"aLIGO_IFO_AWC_tuning_DCoff_maxtem4_modified.kat\" \n",
    "basekat = pykat.finesse.kat() \n",
    "basekat.loadKatFile(katfile)\n",
    "\n",
    "#### Add commands above\n",
    "basekat.parseCommands(commands)\n",
    "basekat.parseCommands(amplitude_detectors)\n",
    "basekat.parseCommands(pds)\n",
    "\n",
    "basekat.undumpNodes() #undump the vacuum nodes\n",
    "kat=basekat.deepcopy() #copy kat code\n",
    "kat.verbose = False\n",
    "\n",
    "out_perfect_mm = kat.run()\n",
    "\n",
    "SR3_Rc_orig = kat.SR3.Rc.value\n",
    "\n",
    "#out_perfect_mm_trace = kat.run(getTraceData=True)"
   ]
  },
  {
   "cell_type": "code",
   "execution_count": 97,
   "metadata": {
    "collapsed": false
   },
   "outputs": [],
   "source": [
    "SRCTL_q_perfect_x = out_perfect_mm[\"SRCoutx\"]\n",
    "SRCTL_q_perfect_y = out_perfect_mm[\"SRCouty\"]\n",
    "\n",
    "SRMY_q_perfect_x = out_perfect_mm[\"SRMYqx\"]\n",
    "SRMY_q_perfect_y = out_perfect_mm[\"SRMYqy\"]\n",
    "\n",
    "ITMX_q_perfect_x = out_perfect_mm[\"ITMXqx\"]\n",
    "ITMX_q_perfect_y = out_perfect_mm[\"ITMXqy\"]\n",
    "\n",
    "ITMY_q_perfect_x = out_perfect_mm[\"ITMYqx\"]\n",
    "ITMY_q_perfect_y = out_perfect_mm[\"ITMYqy\"]\n",
    "\n",
    "OMC_q_perfect_x = out_perfect_mm[\"OMCqx\"]\n",
    "OMC_q_perfect_y = out_perfect_mm[\"OMCqy\"]"
   ]
  },
  {
   "cell_type": "code",
   "execution_count": 98,
   "metadata": {
    "collapsed": true
   },
   "outputs": [],
   "source": [
    "for allcavs in kat.getAll(pykat.commands.cavity):\n",
    "    allcavs.enabled = False\n",
    "\n",
    "kat.cavSRY.enabled = True\n",
    "\n",
    "out_test= kat.run(getTraceData = True)\n",
    "\n",
    "kat.cavSRY.enabled = False\n",
    "kat.cavXARM.enabled = True\n",
    "\n",
    "out_test1= kat.run(getTraceData = True)"
   ]
  },
  {
   "cell_type": "code",
   "execution_count": 99,
   "metadata": {
    "collapsed": false
   },
   "outputs": [],
   "source": [
    "t1 = out_test1[1][0]['nPRBS'][0]._gauss_param__q"
   ]
  },
  {
   "cell_type": "code",
   "execution_count": 100,
   "metadata": {
    "collapsed": false
   },
   "outputs": [],
   "source": [
    "t = out_test[1][0]['nPRBS'][0]._gauss_param__q"
   ]
  },
  {
   "cell_type": "code",
   "execution_count": 101,
   "metadata": {
    "collapsed": false
   },
   "outputs": [
    {
     "data": {
      "text/plain": [
       "((1355.15649200328+225.95789793595j),\n",
       " (1355.17097026103+225.942757840206j),\n",
       " (4.7332034336154596+2.1322989861486299j))"
      ]
     },
     "execution_count": 101,
     "metadata": {},
     "output_type": "execute_result"
    }
   ],
   "source": [
    "t,t1,SRMY_q_perfect_x"
   ]
  },
  {
   "cell_type": "code",
   "execution_count": 102,
   "metadata": {
    "collapsed": false,
    "scrolled": true
   },
   "outputs": [
    {
     "name": "stdout",
     "output_type": "stream",
     "text": [
      "--------------------------------------------------------------\n",
      "Running kat - Started at 2016-09-01 01:57:46.452456\n"
     ]
    },
    {
     "name": "stderr",
     "output_type": "stream",
     "text": [
      "\r",
      "  0% | ETA:  --:--:-- | Calculating                                            \r",
      "100% | ETA:  0:00:00 | Calculating                                             "
     ]
    },
    {
     "name": "stdout",
     "output_type": "stream",
     "text": [
      "\n",
      "Finished in 2.40997 seconds\n",
      "--------------------------------------------------------------\n",
      "Running kat - Started at 2016-09-01 01:57:48.863994\n"
     ]
    },
    {
     "name": "stderr",
     "output_type": "stream",
     "text": [
      "\r",
      "  0% | ETA:  --:--:-- | Calculating                                            \r",
      "100% | ETA:  0:00:00 | Calculating                                             "
     ]
    },
    {
     "name": "stdout",
     "output_type": "stream",
     "text": [
      "\n",
      "Finished in 2.30442 seconds\n",
      "--------------------------------------------------------------\n",
      "Running kat - Started at 2016-09-01 01:57:51.169343\n"
     ]
    },
    {
     "name": "stderr",
     "output_type": "stream",
     "text": [
      "\r",
      "  0% | ETA:  --:--:-- | Calculating                                            \r",
      "100% | ETA:  0:00:00 | Calculating                                             "
     ]
    },
    {
     "name": "stdout",
     "output_type": "stream",
     "text": [
      "\n",
      "Finished in 2.42203 seconds\n",
      "--------------------------------------------------------------\n",
      "Running kat - Started at 2016-09-01 01:57:53.592417\n"
     ]
    },
    {
     "name": "stderr",
     "output_type": "stream",
     "text": [
      "\r",
      "  0% | ETA:  --:--:-- | Calculating                                            \r",
      "100% | ETA:  0:00:00 | Calculating                                             "
     ]
    },
    {
     "name": "stdout",
     "output_type": "stream",
     "text": [
      "\n",
      "Finished in 2.20029 seconds\n",
      "--------------------------------------------------------------\n",
      "Running kat - Started at 2016-09-01 01:57:55.956218\n"
     ]
    },
    {
     "name": "stderr",
     "output_type": "stream",
     "text": [
      "\r",
      "  0% | ETA:  --:--:-- | Calculating                                            \r",
      "100% | ETA:  0:00:00 | Calculating                                             "
     ]
    },
    {
     "name": "stdout",
     "output_type": "stream",
     "text": [
      "\n",
      "Finished in 2.16509 seconds\n",
      "--------------------------------------------------------------\n",
      "Running kat - Started at 2016-09-01 01:57:58.122153\n"
     ]
    },
    {
     "name": "stderr",
     "output_type": "stream",
     "text": [
      "\r",
      "  0% | ETA:  --:--:-- | Calculating                                            \r",
      "100% | ETA:  0:00:00 | Calculating                                             "
     ]
    },
    {
     "name": "stdout",
     "output_type": "stream",
     "text": [
      "\n",
      "Finished in 2.19592 seconds\n",
      "--------------------------------------------------------------\n",
      "Running kat - Started at 2016-09-01 01:58:00.319080\n"
     ]
    },
    {
     "name": "stderr",
     "output_type": "stream",
     "text": [
      "\r",
      "  0% | ETA:  --:--:-- | Calculating                                            \r",
      "100% | ETA:  0:00:00 | Calculating                                             "
     ]
    },
    {
     "name": "stdout",
     "output_type": "stream",
     "text": [
      "\n",
      "Finished in 2.19624 seconds\n",
      "--------------------------------------------------------------\n",
      "Running kat - Started at 2016-09-01 01:58:02.516234\n"
     ]
    },
    {
     "name": "stderr",
     "output_type": "stream",
     "text": [
      "\r",
      "  0% | ETA:  --:--:-- | Calculating                                            \r",
      "100% | ETA:  0:00:00 | Calculating                                             "
     ]
    },
    {
     "name": "stdout",
     "output_type": "stream",
     "text": [
      "\n",
      "Finished in 2.20625 seconds\n",
      "--------------------------------------------------------------\n",
      "Running kat - Started at 2016-09-01 01:58:04.868412\n"
     ]
    },
    {
     "name": "stderr",
     "output_type": "stream",
     "text": [
      "\r",
      "  0% | ETA:  --:--:-- | Calculating                                            \r",
      "100% | ETA:  0:00:00 | Calculating                                             "
     ]
    },
    {
     "name": "stdout",
     "output_type": "stream",
     "text": [
      "\n",
      "Finished in 2.13526 seconds\n",
      "--------------------------------------------------------------\n",
      "Running kat - Started at 2016-09-01 01:58:07.004757\n"
     ]
    },
    {
     "name": "stderr",
     "output_type": "stream",
     "text": [
      "\r",
      "  0% | ETA:  --:--:-- | Calculating                                            \r",
      "100% | ETA:  0:00:00 | Calculating                                             "
     ]
    },
    {
     "name": "stdout",
     "output_type": "stream",
     "text": [
      "\n",
      "Finished in 2.20817 seconds\n",
      "--------------------------------------------------------------\n",
      "Running kat - Started at 2016-09-01 01:58:09.213874\n"
     ]
    },
    {
     "name": "stderr",
     "output_type": "stream",
     "text": [
      "\r",
      "  0% | ETA:  --:--:-- | Calculating                                            \r",
      "100% | ETA:  0:00:00 | Calculating                                             "
     ]
    },
    {
     "name": "stdout",
     "output_type": "stream",
     "text": [
      "\n",
      "Finished in 2.25164 seconds\n",
      "--------------------------------------------------------------\n",
      "Running kat - Started at 2016-09-01 01:58:11.466580\n"
     ]
    },
    {
     "name": "stderr",
     "output_type": "stream",
     "text": [
      "\r",
      "  0% | ETA:  --:--:-- | Calculating                                            \r",
      "100% | ETA:  0:00:00 | Calculating                                             "
     ]
    },
    {
     "name": "stdout",
     "output_type": "stream",
     "text": [
      "\n",
      "Finished in 2.15351 seconds\n",
      "--------------------------------------------------------------\n",
      "Running kat - Started at 2016-09-01 01:58:13.920274\n"
     ]
    },
    {
     "name": "stderr",
     "output_type": "stream",
     "text": [
      "\r",
      "  0% | ETA:  --:--:-- | Calculating                                            \r",
      "100% | ETA:  0:00:00 | Calculating                                             "
     ]
    },
    {
     "name": "stdout",
     "output_type": "stream",
     "text": [
      "\n",
      "Finished in 2.12382 seconds\n",
      "--------------------------------------------------------------\n",
      "Running kat - Started at 2016-09-01 01:58:16.045064\n"
     ]
    },
    {
     "name": "stderr",
     "output_type": "stream",
     "text": [
      "\r",
      "  0% | ETA:  --:--:-- | Calculating                                            \r",
      "100% | ETA:  0:00:00 | Calculating                                             "
     ]
    },
    {
     "name": "stdout",
     "output_type": "stream",
     "text": [
      "\n",
      "Finished in 2.1317 seconds\n",
      "--------------------------------------------------------------\n",
      "Running kat - Started at 2016-09-01 01:58:18.177598\n"
     ]
    },
    {
     "name": "stderr",
     "output_type": "stream",
     "text": [
      "\r",
      "  0% | ETA:  --:--:-- | Calculating                                            \r",
      "100% | ETA:  0:00:00 | Calculating                                             "
     ]
    },
    {
     "name": "stdout",
     "output_type": "stream",
     "text": [
      "\n",
      "Finished in 2.20989 seconds\n",
      "--------------------------------------------------------------\n",
      "Running kat - Started at 2016-09-01 01:58:20.388350\n"
     ]
    },
    {
     "name": "stderr",
     "output_type": "stream",
     "text": [
      "\r",
      "  0% | ETA:  --:--:-- | Calculating                                            \r",
      "100% | ETA:  0:00:00 | Calculating                                             "
     ]
    },
    {
     "name": "stdout",
     "output_type": "stream",
     "text": [
      "\n",
      "Finished in 2.12218 seconds\n",
      "--------------------------------------------------------------\n",
      "Running kat - Started at 2016-09-01 01:58:22.656135\n"
     ]
    },
    {
     "name": "stderr",
     "output_type": "stream",
     "text": [
      "\r",
      "  0% | ETA:  --:--:-- | Calculating                                            \r",
      "100% | ETA:  0:00:00 | Calculating                                             "
     ]
    },
    {
     "name": "stdout",
     "output_type": "stream",
     "text": [
      "\n",
      "Finished in 2.10569 seconds\n",
      "--------------------------------------------------------------\n",
      "Running kat - Started at 2016-09-01 01:58:24.762944\n"
     ]
    },
    {
     "name": "stderr",
     "output_type": "stream",
     "text": [
      "\r",
      "  0% | ETA:  --:--:-- | Calculating                                            \r",
      "100% | ETA:  0:00:00 | Calculating                                             "
     ]
    },
    {
     "name": "stdout",
     "output_type": "stream",
     "text": [
      "\n",
      "Finished in 2.14716 seconds\n",
      "--------------------------------------------------------------\n",
      "Running kat - Started at 2016-09-01 01:58:26.911078\n"
     ]
    },
    {
     "name": "stderr",
     "output_type": "stream",
     "text": [
      "\r",
      "  0% | ETA:  --:--:-- | Calculating                                            \r",
      "100% | ETA:  0:00:00 | Calculating                                             "
     ]
    },
    {
     "name": "stdout",
     "output_type": "stream",
     "text": [
      "\n",
      "Finished in 2.19436 seconds\n",
      "--------------------------------------------------------------\n",
      "Running kat - Started at 2016-09-01 01:58:29.106937\n"
     ]
    },
    {
     "name": "stderr",
     "output_type": "stream",
     "text": [
      "\r",
      "  0% | ETA:  --:--:-- | Calculating                                            \r",
      "100% | ETA:  0:00:00 | Calculating                                             "
     ]
    },
    {
     "name": "stdout",
     "output_type": "stream",
     "text": [
      "\n",
      "Finished in 2.14614 seconds\n",
      "--------------------------------------------------------------\n",
      "Running kat - Started at 2016-09-01 01:58:31.400873\n"
     ]
    },
    {
     "name": "stderr",
     "output_type": "stream",
     "text": [
      "\r",
      "  0% | ETA:  --:--:-- | Calculating                                            \r",
      "100% | ETA:  0:00:00 | Calculating                                             "
     ]
    },
    {
     "name": "stdout",
     "output_type": "stream",
     "text": [
      "\n",
      "Finished in 2.0796 seconds\n",
      "--------------------------------------------------------------\n",
      "Running kat - Started at 2016-09-01 01:58:33.481327\n"
     ]
    },
    {
     "name": "stderr",
     "output_type": "stream",
     "text": [
      "\r",
      "  0% | ETA:  --:--:-- | Calculating                                            \r",
      "100% | ETA:  0:00:00 | Calculating                                             "
     ]
    },
    {
     "name": "stdout",
     "output_type": "stream",
     "text": [
      "\n",
      "Finished in 2.27646 seconds\n",
      "--------------------------------------------------------------\n",
      "Running kat - Started at 2016-09-01 01:58:35.758709\n"
     ]
    },
    {
     "name": "stderr",
     "output_type": "stream",
     "text": [
      "\r",
      "  0% | ETA:  --:--:-- | Calculating                                            \r",
      "100% | ETA:  0:00:00 | Calculating                                             "
     ]
    },
    {
     "name": "stdout",
     "output_type": "stream",
     "text": [
      "\n",
      "Finished in 2.17801 seconds\n",
      "--------------------------------------------------------------\n",
      "Running kat - Started at 2016-09-01 01:58:37.937760\n"
     ]
    },
    {
     "name": "stderr",
     "output_type": "stream",
     "text": [
      "\r",
      "  0% | ETA:  --:--:-- | Calculating                                            \r",
      "100% | ETA:  0:00:00 | Calculating                                             "
     ]
    },
    {
     "name": "stdout",
     "output_type": "stream",
     "text": [
      "\n",
      "Finished in 2.208 seconds\n",
      "--------------------------------------------------------------\n",
      "Running kat - Started at 2016-09-01 01:58:40.302110\n"
     ]
    },
    {
     "name": "stderr",
     "output_type": "stream",
     "text": [
      "\r",
      "  0% | ETA:  --:--:-- | Calculating                                            \r",
      "100% | ETA:  0:00:00 | Calculating                                             "
     ]
    },
    {
     "name": "stdout",
     "output_type": "stream",
     "text": [
      "\n",
      "Finished in 2.14845 seconds\n",
      "--------------------------------------------------------------\n",
      "Running kat - Started at 2016-09-01 01:58:42.451517\n"
     ]
    },
    {
     "name": "stderr",
     "output_type": "stream",
     "text": [
      "\r",
      "  0% | ETA:  --:--:-- | Calculating                                            \r",
      "100% | ETA:  0:00:00 | Calculating                                             "
     ]
    },
    {
     "name": "stdout",
     "output_type": "stream",
     "text": [
      "\n",
      "Finished in 2.0906 seconds\n",
      "--------------------------------------------------------------\n",
      "Running kat - Started at 2016-09-01 01:58:44.543052\n"
     ]
    },
    {
     "name": "stderr",
     "output_type": "stream",
     "text": [
      "\r",
      "  0% | ETA:  --:--:-- | Calculating                                            \r",
      "100% | ETA:  0:00:00 | Calculating                                             "
     ]
    },
    {
     "name": "stdout",
     "output_type": "stream",
     "text": [
      "\n",
      "Finished in 2.24217 seconds\n",
      "--------------------------------------------------------------\n",
      "Running kat - Started at 2016-09-01 01:58:46.786211\n"
     ]
    },
    {
     "name": "stderr",
     "output_type": "stream",
     "text": [
      "\r",
      "  0% | ETA:  --:--:-- | Calculating                                            \r",
      "100% | ETA:  0:00:00 | Calculating                                             "
     ]
    },
    {
     "name": "stdout",
     "output_type": "stream",
     "text": [
      "\n",
      "Finished in 2.15822 seconds\n",
      "--------------------------------------------------------------\n",
      "Running kat - Started at 2016-09-01 01:58:49.263130\n"
     ]
    },
    {
     "name": "stderr",
     "output_type": "stream",
     "text": [
      "\r",
      "  0% | ETA:  --:--:-- | Calculating                                            \r",
      "100% | ETA:  0:00:00 | Calculating                                             "
     ]
    },
    {
     "name": "stdout",
     "output_type": "stream",
     "text": [
      "\n",
      "Finished in 2.24946 seconds\n",
      "--------------------------------------------------------------\n",
      "Running kat - Started at 2016-09-01 01:58:51.513679\n"
     ]
    },
    {
     "name": "stderr",
     "output_type": "stream",
     "text": [
      "\r",
      "  0% | ETA:  --:--:-- | Calculating                                            \r",
      "100% | ETA:  0:00:00 | Calculating                                             "
     ]
    },
    {
     "name": "stdout",
     "output_type": "stream",
     "text": [
      "\n",
      "Finished in 2.16165 seconds\n",
      "--------------------------------------------------------------\n",
      "Running kat - Started at 2016-09-01 01:58:53.676291\n"
     ]
    },
    {
     "name": "stderr",
     "output_type": "stream",
     "text": [
      "\r",
      "  0% | ETA:  --:--:-- | Calculating                                            \r",
      "100% | ETA:  0:00:00 | Calculating                                             "
     ]
    },
    {
     "name": "stdout",
     "output_type": "stream",
     "text": [
      "\n",
      "Finished in 2.09464 seconds\n",
      "--------------------------------------------------------------\n",
      "Running kat - Started at 2016-09-01 01:58:55.771813\n"
     ]
    },
    {
     "name": "stderr",
     "output_type": "stream",
     "text": [
      "\r",
      "  0% | ETA:  --:--:-- | Calculating                                            \r",
      "100% | ETA:  0:00:00 | Calculating                                             "
     ]
    },
    {
     "name": "stdout",
     "output_type": "stream",
     "text": [
      "\n",
      "Finished in 2.08451 seconds\n",
      "--------------------------------------------------------------\n",
      "Running kat - Started at 2016-09-01 01:58:58.002955\n"
     ]
    },
    {
     "name": "stderr",
     "output_type": "stream",
     "text": [
      "\r",
      "  0% | ETA:  --:--:-- | Calculating                                            \r",
      "100% | ETA:  0:00:00 | Calculating                                             "
     ]
    },
    {
     "name": "stdout",
     "output_type": "stream",
     "text": [
      "\n",
      "Finished in 2.04983 seconds\n",
      "--------------------------------------------------------------\n",
      "Running kat - Started at 2016-09-01 01:59:00.053790\n"
     ]
    },
    {
     "name": "stderr",
     "output_type": "stream",
     "text": [
      "\r",
      "  0% | ETA:  --:--:-- | Calculating                                            \r",
      "100% | ETA:  0:00:00 | Calculating                                             "
     ]
    },
    {
     "name": "stdout",
     "output_type": "stream",
     "text": [
      "\n",
      "Finished in 2.08866 seconds\n",
      "--------------------------------------------------------------\n",
      "Running kat - Started at 2016-09-01 01:59:02.143519\n"
     ]
    },
    {
     "name": "stderr",
     "output_type": "stream",
     "text": [
      "\r",
      "  0% | ETA:  --:--:-- | Calculating                                            \r",
      "100% | ETA:  0:00:00 | Calculating                                             "
     ]
    },
    {
     "name": "stdout",
     "output_type": "stream",
     "text": [
      "\n",
      "Finished in 2.11041 seconds\n",
      "--------------------------------------------------------------\n",
      "Running kat - Started at 2016-09-01 01:59:04.254917\n"
     ]
    },
    {
     "name": "stderr",
     "output_type": "stream",
     "text": [
      "\r",
      "  0% | ETA:  --:--:-- | Calculating                                            \r",
      "100% | ETA:  0:00:00 | Calculating                                             "
     ]
    },
    {
     "name": "stdout",
     "output_type": "stream",
     "text": [
      "\n",
      "Finished in 2.28651 seconds\n",
      "--------------------------------------------------------------\n",
      "Running kat - Started at 2016-09-01 01:59:06.698649\n"
     ]
    },
    {
     "name": "stderr",
     "output_type": "stream",
     "text": [
      "\r",
      "  0% | ETA:  --:--:-- | Calculating                                            \r",
      "100% | ETA:  0:00:00 | Calculating                                             "
     ]
    },
    {
     "name": "stdout",
     "output_type": "stream",
     "text": [
      "\n",
      "Finished in 2.22398 seconds\n",
      "--------------------------------------------------------------\n",
      "Running kat - Started at 2016-09-01 01:59:08.923805\n"
     ]
    },
    {
     "name": "stderr",
     "output_type": "stream",
     "text": [
      "\r",
      "  0% | ETA:  --:--:-- | Calculating                                            \r",
      "100% | ETA:  0:00:00 | Calculating                                             "
     ]
    },
    {
     "name": "stdout",
     "output_type": "stream",
     "text": [
      "\n",
      "Finished in 2.20147 seconds\n",
      "--------------------------------------------------------------\n",
      "Running kat - Started at 2016-09-01 01:59:11.126182\n"
     ]
    },
    {
     "name": "stderr",
     "output_type": "stream",
     "text": [
      "\r",
      "  0% | ETA:  --:--:-- | Calculating                                            \r",
      "100% | ETA:  0:00:00 | Calculating                                             "
     ]
    },
    {
     "name": "stdout",
     "output_type": "stream",
     "text": [
      "\n",
      "Finished in 2.12243 seconds\n",
      "--------------------------------------------------------------\n",
      "Running kat - Started at 2016-09-01 01:59:13.249629\n",
      "\n",
      "Finished in 2.18015 seconds\n"
     ]
    },
    {
     "name": "stderr",
     "output_type": "stream",
     "text": [
      "\r",
      "  0% | ETA:  --:--:-- | Calculating                                            \r",
      "100% | ETA:  0:00:00 | Calculating                                             "
     ]
    }
   ],
   "source": [
    "SR3Roc_offset = []\n",
    "\n",
    "SR3_q1_x_list = []\n",
    "SR3_q1_y_list = []\n",
    "\n",
    "max_offset = -.02 #20cm Roc change in SRM curvature\n",
    "steps = 10\n",
    "\n",
    "overlap_SRC_to_ARM_x = []\n",
    "overlap_SRC_to_ARM_y = []\n",
    "\n",
    "overlap_OMC_to_ARM_x = []\n",
    "overlap_OMC_to_ARM_y = []\n",
    "\n",
    "\n",
    "for i in range(0,steps,1):\n",
    "    dRc = (float(i)/steps) * max_offset\n",
    "    SR3Roc_offset.append(dRc)\n",
    "    \n",
    "    ### Find the new q of SRC\n",
    "    basekat1 = pykat.finesse.kat() \n",
    "    basekat1.loadKatFile(katfile)\n",
    "\n",
    "    #### Add commands above\n",
    "    basekat1.parseCommands(commands)\n",
    "    basekat1.parseCommands(amplitude_detectors)\n",
    "    basekat1.parseCommands(pds)\n",
    "\n",
    "    basekat1.undumpNodes() #undump the vacuum nodes\n",
    "    kat1=basekat1.deepcopy() #copy kat code\n",
    "\n",
    "    SR3_Rc_new = SR3_Rc_orig + dRc\n",
    "    kat1.SR3.Rcx.value = SR3_Rc_new\n",
    "    kat1.SR3.Rcy.value = SR3_Rc_new\n",
    "    \n",
    "    out_new_SR3_roc = kat1.run()\n",
    "\n",
    "    SRCTL_q1_x = out_new_SR3_roc[\"SRCoutx\"]\n",
    "    SRCTL_q1_y = out_new_SR3_roc[\"SRCouty\"]\n",
    "\n",
    "    SR3_q1_x = out_new_SR3_roc[\"SRMYqx\"]\n",
    "    SR3_q1_y = out_new_SR3_roc[\"SRMYqy\"]\n",
    "    \n",
    "    SR3_q1_x_list.append(SR3_q1_x)\n",
    "    SR3_q1_y_list.append(SR3_q1_y)\n",
    "    ###### get the modulated SRC mode\n",
    "    \n",
    "    for cav in kat1.getAll(pykat.commands.cavity):\n",
    "        cav.enabled = False\n",
    "    kat1.cavSRY.enabled = True\n",
    "    out_get_mm1 = kat1.run(getTraceData = True)\n",
    "    a = out_get_mm1[1][0]['nPRBS'][0]._gauss_param__q\n",
    "\n",
    "    ###Get the x-arm mode\n",
    "    for cav in kat1.getAll(pykat.commands.cavity):\n",
    "        cav.enabled = False\n",
    "    kat1.cavXARM.enabled = True\n",
    "    out_get_mm2 = kat1.run(getTraceData = True)\n",
    "    b = out_get_mm2[1][0]['nPRBS'][0]._gauss_param__q \n",
    "\n",
    "    ### Get the OMC Mode\n",
    "    for cav in kat1.getAll(pykat.commands.cavity):\n",
    "        cav.enabled = False\n",
    "    kat1.cavOMC.enabled = True\n",
    "    out_get_mm3 = kat1.run(getTraceData = True)\n",
    "    c = out_get_mm3[1][0]['nPRBS'][0]._gauss_param__q \n",
    "    \n",
    "    overlap_SRC_to_ARM_x.append( pykat.beam_param.overlap(a, b))\n",
    "    overlap_OMC_to_ARM_x.append( pykat.beam_param.overlap(a, c))"
   ]
  },
  {
   "cell_type": "code",
   "execution_count": 103,
   "metadata": {
    "collapsed": false
   },
   "outputs": [
    {
     "data": {
      "text/plain": [
       "[-0.0,\n",
       " -0.002,\n",
       " -0.004,\n",
       " -0.006,\n",
       " -0.008,\n",
       " -0.01,\n",
       " -0.012,\n",
       " -0.013999999999999999,\n",
       " -0.016,\n",
       " -0.018000000000000002]"
      ]
     },
     "execution_count": 103,
     "metadata": {},
     "output_type": "execute_result"
    }
   ],
   "source": [
    "SR3Roc_offset"
   ]
  },
  {
   "cell_type": "code",
   "execution_count": 104,
   "metadata": {
    "collapsed": false
   },
   "outputs": [
    {
     "data": {
      "text/plain": [
       "[0.9999999326320355,\n",
       " 0.9995809640581886,\n",
       " 0.9984050274797017,\n",
       " 0.9966013963281585,\n",
       " 0.9942728743365393,\n",
       " 0.9915021660841001,\n",
       " 0.988356484986757,\n",
       " 0.9848909459410279,\n",
       " 0.9811511027636092,\n",
       " 0.9771748728787363]"
      ]
     },
     "execution_count": 104,
     "metadata": {},
     "output_type": "execute_result"
    }
   ],
   "source": [
    "overlap_OMC_to_ARM_x"
   ]
  },
  {
   "cell_type": "code",
   "execution_count": 105,
   "metadata": {
    "collapsed": false,
    "scrolled": true
   },
   "outputs": [],
   "source": [
    "q_refin_x_list = []\n",
    "q_refin_y_list = []\n",
    "q_refout_x_list = []\n",
    "q_refout_y_list = []\n",
    "\n",
    "q_BS_SRMY_x = []\n",
    "q_BS_SRMY_y = []\n",
    "\n",
    "q_BS_ITMY_x = []\n",
    "q_BS_ITMY_y = []\n",
    "\n",
    "\n",
    "for i in range(0,steps,1):\n",
    "    #propogate the new q through the \"original\" setup \n",
    "    basekat2 = pykat.finesse.kat() \n",
    "    basekat2.loadKatFile(katfile)\n",
    "\n",
    "    #### Add commands above\n",
    "    basekat2.parseCommands(commands)\n",
    "    basekat2.parseCommands(amplitude_detectors)\n",
    "    basekat2.parseCommands(pds)\n",
    "\n",
    "    ####Set the modulated q-parameter\n",
    "    comp2 = 'SRMHR'\n",
    "    node2 = 'nSRMHRa'\n",
    "    real_qx2 = str(float(np.real(SR3_q1_x_list[i])))\n",
    "    imag_qx2 = str(float(np.imag(SR3_q1_x_list[i])))\n",
    "    real_qy2 = str(float(np.real(SR3_q1_y_list[i])))\n",
    "    imag_qy2 = str(float(np.imag(SR3_q1_y_list[i])))\n",
    "    gauss2 = \"gauss* \" + \"gaussina\" + \" \" + comp2 + \" \" + node2\\\n",
    "    + \" \" + real_qx2 + \" \" + imag_qx2 + \" \" + real_qy2 + \" \" + imag_qy2\n",
    "    basekat2.parseCommands(gauss2)\n",
    "\n",
    "    basekat2.undumpNodes() #undump the vacuum nodes\n",
    "    kat2=basekat2.deepcopy() #copy kat code\n",
    "    kat2.verbose = False\n",
    "\n",
    "    ###turn off all cav commands\n",
    "    for cav in kat2.getAll(pykat.commands.cavity):\n",
    "        cav.enabled = False\n",
    "        \n",
    "    kat2.cavSRY.enabled = True\n",
    "\n",
    "    out_get_q_ref = kat2.run(getTraceData = True)\n",
    "\n",
    "    q_refin_x_list.append(out_get_q_ref[1][0]['nSRMARb'][0]._gauss_param__q)\n",
    "    q_refin_y_list.append(out_get_q_ref[1][0]['nSRMARb'][1]._gauss_param__q)\n",
    "\n",
    "    q_refout_x_list.append(out_get_q_ref[1][0]['nIBAin'][0]._gauss_param__q)\n",
    "    q_refout_y_list.append(out_get_q_ref[1][0]['nIBAin'][1]._gauss_param__q)\n",
    "    \n",
    "    q_BS_SRMY_x.append(out_get_q_ref[1][0]['nPRBS'][0]._gauss_param__q)\n",
    "    q_BS_SRMY_y.append(out_get_q_ref[1][0]['nPRBS'][1]._gauss_param__q)"
   ]
  },
  {
   "cell_type": "code",
   "execution_count": 106,
   "metadata": {
    "collapsed": false,
    "scrolled": true
   },
   "outputs": [
    {
     "name": "stdout",
     "output_type": "stream",
     "text": [
      "  Modematching...\n",
      "  Match found!\n",
      "  res = 0.0113418710647\n",
      "  d1 = 0.471310628713 m\n",
      "  d2 = 0.0100004096234 m\n",
      "  d3 = 0.0102049616632 m\n",
      "  f1 = -9.5 m\n",
      "  f2 = 9.55 m\n",
      "  D_tot = 0.491516 m\n",
      "  Modematching...\n",
      "  Match found!\n",
      "  res = 0.0112694907308\n",
      "  d1 = 0.471310628713 m\n",
      "  d2 = 0.0100004096234 m\n",
      "  d3 = 0.0102049616632 m\n",
      "  f1 = -9.5 m\n",
      "  f2 = 9.55 m\n",
      "  D_tot = 0.491516 m\n",
      "  Modematching...\n",
      "  Match found!\n",
      "  res = 0.0111968603609\n",
      "  d1 = 0.471310628713 m\n",
      "  d2 = 0.0100004096234 m\n",
      "  d3 = 0.0102049616632 m\n",
      "  f1 = -9.5 m\n",
      "  f2 = 9.55 m\n",
      "  D_tot = 0.491516 m\n",
      "  Modematching...\n",
      "  Match found!\n",
      "  res = 0.0111239784339\n",
      "  d1 = 0.471310628713 m\n",
      "  d2 = 0.0100004096234 m\n",
      "  d3 = 0.0102049616632 m\n",
      "  f1 = -9.5 m\n",
      "  f2 = 9.55 m\n",
      "  D_tot = 0.491516 m\n",
      "  Modematching...\n",
      "  Match found!\n",
      "  res = 0.0110508434095\n",
      "  d1 = 0.471310628713 m\n",
      "  d2 = 0.0100004096234 m\n",
      "  d3 = 0.0102049616632 m\n",
      "  f1 = -9.5 m\n",
      "  f2 = 9.55 m\n",
      "  D_tot = 0.491516 m\n",
      "  Modematching...\n",
      "  Match found!\n",
      "  res = 0.0109774537271\n",
      "  d1 = 0.471310628713 m\n",
      "  d2 = 0.0100004096234 m\n",
      "  d3 = 0.0102049616632 m\n",
      "  f1 = -9.5 m\n",
      "  f2 = 9.55 m\n",
      "  D_tot = 0.491516 m\n",
      "  Modematching...\n",
      "  Match found!\n",
      "  res = 0.010903807806\n",
      "  d1 = 0.471310628713 m\n",
      "  d2 = 0.0100004096234 m\n",
      "  d3 = 0.0102049616632 m\n",
      "  f1 = -9.5 m\n",
      "  f2 = 9.55 m\n",
      "  D_tot = 0.491516 m\n",
      "  Modematching...\n",
      "  Match found!\n",
      "  res = 0.0108299040439\n",
      "  d1 = 0.471310628713 m\n",
      "  d2 = 0.0100004096234 m\n",
      "  d3 = 0.0102049616632 m\n",
      "  f1 = -9.5 m\n",
      "  f2 = 9.55 m\n",
      "  D_tot = 0.491516 m\n",
      "  Modematching...\n",
      "  Match found!\n",
      "  res = 0.0107557408172\n",
      "  d1 = 0.471310628713 m\n",
      "  d2 = 0.0100004096234 m\n",
      "  d3 = 0.0102049616632 m\n",
      "  f1 = -9.5 m\n",
      "  f2 = 9.55 m\n",
      "  D_tot = 0.491516 m\n",
      "  Modematching...\n",
      "  Match found!\n",
      "  res = 0.0106813164796\n",
      "  d1 = 0.471310628713 m\n",
      "  d2 = 0.0100004096234 m\n",
      "  d3 = 0.0102049616632 m\n",
      "  f1 = -9.5 m\n",
      "  f2 = 9.55 m\n",
      "  D_tot = 0.491516 m\n"
     ]
    }
   ],
   "source": [
    "darm_commands = \"\"\"\n",
    "tf sus 1 0 p $mech_fres $mech_Q\n",
    "const mech_fres 1  # Approx. resonance frequency\n",
    "const mech_Q    1M # Guess for suspension Q factor\n",
    "# Differentially modulate the strain in the arms\n",
    "fsig darm  LXarm 1 0 1\n",
    "fsig darm2 LYarm 1 180 1\n",
    "sq sqz 0 10 0 nsqz\n",
    "qnoisedS NSR_with_RP 1 $fs nOMC_AROC_trans\n",
    "xaxis darm f log 5 5k 50\n",
    "yaxis lin re:im\n",
    "retrace off\n",
    "\"\"\"\n",
    "darm_list = []\n",
    "freq = []\n",
    "for i in range(0,steps,1):\n",
    "    basekat3 = pykat.finesse.kat() \n",
    "    basekat3.loadKatFile(katfile)\n",
    "\n",
    "    #### Add commands above\n",
    "    basekat3.parseCommands(darm_commands)\n",
    "    basekat3.parseCommands(amplitude_detectors)\n",
    "    basekat3.parseCommands(pds)\n",
    "  \n",
    "    basekat3.undumpNodes() #undump the vacuum nodes\n",
    "    kat3=basekat3.deepcopy() #copy kat code\n",
    "    kat3.verbose = False\n",
    "    \n",
    "    SR3_Rc = kat.SR3.Rc\n",
    "    dRc = SR3Roc_offset[i]\n",
    "    \n",
    "    kat3.SR3.Rcx.value = SR3_Rc + dRc\n",
    "    kat3.SR3.Rcy.value = SR3_Rc + dRc\n",
    "\n",
    "    q1 = q_refin_x_list[i]\n",
    "    q2 = q_refout_x_list[i]\n",
    "    D = 0.491516 # total distance from SRC to OFI\n",
    "    c1 = .01 #minimum distances\n",
    "    c2 = .01\n",
    "    c3 = .01\n",
    "\n",
    "    [f1, f2, d1, d2, d3, res, isMM] = modematching.modematch2(q1, q2, D, c1, c2, c3)\n",
    "\n",
    "    kat3.lSRMTT1.L.value = d1\n",
    "    kat3.SRMTT1.f.value = f1\n",
    "    kat3.lSRMTT2.L.value = d2\n",
    "    kat3.SRMTT2.f.value = f2\n",
    "    kat3.lIBAin.L.value = d3\n",
    "\n",
    "    out3 = kat3.run()\n",
    "\n",
    "    SRCTL_q3_x = out3[\"SRCoutx\"]\n",
    "    SRCTL_q3_y = out3[\"SRCouty\"]\n",
    "\n",
    "    SRMY_q3_x = out3[\"SRMYqx\"]\n",
    "    SRMY_q3_y = out3[\"SRMYqy\"]\n",
    "    \n",
    "    freq.append(out3.x)\n",
    "    darm_list.append(out3['NSR_with_RP'])\n"
   ]
  },
  {
   "cell_type": "code",
   "execution_count": 107,
   "metadata": {
    "collapsed": false,
    "scrolled": false
   },
   "outputs": [
    {
     "name": "stderr",
     "output_type": "stream",
     "text": [
      "/home/thomasvo/anaconda3/lib/python3.5/site-packages/matplotlib/axes/_axes.py:519: UserWarning: No labelled objects found. Use label='...' kwarg on individual plots.\n",
      "  warnings.warn(\"No labelled objects found. \"\n"
     ]
    },
    {
     "data": {
      "image/png": "[encoded data removed]",
      "text/plain": [
       "<matplotlib.figure.Figure at 0x7fbabfed16a0>"
      ]
     },
     "metadata": {},
     "output_type": "display_data"
    }
   ],
   "source": [
    "#matplotlib.RcParams.update({'font.size', 'Large'})\n",
    "\n",
    "pl.figure(figsize=(18, 10), dpi=80)\n",
    "\n",
    "cm = pl.cm.Spectral_r\n",
    "norm = matplotlib.colors.Normalize(0, .02)\n",
    "\n",
    "s_m = matplotlib.cm.ScalarMappable(cmap=cm, norm=norm)\n",
    "s_m.set_array([])\n",
    "\n",
    "\n",
    "for i in range(0, int(len(darm_list)/2),1):\n",
    "    c = c = s_m.to_rgba(SR3Roc_offset[i])\n",
    "    pl.subplot(111)\n",
    "    pl.loglog(freq[0], np.real(darm_list[i]),linewidth=3,zorder=1000, color = c,)\n",
    "\n",
    "pl.title(\"Quantum noise limited strain sensitivity\",fontsize=20)\n",
    "pl.xlim(freq[0].min(),freq[0].max())\n",
    "\n",
    "pl.grid(True, zorder=-1)\n",
    "pl.legend()\n",
    "\n",
    "pl.xlabel(\"Frequency [Hz]\",fontsize=20)\n",
    "pl.ylabel(\"Strain sensitivity [$1/\\\\sqrt{\\mathrm{Hz}}$]\",fontsize=20)\n",
    "\n",
    "\n",
    "cb = pl.colorbar(s_m)\n",
    "cb.set_label(\"SR3 Offset(meters)\", fontsize = 20)\n",
    "cb.ax.tick_params(labelsize=10) \n",
    "cb.update_ticks()\n",
    "\n",
    "\n",
    "pl.show()"
   ]
  },
  {
   "cell_type": "code",
   "execution_count": 108,
   "metadata": {
    "collapsed": false
   },
   "outputs": [
    {
     "data": {
      "text/plain": [
       "(array([ 0.97 ,  0.975,  0.98 ,  0.985,  0.99 ,  0.995,  1.   ,  1.005]),\n",
       " <a list of 8 Text yticklabel objects>)"
      ]
     },
     "execution_count": 108,
     "metadata": {},
     "output_type": "execute_result"
    },
    {
     "data": {
      "image/png": "[encoded data removed]",
      "text/plain": [
       "<matplotlib.figure.Figure at 0x7fbac3a48588>"
      ]
     },
     "metadata": {},
     "output_type": "display_data"
    }
   ],
   "source": [
    "pl.figure(figsize=(18, 10), dpi=80)\n",
    "\n",
    "pl.plot( SR3Roc_offset,overlap_SRC_to_ARM_x,linewidth=3, label = 'SRC to ARM xaxis')\n",
    "pl.plot( SR3Roc_offset,overlap_OMC_to_ARM_x,linewidth=3, label = 'OMC to ARM xaxis')\n",
    "pl.grid(True, zorder=-1)\n",
    "pl.legend()\n",
    "\n",
    "pl.xlabel('SR3 Roc Offset from Nominal',fontsize=20)\n",
    "pl.ylabel('Modematching at BS',fontsize=20)\n",
    "\n",
    "pl.xticks(fontsize = 20)\n",
    "pl.yticks(fontsize = 20)"
   ]
  },
  {
   "cell_type": "code",
   "execution_count": 109,
   "metadata": {
    "collapsed": false
   },
   "outputs": [
    {
     "name": "stderr",
     "output_type": "stream",
     "text": [
      "/home/thomasvo/anaconda3/lib/python3.5/site-packages/numpy/core/numeric.py:482: ComplexWarning: Casting complex values to real discards the imaginary part\n",
      "  return array(a, dtype, copy=False, order=order)\n",
      "/home/thomasvo/anaconda3/lib/python3.5/site-packages/matplotlib/axes/_axes.py:519: UserWarning: No labelled objects found. Use label='...' kwarg on individual plots.\n",
      "  warnings.warn(\"No labelled objects found. \"\n"
     ]
    },
    {
     "data": {
      "image/png": "[encoded data removed]",
      "text/plain": [
       "<matplotlib.figure.Figure at 0x7fbac4fc7d68>"
      ]
     },
     "metadata": {},
     "output_type": "display_data"
    }
   ],
   "source": [
    "#matplotlib.RcParams.update({'font.size', 'Large'})\n",
    "\n",
    "pl.figure(figsize=(18, 10), dpi=80)\n",
    "\n",
    "\n",
    "pl.loglog(freq[0], darm_list[0],linewidth=3,zorder=1000, )\n",
    "\n",
    "pl.title(\"Quantum noise limited strain sensitivity\",fontsize=20)\n",
    "pl.xlim(freq[0].min(),freq[0].max())\n",
    "\n",
    "pl.grid(True, zorder=-1)\n",
    "pl.legend()\n",
    "\n",
    "pl.xlabel(\"Frequency [Hz]\",fontsize=20)\n",
    "pl.ylabel(\"Strain sensitivity [$1/\\\\sqrt{\\mathrm{Hz}}$]\",fontsize=20)\n",
    "\n",
    "\n",
    "\n",
    "pl.show()"
   ]
  },
  {
   "cell_type": "code",
   "execution_count": null,
   "metadata": {
    "collapsed": false
   },
   "outputs": [],
   "source": []
  },
  {
   "cell_type": "code",
   "execution_count": null,
   "metadata": {
    "collapsed": false
   },
   "outputs": [],
   "source": []
  }
 ],
 "metadata": {
  "kernelspec": {
   "display_name": "Python 3",
   "language": "python",
   "name": "python3"
  },
  "language_info": {
   "codemirror_mode": {
    "name": "ipython",
    "version": 3
   },
   "file_extension": ".py",
   "mimetype": "text/x-python",
   "name": "python",
   "nbconvert_exporter": "python",
   "pygments_lexer": "ipython3",
   "version": "3.5.1"
  }
 },
 "nbformat": 4,
 "nbformat_minor": 0
}
