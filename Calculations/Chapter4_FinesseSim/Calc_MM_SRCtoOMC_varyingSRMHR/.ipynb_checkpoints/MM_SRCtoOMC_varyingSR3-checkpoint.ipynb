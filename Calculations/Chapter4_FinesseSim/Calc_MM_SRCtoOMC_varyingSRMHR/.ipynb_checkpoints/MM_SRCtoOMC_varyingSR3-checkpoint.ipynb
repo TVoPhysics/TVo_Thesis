{
 "cells": [
  {
   "cell_type": "code",
   "execution_count": 1,
   "metadata": {
    "collapsed": true
   },
   "outputs": [],
   "source": [
    "####\n",
    "#Question: How does changing the SRC Eigenmode ONLY effect the QM-limited Sensitivity?\n",
    "#Question: How does changing the lensing of the beam coming from SRC effect the QM-limited Sensitivity?\n",
    "####"
   ]
  },
  {
   "cell_type": "code",
   "execution_count": 2,
   "metadata": {
    "collapsed": false
   },
   "outputs": [
    {
     "name": "stdout",
     "output_type": "stream",
     "text": [
      "                                              ..-\n",
      "    PyKat 1.0.9           _                  '(\n",
      "                          \\`.|\\.__...-\"\"\"\"-_.\" )\n",
      "       ..+-----.._        /  ' `            .-'\n",
      "   . '            `:      7/* _/._\\    \\   (\n",
      "  (        '::;;+;;:      `-\"' =\" /,`\"\" `) /\n",
      "  L.        \\`:::a:f            c_/     n_'\n",
      "  ..`--...___`.  .    ,  \n",
      "   `^-....____:   +.      www.gwoptics.org/pykat\n",
      "\n"
     ]
    }
   ],
   "source": [
    "%matplotlib inline\n",
    "import pykat\n",
    "import pykat.optics.ABCD as abcd\n",
    "from pykat.tools import modematching\n",
    "import pylab as pl\n",
    "import pandas\n",
    "import matplotlib.pyplot as plt\n",
    "import matplotlib\n",
    "import csv\n",
    "import math\n",
    "import numpy as np\n",
    "from finding_f_TL import *\n",
    "#from pykat.parallel import parakat\n",
    "#import pykat.optics.gaussian_beams as gb\n",
    "\n",
    "\n",
    "pandas.set_eng_float_format(accuracy=3, use_eng_prefix=True)"
   ]
  },
  {
   "cell_type": "code",
   "execution_count": 3,
   "metadata": {
    "collapsed": true
   },
   "outputs": [],
   "source": [
    "#Commands to get QM-lim sensitivity\n",
    "commands = \"\"\"\n",
    "tf sus 1 0 p $mech_fres $mech_Q\n",
    "const mech_fres 1  # Approx. resonance frequency\n",
    "const mech_Q    1M # Guess for suspension Q factor\n",
    "# Differentially modulate the strain in the arms\n",
    "fsig darm  LXarm 1 0 1\n",
    "fsig darm2 LYarm 1 180 1\n",
    "sq sqz 0 10 0 nsqz\n",
    "#qnoisedS NSR_with_RP 1 $fs nOMC_AROC_trans\n",
    "#xaxis darm f log 5 5k 50\n",
    "yaxis lin re:im\n",
    "noxaxis\n",
    "retrace off\n",
    "\"\"\"\n",
    "###Add amplitude detectors to get Higher-Order mordal content within the cavity at the carrier freq\n",
    "amplitude_detectors = \"\"\"\n",
    "ad nSRMHRaTEM00 0 0 0 nSRMHRa\n",
    "ad nSRMHRaTEM01 0 1 0 nSRMHRa\n",
    "ad nSRMHRaTEM02 0 2 0 nSRMHRa\n",
    "ad nSRMHRaTEM03 0 3 0 nSRMHRa\n",
    "ad nSRMHRaTEM04 0 4 0 nSRMHRa\n",
    "\"\"\"\n",
    "###Add photodetectors to get gaussian beam parameters right outside of SRC after the anti-thermal lens correction\n",
    "pds = \"\"\"\n",
    "bp SRCoutx x q nIBAin\n",
    "bp SRCouty y q nIBAin\n",
    "\n",
    "bp SRMYqx x q nSRMHRa\n",
    "bp SRMYqy y q nSRMHRa\n",
    "\n",
    "bp ITMXqx x q nITMX2\n",
    "bp ITMXqy y q nITMX2\n",
    "\n",
    "bp ITMYqx x q nITMY2\n",
    "bp ITMYqy y q nITMY2\n",
    "\n",
    "bp OMCqx x q nOMC_HROC_refl\n",
    "bp OMCqy y q nOMC_HROC_refl\n",
    "\"\"\""
   ]
  },
  {
   "cell_type": "code",
   "execution_count": 4,
   "metadata": {
    "collapsed": false
   },
   "outputs": [],
   "source": [
    "#load the original kat file (ie Perfect Modematching)\n",
    "katfile = \"aLIGO_IFO_AWC_tuning_DCoff_maxtem4_modified.kat\" \n",
    "basekat = pykat.finesse.kat() \n",
    "basekat.loadKatFile(katfile)\n",
    "\n",
    "#### Add commands above\n",
    "basekat.parseCommands(commands)\n",
    "basekat.parseCommands(amplitude_detectors)\n",
    "basekat.parseCommands(pds)\n",
    "\n",
    "basekat.undumpNodes() #undump the vacuum nodes\n",
    "kat=basekat.deepcopy() #copy kat code\n",
    "kat.verbose = False\n",
    "\n",
    "out_perfect_mm = kat.run()\n",
    "\n",
    "SR3_Rc_orig = kat.SR3.Rc.value\n",
    "\n",
    "#out_perfect_mm_trace = kat.run(getTraceData=True)"
   ]
  },
  {
   "cell_type": "code",
   "execution_count": 5,
   "metadata": {
    "collapsed": false
   },
   "outputs": [],
   "source": [
    "SRCTL_q_perfect_x = out_perfect_mm[\"SRCoutx\"]\n",
    "SRCTL_q_perfect_y = out_perfect_mm[\"SRCouty\"]\n",
    "\n",
    "SRMY_q_perfect_x = out_perfect_mm[\"SRMYqx\"]\n",
    "SRMY_q_perfect_y = out_perfect_mm[\"SRMYqy\"]\n",
    "\n",
    "ITMX_q_perfect_x = out_perfect_mm[\"ITMXqx\"]\n",
    "ITMX_q_perfect_y = out_perfect_mm[\"ITMXqy\"]\n",
    "\n",
    "ITMY_q_perfect_x = out_perfect_mm[\"ITMYqx\"]\n",
    "ITMY_q_perfect_y = out_perfect_mm[\"ITMYqy\"]\n",
    "\n",
    "OMC_q_perfect_x = out_perfect_mm[\"OMCqx\"]\n",
    "OMC_q_perfect_y = out_perfect_mm[\"OMCqy\"]"
   ]
  },
  {
   "cell_type": "code",
   "execution_count": 6,
   "metadata": {
    "collapsed": true
   },
   "outputs": [],
   "source": [
    "for allcavs in kat.getAll(pykat.commands.cavity):\n",
    "    allcavs.enabled = False\n",
    "\n",
    "kat.cavSRY.enabled = True\n",
    "\n",
    "out_test= kat.run(getTraceData = True)\n",
    "\n",
    "kat.cavSRY.enabled = False\n",
    "kat.cavXARM.enabled = True\n",
    "\n",
    "out_test1= kat.run(getTraceData = True)"
   ]
  },
  {
   "cell_type": "code",
   "execution_count": 7,
   "metadata": {
    "collapsed": false
   },
   "outputs": [],
   "source": [
    "t1 = out_test1[1][0]['nPRBS'][0]._gauss_param__q"
   ]
  },
  {
   "cell_type": "code",
   "execution_count": 8,
   "metadata": {
    "collapsed": false
   },
   "outputs": [],
   "source": [
    "t = out_test[1][0]['nPRBS'][0]._gauss_param__q"
   ]
  },
  {
   "cell_type": "code",
   "execution_count": 9,
   "metadata": {
    "collapsed": false
   },
   "outputs": [
    {
     "data": {
      "text/plain": [
       "((1355.15649200328+225.95789793595j),\n",
       " (1355.17097026103+225.942757840206j),\n",
       " (4.7332034336154596+2.1322989861486299j))"
      ]
     },
     "execution_count": 9,
     "metadata": {},
     "output_type": "execute_result"
    }
   ],
   "source": [
    "t,t1,SRMY_q_perfect_x"
   ]
  },
  {
   "cell_type": "code",
   "execution_count": 10,
   "metadata": {
    "collapsed": false,
    "scrolled": true
   },
   "outputs": [
    {
     "name": "stdout",
     "output_type": "stream",
     "text": [
      "--------------------------------------------------------------\n",
      "Running kat - Started at 2016-09-01 09:08:00.081623\n"
     ]
    },
    {
     "name": "stderr",
     "output_type": "stream",
     "text": [
      "\r",
      "  0% | ETA:  --:--:-- | Calculating                                            \r",
      "100% | ETA:  0:00:00 | Calculating                                             "
     ]
    },
    {
     "name": "stdout",
     "output_type": "stream",
     "text": [
      "\n",
      "Finished in 2.00871 seconds\n",
      "--------------------------------------------------------------\n",
      "Running kat - Started at 2016-09-01 09:08:02.091255\n"
     ]
    },
    {
     "name": "stderr",
     "output_type": "stream",
     "text": [
      "\r",
      "  0% | ETA:  --:--:-- | Calculating                                            \r",
      "100% | ETA:  0:00:00 | Calculating                                             "
     ]
    },
    {
     "name": "stdout",
     "output_type": "stream",
     "text": [
      "\n",
      "Finished in 2.02421 seconds\n",
      "--------------------------------------------------------------\n",
      "Running kat - Started at 2016-09-01 09:08:04.116033\n"
     ]
    },
    {
     "name": "stderr",
     "output_type": "stream",
     "text": [
      "\r",
      "  0% | ETA:  --:--:-- | Calculating                                            \r",
      "100% | ETA:  0:00:00 | Calculating                                             "
     ]
    },
    {
     "name": "stdout",
     "output_type": "stream",
     "text": [
      "\n",
      "Finished in 2.02798 seconds\n",
      "--------------------------------------------------------------\n",
      "Running kat - Started at 2016-09-01 09:08:06.144603\n"
     ]
    },
    {
     "name": "stderr",
     "output_type": "stream",
     "text": [
      "\r",
      "  0% | ETA:  --:--:-- | Calculating                                            \r",
      "100% | ETA:  0:00:00 | Calculating                                             "
     ]
    },
    {
     "name": "stdout",
     "output_type": "stream",
     "text": [
      "\n",
      "Finished in 2.05628 seconds\n",
      "--------------------------------------------------------------\n",
      "Running kat - Started at 2016-09-01 09:08:08.394940\n"
     ]
    },
    {
     "name": "stderr",
     "output_type": "stream",
     "text": [
      "\r",
      "  0% | ETA:  --:--:-- | Calculating                                            \r",
      "100% | ETA:  0:00:00 | Calculating                                             "
     ]
    },
    {
     "name": "stdout",
     "output_type": "stream",
     "text": [
      "\n",
      "Finished in 2.00695 seconds\n",
      "--------------------------------------------------------------\n",
      "Running kat - Started at 2016-09-01 09:08:10.402759\n"
     ]
    },
    {
     "name": "stderr",
     "output_type": "stream",
     "text": [
      "\r",
      "  0% | ETA:  --:--:-- | Calculating                                            \r",
      "100% | ETA:  0:00:00 | Calculating                                             "
     ]
    },
    {
     "name": "stdout",
     "output_type": "stream",
     "text": [
      "\n",
      "Finished in 2.10079 seconds\n",
      "--------------------------------------------------------------\n",
      "Running kat - Started at 2016-09-01 09:08:12.504283\n"
     ]
    },
    {
     "name": "stderr",
     "output_type": "stream",
     "text": [
      "\r",
      "  0% | ETA:  --:--:-- | Calculating                                            \r",
      "100% | ETA:  0:00:00 | Calculating                                             "
     ]
    },
    {
     "name": "stdout",
     "output_type": "stream",
     "text": [
      "\n",
      "Finished in 2.02132 seconds\n",
      "--------------------------------------------------------------\n",
      "Running kat - Started at 2016-09-01 09:08:14.526357\n"
     ]
    },
    {
     "name": "stderr",
     "output_type": "stream",
     "text": [
      "\r",
      "  0% | ETA:  --:--:-- | Calculating                                            \r",
      "100% | ETA:  0:00:00 | Calculating                                             "
     ]
    },
    {
     "name": "stdout",
     "output_type": "stream",
     "text": [
      "\n",
      "Finished in 2.02717 seconds\n",
      "--------------------------------------------------------------\n",
      "Running kat - Started at 2016-09-01 09:08:16.693357\n"
     ]
    },
    {
     "name": "stderr",
     "output_type": "stream",
     "text": [
      "\r",
      "  0% | ETA:  --:--:-- | Calculating                                            \r",
      "100% | ETA:  0:00:00 | Calculating                                             "
     ]
    },
    {
     "name": "stdout",
     "output_type": "stream",
     "text": [
      "\n",
      "Finished in 2.00303 seconds\n",
      "--------------------------------------------------------------\n",
      "Running kat - Started at 2016-09-01 09:08:18.697294\n"
     ]
    },
    {
     "name": "stderr",
     "output_type": "stream",
     "text": [
      "\r",
      "  0% | ETA:  --:--:-- | Calculating                                            \r",
      "100% | ETA:  0:00:00 | Calculating                                             "
     ]
    },
    {
     "name": "stdout",
     "output_type": "stream",
     "text": [
      "\n",
      "Finished in 2.05388 seconds\n",
      "--------------------------------------------------------------\n",
      "Running kat - Started at 2016-09-01 09:08:20.752019\n"
     ]
    },
    {
     "name": "stderr",
     "output_type": "stream",
     "text": [
      "\r",
      "  0% | ETA:  --:--:-- | Calculating                                            \r",
      "100% | ETA:  0:00:00 | Calculating                                             "
     ]
    },
    {
     "name": "stdout",
     "output_type": "stream",
     "text": [
      "\n",
      "Finished in 2.02682 seconds\n",
      "--------------------------------------------------------------\n",
      "Running kat - Started at 2016-09-01 09:08:22.779669\n"
     ]
    },
    {
     "name": "stderr",
     "output_type": "stream",
     "text": [
      "\r",
      "  0% | ETA:  --:--:-- | Calculating                                            \r",
      "100% | ETA:  0:00:00 | Calculating                                             "
     ]
    },
    {
     "name": "stdout",
     "output_type": "stream",
     "text": [
      "\n",
      "Finished in 2.11176 seconds\n",
      "--------------------------------------------------------------\n",
      "Running kat - Started at 2016-09-01 09:08:25.034957\n"
     ]
    },
    {
     "name": "stderr",
     "output_type": "stream",
     "text": [
      "\r",
      "  0% | ETA:  --:--:-- | Calculating                                            \r",
      "100% | ETA:  0:00:00 | Calculating                                             "
     ]
    },
    {
     "name": "stdout",
     "output_type": "stream",
     "text": [
      "\n",
      "Finished in 2.40649 seconds\n",
      "--------------------------------------------------------------\n",
      "Running kat - Started at 2016-09-01 09:08:27.442963\n"
     ]
    },
    {
     "name": "stderr",
     "output_type": "stream",
     "text": [
      "\r",
      "  0% | ETA:  --:--:-- | Calculating                                            \r",
      "100% | ETA:  0:00:00 | Calculating                                             "
     ]
    },
    {
     "name": "stdout",
     "output_type": "stream",
     "text": [
      "\n",
      "Finished in 2.39348 seconds\n",
      "--------------------------------------------------------------\n",
      "Running kat - Started at 2016-09-01 09:08:29.837254\n"
     ]
    },
    {
     "name": "stderr",
     "output_type": "stream",
     "text": [
      "\r",
      "  0% | ETA:  --:--:-- | Calculating                                            \r",
      "100% | ETA:  0:00:00 | Calculating                                             "
     ]
    },
    {
     "name": "stdout",
     "output_type": "stream",
     "text": [
      "\n",
      "Finished in 2.338 seconds\n",
      "--------------------------------------------------------------\n",
      "Running kat - Started at 2016-09-01 09:08:32.176106\n"
     ]
    },
    {
     "name": "stderr",
     "output_type": "stream",
     "text": [
      "\r",
      "  0% | ETA:  --:--:-- | Calculating                                            \r",
      "100% | ETA:  0:00:00 | Calculating                                             "
     ]
    },
    {
     "name": "stdout",
     "output_type": "stream",
     "text": [
      "\n",
      "Finished in 2.04622 seconds\n",
      "--------------------------------------------------------------\n",
      "Running kat - Started at 2016-09-01 09:08:34.366150\n"
     ]
    },
    {
     "name": "stderr",
     "output_type": "stream",
     "text": [
      "\r",
      "  0% | ETA:  --:--:-- | Calculating                                            \r",
      "100% | ETA:  0:00:00 | Calculating                                             "
     ]
    },
    {
     "name": "stdout",
     "output_type": "stream",
     "text": [
      "\n",
      "Finished in 2.07342 seconds\n",
      "--------------------------------------------------------------\n",
      "Running kat - Started at 2016-09-01 09:08:36.440412\n"
     ]
    },
    {
     "name": "stderr",
     "output_type": "stream",
     "text": [
      "\r",
      "  0% | ETA:  --:--:-- | Calculating                                            \r",
      "100% | ETA:  0:00:00 | Calculating                                             "
     ]
    },
    {
     "name": "stdout",
     "output_type": "stream",
     "text": [
      "\n",
      "Finished in 2.33874 seconds\n",
      "--------------------------------------------------------------\n",
      "Running kat - Started at 2016-09-01 09:08:38.779960\n"
     ]
    },
    {
     "name": "stderr",
     "output_type": "stream",
     "text": [
      "\r",
      "  0% | ETA:  --:--:-- | Calculating                                            \r",
      "100% | ETA:  0:00:00 | Calculating                                             "
     ]
    },
    {
     "name": "stdout",
     "output_type": "stream",
     "text": [
      "\n",
      "Finished in 2.46471 seconds\n",
      "--------------------------------------------------------------\n",
      "Running kat - Started at 2016-09-01 09:08:41.245811\n"
     ]
    },
    {
     "name": "stderr",
     "output_type": "stream",
     "text": [
      "\r",
      "  0% | ETA:  --:--:-- | Calculating                                            \r",
      "100% | ETA:  0:00:00 | Calculating                                             "
     ]
    },
    {
     "name": "stdout",
     "output_type": "stream",
     "text": [
      "\n",
      "Finished in 2.45734 seconds\n",
      "--------------------------------------------------------------\n",
      "Running kat - Started at 2016-09-01 09:08:43.978174\n"
     ]
    },
    {
     "name": "stderr",
     "output_type": "stream",
     "text": [
      "\r",
      "  0% | ETA:  --:--:-- | Calculating                                            \r",
      "100% | ETA:  0:00:00 | Calculating                                             "
     ]
    },
    {
     "name": "stdout",
     "output_type": "stream",
     "text": [
      "\n",
      "Finished in 2.13235 seconds\n",
      "--------------------------------------------------------------\n",
      "Running kat - Started at 2016-09-01 09:08:46.111590\n"
     ]
    },
    {
     "name": "stderr",
     "output_type": "stream",
     "text": [
      "\r",
      "  0% | ETA:  --:--:-- | Calculating                                            \r",
      "100% | ETA:  0:00:00 | Calculating                                             "
     ]
    },
    {
     "name": "stdout",
     "output_type": "stream",
     "text": [
      "\n",
      "Finished in 2.26172 seconds\n",
      "--------------------------------------------------------------\n",
      "Running kat - Started at 2016-09-01 09:08:48.374119\n"
     ]
    },
    {
     "name": "stderr",
     "output_type": "stream",
     "text": [
      "\r",
      "  0% | ETA:  --:--:-- | Calculating                                            \r",
      "100% | ETA:  0:00:00 | Calculating                                             "
     ]
    },
    {
     "name": "stdout",
     "output_type": "stream",
     "text": [
      "\n",
      "Finished in 2.31338 seconds\n",
      "--------------------------------------------------------------\n",
      "Running kat - Started at 2016-09-01 09:08:50.688308\n"
     ]
    },
    {
     "name": "stderr",
     "output_type": "stream",
     "text": [
      "\r",
      "  0% | ETA:  --:--:-- | Calculating                                            \r",
      "100% | ETA:  0:00:00 | Calculating                                             "
     ]
    },
    {
     "name": "stdout",
     "output_type": "stream",
     "text": [
      "\n",
      "Finished in 2.20648 seconds\n",
      "--------------------------------------------------------------\n",
      "Running kat - Started at 2016-09-01 09:08:53.055644\n"
     ]
    },
    {
     "name": "stderr",
     "output_type": "stream",
     "text": [
      "\r",
      "  0% | ETA:  --:--:-- | Calculating                                            \r",
      "100% | ETA:  0:00:00 | Calculating                                             "
     ]
    },
    {
     "name": "stdout",
     "output_type": "stream",
     "text": [
      "\n",
      "Finished in 2.12885 seconds\n",
      "--------------------------------------------------------------\n",
      "Running kat - Started at 2016-09-01 09:08:55.185549\n"
     ]
    },
    {
     "name": "stderr",
     "output_type": "stream",
     "text": [
      "\r",
      "  0% | ETA:  --:--:-- | Calculating                                            \r",
      "100% | ETA:  0:00:00 | Calculating                                             "
     ]
    },
    {
     "name": "stdout",
     "output_type": "stream",
     "text": [
      "\n",
      "Finished in 2.19109 seconds\n",
      "--------------------------------------------------------------\n",
      "Running kat - Started at 2016-09-01 09:08:57.377526\n"
     ]
    },
    {
     "name": "stderr",
     "output_type": "stream",
     "text": [
      "\r",
      "  0% | ETA:  --:--:-- | Calculating                                            \r",
      "100% | ETA:  0:00:00 | Calculating                                             "
     ]
    },
    {
     "name": "stdout",
     "output_type": "stream",
     "text": [
      "\n",
      "Finished in 2.1057 seconds\n",
      "--------------------------------------------------------------\n",
      "Running kat - Started at 2016-09-01 09:08:59.484111\n"
     ]
    },
    {
     "name": "stderr",
     "output_type": "stream",
     "text": [
      "\r",
      "  0% | ETA:  --:--:-- | Calculating                                            \r",
      "100% | ETA:  0:00:00 | Calculating                                             "
     ]
    },
    {
     "name": "stdout",
     "output_type": "stream",
     "text": [
      "\n",
      "Finished in 2.20627 seconds\n",
      "--------------------------------------------------------------\n",
      "Running kat - Started at 2016-09-01 09:09:01.845233\n"
     ]
    },
    {
     "name": "stderr",
     "output_type": "stream",
     "text": [
      "\r",
      "  0% | ETA:  --:--:-- | Calculating                                            \r",
      "100% | ETA:  0:00:00 | Calculating                                             "
     ]
    },
    {
     "name": "stdout",
     "output_type": "stream",
     "text": [
      "\n",
      "Finished in 2.26338 seconds\n",
      "--------------------------------------------------------------\n",
      "Running kat - Started at 2016-09-01 09:09:04.110001\n"
     ]
    },
    {
     "name": "stderr",
     "output_type": "stream",
     "text": [
      "\r",
      "  0% | ETA:  --:--:-- | Calculating                                            \r",
      "100% | ETA:  0:00:00 | Calculating                                             "
     ]
    },
    {
     "name": "stdout",
     "output_type": "stream",
     "text": [
      "\n",
      "Finished in 2.2457 seconds\n",
      "--------------------------------------------------------------\n",
      "Running kat - Started at 2016-09-01 09:09:06.356531\n"
     ]
    },
    {
     "name": "stderr",
     "output_type": "stream",
     "text": [
      "\r",
      "  0% | ETA:  --:--:-- | Calculating                                            \r",
      "100% | ETA:  0:00:00 | Calculating                                             "
     ]
    },
    {
     "name": "stdout",
     "output_type": "stream",
     "text": [
      "\n",
      "Finished in 2.21517 seconds\n",
      "--------------------------------------------------------------\n",
      "Running kat - Started at 2016-09-01 09:09:08.572567\n"
     ]
    },
    {
     "name": "stderr",
     "output_type": "stream",
     "text": [
      "\r",
      "  0% | ETA:  --:--:-- | Calculating                                            \r",
      "100% | ETA:  0:00:00 | Calculating                                             "
     ]
    },
    {
     "name": "stdout",
     "output_type": "stream",
     "text": [
      "\n",
      "Finished in 2.59206 seconds\n",
      "--------------------------------------------------------------\n",
      "Running kat - Started at 2016-09-01 09:09:11.372684\n"
     ]
    },
    {
     "name": "stderr",
     "output_type": "stream",
     "text": [
      "\r",
      "  0% | ETA:  --:--:-- | Calculating                                            \r",
      "100% | ETA:  0:00:00 | Calculating                                             "
     ]
    },
    {
     "name": "stdout",
     "output_type": "stream",
     "text": [
      "\n",
      "Finished in 2.85286 seconds\n",
      "--------------------------------------------------------------\n",
      "Running kat - Started at 2016-09-01 09:09:14.226687\n"
     ]
    },
    {
     "name": "stderr",
     "output_type": "stream",
     "text": [
      "\r",
      "  0% | ETA:  --:--:-- | Calculating                                            \r",
      "100% | ETA:  0:00:00 | Calculating                                             "
     ]
    },
    {
     "name": "stdout",
     "output_type": "stream",
     "text": [
      "\n",
      "Finished in 3.07812 seconds\n",
      "--------------------------------------------------------------\n",
      "Running kat - Started at 2016-09-01 09:09:17.305796\n"
     ]
    },
    {
     "name": "stderr",
     "output_type": "stream",
     "text": [
      "\r",
      "  0% | ETA:  --:--:-- | Calculating                                            \r",
      "100% | ETA:  0:00:00 | Calculating                                             "
     ]
    },
    {
     "name": "stdout",
     "output_type": "stream",
     "text": [
      "\n",
      "Finished in 3.17707 seconds\n",
      "--------------------------------------------------------------\n",
      "Running kat - Started at 2016-09-01 09:09:20.484090\n"
     ]
    },
    {
     "name": "stderr",
     "output_type": "stream",
     "text": [
      "\r",
      "  0% | ETA:  --:--:-- | Calculating                                            \r",
      "100% | ETA:  0:00:00 | Calculating                                             "
     ]
    },
    {
     "name": "stdout",
     "output_type": "stream",
     "text": [
      "\n",
      "Finished in 2.54571 seconds\n",
      "--------------------------------------------------------------\n",
      "Running kat - Started at 2016-09-01 09:09:23.440897\n"
     ]
    },
    {
     "name": "stderr",
     "output_type": "stream",
     "text": [
      "\r",
      "  0% | ETA:  --:--:-- | Calculating                                            \r",
      "100% | ETA:  0:00:00 | Calculating                                             "
     ]
    },
    {
     "name": "stdout",
     "output_type": "stream",
     "text": [
      "\n",
      "Finished in 2.51882 seconds\n",
      "--------------------------------------------------------------\n",
      "Running kat - Started at 2016-09-01 09:09:25.961334\n"
     ]
    },
    {
     "name": "stderr",
     "output_type": "stream",
     "text": [
      "\r",
      "  0% | ETA:  --:--:-- | Calculating                                            \r",
      "100% | ETA:  0:00:00 | Calculating                                             "
     ]
    },
    {
     "name": "stdout",
     "output_type": "stream",
     "text": [
      "\n",
      "Finished in 2.26942 seconds\n",
      "--------------------------------------------------------------\n",
      "Running kat - Started at 2016-09-01 09:09:28.231655\n"
     ]
    },
    {
     "name": "stderr",
     "output_type": "stream",
     "text": [
      "\r",
      "  0% | ETA:  --:--:-- | Calculating                                            \r",
      "100% | ETA:  0:00:00 | Calculating                                             "
     ]
    },
    {
     "name": "stdout",
     "output_type": "stream",
     "text": [
      "\n",
      "Finished in 2.13008 seconds\n",
      "--------------------------------------------------------------\n",
      "Running kat - Started at 2016-09-01 09:09:30.362636\n",
      "\n",
      "Finished in 2.12804 seconds\n"
     ]
    },
    {
     "name": "stderr",
     "output_type": "stream",
     "text": [
      "\r",
      "  0% | ETA:  --:--:-- | Calculating                                            \r",
      "100% | ETA:  0:00:00 | Calculating                                             "
     ]
    }
   ],
   "source": [
    "SR3Roc_offset = []\n",
    "\n",
    "SR3_q1_x_list = []\n",
    "SR3_q1_y_list = []\n",
    "\n",
    "max_offset = .02 #20cm Roc change in SRM curvature\n",
    "steps = 10\n",
    "\n",
    "overlap_SRC_to_ARM_x = []\n",
    "overlap_SRC_to_ARM_y = []\n",
    "\n",
    "overlap_OMC_to_ARM_x = []\n",
    "overlap_OMC_to_ARM_y = []\n",
    "\n",
    "\n",
    "for i in range(0,steps,1):\n",
    "    dRc = (float(i)/steps) * max_offset\n",
    "    SR3Roc_offset.append(dRc)\n",
    "    \n",
    "    ### Find the new q of SRC\n",
    "    basekat1 = pykat.finesse.kat() \n",
    "    basekat1.loadKatFile(katfile)\n",
    "\n",
    "    #### Add commands above\n",
    "    basekat1.parseCommands(commands)\n",
    "    basekat1.parseCommands(amplitude_detectors)\n",
    "    basekat1.parseCommands(pds)\n",
    "\n",
    "    basekat1.undumpNodes() #undump the vacuum nodes\n",
    "    kat1=basekat1.deepcopy() #copy kat code\n",
    "\n",
    "    SR3_Rc_new = SR3_Rc_orig + dRc\n",
    "    kat1.SR3.Rcx.value = SR3_Rc_new\n",
    "    kat1.SR3.Rcy.value = SR3_Rc_new\n",
    "    \n",
    "    out_new_SR3_roc = kat1.run()\n",
    "\n",
    "    SRCTL_q1_x = out_new_SR3_roc[\"SRCoutx\"]\n",
    "    SRCTL_q1_y = out_new_SR3_roc[\"SRCouty\"]\n",
    "\n",
    "    SR3_q1_x = out_new_SR3_roc[\"SRMYqx\"]\n",
    "    SR3_q1_y = out_new_SR3_roc[\"SRMYqy\"]\n",
    "    \n",
    "    SR3_q1_x_list.append(SR3_q1_x)\n",
    "    SR3_q1_y_list.append(SR3_q1_y)\n",
    "    ###### get the modulated SRC mode\n",
    "    \n",
    "    for cav in kat1.getAll(pykat.commands.cavity):\n",
    "        cav.enabled = False\n",
    "    kat1.cavSRY.enabled = True\n",
    "    out_get_mm1 = kat1.run(getTraceData = True)\n",
    "    a = out_get_mm1[1][0]['nPRBS'][0]._gauss_param__q\n",
    "\n",
    "    ###Get the x-arm mode\n",
    "    for cav in kat1.getAll(pykat.commands.cavity):\n",
    "        cav.enabled = False\n",
    "    kat1.cavXARM.enabled = True\n",
    "    out_get_mm2 = kat1.run(getTraceData = True)\n",
    "    b = out_get_mm2[1][0]['nPRBS'][0]._gauss_param__q \n",
    "\n",
    "    ### Get the OMC Mode\n",
    "    for cav in kat1.getAll(pykat.commands.cavity):\n",
    "        cav.enabled = False\n",
    "    kat1.cavOMC.enabled = True\n",
    "    out_get_mm3 = kat1.run(getTraceData = True)\n",
    "    c = out_get_mm3[1][0]['nPRBS'][0]._gauss_param__q \n",
    "    \n",
    "    overlap_SRC_to_ARM_x.append( pykat.beam_param.overlap(a, b))\n",
    "    overlap_OMC_to_ARM_x.append( pykat.beam_param.overlap(a, c))"
   ]
  },
  {
   "cell_type": "code",
   "execution_count": 11,
   "metadata": {
    "collapsed": false
   },
   "outputs": [
    {
     "data": {
      "text/plain": [
       "[0.0,\n",
       " 0.002,\n",
       " 0.004,\n",
       " 0.006,\n",
       " 0.008,\n",
       " 0.01,\n",
       " 0.012,\n",
       " 0.013999999999999999,\n",
       " 0.016,\n",
       " 0.018000000000000002]"
      ]
     },
     "execution_count": 11,
     "metadata": {},
     "output_type": "execute_result"
    }
   ],
   "source": [
    "SR3Roc_offset"
   ]
  },
  {
   "cell_type": "code",
   "execution_count": 12,
   "metadata": {
    "collapsed": false
   },
   "outputs": [
    {
     "data": {
      "text/plain": [
       "[0.9999999326320355,\n",
       " 0.999497203993679,\n",
       " 0.9978596226429328,\n",
       " 0.9948063800688437,\n",
       " 0.9899596118354864,\n",
       " 0.9827977360186183,\n",
       " 0.972578010993822,\n",
       " 0.9582006918404586,\n",
       " 0.9379533638721684,\n",
       " 0.908982879211761]"
      ]
     },
     "execution_count": 12,
     "metadata": {},
     "output_type": "execute_result"
    }
   ],
   "source": [
    "overlap_OMC_to_ARM_x"
   ]
  },
  {
   "cell_type": "code",
   "execution_count": 13,
   "metadata": {
    "collapsed": false,
    "scrolled": true
   },
   "outputs": [],
   "source": [
    "q_refin_x_list = []\n",
    "q_refin_y_list = []\n",
    "q_refout_x_list = []\n",
    "q_refout_y_list = []\n",
    "\n",
    "q_BS_SRMY_x = []\n",
    "q_BS_SRMY_y = []\n",
    "\n",
    "q_BS_ITMY_x = []\n",
    "q_BS_ITMY_y = []\n",
    "\n",
    "\n",
    "for i in range(0,steps,1):\n",
    "    #propogate the new q through the \"original\" setup \n",
    "    basekat2 = pykat.finesse.kat() \n",
    "    basekat2.loadKatFile(katfile)\n",
    "\n",
    "    #### Add commands above\n",
    "    basekat2.parseCommands(commands)\n",
    "    basekat2.parseCommands(amplitude_detectors)\n",
    "    basekat2.parseCommands(pds)\n",
    "\n",
    "    ####Set the modulated q-parameter\n",
    "    comp2 = 'SRMHR'\n",
    "    node2 = 'nSRMHRa'\n",
    "    real_qx2 = str(float(np.real(SR3_q1_x_list[i])))\n",
    "    imag_qx2 = str(float(np.imag(SR3_q1_x_list[i])))\n",
    "    real_qy2 = str(float(np.real(SR3_q1_y_list[i])))\n",
    "    imag_qy2 = str(float(np.imag(SR3_q1_y_list[i])))\n",
    "    gauss2 = \"gauss* \" + \"gaussina\" + \" \" + comp2 + \" \" + node2\\\n",
    "    + \" \" + real_qx2 + \" \" + imag_qx2 + \" \" + real_qy2 + \" \" + imag_qy2\n",
    "    basekat2.parseCommands(gauss2)\n",
    "\n",
    "    basekat2.undumpNodes() #undump the vacuum nodes\n",
    "    kat2=basekat2.deepcopy() #copy kat code\n",
    "    kat2.verbose = False\n",
    "\n",
    "    ###turn off all cav commands\n",
    "    for cav in kat2.getAll(pykat.commands.cavity):\n",
    "        cav.enabled = False\n",
    "        \n",
    "    kat2.cavSRY.enabled = True\n",
    "\n",
    "    out_get_q_ref = kat2.run(getTraceData = True)\n",
    "\n",
    "    q_refin_x_list.append(out_get_q_ref[1][0]['nSRMARb'][0]._gauss_param__q)\n",
    "    q_refin_y_list.append(out_get_q_ref[1][0]['nSRMARb'][1]._gauss_param__q)\n",
    "\n",
    "    q_refout_x_list.append(out_get_q_ref[1][0]['nIBAin'][0]._gauss_param__q)\n",
    "    q_refout_y_list.append(out_get_q_ref[1][0]['nIBAin'][1]._gauss_param__q)\n",
    "    \n",
    "    q_BS_SRMY_x.append(out_get_q_ref[1][0]['nPRBS'][0]._gauss_param__q)\n",
    "    q_BS_SRMY_y.append(out_get_q_ref[1][0]['nPRBS'][1]._gauss_param__q)"
   ]
  },
  {
   "cell_type": "code",
   "execution_count": 14,
   "metadata": {
    "collapsed": false,
    "scrolled": true
   },
   "outputs": [
    {
     "name": "stdout",
     "output_type": "stream",
     "text": [
      "  Modematching...\n",
      "  Match found!\n",
      "  res = 0.0113418710647\n",
      "  d1 = 0.471310628713 m\n",
      "  d2 = 0.0100004096234 m\n",
      "  d3 = 0.0102049616632 m\n",
      "  f1 = -9.5 m\n",
      "  f2 = 9.55 m\n",
      "  D_tot = 0.491516 m\n",
      "  Modematching...\n",
      "  Match found!\n",
      "  res = 0.0114140028647\n",
      "  d1 = 0.471310628713 m\n",
      "  d2 = 0.0100004096234 m\n",
      "  d3 = 0.0102049616632 m\n",
      "  f1 = -9.5 m\n",
      "  f2 = 9.55 m\n",
      "  D_tot = 0.491516 m\n",
      "  Modematching...\n",
      "  Match found!\n",
      "  res = 0.0114858876147\n",
      "  d1 = 0.471310628713 m\n",
      "  d2 = 0.0100004096234 m\n",
      "  d3 = 0.0102049616632 m\n",
      "  f1 = -9.5 m\n",
      "  f2 = 9.55 m\n",
      "  D_tot = 0.491516 m\n",
      "  Modematching...\n",
      "  Match found!\n",
      "  res = 0.0115575267807\n",
      "  d1 = 0.471310628713 m\n",
      "  d2 = 0.0100004096234 m\n",
      "  d3 = 0.0102049616632 m\n",
      "  f1 = -9.5 m\n",
      "  f2 = 9.55 m\n",
      "  D_tot = 0.491516 m\n",
      "  Modematching...\n",
      "  Match found!\n",
      "  res = 0.0116289218111\n",
      "  d1 = 0.471310628713 m\n",
      "  d2 = 0.0100004096234 m\n",
      "  d3 = 0.0102049616632 m\n",
      "  f1 = -9.5 m\n",
      "  f2 = 9.55 m\n",
      "  D_tot = 0.491516 m\n",
      "  Modematching...\n",
      "  Match found!\n",
      "  res = 0.0117000741375\n",
      "  d1 = 0.471310628713 m\n",
      "  d2 = 0.0100004096234 m\n",
      "  d3 = 0.0102049616632 m\n",
      "  f1 = -9.5 m\n",
      "  f2 = 9.55 m\n",
      "  D_tot = 0.491516 m\n",
      "  Modematching...\n",
      "  Match found!\n",
      "  res = 0.0117709851749\n",
      "  d1 = 0.471310628713 m\n",
      "  d2 = 0.0100004096234 m\n",
      "  d3 = 0.0102049616632 m\n",
      "  f1 = -9.5 m\n",
      "  f2 = 9.55 m\n",
      "  D_tot = 0.491516 m\n",
      "  Modematching...\n",
      "  Match found!\n",
      "  res = 0.0118416563223\n",
      "  d1 = 0.471310628713 m\n",
      "  d2 = 0.0100004096234 m\n",
      "  d3 = 0.0102049616632 m\n",
      "  f1 = -9.5 m\n",
      "  f2 = 9.55 m\n",
      "  D_tot = 0.491516 m\n",
      "  Modematching...\n",
      "  Match found!\n",
      "  res = 0.0119120889627\n",
      "  d1 = 0.471310628713 m\n",
      "  d2 = 0.0100004096234 m\n",
      "  d3 = 0.0102049616632 m\n",
      "  f1 = -9.5 m\n",
      "  f2 = 9.55 m\n",
      "  D_tot = 0.491516 m\n",
      "  Modematching...\n",
      "  Match found!\n",
      "  res = 0.011982284464\n",
      "  d1 = 0.471310628713 m\n",
      "  d2 = 0.0100004096234 m\n",
      "  d3 = 0.0102049616632 m\n",
      "  f1 = -9.5 m\n",
      "  f2 = 9.55 m\n",
      "  D_tot = 0.491516 m\n"
     ]
    }
   ],
   "source": [
    "darm_commands = \"\"\"\n",
    "tf sus 1 0 p $mech_fres $mech_Q\n",
    "const mech_fres 1  # Approx. resonance frequency\n",
    "const mech_Q    1M # Guess for suspension Q factor\n",
    "# Differentially modulate the strain in the arms\n",
    "fsig darm  LXarm 1 0 1\n",
    "fsig darm2 LYarm 1 180 1\n",
    "sq sqz 0 10 0 nsqz\n",
    "qnoisedS NSR_with_RP 1 $fs nOMC_AROC_trans\n",
    "xaxis darm f log 5 5k 50\n",
    "yaxis lin re:im\n",
    "retrace off\n",
    "\"\"\"\n",
    "darm_list = []\n",
    "freq = []\n",
    "for i in range(0,steps,1):\n",
    "    basekat3 = pykat.finesse.kat() \n",
    "    basekat3.loadKatFile(katfile)\n",
    "\n",
    "    #### Add commands above\n",
    "    basekat3.parseCommands(darm_commands)\n",
    "    basekat3.parseCommands(amplitude_detectors)\n",
    "    basekat3.parseCommands(pds)\n",
    "  \n",
    "    basekat3.undumpNodes() #undump the vacuum nodes\n",
    "    kat3=basekat3.deepcopy() #copy kat code\n",
    "    kat3.verbose = False\n",
    "    \n",
    "    SR3_Rc = kat.SR3.Rc\n",
    "    dRc = SR3Roc_offset[i]\n",
    "    \n",
    "    kat3.SR3.Rcx.value = SR3_Rc + dRc\n",
    "    kat3.SR3.Rcy.value = SR3_Rc + dRc\n",
    "\n",
    "    q1 = q_refin_x_list[i]\n",
    "    q2 = q_refout_x_list[i]\n",
    "    D = 0.491516 # total distance from SRC to OFI\n",
    "    c1 = .01 #minimum distances\n",
    "    c2 = .01\n",
    "    c3 = .01\n",
    "\n",
    "    [f1, f2, d1, d2, d3, res, isMM] = modematching.modematch2(q1, q2, D, c1, c2, c3)\n",
    "\n",
    "    kat3.lSRMTT1.L.value = d1\n",
    "    kat3.SRMTT1.f.value = f1\n",
    "    kat3.lSRMTT2.L.value = d2\n",
    "    kat3.SRMTT2.f.value = f2\n",
    "    kat3.lIBAin.L.value = d3\n",
    "\n",
    "    out3 = kat3.run()\n",
    "\n",
    "    SRCTL_q3_x = out3[\"SRCoutx\"]\n",
    "    SRCTL_q3_y = out3[\"SRCouty\"]\n",
    "\n",
    "    SRMY_q3_x = out3[\"SRMYqx\"]\n",
    "    SRMY_q3_y = out3[\"SRMYqy\"]\n",
    "    \n",
    "    freq.append(out3.x)\n",
    "    darm_list.append(out3['NSR_with_RP'])\n"
   ]
  },
  {
   "cell_type": "code",
   "execution_count": 18,
   "metadata": {
    "collapsed": false,
    "scrolled": false
   },
   "outputs": [
    {
     "name": "stderr",
     "output_type": "stream",
     "text": [
      "/home/thomasvo/anaconda3/lib/python3.5/site-packages/matplotlib/axes/_axes.py:519: UserWarning: No labelled objects found. Use label='...' kwarg on individual plots.\n",
      "  warnings.warn(\"No labelled objects found. \"\n"
     ]
    },
    {
     "data": {
      "image/png": "[encoded data removed]",
      "text/plain": [
       "<matplotlib.figure.Figure at 0x7f838be71dd8>"
      ]
     },
     "metadata": {},
     "output_type": "display_data"
    }
   ],
   "source": [
    "#matplotlib.RcParams.update({'font.size', 'Large'})\n",
    "\n",
    "pl.figure(figsize=(18, 10), dpi=80)\n",
    "\n",
    "cm = pl.cm.Spectral_r\n",
    "norm = matplotlib.colors.Normalize(0, .02)\n",
    "\n",
    "s_m = matplotlib.cm.ScalarMappable(cmap=cm, norm=norm)\n",
    "s_m.set_array([])\n",
    "\n",
    "\n",
    "for i in range(0, len(darm_list),1):\n",
    "    c = c = s_m.to_rgba(SR3Roc_offset[i])\n",
    "    pl.subplot(111)\n",
    "    pl.loglog(freq[0], np.real(darm_list[i]),linewidth=3,zorder=1000, color = c,)\n",
    "\n",
    "pl.title(\"Quantum noise limited strain sensitivity\",fontsize=20)\n",
    "pl.xlim(freq[0].min(),freq[0].max())\n",
    "\n",
    "pl.grid(True, zorder=-1)\n",
    "pl.legend()\n",
    "\n",
    "pl.xlabel(\"Frequency [Hz]\",fontsize=20)\n",
    "pl.ylabel(\"Strain sensitivity [$1/\\\\sqrt{\\mathrm{Hz}}$]\",fontsize=20)\n",
    "\n",
    "\n",
    "cb = pl.colorbar(s_m)\n",
    "cb.set_label(\"SR3 Offset(meters)\", fontsize = 20)\n",
    "cb.ax.tick_params(labelsize=10) \n",
    "cb.update_ticks()\n",
    "\n",
    "\n",
    "pl.show()"
   ]
  },
  {
   "cell_type": "code",
   "execution_count": 16,
   "metadata": {
    "collapsed": false
   },
   "outputs": [
    {
     "data": {
      "text/plain": [
       "(array([ 0.9 ,  0.92,  0.94,  0.96,  0.98,  1.  ]),\n",
       " <a list of 6 Text yticklabel objects>)"
      ]
     },
     "execution_count": 16,
     "metadata": {},
     "output_type": "execute_result"
    },
    {
     "data": {
      "image/png": "[encoded data removed]",
      "text/plain": [
       "<matplotlib.figure.Figure at 0x7f838bd97358>"
      ]
     },
     "metadata": {},
     "output_type": "display_data"
    }
   ],
   "source": [
    "pl.figure(figsize=(18, 10), dpi=80)\n",
    "\n",
    "pl.plot( SR3Roc_offset,overlap_SRC_to_ARM_x,linewidth=3, label = 'SRC to ARM xaxis')\n",
    "pl.plot( SR3Roc_offset,overlap_OMC_to_ARM_x,linewidth=3, label = 'OMC to ARM xaxis')\n",
    "pl.grid(True, zorder=-1)\n",
    "pl.legend()\n",
    "\n",
    "pl.xlabel('SR3 Roc Offset from Nominal',fontsize=20)\n",
    "pl.ylabel('Modematching at BS',fontsize=20)\n",
    "\n",
    "pl.xticks(fontsize = 20)\n",
    "pl.yticks(fontsize = 20)"
   ]
  },
  {
   "cell_type": "code",
   "execution_count": 17,
   "metadata": {
    "collapsed": false
   },
   "outputs": [
    {
     "name": "stderr",
     "output_type": "stream",
     "text": [
      "/home/thomasvo/anaconda3/lib/python3.5/site-packages/numpy/core/numeric.py:482: ComplexWarning: Casting complex values to real discards the imaginary part\n",
      "  return array(a, dtype, copy=False, order=order)\n",
      "/home/thomasvo/anaconda3/lib/python3.5/site-packages/matplotlib/axes/_axes.py:519: UserWarning: No labelled objects found. Use label='...' kwarg on individual plots.\n",
      "  warnings.warn(\"No labelled objects found. \"\n"
     ]
    },
    {
     "data": {
      "image/png": "[encoded data removed]",
      "text/plain": [
       "<matplotlib.figure.Figure at 0x7f838bd846d8>"
      ]
     },
     "metadata": {},
     "output_type": "display_data"
    }
   ],
   "source": [
    "#matplotlib.RcParams.update({'font.size', 'Large'})\n",
    "\n",
    "pl.figure(figsize=(18, 10), dpi=80)\n",
    "\n",
    "\n",
    "pl.loglog(freq[0], darm_list[0],linewidth=3,zorder=1000, )\n",
    "\n",
    "pl.title(\"Quantum noise limited strain sensitivity\",fontsize=20)\n",
    "pl.xlim(freq[0].min(),freq[0].max())\n",
    "\n",
    "pl.grid(True, zorder=-1)\n",
    "pl.legend()\n",
    "\n",
    "pl.xlabel(\"Frequency [Hz]\",fontsize=20)\n",
    "pl.ylabel(\"Strain sensitivity [$1/\\\\sqrt{\\mathrm{Hz}}$]\",fontsize=20)\n",
    "\n",
    "\n",
    "\n",
    "pl.show()"
   ]
  },
  {
   "cell_type": "code",
   "execution_count": null,
   "metadata": {
    "collapsed": false
   },
   "outputs": [],
   "source": []
  },
  {
   "cell_type": "code",
   "execution_count": null,
   "metadata": {
    "collapsed": false
   },
   "outputs": [],
   "source": []
  }
 ],
 "metadata": {
  "kernelspec": {
   "display_name": "Python 3",
   "language": "python",
   "name": "python3"
  },
  "language_info": {
   "codemirror_mode": {
    "name": "ipython",
    "version": 3
   },
   "file_extension": ".py",
   "mimetype": "text/x-python",
   "name": "python",
   "nbconvert_exporter": "python",
   "pygments_lexer": "ipython3",
   "version": "3.5.1"
  }
 },
 "nbformat": 4,
 "nbformat_minor": 0
}
