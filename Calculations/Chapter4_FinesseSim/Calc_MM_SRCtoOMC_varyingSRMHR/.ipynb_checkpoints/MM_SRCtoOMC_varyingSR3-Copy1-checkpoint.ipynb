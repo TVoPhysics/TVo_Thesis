{
 "cells": [
  {
   "cell_type": "code",
   "execution_count": 68,
   "metadata": {
    "collapsed": true
   },
   "outputs": [],
   "source": [
    "####\n",
    "#Question: How does changing the SRC Eigenmode ONLY effect the QM-limited Sensitivity?\n",
    "#Question: How does changing the lensing of the beam coming from SRC effect the QM-limited Sensitivity?\n",
    "####"
   ]
  },
  {
   "cell_type": "code",
   "execution_count": 69,
   "metadata": {
    "collapsed": false
   },
   "outputs": [],
   "source": [
    "%matplotlib inline\n",
    "import pykat\n",
    "import pykat.optics.ABCD as abcd\n",
    "from pykat.tools import modematching\n",
    "import pylab as pl\n",
    "import pandas\n",
    "import matplotlib.pyplot as plt\n",
    "import matplotlib\n",
    "import csv\n",
    "import math\n",
    "import numpy as np\n",
    "from finding_f_TL import *\n",
    "#from pykat.parallel import parakat\n",
    "#import pykat.optics.gaussian_beams as gb\n",
    "\n",
    "\n",
    "pandas.set_eng_float_format(accuracy=3, use_eng_prefix=True)"
   ]
  },
  {
   "cell_type": "code",
   "execution_count": 70,
   "metadata": {
    "collapsed": true
   },
   "outputs": [],
   "source": [
    "#Commands to get QM-lim sensitivity\n",
    "commands = \"\"\"\n",
    "tf sus 1 0 p $mech_fres $mech_Q\n",
    "const mech_fres 1  # Approx. resonance frequency\n",
    "const mech_Q    1M # Guess for suspension Q factor\n",
    "# Differentially modulate the strain in the arms\n",
    "fsig darm  LXarm 1 0 1\n",
    "fsig darm2 LYarm 1 180 1\n",
    "sq sqz 0 10 0 nsqz\n",
    "#qnoisedS NSR_with_RP 1 $fs nOMC_AROC_trans\n",
    "#xaxis darm f log 5 5k 50\n",
    "yaxis lin re:im\n",
    "noxaxis\n",
    "retrace off\n",
    "\"\"\"\n",
    "###Add amplitude detectors to get Higher-Order mordal content within the cavity at the carrier freq\n",
    "amplitude_detectors = \"\"\"\n",
    "ad nSRMHRaTEM00 0 0 0 nSRMHRa\n",
    "ad nSRMHRaTEM01 0 1 0 nSRMHRa\n",
    "ad nSRMHRaTEM02 0 2 0 nSRMHRa\n",
    "ad nSRMHRaTEM03 0 3 0 nSRMHRa\n",
    "ad nSRMHRaTEM04 0 4 0 nSRMHRa\n",
    "\"\"\"\n",
    "###Add photodetectors to get gaussian beam parameters right outside of SRC after the anti-thermal lens correction\n",
    "pds = \"\"\"\n",
    "bp SRCoutx x q nIBAin\n",
    "bp SRCouty y q nIBAin\n",
    "\n",
    "bp SRMYqx x q nSRMHRa\n",
    "bp SRMYqy y q nSRMHRa\n",
    "\n",
    "bp ITMXqx x q nITMX2\n",
    "bp ITMXqy y q nITMX2\n",
    "\n",
    "bp ITMYqx x q nITMY2\n",
    "bp ITMYqy y q nITMY2\n",
    "\n",
    "bp OMCqx x q nOMC_HROC_refl\n",
    "bp OMCqy y q nOMC_HROC_refl\n",
    "\"\"\""
   ]
  },
  {
   "cell_type": "code",
   "execution_count": 71,
   "metadata": {
    "collapsed": false
   },
   "outputs": [],
   "source": [
    "#load the original kat file (ie Perfect Modematching)\n",
    "katfile = \"aLIGO_IFO_AWC_tuning_DCoff_maxtem4_modified.kat\" \n",
    "basekat = pykat.finesse.kat() \n",
    "basekat.loadKatFile(katfile)\n",
    "\n",
    "#### Add commands above\n",
    "basekat.parseCommands(commands)\n",
    "basekat.parseCommands(amplitude_detectors)\n",
    "basekat.parseCommands(pds)\n",
    "\n",
    "basekat.undumpNodes() #undump the vacuum nodes\n",
    "kat=basekat.deepcopy() #copy kat code\n",
    "kat.verbose = False\n",
    "\n",
    "out_perfect_mm = kat.run()\n",
    "\n",
    "SRMHR_Rc_orig = kat.SRMHR.Rc.value\n",
    "\n",
    "#out_perfect_mm_trace = kat.run(getTraceData=True)"
   ]
  },
  {
   "cell_type": "code",
   "execution_count": 72,
   "metadata": {
    "collapsed": false
   },
   "outputs": [],
   "source": [
    "SRCTL_q_perfect_x = out_perfect_mm[\"SRCoutx\"]\n",
    "SRCTL_q_perfect_y = out_perfect_mm[\"SRCouty\"]\n",
    "\n",
    "SRMY_q_perfect_x = out_perfect_mm[\"SRMYqx\"]\n",
    "SRMY_q_perfect_y = out_perfect_mm[\"SRMYqy\"]\n",
    "\n",
    "ITMX_q_perfect_x = out_perfect_mm[\"ITMXqx\"]\n",
    "ITMX_q_perfect_y = out_perfect_mm[\"ITMXqy\"]\n",
    "\n",
    "ITMY_q_perfect_x = out_perfect_mm[\"ITMYqx\"]\n",
    "ITMY_q_perfect_y = out_perfect_mm[\"ITMYqy\"]\n",
    "\n",
    "OMC_q_perfect_x = out_perfect_mm[\"OMCqx\"]\n",
    "OMC_q_perfect_y = out_perfect_mm[\"OMCqy\"]"
   ]
  },
  {
   "cell_type": "code",
   "execution_count": 73,
   "metadata": {
    "collapsed": false
   },
   "outputs": [
    {
     "data": {
      "text/plain": [
       "(4.7332034336154596+2.1322989861486299j)"
      ]
     },
     "execution_count": 73,
     "metadata": {},
     "output_type": "execute_result"
    }
   ],
   "source": [
    "SRMY_q_perfect_x"
   ]
  },
  {
   "cell_type": "code",
   "execution_count": 74,
   "metadata": {
    "collapsed": false,
    "scrolled": true
   },
   "outputs": [
    {
     "name": "stdout",
     "output_type": "stream",
     "text": [
      "--------------------------------------------------------------\n",
      "Running kat - Started at 2016-08-31 00:01:45.371849\n"
     ]
    },
    {
     "name": "stderr",
     "output_type": "stream",
     "text": [
      "\r",
      "  0% | ETA:  --:--:-- | Calculating                                            \r",
      "100% | ETA:  0:00:00 | Calculating                                             "
     ]
    },
    {
     "name": "stdout",
     "output_type": "stream",
     "text": [
      "\n",
      "Finished in 2.29746 seconds\n",
      "--------------------------------------------------------------\n",
      "Running kat - Started at 2016-08-31 00:01:47.824846\n"
     ]
    },
    {
     "name": "stderr",
     "output_type": "stream",
     "text": [
      "\r",
      "  0% | ETA:  --:--:-- | Calculating                                            \r",
      "100% | ETA:  0:00:00 | Calculating                                             "
     ]
    },
    {
     "name": "stdout",
     "output_type": "stream",
     "text": [
      "\n",
      "Finished in 2.27338 seconds\n",
      "--------------------------------------------------------------\n",
      "Running kat - Started at 2016-08-31 00:01:50.258478\n"
     ]
    },
    {
     "name": "stderr",
     "output_type": "stream",
     "text": [
      "\r",
      "  0% | ETA:  --:--:-- | Calculating                                            \r",
      "100% | ETA:  0:00:00 | Calculating                                             "
     ]
    },
    {
     "name": "stdout",
     "output_type": "stream",
     "text": [
      "\n",
      "Finished in 2.30911 seconds\n",
      "--------------------------------------------------------------\n",
      "Running kat - Started at 2016-08-31 00:01:52.734707\n"
     ]
    },
    {
     "name": "stderr",
     "output_type": "stream",
     "text": [
      "\r",
      "  0% | ETA:  --:--:-- | Calculating                                            \r",
      "100% | ETA:  0:00:00 | Calculating                                             "
     ]
    },
    {
     "name": "stdout",
     "output_type": "stream",
     "text": [
      "\n",
      "Finished in 2.26781 seconds\n",
      "--------------------------------------------------------------\n",
      "Running kat - Started at 2016-08-31 00:01:55.315747\n"
     ]
    },
    {
     "name": "stderr",
     "output_type": "stream",
     "text": [
      "\r",
      "  0% | ETA:  --:--:-- | Calculating                                            \r",
      "100% | ETA:  0:00:00 | Calculating                                             "
     ]
    },
    {
     "name": "stdout",
     "output_type": "stream",
     "text": [
      "\n",
      "Finished in 2.57071 seconds\n",
      "--------------------------------------------------------------\n",
      "Running kat - Started at 2016-08-31 00:01:58.051569\n"
     ]
    },
    {
     "name": "stderr",
     "output_type": "stream",
     "text": [
      "\r",
      "  0% | ETA:  --:--:-- | Calculating                                            \r",
      "100% | ETA:  0:00:00 | Calculating                                             "
     ]
    },
    {
     "name": "stdout",
     "output_type": "stream",
     "text": [
      "\n",
      "Finished in 2.3073 seconds\n",
      "--------------------------------------------------------------\n",
      "Running kat - Started at 2016-08-31 00:02:00.516435\n"
     ]
    },
    {
     "name": "stderr",
     "output_type": "stream",
     "text": [
      "\r",
      "  0% | ETA:  --:--:-- | Calculating                                            \r",
      "100% | ETA:  0:00:00 | Calculating                                             "
     ]
    },
    {
     "name": "stdout",
     "output_type": "stream",
     "text": [
      "\n",
      "Finished in 2.32061 seconds\n",
      "--------------------------------------------------------------\n",
      "Running kat - Started at 2016-08-31 00:02:02.998755\n"
     ]
    },
    {
     "name": "stderr",
     "output_type": "stream",
     "text": [
      "\r",
      "  0% | ETA:  --:--:-- | Calculating                                            \r",
      "100% | ETA:  0:00:00 | Calculating                                             "
     ]
    },
    {
     "name": "stdout",
     "output_type": "stream",
     "text": [
      "\n",
      "Finished in 2.30425 seconds\n",
      "--------------------------------------------------------------\n",
      "Running kat - Started at 2016-08-31 00:02:05.603551\n"
     ]
    },
    {
     "name": "stderr",
     "output_type": "stream",
     "text": [
      "\r",
      "  0% | ETA:  --:--:-- | Calculating                                            \r",
      "100% | ETA:  0:00:00 | Calculating                                             "
     ]
    },
    {
     "name": "stdout",
     "output_type": "stream",
     "text": [
      "\n",
      "Finished in 2.25507 seconds\n",
      "--------------------------------------------------------------\n",
      "Running kat - Started at 2016-08-31 00:02:08.013118\n",
      "\n",
      "Finished in 2.29348 seconds\n"
     ]
    },
    {
     "name": "stderr",
     "output_type": "stream",
     "text": [
      "\r",
      "  0% | ETA:  --:--:-- | Calculating                                            \r",
      "100% | ETA:  0:00:00 | Calculating                                             "
     ]
    }
   ],
   "source": [
    "SRMRoc_offset = []\n",
    "SRMY_q1_x_list = []\n",
    "SRMY_q1_y_list = []\n",
    "\n",
    "max_offset = .2 #20mm Roc change in SRM curvature\n",
    "steps = 10\n",
    "\n",
    "for i in range(0,steps,1):\n",
    "    dRc = (float(i)/steps) * max_offset\n",
    "    SRMRoc_offset.append(dRc)\n",
    "    \n",
    "    ### Find the new q of SRC\n",
    "    basekat1 = pykat.finesse.kat() \n",
    "    basekat1.loadKatFile(katfile)\n",
    "\n",
    "    #### Add commands above\n",
    "    basekat1.parseCommands(commands)\n",
    "    basekat1.parseCommands(amplitude_detectors)\n",
    "    basekat1.parseCommands(pds)\n",
    "\n",
    "    basekat1.undumpNodes() #undump the vacuum nodes\n",
    "    kat1=basekat.deepcopy() #copy kat code\n",
    "\n",
    "    SRMHR_Rc_new = SRMHR_Rc_orig + dRc\n",
    "    kat1.SRMHR.Rcx.value = SRMHR_Rc_new\n",
    "    kat1.SRMHR.Rcy.value = SRMHR_Rc_new\n",
    "\n",
    "    out_new_SRM_roc = kat1.run()\n",
    "\n",
    "    SRCTL_q1_x = out_new_SRM_roc[\"SRCoutx\"]\n",
    "    SRCTL_q1_y = out_new_SRM_roc[\"SRCouty\"]\n",
    "\n",
    "    SRMY_q1_x = out_new_SRM_roc[\"SRMYqx\"]\n",
    "    SRMY_q1_y = out_new_SRM_roc[\"SRMYqy\"]\n",
    "    \n",
    "    SRMY_q1_x_list.append(SRMY_q1_x)\n",
    "    SRMY_q1_y_list.append(SRMY_q1_y)"
   ]
  },
  {
   "cell_type": "code",
   "execution_count": 75,
   "metadata": {
    "collapsed": false
   },
   "outputs": [
    {
     "data": {
      "text/plain": [
       "[(4.7332034336154596+2.1322989861486299j),\n",
       " (4.73795491144105+2.1057045931672902j),\n",
       " (4.7427159384982804+2.07870462062216j),\n",
       " (4.74748654360332+2.0512828200074602j),\n",
       " (4.7522667556883702+2.0234218037429699j),\n",
       " (4.7570566038023001+1.99510292931723j),\n",
       " (4.7618561171111899+1.9663061677889999j),\n",
       " (4.7666653248989697+1.93700995398312j),\n",
       " (4.7714842565679598+1.90719101516336j),\n",
       " (4.77631294163952+1.8768241742738601j)]"
      ]
     },
     "execution_count": 75,
     "metadata": {},
     "output_type": "execute_result"
    }
   ],
   "source": [
    "SRMY_q1_x_list"
   ]
  },
  {
   "cell_type": "code",
   "execution_count": 76,
   "metadata": {
    "collapsed": false,
    "scrolled": true
   },
   "outputs": [],
   "source": [
    "q_refin_x_list = []\n",
    "q_refin_y_list = []\n",
    "q_refout_x_list = []\n",
    "q_refout_y_list = []\n",
    "\n",
    "for i in range(0,steps,1):\n",
    "    #propogate the new q through the \"original\" setup \n",
    "    basekat2 = pykat.finesse.kat() \n",
    "    basekat2.loadKatFile(katfile)\n",
    "\n",
    "    #### Add commands above\n",
    "    basekat2.parseCommands(commands)\n",
    "    basekat2.parseCommands(amplitude_detectors)\n",
    "    basekat2.parseCommands(pds)\n",
    "\n",
    "    ####Set the modulated q-parameter\n",
    "    comp2 = 'SRMHR'\n",
    "    node2 = 'nSRMHRa'\n",
    "    real_qx2 = str(float(np.real(SRMY_q1_x_list[i])))\n",
    "    imag_qx2 = str(float(np.imag(SRMY_q1_x_list[i])))\n",
    "    real_qy2 = str(float(np.real(SRMY_q1_y_list[i])))\n",
    "    imag_qy2 = str(float(np.imag(SRMY_q1_y_list[i])))\n",
    "    gauss2 = \"gauss* \" + \"gaussina\" + \" \" + comp2 + \" \" + node2\\\n",
    "    + \" \" + real_qx2 + \" \" + imag_qx2 + \" \" + real_qy2 + \" \" + imag_qy2\n",
    "    basekat2.parseCommands(gauss2)\n",
    "\n",
    "    basekat2.undumpNodes() #undump the vacuum nodes\n",
    "    kat2=basekat2.deepcopy() #copy kat code\n",
    "    kat2.verbose = False\n",
    "\n",
    "    ###turn off all cav commands\n",
    "    for cav in kat2.getAll(pykat.commands.cavity):\n",
    "        cav.enabled = False\n",
    "\n",
    "    out_get_q_ref = kat2.run(getTraceData = True)\n",
    "\n",
    "    q_refin_x_list.append(out_get_q_ref[1][0]['nSRMARb'][0]._gauss_param__q)\n",
    "    q_refin_y_list.append(out_get_q_ref[1][0]['nSRMARb'][1]._gauss_param__q)\n",
    "\n",
    "    q_refout_x_list.append(out_get_q_ref[1][0]['nIBAin'][0]._gauss_param__q)\n",
    "    q_refout_y_list.append(out_get_q_ref[1][0]['nIBAin'][1]._gauss_param__q)"
   ]
  },
  {
   "cell_type": "code",
   "execution_count": 77,
   "metadata": {
    "collapsed": false
   },
   "outputs": [
    {
     "data": {
      "text/plain": [
       "[(-3.53016898678524+1.11311829446929j),\n",
       " (-3.52924477095107+1.09904698278015j),\n",
       " (-3.5283190152436+1.08476846694728j),\n",
       " (-3.52739171581115+1.07027438947201j),\n",
       " (-3.52646286878917+1.05555580487922j),\n",
       " (-3.52553247030024+1.04060311982778j),\n",
       " (-3.52460051645393+1.02540602512927j),\n",
       " (-3.52366700334684+1.00995341829654j),\n",
       " (-3.52273192706245+0.994233314956737j),\n",
       " (-3.52179528367115+0.978232747105857j)]"
      ]
     },
     "execution_count": 77,
     "metadata": {},
     "output_type": "execute_result"
    }
   ],
   "source": [
    "q_refin_x_list"
   ]
  },
  {
   "cell_type": "code",
   "execution_count": 85,
   "metadata": {
    "collapsed": false,
    "scrolled": true
   },
   "outputs": [
    {
     "name": "stdout",
     "output_type": "stream",
     "text": [
      "  Modematching...\n",
      "  Match found!\n",
      "  res = 0.0113418710647\n",
      "  d1 = 0.471310628713 m\n",
      "  d2 = 0.0100004096234 m\n",
      "  d3 = 0.0102049616632 m\n",
      "  f1 = -9.5 m\n",
      "  f2 = 9.55 m\n",
      "  D_tot = 0.491516 m\n",
      "  Modematching...\n",
      "  Match found!\n",
      "  res = 0.0113179719298\n",
      "  d1 = 0.471310628713 m\n",
      "  d2 = 0.0100004096234 m\n",
      "  d3 = 0.0102049616632 m\n",
      "  f1 = -9.5 m\n",
      "  f2 = 9.55 m\n",
      "  D_tot = 0.491516 m\n",
      "  Modematching...\n",
      "  Match found!\n",
      "  res = 0.0112940113708\n",
      "  d1 = 0.471310628713 m\n",
      "  d2 = 0.0100004096234 m\n",
      "  d3 = 0.0102049616632 m\n",
      "  f1 = -9.5 m\n",
      "  f2 = 9.55 m\n",
      "  D_tot = 0.491516 m\n",
      "  Modematching...\n",
      "  Match found!\n",
      "  res = 0.0112699890417\n",
      "  d1 = 0.471310628713 m\n",
      "  d2 = 0.0100004096234 m\n",
      "  d3 = 0.0102049616632 m\n",
      "  f1 = -9.5 m\n",
      "  f2 = 9.55 m\n",
      "  D_tot = 0.491516 m\n",
      "  Modematching...\n",
      "  Match found!\n",
      "  res = 0.0112459045929\n",
      "  d1 = 0.471310628713 m\n",
      "  d2 = 0.0100004096234 m\n",
      "  d3 = 0.0102049616632 m\n",
      "  f1 = -9.5 m\n",
      "  f2 = 9.55 m\n",
      "  D_tot = 0.491516 m\n",
      "  Modematching...\n",
      "  Match found!\n",
      "  res = 0.0112217576711\n",
      "  d1 = 0.471310628713 m\n",
      "  d2 = 0.0100004096234 m\n",
      "  d3 = 0.0102049616632 m\n",
      "  f1 = -9.5 m\n",
      "  f2 = 9.55 m\n",
      "  D_tot = 0.491516 m\n",
      "  Modematching...\n",
      "  Match found!\n",
      "  res = 0.0111975479193\n",
      "  d1 = 0.471310628713 m\n",
      "  d2 = 0.0100004096234 m\n",
      "  d3 = 0.0102049616632 m\n",
      "  f1 = -9.5 m\n",
      "  f2 = 9.55 m\n",
      "  D_tot = 0.491516 m\n",
      "  Modematching...\n",
      "  Match found!\n",
      "  res = 0.011173274977\n",
      "  d1 = 0.471310628713 m\n",
      "  d2 = 0.0100004096234 m\n",
      "  d3 = 0.0102049616632 m\n",
      "  f1 = -9.5 m\n",
      "  f2 = 9.55 m\n",
      "  D_tot = 0.491516 m\n",
      "  Modematching...\n",
      "  Match found!\n",
      "  res = 0.0111489384795\n",
      "  d1 = 0.471310628713 m\n",
      "  d2 = 0.0100004096234 m\n",
      "  d3 = 0.0102049616632 m\n",
      "  f1 = -9.5 m\n",
      "  f2 = 9.55 m\n",
      "  D_tot = 0.491516 m\n",
      "  Modematching...\n",
      "  Match found!\n",
      "  res = 0.0111245380586\n",
      "  d1 = 0.471310628713 m\n",
      "  d2 = 0.0100004096234 m\n",
      "  d3 = 0.0102049616632 m\n",
      "  f1 = -9.5 m\n",
      "  f2 = 9.55 m\n",
      "  D_tot = 0.491516 m\n"
     ]
    }
   ],
   "source": [
    "darm_commands = \"\"\"\n",
    "tf sus 1 0 p $mech_fres $mech_Q\n",
    "const mech_fres 1  # Approx. resonance frequency\n",
    "const mech_Q    1M # Guess for suspension Q factor\n",
    "# Differentially modulate the strain in the arms\n",
    "fsig darm  LXarm 1 0 1\n",
    "fsig darm2 LYarm 1 180 1\n",
    "sq sqz 0 10 0 nsqz\n",
    "qnoisedS NSR_with_RP 1 $fs nOMC_AROC_trans\n",
    "xaxis darm f log 5 5k 50\n",
    "yaxis lin re:im\n",
    "retrace off\n",
    "\"\"\"\n",
    "darm_list = []\n",
    "freq = []\n",
    "for i in range(0,steps,1):\n",
    "    basekat3 = pykat.finesse.kat() \n",
    "    basekat3.loadKatFile(katfile)\n",
    "\n",
    "    #### Add commands above\n",
    "    basekat3.parseCommands(darm_commands)\n",
    "    basekat3.parseCommands(amplitude_detectors)\n",
    "    basekat3.parseCommands(pds)\n",
    "  \n",
    "    basekat3.undumpNodes() #undump the vacuum nodes\n",
    "    kat3=basekat3.deepcopy() #copy kat code\n",
    "    kat3.verbose = False\n",
    "    \n",
    "    SRMHR_Rc = kat.SRMHR.Rc\n",
    "    dRc = SRMRoc_offset[i]\n",
    "    \n",
    "    kat3.SRMHR.Rcx.value = SRMHR_Rc + dRc\n",
    "    kat3.SRMHR.Rcy.value = SRMHR_Rc + dRc\n",
    "\n",
    "    q1 = q_refin_x_list[i]\n",
    "    q2 = q_refout_x_list[i]\n",
    "    D = 0.491516 # total distance from SRC to OFI\n",
    "    c1 = .01 #minimum distances\n",
    "    c2 = .01\n",
    "    c3 = .01\n",
    "\n",
    "    [f1, f2, d1, d2, d3, res, isMM] = modematching.modematch2(q1, q2, D, c1, c2, c3)\n",
    "\n",
    "    kat3.lSRMTT1.L.value = d1\n",
    "    kat3.SRMTT1.f.value = f1\n",
    "    kat3.lSRMTT2.L.value = d2\n",
    "    kat3.SRMTT2.f.value = f2\n",
    "    kat3.lIBAin.L.value = d3\n",
    "\n",
    "    out3 = kat3.run()\n",
    "\n",
    "    SRCTL_q3_x = out3[\"SRCoutx\"]\n",
    "    SRCTL_q3_y = out3[\"SRCouty\"]\n",
    "\n",
    "    SRMY_q3_x = out3[\"SRMYqx\"]\n",
    "    SRMY_q3_y = out3[\"SRMYqy\"]\n",
    "    \n",
    "    freq.append(out3.x)\n",
    "    darm_list.append(out3['NSR_with_RP'])\n"
   ]
  },
  {
   "cell_type": "code",
   "execution_count": 86,
   "metadata": {
    "collapsed": false
   },
   "outputs": [
    {
     "data": {
      "text/plain": [
       "array([[  1.18937387e-22,   8.81667651e-23,   6.61196061e-23,\n",
       "          4.98036287e-23,   3.75960059e-23,   2.84180085e-23,\n",
       "          2.14998265e-23,   1.62769568e-23,   1.23303403e-23,\n",
       "          9.34687768e-24,   7.09176424e-24,   5.38853411e-24,\n",
       "          4.10443261e-24,   3.13957770e-24,   2.41884510e-24,\n",
       "          1.88570262e-24,   1.49742047e-24,   1.22126292e-24,\n",
       "          1.03146352e-24,   9.06983251e-25,   8.30195023e-25,\n",
       "          7.86560910e-25,   7.64887638e-25,   7.57402141e-25,\n",
       "          7.59304982e-25,   7.68039271e-25,   7.82613790e-25,\n",
       "          8.03140461e-25,   8.30599840e-25,   8.66490828e-25,\n",
       "          9.06458403e-25,   9.42386904e-25,   1.00596612e-24,\n",
       "          1.08758331e-24,   1.18634351e-24,   1.30497027e-24,\n",
       "          1.44640925e-24,   1.61409629e-24,   1.81174303e-24,\n",
       "          2.04337853e-24,   2.31366198e-24,   2.62792922e-24,\n",
       "          2.99231846e-24,   3.41390794e-24,   3.90086964e-24,\n",
       "          4.46264440e-24,   5.11014497e-24,   5.85599431e-24,\n",
       "          6.71480873e-24,   7.70353775e-24,   8.84187573e-24],\n",
       "       [  1.19340457e-22,   8.86544225e-23,   6.65109822e-23,\n",
       "          5.01028460e-23,   3.78230085e-23,   2.85901224e-23,\n",
       "          2.16304300e-23,   1.63761743e-23,   1.24058116e-23,\n",
       "          9.40436898e-24,   7.13563105e-24,   5.42206824e-24,\n",
       "          4.13012240e-24,   3.15930378e-24,   2.43402780e-24,\n",
       "          1.89741333e-24,   1.50646591e-24,   1.22824993e-24,\n",
       "          1.03685153e-24,   9.11130481e-25,   8.33396301e-25,\n",
       "          7.89067973e-25,   7.66911797e-25,   7.59112422e-25,\n",
       "          7.60831744e-25,   7.69483275e-25,   7.84056772e-25,\n",
       "          8.04653363e-25,   8.32237844e-25,   8.68187508e-25,\n",
       "          9.07223508e-25,   9.42031495e-25,   1.00640481e-24,\n",
       "          1.08867713e-24,   1.18794799e-24,   1.30705182e-24,\n",
       "          1.44893751e-24,   1.61709825e-24,   1.81529116e-24,\n",
       "          2.04753373e-24,   2.31849932e-24,   2.63353835e-24,\n",
       "          2.99880464e-24,   3.42139362e-24,   3.90949645e-24,\n",
       "          4.47257557e-24,   5.12156804e-24,   5.86912416e-24,\n",
       "          6.72989070e-24,   7.72085038e-24,   8.86173224e-24],\n",
       "       [  1.20010963e-22,   8.93064193e-23,   6.70236467e-23,\n",
       "          5.04935816e-23,   3.81193556e-23,   2.88148934e-23,\n",
       "          2.18010998e-23,   1.65059456e-23,   1.25046421e-23,\n",
       "          9.47977331e-24,   7.19328491e-24,   5.46626053e-24,\n",
       "          4.16409427e-24,   3.18550302e-24,   2.45429997e-24,\n",
       "          1.91314549e-24,   1.51869543e-24,   1.23774945e-24,\n",
       "          1.04420145e-24,   9.16785725e-25,   8.37740289e-25,\n",
       "          7.92437696e-25,   7.69595865e-25,   7.61343768e-25,\n",
       "          7.62790074e-25,   7.71306639e-25,   7.85856107e-25,\n",
       "          8.06525236e-25,   8.34265861e-25,   8.70350430e-25,\n",
       "          9.08581159e-25,   9.42189724e-25,   1.00733569e-24,\n",
       "          1.09032424e-24,   1.19019638e-24,   1.30989276e-24,\n",
       "          1.45233595e-24,   1.62109955e-24,   1.82000306e-24,\n",
       "          2.05303964e-24,   2.32490029e-24,   2.64095415e-24,\n",
       "          3.00737522e-24,   3.43128134e-24,   3.92088884e-24,\n",
       "          4.48568860e-24,   5.13664983e-24,   5.88645908e-24,\n",
       "          6.74980361e-24,   7.74371070e-24,   8.88795639e-24],\n",
       "       [  1.20952740e-22,   9.01339334e-23,   6.76663249e-23,\n",
       "          5.09824230e-23,   3.84900238e-23,   2.90960865e-23,\n",
       "          2.20146875e-23,   1.66684324e-23,   1.26284720e-23,\n",
       "          9.57433661e-24,   7.26567342e-24,   5.52183305e-24,\n",
       "          4.20689994e-24,   3.21859883e-24,   2.47998880e-24,\n",
       "          1.93315460e-24,   1.53431134e-24,   1.24992417e-24,\n",
       "          1.05364546e-24,   9.24056393e-25,   8.43313482e-25,\n",
       "          7.96739238e-25,   7.72995526e-25,   7.64142240e-25,\n",
       "          7.65219856e-25,   7.73545942e-25,   7.88047477e-25,\n",
       "          8.08793017e-25,   8.36724147e-25,   8.73024409e-25,\n",
       "          9.10570688e-25,   9.42882941e-25,   1.00878927e-24,\n",
       "          1.09256703e-24,   1.19314289e-24,   1.31356155e-24,\n",
       "          1.45667519e-24,   1.62618129e-24,   1.82597549e-24,\n",
       "          2.06000967e-24,   2.33299683e-24,   2.65032940e-24,\n",
       "          3.01820665e-24,   3.44377453e-24,   3.93528107e-24,\n",
       "          4.50225304e-24,   5.15570028e-24,   5.90835523e-24,\n",
       "          6.77495660e-24,   7.77258844e-24,   8.92108720e-24],\n",
       "       [  1.22173199e-22,   9.11488215e-23,   6.84482260e-23,\n",
       "          5.15763221e-23,   3.89402617e-23,   2.94376691e-23,\n",
       "          2.22741948e-23,   1.68659068e-23,   1.27790223e-23,\n",
       "          9.68936301e-24,   7.35378559e-24,   5.58953668e-24,\n",
       "          4.25911077e-24,   3.25902773e-24,   2.51143022e-24,\n",
       "          1.95770232e-24,   1.55352109e-24,   1.26494198e-24,\n",
       "          1.06532168e-24,   9.33056500e-25,   8.50209199e-25,\n",
       "          8.02048275e-25,   7.77172408e-25,   7.67559299e-25,\n",
       "          7.68166004e-25,   7.76242677e-25,   7.90671627e-25,\n",
       "          8.11499132e-25,   8.39659227e-25,   8.76261691e-25,\n",
       "          9.13238786e-25,   9.44136132e-25,   1.01080034e-24,\n",
       "          1.09545360e-24,   1.19684910e-24,   1.31813612e-24,\n",
       "          1.46203345e-24,   1.63243356e-24,   1.83331621e-24,\n",
       "          2.06857025e-24,   2.34293599e-24,   2.66183437e-24,\n",
       "          3.03149552e-24,   3.45909980e-24,   3.95293404e-24,\n",
       "          4.52256901e-24,   5.17906442e-24,   5.93520909e-24,\n",
       "          6.80580507e-24,   7.80800645e-24,   8.96172465e-24],\n",
       "       [  1.23682528e-22,   9.23636226e-23,   6.93790619e-23,\n",
       "          5.22826112e-23,   3.94756029e-23,   2.98438209e-23,\n",
       "          2.25827804e-23,   1.71007571e-23,   1.29580989e-23,\n",
       "          9.82621813e-24,   7.45865432e-24,   5.67015321e-24,\n",
       "          4.32131945e-24,   3.30724075e-24,   2.54897010e-24,\n",
       "          1.98705758e-24,   1.57653830e-24,   1.28297705e-24,\n",
       "          1.07937519e-24,   9.43907771e-25,   8.58528715e-25,\n",
       "          8.08448123e-25,   7.82195152e-25,   7.71652788e-25,\n",
       "          7.71679395e-25,   7.79444162e-25,   7.93775294e-25,\n",
       "          8.14692511e-25,   8.43125043e-25,   8.80123366e-25,\n",
       "          9.16641242e-25,   9.45979188e-25,   1.01340910e-24,\n",
       "          1.09903922e-24,   1.20138561e-24,   1.32370594e-24,\n",
       "          1.46849828e-24,   1.63995731e-24,   1.84214637e-24,\n",
       "          2.07886358e-24,   2.35488310e-24,   2.67566041e-24,\n",
       "          3.04746272e-24,   3.47751167e-24,   3.97414072e-24,\n",
       "          4.54697346e-24,   5.20712957e-24,   5.96746569e-24,\n",
       "          6.84286012e-24,   7.85055152e-24,   9.01054215e-24],\n",
       "       [  1.25493091e-22,   9.37915457e-23,   7.04690548e-23,\n",
       "          5.31090130e-23,   4.01018739e-23,   3.03189402e-23,\n",
       "          2.29437659e-23,   1.73754917e-23,   1.31675960e-23,\n",
       "          9.98633208e-24,   7.58135911e-24,   5.76449764e-24,\n",
       "          4.39414210e-24,   3.36370542e-24,   2.59296616e-24,\n",
       "          2.02149837e-24,   1.60358442e-24,   1.30421129e-24,\n",
       "          1.09595952e-24,   9.56741079e-25,   8.68382711e-25,\n",
       "          8.16031166e-25,   7.88140774e-25,   7.76488222e-25,\n",
       "          7.75818088e-25,   7.83204733e-25,   7.97412436e-25,\n",
       "          8.18429905e-25,   8.47184471e-25,   8.84681217e-25,\n",
       "          9.20845236e-25,   9.48448673e-25,   1.01666288e-24,\n",
       "          1.10338819e-24,   1.20683430e-24,   1.33037481e-24,\n",
       "          1.47616899e-24,   1.64886710e-24,   1.85260366e-24,\n",
       "          2.09105129e-24,   2.36902609e-24,   2.69202494e-24,\n",
       "          3.06635909e-24,   3.49929911e-24,   3.99923362e-24,\n",
       "          4.57584875e-24,   5.24033516e-24,   6.00562986e-24,\n",
       "          6.88670157e-24,   7.90088934e-24,   9.06830364e-24],\n",
       "       [  1.27618936e-22,   9.54464231e-23,   7.17289214e-23,\n",
       "          5.40636327e-23,   4.08251903e-23,   3.08676418e-23,\n",
       "          2.33606342e-23,   1.76927395e-23,   1.34094971e-23,\n",
       "          1.01712008e-23,   7.72302774e-24,   5.87342023e-24,\n",
       "          4.47822056e-24,   3.42890813e-24,   2.64379032e-24,\n",
       "          2.06131407e-24,   1.63489093e-24,   1.32883652e-24,\n",
       "          1.11523856e-24,   9.71698292e-25,   8.79893106e-25,\n",
       "          8.24900687e-25,   7.95096459e-25,   7.82140508e-25,\n",
       "          7.80648991e-25,   7.87587390e-25,   8.01645920e-25,\n",
       "          8.22777704e-25,   8.51911373e-25,   8.90020214e-25,\n",
       "          9.25932465e-25,   9.51590307e-25,   1.02061842e-24,\n",
       "          1.10857648e-24,   1.21329139e-24,   1.33826457e-24,\n",
       "          1.48516016e-24,   1.65929490e-24,   1.86484690e-24,\n",
       "          2.10531974e-24,   2.38558148e-24,   2.71117832e-24,\n",
       "          3.08847338e-24,   3.52479459e-24,   4.02859518e-24,\n",
       "          4.60963455e-24,   5.27918643e-24,   6.05028198e-24,\n",
       "          6.93799590e-24,   7.95978509e-24,   9.13588733e-24],\n",
       "       [  1.30075352e-22,   9.73426057e-23,   7.31698125e-23,\n",
       "          5.51549182e-23,   4.16519287e-23,   3.14947377e-23,\n",
       "          2.38370169e-23,   1.80552408e-23,   1.36858696e-23,\n",
       "          1.03823834e-23,   7.88483562e-24,   5.99780725e-24,\n",
       "          4.57422413e-24,   3.50335660e-24,   2.70183161e-24,\n",
       "          2.10680846e-24,   1.67070230e-24,   1.35705709e-24,\n",
       "          1.13738903e-24,   9.88934638e-25,   8.93195423e-25,\n",
       "          8.35173271e-25,   8.03161964e-25,   7.88696315e-25,\n",
       "          7.86250179e-25,   7.92666123e-25,   8.06549916e-25,\n",
       "          8.27814510e-25,   8.57393496e-25,   8.96242010e-25,\n",
       "          9.32003498e-25,   9.55462535e-25,   1.02534522e-24,\n",
       "          1.11469547e-24,   1.22087180e-24,   1.34752034e-24,\n",
       "          1.49560667e-24,   1.67139557e-24,   1.87906238e-24,\n",
       "          2.12188743e-24,   2.40480291e-24,   2.73341362e-24,\n",
       "          3.11414337e-24,   3.55438689e-24,   4.06267251e-24,\n",
       "          4.64884469e-24,   5.32427373e-24,   6.10210011e-24,\n",
       "          6.99752178e-24,   8.02813275e-24,   9.21431937e-24],\n",
       "       [  1.32878446e-22,   9.94947683e-23,   7.48031778e-23,\n",
       "          5.63915645e-23,   4.25886583e-23,   3.22051874e-23,\n",
       "          2.43766588e-23,   1.84658235e-23,   1.39988490e-23,\n",
       "          1.06214924e-23,   8.06800035e-24,   6.13857896e-24,\n",
       "          4.68284998e-24,   3.58758193e-24,   2.76749924e-24,\n",
       "          2.15830332e-24,   1.71127966e-24,   1.38909340e-24,\n",
       "          1.16260368e-24,   1.00862170e-24,   9.08441822e-25,\n",
       "          8.46981978e-25,   8.12452900e-25,   7.96257387e-25,\n",
       "          7.92714229e-25,   7.98529278e-25,   8.12213397e-25,\n",
       "          8.33634880e-25,   8.63736659e-25,   9.03469923e-25,\n",
       "          9.39183945e-25,   9.60141730e-25,   1.03093043e-24,\n",
       "          1.12185736e-24,   1.22971537e-24,   1.35831792e-24,\n",
       "          1.50767107e-24,   1.68535493e-24,   1.89547330e-24,\n",
       "          2.14101567e-24,   2.42699341e-24,   2.75908069e-24,\n",
       "          3.14377201e-24,   3.58853951e-24,   4.10199838e-24,\n",
       "          4.69409135e-24,   5.37630022e-24,   6.16189183e-24,\n",
       "          7.06620652e-24,   8.10699702e-24,   9.30482201e-24]])"
      ]
     },
     "execution_count": 86,
     "metadata": {},
     "output_type": "execute_result"
    }
   ],
   "source": [
    "np.real(darm_list)"
   ]
  },
  {
   "cell_type": "code",
   "execution_count": 88,
   "metadata": {
    "collapsed": false,
    "scrolled": false
   },
   "outputs": [
    {
     "name": "stderr",
     "output_type": "stream",
     "text": [
      "/home/thomasvo/anaconda3/lib/python3.5/site-packages/matplotlib/axes/_axes.py:519: UserWarning: No labelled objects found. Use label='...' kwarg on individual plots.\n",
      "  warnings.warn(\"No labelled objects found. \"\n"
     ]
    },
    {
     "data": {
      "image/png": "[encoded data removed]",
      "text/plain": [
       "<matplotlib.figure.Figure at 0x7f3f0ce75630>"
      ]
     },
     "metadata": {},
     "output_type": "display_data"
    }
   ],
   "source": [
    "#matplotlib.RcParams.update({'font.size', 'Large'})\n",
    "\n",
    "pl.figure(figsize=(18, 10), dpi=80)\n",
    "\n",
    "cm = pl.cm.Spectral_r\n",
    "norm = matplotlib.colors.Normalize(0, .2)\n",
    "\n",
    "s_m = matplotlib.cm.ScalarMappable(cmap=cm, norm=norm)\n",
    "s_m.set_array([])\n",
    "\n",
    "\n",
    "for i in range(len(darm_list)):\n",
    "    c = c = s_m.to_rgba(SRMRoc_offset[i])\n",
    "    pl.subplot(111)\n",
    "    pl.loglog(freq[0], np.real(darm_list[i]),linewidth=3,zorder=1000, color = c,)\n",
    "\n",
    "    \n",
    "#pl.loglog(out_perfect_mm.x, np.real(out_perfect_mm['NSR_with_RP']),'o',label=' Perfect MM')\n",
    "\n",
    "pl.title(\"Quantum noise limited strain sensitivity\",fontsize=40)\n",
    "pl.xlim(freq[0].min(),freq[0].max())\n",
    "\n",
    "\n",
    "pl.grid(True, zorder=-1)\n",
    "pl.legend()\n",
    "\n",
    "pl.xlabel(\"Frequency [Hz]\",fontsize=40)\n",
    "pl.ylabel(\"Strain sensitivity [$1/\\\\sqrt{\\mathrm{Hz}}$]\",fontsize=40)\n",
    "\n",
    "\n",
    "cb = pl.colorbar(s_m)\n",
    "cb.set_label(\"Mode Overlap % (between perfect and imperfect)\", fontsize = 10)\n",
    "cb.ax.tick_params(labelsize=10) \n",
    "cb.update_ticks()\n",
    "\n",
    "\n",
    "pl.show()"
   ]
  }
 ],
 "metadata": {
  "kernelspec": {
   "display_name": "Python 3",
   "language": "python",
   "name": "python3"
  },
  "language_info": {
   "codemirror_mode": {
    "name": "ipython",
    "version": 3
   },
   "file_extension": ".py",
   "mimetype": "text/x-python",
   "name": "python",
   "nbconvert_exporter": "python",
   "pygments_lexer": "ipython3",
   "version": "3.5.1"
  }
 },
 "nbformat": 4,
 "nbformat_minor": 0
}
