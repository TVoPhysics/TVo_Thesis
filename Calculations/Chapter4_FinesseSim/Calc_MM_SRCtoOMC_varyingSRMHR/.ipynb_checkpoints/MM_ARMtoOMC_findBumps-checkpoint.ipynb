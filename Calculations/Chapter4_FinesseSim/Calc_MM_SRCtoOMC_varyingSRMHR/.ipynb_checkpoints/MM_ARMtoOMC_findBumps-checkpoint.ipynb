{
 "cells": [
  {
   "cell_type": "code",
   "execution_count": 1,
   "metadata": {
    "collapsed": false
   },
   "outputs": [
    {
     "name": "stdout",
     "output_type": "stream",
     "text": [
      "                                              ..-\n",
      "    PyKat 1.0.9           _                  '(\n",
      "                          \\`.|\\.__...-\"\"\"\"-_.\" )\n",
      "       ..+-----.._        /  ' `            .-'\n",
      "   . '            `:      7/* _/._\\    \\   (\n",
      "  (        '::;;+;;:      `-\"' =\" /,`\"\" `) /\n",
      "  L.        \\`:::a:f            c_/     n_'\n",
      "  ..`--...___`.  .    ,  \n",
      "   `^-....____:   +.      www.gwoptics.org/pykat\n",
      "\n"
     ]
    }
   ],
   "source": [
    "%matplotlib inline\n",
    "import pykat\n",
    "import pykat.optics.ABCD as abcd\n",
    "from pykat.tools import modematching\n",
    "import pylab as pl\n",
    "import pandas\n",
    "import matplotlib.pyplot as plt\n",
    "import matplotlib\n",
    "import csv\n",
    "import math\n",
    "import numpy as np\n",
    "\n",
    "### My functions\n",
    "from kat_commands import *\n",
    "from MMT import modematch\n",
    "from cav_commands import *\n",
    "from load_kat_data import *\n",
    "import get_WS\n",
    "import trace_mode"
   ]
  },
  {
   "cell_type": "code",
   "execution_count": 4,
   "metadata": {
    "collapsed": true
   },
   "outputs": [],
   "source": [
    "katfile = \"aLIGO_IFO_AWC_tuning_DCoff_maxtem4_modified.kat\" "
   ]
  },
  {
   "cell_type": "code",
   "execution_count": 6,
   "metadata": {
    "collapsed": false
   },
   "outputs": [
    {
     "name": "stdout",
     "output_type": "stream",
     "text": [
      "Parsing `qd qdA 0 0 nOMC_AROC_trans` into pykat object not implemented yet, added as extra line.\n",
      "Parsing `qd qdP 0 90 nOMC_AROC_trans` into pykat object not implemented yet, added as extra line.\n",
      "Parsing `sd sd00 0 0 0 nOMC_AROC_trans` into pykat object not implemented yet, added as extra line.\n",
      "Parsing `sd sd01 0 0 1 nOMC_AROC_trans` into pykat object not implemented yet, added as extra line.\n",
      "Parsing `sd sd02 0 0 2 nOMC_AROC_trans` into pykat object not implemented yet, added as extra line.\n",
      "Parsing `sd sd03 0 0 3 nOMC_AROC_trans` into pykat object not implemented yet, added as extra line.\n",
      "Parsing `sd sd04 0 0 4 nOMC_AROC_trans` into pykat object not implemented yet, added as extra line.\n",
      "Parsing `sd sd00OFI 0 0 0 nlensFC1a` into pykat object not implemented yet, added as extra line.\n",
      "Parsing `sd sd01OFI 0 0 1 nlensFC1a` into pykat object not implemented yet, added as extra line.\n",
      "Parsing `sd sd02OFI 0 0 2 nlensFC1a` into pykat object not implemented yet, added as extra line.\n",
      "Parsing `sd sd03OFI 0 0 3 nlensFC1a` into pykat object not implemented yet, added as extra line.\n",
      "Parsing `sd sd04OFI 0 0 4 nlensFC1a` into pykat object not implemented yet, added as extra line.\n"
     ]
    }
   ],
   "source": [
    "#load the original kat file (ie Perfect Modematching) as a reference\n",
    "basekat = pykat.finesse.kat() \n",
    "basekat.loadKatFile(katfile)\n",
    "basekat.parseCommands(darm_commands)\n",
    "basekat.parseCommands(amplitude_detectors)\n",
    "basekat.parseCommands(pds)\n",
    "basekat.parseCommands(add_squeezing)\n",
    "basekat.parseCommands(\"maxtem \"+str(4))\n",
    "basekat.parseCommands(\"\"\"\n",
    "qnoised NSR_shot_rad 1 $fs nOMC_AROC_trans\n",
    "qd qdA 0 0 nOMC_AROC_trans\n",
    "qd qdP 0 90 nOMC_AROC_trans\n",
    "sd sd00 0 0 0 nOMC_AROC_trans\n",
    "sd sd01 0 0 1 nOMC_AROC_trans\n",
    "sd sd02 0 0 2 nOMC_AROC_trans\n",
    "sd sd03 0 0 3 nOMC_AROC_trans\n",
    "sd sd04 0 0 4 nOMC_AROC_trans\n",
    "\n",
    "qnoised PDquantumnoise 1 $fs nOMC_AROC_trans\n",
    "\n",
    "sd sd00OFI 0 0 0 nlensFC1a\n",
    "sd sd01OFI 0 0 1 nlensFC1a\n",
    "sd sd02OFI 0 0 2 nlensFC1a\n",
    "sd sd03OFI 0 0 3 nlensFC1a\n",
    "sd sd04OFI 0 0 4 nlensFC1a\n",
    "\n",
    "ad OMCoutTEM00 0 0 0 nOMC_AROC_trans\n",
    "ad OMCoutTEM01 0 1 0 nOMC_AROC_trans\n",
    "ad OMCoutTEM02 0 2 0 nOMC_AROC_trans\n",
    "ad OMCoutTEM03 0 3 0 nOMC_AROC_trans\n",
    "ad OMCoutTEM04 0 4 0 nOMC_AROC_trans\n",
    "\n",
    "pd1 signal $fs nOMC_AROC_trans\n",
    "\"\"\")\n",
    "basekat.undumpNodes() #undump the vacuum nodes\n",
    "kat=basekat.deepcopy() #copy kat code\n",
    "kat.verbose = False\n",
    "\n",
    "out_perfect_mm = kat.run()\n",
    "\n",
    "SR3_Rc_orig = kat.SR3.Rc.value\n",
    "SRMHR_Rc_orig = kat.SRMHR.Rc.value\n",
    "\n",
    "#out_perfect_mm_trace = kat.run(getTraceData=True)"
   ]
  },
  {
   "cell_type": "code",
   "execution_count": 8,
   "metadata": {
    "collapsed": true
   },
   "outputs": [],
   "source": [
    "SRCTL_q_perfect_x = out_perfect_mm[\"SRCoutx\"] #q's coming out of the SRC @ the OFI\n",
    "SRCTL_q_perfect_y = out_perfect_mm[\"SRCouty\"]\n",
    "\n",
    "SRMY_q_perfect_x = out_perfect_mm[\"SRMYqx\"] #q's at the face of SRMHR\n",
    "SRMY_q_perfect_y = out_perfect_mm[\"SRMYqy\"]"
   ]
  },
  {
   "cell_type": "code",
   "execution_count": null,
   "metadata": {
    "collapsed": false
   },
   "outputs": [],
   "source": [
    "###\n",
    "###Extract the eigenmode of SRC with offsets in SR3\n",
    "\n",
    "max_offset_SR3 = .01834\n",
    "\n",
    "#Add Commands\n",
    "basekat1 = pykat.finesse.kat() \n",
    "basekat1.loadKatFile(katfile)\n",
    "basekat1.parseCommands(commands)\n",
    "basekat1.parseCommands(amplitude_detectors)\n",
    "basekat1.parseCommands(pds)\n",
    "basekat1.parseCommands(add_squeezing)\n",
    "basekat1.undumpNodes()\n",
    "basekat1.parseCommands(\"maxtem \"+str(2))\n",
    "basekat1.parseCommands(\"qnoised NSR_shot 1 $fs nOMC_AROC_trans\")\n",
    "kat1=basekat1.deepcopy() \n",
    "kat1.verbose = False\n",
    "\n",
    "# Change the SR3HR_Roc\n",
    "SR3_Rc_new = SR3_Rc_orig + max_offset_SR3\n",
    "kat1.SR3.Rcx.value = SR3_Rc_new\n",
    "kat1.SR3.Rcy.value = SR3_Rc_new\n",
    "\n",
    "#Run and extract the q's at the OFI and SRMHR\n",
    "out_new_SR3_roc = kat1.run()\n",
    "   \n",
    "#### Extract the mode at the SRMAR w.r.t the ARM\n",
    "for cav in kat1.getAll(pykat.commands.cavity):\n",
    "    cav.enabled = False\n",
    "kat1.cavXARM.enabled = True\n",
    "kat1.cavYARM.enabled = True\n",
    "get_SRM_q_wrt_cavARM = kat1.run(getTraceData=True)\n",
    "    \n",
    "#### Extract the mode at the OFI w.r.t the OMC\n",
    "for cav in kat1.getAll(pykat.commands.cavity):\n",
    "    cav.enabled = False\n",
    "kat1.cavOMC.enabled = True\n",
    "get_OFI_qx_wrt_OMC = kat1.run(getTraceData=True)\n",
    "\n",
    "q_refin_x = get_SRM_q_wrt_cavARM[1][0]['nSRMARb'][0]._gauss_param__q\n",
    "q_refin_y = get_SRM_q_wrt_cavARM[1][0]['nSRMARb'][1]._gauss_param__q\n",
    "\n",
    "q_refout_x = -np.conjugate(get_OFI_qx_wrt_OMC[1][0]['nIBAin'][0]._gauss_param__q)\n",
    "q_refout_y = -np.conjugate(get_OFI_qx_wrt_OMC[1][0]['nIBAin'][1]._gauss_param__q)"
   ]
  },
  {
   "cell_type": "code",
   "execution_count": null,
   "metadata": {
    "collapsed": false
   },
   "outputs": [
    {
     "name": "stdout",
     "output_type": "stream",
     "text": [
      "Parsing `qd qdA 0 0 nOMC_AROC_trans` into pykat object not implemented yet, added as extra line.\n",
      "Parsing `qd qdP 0 90 nOMC_AROC_trans` into pykat object not implemented yet, added as extra line.\n",
      "Parsing `sd sd00 0 0 0 nOMC_AROC_trans` into pykat object not implemented yet, added as extra line.\n",
      "Parsing `sd sd01 0 0 1 nOMC_AROC_trans` into pykat object not implemented yet, added as extra line.\n",
      "Parsing `sd sd02 0 0 2 nOMC_AROC_trans` into pykat object not implemented yet, added as extra line.\n",
      "Parsing `sd sd00OFI 0 0 0 nIMFC1` into pykat object not implemented yet, added as extra line.\n",
      "Parsing `sd sd01OFI 0 0 1 nIMFC1` into pykat object not implemented yet, added as extra line.\n",
      "Parsing `sd sd02OFI 0 0 2 nIMFC1` into pykat object not implemented yet, added as extra line.\n",
      "Successfully Mode-Matched! >99.9% overlap\n",
      "f1 is 0.0013434807517578487\n",
      "f2 is -0.0012434391643174137\n"
     ]
    }
   ],
   "source": [
    "basekat2 = pykat.finesse.kat() \n",
    "basekat2.loadKatFile(katfile)\n",
    "basekat2.parseCommands(darm_commands)\n",
    "basekat2.parseCommands(amplitude_detectors)\n",
    "basekat2.parseCommands(pds)\n",
    "basekat2.parseCommands(add_squeezing)\n",
    "basekat2.parseCommands(\"maxtem \"+str(4))\n",
    "basekat2.parseCommands(\"\"\"\n",
    "qnoised NSR_shot_rad 1 $fs nOMC_AROC_trans\n",
    "\n",
    "qd qdA 0 0 nOMC_AROC_trans\n",
    "qd qdP 0 90 nOMC_AROC_trans\n",
    "\n",
    "sd sd00 0 0 0 nOMC_AROC_trans\n",
    "sd sd01 0 0 1 nOMC_AROC_trans\n",
    "sd sd02 0 0 2 nOMC_AROC_trans\n",
    "\n",
    "qnoised PDquantumnoise 1 $fs nOMC_AROC_trans\n",
    "\n",
    "sd sd00OFI 0 0 0 nIMFC1\n",
    "sd sd01OFI 0 0 1 nIMFC1\n",
    "sd sd02OFI 0 0 2 nIMFC1\n",
    "\n",
    "pd1 signal $fs nOMC_AROC_trans\n",
    "\n",
    "ad OMCoutTEM00 0 0 0 nOMC_AROC_trans\n",
    "ad OMCoutTEM01 0 1 0 nOMC_AROC_trans\n",
    "ad OMCoutTEM02 0 2 0 nOMC_AROC_trans\n",
    "\"\"\")\n",
    "basekat2.undumpNodes()\n",
    "\n",
    "kat2=basekat2.deepcopy()\n",
    "kat2.verbose = False\n",
    "    \n",
    "SR3_Rc = kat.SR3.Rc\n",
    "dRc = max_offset_SR3\n",
    "    \n",
    "kat2.SR3.Rcx.value = SR3_Rc + dRc\n",
    "kat2.SR3.Rcy.value = SR3_Rc + dRc\n",
    "\n",
    "#\n",
    "#    q1   d1   f1  d2   f2  d3   q2\n",
    "#    |   <-->  |  <-->  | <-->  |\n",
    "#    | <---------- D ---------> |\n",
    "#\n",
    "\n",
    "q1 = q_refin_x\n",
    "q2 = q_refout_x\n",
    "D  = 0.491516 # total distance from SRC to OFI\n",
    "d1 = 0.25\n",
    "d2 = 0.0001\n",
    "d3 = D-d1-d2\n",
    "\n",
    "[f1, f2] = modematch(q1, q2, d1, d2, d3)\n",
    "\n",
    "kat2.lSRMTT1.L.value = d1\n",
    "kat2.SRMTT1.f.value = f1\n",
    "kat2.lSRMTT2.L.value = d2\n",
    "kat2.SRMTT2.f.value = f2\n",
    "kat2.lIBAin.L.value = d3\n",
    "\n",
    "out2 = kat2.run()\n",
    "\n",
    "freq = out2.x\n",
    "darm_list = out2['NSR_with_RP']\n",
    "kat2.saveScript(\"VarySR3_95MM_wSqz_MMTTon_maxtem4.kat\")\n",
    "\n",
    "\n",
    "#### Turn off all the cav commands except SRCY to extract the eigenmode at the BS\n",
    "[srcx,srcy] = trace_mode.from_cav_to_BS(kat2,'cavSRY')\n",
    "\n",
    "#### Turn off all the cav commands except YARM to extract the eigenmode at the BS\n",
    "[ARMx,ARMy] = trace_mode.from_cav_to_BS(kat2,'cavXARM')\n",
    "\n",
    "#### Turn off all the cav commands except OMC to extract the eigenmode at the BS\n",
    "[OMCx,OMCy] = trace_mode.from_cav_to_BS(kat2,'cavOMC')\n",
    "\n",
    "f_overlap_SRC_to_ARM_x = pykat.beam_param.overlap(srcx,ARMx)\n",
    "f_overlap_SRC_to_ARM_y = pykat.beam_param.overlap(srcy,ARMy)"
   ]
  },
  {
   "cell_type": "code",
   "execution_count": null,
   "metadata": {
    "collapsed": false
   },
   "outputs": [],
   "source": [
    "f_overlap_SRC_to_ARM_x"
   ]
  },
  {
   "cell_type": "code",
   "execution_count": null,
   "metadata": {
    "collapsed": false
   },
   "outputs": [],
   "source": [
    "pl.figure(figsize=(18, 10), dpi=80)\n",
    "\n",
    "\n",
    "pl.subplot(111)\n",
    "pl.loglog(freq, np.real(out_perfect_mm['NSR_with_RP']),linewidth=3, label='Perfect')\n",
    "pl.loglog(freq, np.real(out2['NSR_with_RP']),linewidth=3, label='w/ 10db Squeezing, 5% modemismatch')\n",
    "\n",
    "\n",
    "pl.title(\"QN-Limited Varying SR3 w/10Db Sqz\",fontsize=30)\n",
    "pl.xlim(freq.min(),freq.max())\n",
    "#pl.ylim(7e-25,1e-22)\n",
    "\n",
    "pl.xlabel(\"Frequency [Hz]\",fontsize=30)\n",
    "pl.ylabel(\"Strain sensitivity [$1/\\\\sqrt{\\mathrm{Hz}}$]\",fontsize=30)\n",
    "\n",
    "###Main plot formatting\n",
    "pl.tick_params(labelsize=20)\n",
    "pl.grid(True, zorder=-1)\n",
    "pl.legend(fontsize=20)\n",
    "\n",
    "\n",
    "pl.show()\n"
   ]
  }
 ],
 "metadata": {
  "kernelspec": {
   "display_name": "Python 3",
   "language": "python",
   "name": "python3"
  },
  "language_info": {
   "codemirror_mode": {
    "name": "ipython",
    "version": 3
   },
   "file_extension": ".py",
   "mimetype": "text/x-python",
   "name": "python",
   "nbconvert_exporter": "python",
   "pygments_lexer": "ipython3",
   "version": "3.5.1"
  }
 },
 "nbformat": 4,
 "nbformat_minor": 0
}
