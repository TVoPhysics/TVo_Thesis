{
 "cells": [
  {
   "cell_type": "code",
   "execution_count": 2,
   "metadata": {
    "collapsed": true
   },
   "outputs": [],
   "source": [
    "###\n",
    "###"
   ]
  },
  {
   "cell_type": "code",
   "execution_count": 3,
   "metadata": {
    "collapsed": false
   },
   "outputs": [
    {
     "name": "stdout",
     "output_type": "stream",
     "text": [
      "                                              ..-\n",
      "    PyKat 1.0.9           _                  '(\n",
      "                          \\`.|\\.__...-\"\"\"\"-_.\" )\n",
      "       ..+-----.._        /  ' `            .-'\n",
      "   . '            `:      7/* _/._\\    \\   (\n",
      "  (        '::;;+;;:      `-\"' =\" /,`\"\" `) /\n",
      "  L.        \\`:::a:f            c_/     n_'\n",
      "  ..`--...___`.  .    ,  \n",
      "   `^-....____:   +.      www.gwoptics.org/pykat\n",
      "\n"
     ]
    }
   ],
   "source": [
    "%matplotlib inline\n",
    "import pykat\n",
    "import pylab as pl\n",
    "import pandas\n",
    "import matplotlib.pyplot as plt\n",
    "import matplotlib\n",
    "import csv\n",
    "import math\n",
    "import numpy as np\n",
    "from pykat.parallel import parakat\n",
    "from PropBeam import *\n",
    "\n",
    "pandas.set_eng_float_format(accuracy=3, use_eng_prefix=True)"
   ]
  },
  {
   "cell_type": "code",
   "execution_count": 4,
   "metadata": {
    "collapsed": true
   },
   "outputs": [],
   "source": [
    "####Perfect Mode-Matching Version:\n",
    "katfile = \"aLIGO_IFO_AWC_tuning_DCoff_maxtemsearch.kat\"\n",
    "\n",
    "# Add cavity parameter detectors\n",
    "block1 =\"\"\"\n",
    "tf sus 1 0 p $mech_fres $mech_Q\n",
    "const mech_fres 1  # Approx. resonance frequency\n",
    "const mech_Q    1M # Guess for suspension Q factor\n",
    "\n",
    "# Differentially modulate the strain in the arms\n",
    "fsig darm  LXarm 1 0 1\n",
    "fsig darm2 LYarm 1 180 1\n",
    "\n",
    "cp cavOMC x q\n",
    "\n",
    "cp cavOMC x z\n",
    "\n",
    "qnoisedS NSR_with_RP    1 $fs nOMC_AROC_trans\n",
    "\n",
    "xaxis darm f log 5 5k 50\n",
    "\n",
    "yaxis lin re:im\n",
    "\"\"\"\n",
    "\n",
    "block2 = \"\"\"\n",
    "cav cavIMC MC2 nMC2in MC2 nMC2refl\n",
    "cav cavPRX PRMHR nPRMHRb ITMXHR nITMXs2\n",
    "cav cavPRY PRMHR nPRMHRb ITMYHR nITMYs2\n",
    "cav cavSRX SRMHR nSRMHRa ITMXHR nITMXs2\n",
    "cav cavSRY SRMHR nSRMHRa ITMYHR nITMYs2\n",
    "cav cavXARM ITMXHR nITMX2 ETMXHR nETMX1\n",
    "cav cavYARM ITMYHR nITMY2 ETMYHR nETMY1\n",
    "cav cavFC IMFC nIMFC3 IMFC nIMFC4\n",
    "cav cavOMC OMC_HROC nOMC_HROC_refl OMC_HROC nOMC_HROC_in\n",
    "\"\"\""
   ]
  },
  {
   "cell_type": "code",
   "execution_count": 5,
   "metadata": {
    "collapsed": false
   },
   "outputs": [],
   "source": [
    "darm1 = []\n",
    "maxtem = 6\n",
    "for i in range(0,maxtem,1):\n",
    "    input_line = \"maxtem \" + str(i)\n",
    "    basekat1 = pykat.finesse.kat()\n",
    "    basekat1.loadKatFile(katfile)\n",
    "    basekat1.parseCommands(block1)\n",
    "    basekat1.parseCommands(block2)\n",
    "    basekat1.parseCommands(input_line)\n",
    "    basekat1.undumpNodes() #undump the vacuum nodes\n",
    "    kat1=basekat1.deepcopy() #copy kat code\n",
    "    kat1.verbose = False\n",
    "    ITMTL0 = kat1.ITMYTL.f.value\n",
    "    diopters = 20e-6 #Estimated Avg fluctuations in TCS\n",
    "    f_new = (1/ITMTL0 - diopters)**(-1)\n",
    "    kat1.ITMYTL.f = f_new\n",
    "    out1 = kat1.run()\n",
    "    darm1.append(np.real(out1[\"NSR_with_RP\"]))"
   ]
  },
  {
   "cell_type": "code",
   "execution_count": 6,
   "metadata": {
    "collapsed": true
   },
   "outputs": [],
   "source": [
    "block3 = \"\"\"\n",
    "cav cavIMC MC2 nMC2in MC2 nMC2refl\n",
    "cav cavPRX PRMHR nPRMHRb ITMXHR nITMXs2\n",
    "cav cavPRY PRMHR nPRMHRb ITMYHR nITMYs2\n",
    "cav cavSRY SRMHR nSRMHRa ITMYHR nITMYs2\n",
    "cav cavSRX SRMHR nSRMHRa ITMXHR nITMXs2\n",
    "cav cavXARM ITMXHR nITMX2 ETMXHR nETMX1\n",
    "cav cavYARM ITMYHR nITMY2 ETMYHR nETMY1\n",
    "cav cavFC IMFC nIMFC3 IMFC nIMFC4\n",
    "cav cavOMC OMC_HROC nOMC_HROC_refl OMC_HROC nOMC_HROC_in\n",
    "\"\"\""
   ]
  },
  {
   "cell_type": "code",
   "execution_count": 7,
   "metadata": {
    "collapsed": false
   },
   "outputs": [],
   "source": [
    "darm2 = []\n",
    "for i in range(0,maxtem,1):\n",
    "    input_line = \"maxtem \" + str(i)\n",
    "    basekat2 = pykat.finesse.kat()\n",
    "    basekat2.loadKatFile(katfile)\n",
    "    basekat2.parseCommands(block1)\n",
    "    basekat2.parseCommands(block3)\n",
    "    basekat2.parseCommands(input_line)\n",
    "    basekat2.undumpNodes() #undump the vacuum nodes\n",
    "    kat2=basekat2.deepcopy() #copy kat code\n",
    "    kat2.verbose = False\n",
    "    ITMTL0 = kat2.ITMYTL.f.value\n",
    "    diopters = 20e-6 #Estimated Avg fluctuations in TCS\n",
    "    f_new = (1/ITMTL0 - diopters)**(-1)\n",
    "    kat2.ITMYTL.f = f_new\n",
    "    out2 = kat2.run()\n",
    "    darm2.append(np.real(out2[\"NSR_with_RP\"]))"
   ]
  },
  {
   "cell_type": "code",
   "execution_count": 8,
   "metadata": {
    "collapsed": false
   },
   "outputs": [
    {
     "ename": "NameError",
     "evalue": "name 'maxtem_list' is not defined",
     "output_type": "error",
     "traceback": [
      "\u001b[1;31m---------------------------------------------------------------------------\u001b[0m",
      "\u001b[1;31mNameError\u001b[0m                                 Traceback (most recent call last)",
      "\u001b[1;32m<ipython-input-8-80200eb395c4>\u001b[0m in \u001b[0;36m<module>\u001b[1;34m()\u001b[0m\n\u001b[1;32m----> 1\u001b[1;33m \u001b[0mmaxtem_list\u001b[0m\u001b[1;33m\u001b[0m\u001b[0m\n\u001b[0m",
      "\u001b[1;31mNameError\u001b[0m: name 'maxtem_list' is not defined"
     ]
    }
   ],
   "source": [
    "maxtem_list"
   ]
  },
  {
   "cell_type": "code",
   "execution_count": null,
   "metadata": {
    "collapsed": false,
    "scrolled": true
   },
   "outputs": [],
   "source": [
    "ratio = []\n",
    "maxtem_list = []\n",
    "\n",
    "\n",
    "for i in range(0,maxtem,1):\n",
    "    maxtem_list.append(float(i))\n",
    "    nratio = np.divide(darm1[i],darm2[i])\n",
    "    ratio.append(nratio)"
   ]
  },
  {
   "cell_type": "code",
   "execution_count": null,
   "metadata": {
    "collapsed": false,
    "scrolled": true
   },
   "outputs": [],
   "source": [
    "\n"
   ]
  },
  {
   "cell_type": "code",
   "execution_count": null,
   "metadata": {
    "collapsed": false
   },
   "outputs": [],
   "source": [
    "matplotlib.RcParams.update({'font.size', 'Large'})\n",
    "pl.figure(figsize=(19, 40), dpi=80)\n",
    "\n",
    "for i in range(1,maxtem,1):\n",
    "    sub = float(\"5\"+\"1\"+str(i))\n",
    "    pl.subplot(sub)\n",
    "    pl.loglog(out1.x, darm1[i],out1.x, darm2[i],linewidth=3)\n",
    "    pl.xlim(out1.x.min(),out1.x.max())\n",
    "    pl.ylabel('h(t) for maxtem='+str(i), fontsize = 20)\n",
    "    pl.grid(True, zorder=-1)\n",
    "    pl.legend()\n",
    "\n",
    "plt.xlabel('Freq', fontsize = 20)\n",
    "    "
   ]
  }
 ],
 "metadata": {
  "kernelspec": {
   "display_name": "Python 3",
   "language": "python",
   "name": "python3"
  },
  "language_info": {
   "codemirror_mode": {
    "name": "ipython",
    "version": 3
   },
   "file_extension": ".py",
   "mimetype": "text/x-python",
   "name": "python",
   "nbconvert_exporter": "python",
   "pygments_lexer": "ipython3",
   "version": "3.5.1"
  }
 },
 "nbformat": 4,
 "nbformat_minor": 0
}
