{
 "cells": [
  {
   "cell_type": "code",
   "execution_count": 83,
   "metadata": {
    "collapsed": true
   },
   "outputs": [],
   "source": [
    "###\n",
    "#Goal: See how varying SRM curvature will effect the mode-matching in OMC\n",
    "#First we use all of the aLIGO cavities to derive the ideal mode-matching parameters\n",
    "#then we extract the beam quality from BS to SRC\n",
    "#\n",
    "# then we turn off all the cavities and inject the beam.\n",
    "###"
   ]
  },
  {
   "cell_type": "code",
   "execution_count": 84,
   "metadata": {
    "collapsed": false
   },
   "outputs": [],
   "source": [
    "%matplotlib inline\n",
    "import pykat\n",
    "import pylab as pl\n",
    "import pandas\n",
    "import matplotlib.pyplot as plt\n",
    "import matplotlib\n",
    "import csv\n",
    "import math\n",
    "import numpy as np\n",
    "from pykat.parallel import parakat\n",
    "\n",
    "pandas.set_eng_float_format(accuracy=3, use_eng_prefix=True)"
   ]
  },
  {
   "cell_type": "code",
   "execution_count": 85,
   "metadata": {
    "collapsed": false
   },
   "outputs": [
    {
     "name": "stdout",
     "output_type": "stream",
     "text": [
      "Parsing `put lx1 L $Lmx` into pykat object not implemented yet, added as extra line.\n",
      "Parsing `put ly1 L $Lmy` into pykat object not implemented yet, added as extra line.\n"
     ]
    }
   ],
   "source": [
    "####Perfect Mode-Matching Version:\n",
    "katfile = \"aLIGO_IFO_AWC_MM.kat\"\n",
    "\n",
    "basekat = pykat.finesse.kat()\n",
    "basekat.loadKatFile(katfile)\n",
    "\n",
    "# Add cavity parameter detectors\n",
    "basekat.parseCommands(\"\"\"\n",
    "\n",
    "ad inputa 0 nSRBS\n",
    "\n",
    "bp inputxr x r nSRBS\n",
    "bp inputyr y r nSRBS\n",
    "\n",
    "bp inputxw x w nSRBS\n",
    "bp inputyw y w nSRBS\n",
    "\n",
    "bp inputxq x q nSRBS\n",
    "bp inputyq y q nSRBS\n",
    "\n",
    "cp cavXARM x w\n",
    "cp cavXARM x w0\n",
    "cp cavXARM x z\n",
    "cp cavXARM x r\n",
    "cp cavXARM x q\n",
    "cp cavXARM x length\n",
    "cp cavXARM x loss\n",
    "\n",
    "cp cavYARM x w\n",
    "cp cavYARM x w0\n",
    "cp cavYARM x z\n",
    "cp cavYARM x r\n",
    "cp cavYARM x q\n",
    "cp cavYARM x length\n",
    "cp cavYARM x loss\n",
    "\n",
    "cp cavOMC x w\n",
    "cp cavOMC x w0\n",
    "cp cavOMC x z\n",
    "cp cavOMC x r\n",
    "cp cavOMC x q\n",
    "cp cavOMC x length\n",
    "cp cavOMC x loss\n",
    "\n",
    "bp outputxq x q nOMC_HROC_refl\n",
    "bp outputyq y q nOMC_HROC_refl\n",
    "\n",
    "yaxis lin re:im\n",
    "\n",
    "\"\"\")\n",
    "\n",
    "\n",
    "#kat.cavXARM.enabled=True\n",
    "#kat.cavYARM.enabled=True\n",
    "\n",
    "basekat.undumpNodes() #undump the vacuum nodes\n",
    "kat=basekat.deepcopy() #copy kat code\n",
    "kat.noxaxis = True\n",
    "kat.verbose = False\n",
    "\n",
    "for cav in kat.getAll(pykat.commands.cavity):\n",
    "    cav.enabled=True\n",
    "\n",
    "#kat.cavOMC.enabled=False\n",
    "\n",
    "out  = kat.run(getTraceData=True)"
   ]
  },
  {
   "cell_type": "code",
   "execution_count": 86,
   "metadata": {
    "collapsed": false
   },
   "outputs": [
    {
     "name": "stdout",
     "output_type": "stream",
     "text": [
      "0.0531929289458351 -1392.84977207358 (-1355.18165076+225.936156534j)\n",
      "(-1355.1893788291+225.9582195075j)\n",
      "(-1362.46207183065+203.666481904717j)\n"
     ]
    }
   ],
   "source": [
    "###Extract the beam parameters at BS->SRM\n",
    "inputxw = float(np.real(out[0]['inputxw']))\n",
    "inputxr = float(np.real(out[0]['inputxr']))\n",
    "inputxq = out[0]['inputxq']\n",
    "\n",
    "\n",
    "inputyw = float(np.real(out[0]['inputyw']))\n",
    "inputyr = float(np.real(out[0]['inputyr']))\n",
    "inputyq = out[0]['inputyq']\n",
    "\n",
    "print(inputxw, inputxr, inputxq)\n",
    "\n",
    "c = 3.0e8\n",
    "n = 1.0\n",
    "eps = 8.854e-12\n",
    "\n",
    "input_I = (float(np.absolute(out[0]['inputa'])**2)) * (c * n * eps/2 )           \n",
    "avg_w = (inputxw +inputyw)/2\n",
    "input_P = input_I * 4 *np.pi * avg_w**2\n",
    "\n",
    "#look at nodal trace of full IFO\n",
    "print(out[1][0]['nSRBS'][0])\n",
    "print(out[1][0]['nSRBS'][1])"
   ]
  },
  {
   "cell_type": "code",
   "execution_count": 87,
   "metadata": {
    "collapsed": false
   },
   "outputs": [
    {
     "name": "stdout",
     "output_type": "stream",
     "text": [
      "0.140764742971947\n",
      "(0.140764742972+0.707540463523j)\n",
      "3.69714894084054\n",
      "0.000499115038950642\n",
      "1.1314\n",
      "0.0151533625445898\n",
      "(0.140764738352+0.707540452373j)\n"
     ]
    }
   ],
   "source": [
    "#### Just to idiot check, here are the perfect mode-matching parameteres of OMC (Eigenmodes)\n",
    "omc_z_1 = np.real(out[0]['cavOMC_x_z'])\n",
    "print(omc_z_1)\n",
    "\n",
    "omc_q_1 = out[0]['cavOMC_x_q']\n",
    "print(omc_q_1)\n",
    "\n",
    "omc_r_1 = np.real(out[0]['cavOMC_x_r'])\n",
    "print(omc_r_1)\n",
    "\n",
    "omc_w_1 = np.real(out[0]['cavOMC_x_w'])\n",
    "print(omc_w_1)\n",
    "\n",
    "omc_l_1 = np.real(out[0]['cavOMC_x_length'])\n",
    "print(omc_l_1)\n",
    "\n",
    "omc_l_1 = np.real(out[0]['cavOMC_x_loss'])\n",
    "print(omc_l_1)\n",
    "\n",
    "# doublecheck q values\n",
    "lam = 1064e-9\n",
    "pi = 3.1415926\n",
    "q_check =1/( (1/omc_r_1) - 1j * (lam/(pi*omc_w_1**2)) )\n",
    "print(q_check)"
   ]
  },
  {
   "cell_type": "code",
   "execution_count": 88,
   "metadata": {
    "collapsed": false
   },
   "outputs": [
    {
     "name": "stdout",
     "output_type": "stream",
     "text": [
      "gauss* gaussin L0 nSRBS -1355.18165075501 225.936156533966 -1362.45449772394 203.641231560045\n",
      "Parsing `startnode nSRBS` into pykat object not implemented yet, added as extra line.\n"
     ]
    }
   ],
   "source": [
    "katfile1 = \"aLIGO_IFO_AWC_MM_slim.kat\"\n",
    "\n",
    "basekat = pykat.finesse.kat()\n",
    "basekat.loadKatFile(katfile1)\n",
    "basekat.undumpNodes() #undump the vacuum nodes\n",
    "\n",
    "#gauss_string = 'gauss** gaussin L0 nSRBS ' + str(inputxw) + ' ' \\\n",
    "#+ str(inputxr)+' '\\\n",
    "#+ str(inputyw) + ' '\\\n",
    "#+ str(inputyr)\n",
    "\n",
    "gauss_string = 'gauss* gaussin L0 nSRBS ' + str(float(np.real(inputxq))) +' '+ str(float(np.imag(inputxq)))+ ' '\\\n",
    " + str(float(np.real(inputyq))) +' '+ str(float(np.imag(inputyq)))\n",
    "print(gauss_string)\n",
    "basekat.parseCommands(gauss_string)\n",
    "basekat.parseCommands(\"\"\"\n",
    "startnode nSRBS\n",
    "\n",
    "bp outputxq x q nOMC_HROC_in\n",
    "bp outputyq y q nOMC_HROC_in\n",
    "\n",
    "bp outputxz x z nOMC_HROC_in\n",
    "bp outputyz y z nOMC_HROC_in\n",
    "\n",
    "yaxis lin re:im\n",
    "\"\"\")"
   ]
  },
  {
   "cell_type": "code",
   "execution_count": 89,
   "metadata": {
    "collapsed": true
   },
   "outputs": [],
   "source": [
    "kat1=basekat.deepcopy() #copy kat code\n",
    "kat1.noxaxis = True\n",
    "kat1.verbose = False\n",
    "\n",
    "for cav in kat1.getAll(pykat.commands.cavity):\n",
    "    cav.enabled=False\n",
    "\n",
    "#kat1.cavOMC.enabled=True\n",
    "\n",
    "out1  = kat1.run(getTraceData=True)"
   ]
  },
  {
   "cell_type": "code",
   "execution_count": 90,
   "metadata": {
    "collapsed": true
   },
   "outputs": [],
   "source": [
    "kat2=basekat.deepcopy() #copy kat code\n",
    "kat2.noxaxis = True\n",
    "kat2.verbose = False\n",
    "\n",
    "for cav in kat2.getAll(pykat.commands.cavity):\n",
    "    cav.enabled=False\n",
    "\n",
    "#kat2.cavOMC.enabled=True\n",
    "\n",
    "kat2.SRMHR.Rc = 'inf'\n",
    "out2 = kat2.run(getTraceData=True)"
   ]
  },
  {
   "cell_type": "code",
   "execution_count": 91,
   "metadata": {
    "collapsed": true
   },
   "outputs": [],
   "source": [
    "kat3=basekat.deepcopy() #copy kat code\n",
    "kat3.noxaxis = True\n",
    "kat3.verbose = False\n",
    "\n",
    "for cav in kat3.getAll(pykat.commands.cavity):\n",
    "    cav.enabled=False\n",
    "\n",
    "#kat3.cavOMC.enabled=True\n",
    "\n",
    "kat3.SRMHR.Rc = -6\n",
    "out3 = kat3.run(getTraceData=True)"
   ]
  },
  {
   "cell_type": "code",
   "execution_count": 92,
   "metadata": {
    "collapsed": false
   },
   "outputs": [
    {
     "name": "stdout",
     "output_type": "stream",
     "text": [
      "(-1355.1893788291+225.9582195075j)\n",
      "(-1355.18165075501+225.936156533966j)\n",
      "(-1355.18165075501+225.936156533966j)\n",
      "(-1355.18165075501+225.936156533966j)\n",
      "(0.140764742971948+0.707540463523089j)\n",
      "(0.623844951721355+0.00711441803645835j)\n",
      "(0.574020623680087+0.0043270094126464j)\n",
      "(0.620632073154188+0.00691382203221927j)\n"
     ]
    }
   ],
   "source": [
    "print(out[1][0]['nSRBS'][0])\n",
    "print(out1[1][0]['nSRBS'][0])\n",
    "print(out2[1][0]['nSRBS'][0])\n",
    "print(out3[1][0]['nSRBS'][0])\n",
    "\n",
    "print(out[1][0]['nOMC_HROC_in'][0])\n",
    "print(out1[1][0]['nOMC_HROC_in'][0])\n",
    "print(out2[1][0]['nOMC_HROC_in'][0])\n",
    "print(out3[1][0]['nOMC_HROC_in'][0])"
   ]
  },
  {
   "cell_type": "code",
   "execution_count": 93,
   "metadata": {
    "collapsed": false
   },
   "outputs": [
    {
     "name": "stdout",
     "output_type": "stream",
     "text": [
      "(0.623844951721+0j)\n",
      "(0.57402062368+0j)\n",
      "(0.620632073154+0j)\n",
      "0.140764742971947\n"
     ]
    }
   ],
   "source": [
    "print(out1[0]['outputxz'])\n",
    "print(out2[0]['outputxz'])\n",
    "print(out3[0]['outputxz'])\n",
    "\n",
    "print(omc_z_1)"
   ]
  },
  {
   "cell_type": "code",
   "execution_count": 94,
   "metadata": {
    "collapsed": false
   },
   "outputs": [
    {
     "data": {
      "text/plain": [
       "{'_canFsig': False,\n",
       " '_component_name': 'SRMHR',\n",
       " '_isPutable': True,\n",
       " '_isPutter': True,\n",
       " '_isTunable': True,\n",
       " '_name': 'Rcx',\n",
       " '_owner': <weakref at 0x7f0dfc18aae8; to 'pykat.components.mirror_3103' at 0x7f0dfc369048>,\n",
       " '_parameter_name': 'Rcx',\n",
       " '_put_name': 'var_SRMHR_Rcx',\n",
       " '_putter': None,\n",
       " '_value': -5.6938,\n",
       " 'put_count': 0,\n",
       " 'putees': []}"
      ]
     },
     "execution_count": 94,
     "metadata": {},
     "output_type": "execute_result"
    }
   ],
   "source": [
    "vars(kat1.SRMHR.Rc)"
   ]
  },
  {
   "cell_type": "code",
   "execution_count": 95,
   "metadata": {
    "collapsed": false
   },
   "outputs": [
    {
     "data": {
      "text/plain": [
       "{'_canFsig': False,\n",
       " '_component_name': 'SRMHR',\n",
       " '_isPutable': True,\n",
       " '_isPutter': True,\n",
       " '_isTunable': True,\n",
       " '_name': 'Rcx',\n",
       " '_owner': <weakref at 0x7f0dfc18aae8; to 'pykat.components.mirror_3103' at 0x7f0dfc369048>,\n",
       " '_parameter_name': 'Rcx',\n",
       " '_put_name': 'var_SRMHR_Rcx',\n",
       " '_putter': None,\n",
       " '_value': inf,\n",
       " 'put_count': 0,\n",
       " 'putees': []}"
      ]
     },
     "execution_count": 95,
     "metadata": {},
     "output_type": "execute_result"
    }
   ],
   "source": [
    "vars(kat2.SRMHR.Rc)"
   ]
  },
  {
   "cell_type": "code",
   "execution_count": 96,
   "metadata": {
    "collapsed": false
   },
   "outputs": [
    {
     "data": {
      "text/plain": [
       "{'_canFsig': False,\n",
       " '_component_name': 'SRMHR',\n",
       " '_isPutable': True,\n",
       " '_isPutter': True,\n",
       " '_isTunable': True,\n",
       " '_name': 'Rcx',\n",
       " '_owner': <weakref at 0x7f0dfc18aae8; to 'pykat.components.mirror_3103' at 0x7f0dfc369048>,\n",
       " '_parameter_name': 'Rcx',\n",
       " '_put_name': 'var_SRMHR_Rcx',\n",
       " '_putter': None,\n",
       " '_value': -6.0,\n",
       " 'put_count': 0,\n",
       " 'putees': []}"
      ]
     },
     "execution_count": 96,
     "metadata": {},
     "output_type": "execute_result"
    }
   ],
   "source": [
    "vars(kat3.SRMHR.Rc)"
   ]
  },
  {
   "cell_type": "code",
   "execution_count": 97,
   "metadata": {
    "collapsed": false
   },
   "outputs": [
    {
     "data": {
      "text/plain": [
       "{'StartDateTime': datetime.datetime(2016, 6, 13, 9, 28, 53, 112611),\n",
       " 'katScript': '% Generated by PyKat 13.06.2016 09:28:53\\n\\n%%% FTblock Laser\\nl L0 125.0 0.0 0.0 n0\\ns lmod1 1.0 n0 n1\\nmod mod1 9099471.0 0.18 1 pm 0.0 n1 n2\\ns lmod2 1.0 n2 n3\\nmod mod2 45497355.0 0.18 1 pm 0.0 n3 n4\\ns lmod3 1.0 n4 n5\\nmod mod3 24000000.0 0.1 2 pm 0.0 n5 n6\\ns mod3toMC1 1.0 n6 nMC1in\\n%%% FTend Laser\\n\\n%%% FTblock IMC\\nbs MC1 0.9939694 0.00603 0.0 44.59 nMC1in nMC1refl nMC1trans nMC1fromMC3\\ns sMC1toMC2 16.2405708 nMC1trans nMC2in\\nbs MC2 0.9999856 5.1e-06 0.0 0.82 nMC2in nMC2refl nMC2trans dump_0\\nattr MC2 Rcx 27.275\\nattr MC2 Rcy 27.275\\ns sMC2toMC3 16.2405708 nMC2refl nMC3in\\nbs MC3 0.9941542 0.005845 0.0 44.59 nMC3in nMC3refl nMC3trans nMCreturn_refl\\ns sMC3toMC1 0.465 nMC3refl nMC1fromMC3\\ns sMC3substrate 0.0845 1.44963098985906 nMC3trans nMC3ARin\\nbs MC3AR 0.0 1.0 0.0 28.9661 nMC3ARin dump_3 nMC3ARtrans dump_4\\ns sMC3ARtoIM1 0.4282 nMC3ARtrans nIM1in\\n%%% FTend IMC\\n\\n%%% FTblock HAM2\\nbs IM1 1.0 0.0 0.0 53.0 nIM1in nIM1refl nIM1HRtrans dump_7\\ns sIM1sub 0.02995 1.44963098985906 nIM1HRtrans nIM1ARin\\nbs IM1AR 0.0 1.0 0.0 33.4 nIM1ARin dump_17 nIM1ARtrans dump_18\\ns IM1ARtonanoscan 3.0 nIM1ARtrans nIOT2Lnanoscan\\ns sIM1toAOE1 0.1955 nIM1refl nAOE1in\\nlens AOE1 inf nAOE1in nAOE1trans\\ns sAOE1toIM2 1.0983 nAOE1trans nIM2in\\nbs IM2 1.0 0.0 0.0 7.0 nIM2in nIM2refl dump_27 dump_28\\nattr IM2 Rcx 12.8\\nattr IM2 Rcy 12.8\\ns sIM2toIM3 1.1704 nIM2refl nIM3in\\nbs IM3 1.0 0.0 0.0 7.1 nIM3in nIM3refl dump_24 dump_25\\nattr IM3 Rcx -6.24\\nattr IM3 Rcy -6.24\\ns sIM3toAOE2 1.041 nIM3refl nAOE2in\\nlens AOE2 inf nAOE2in nAOE2trans\\ns sAOE2toIM4 0.134 nAOE2trans nIM4in\\nbs IM4 0.9976 0.0024 0.0 45.0 nIM4in nIM4refl nIM4trans nIM4rettrans\\ns sIM4toPRMAR 0.4135 nIM4refl nREFL\\n%%% FTend HAM2\\n\\n%%% FTblock PRC\\nm PRMAR 3.5e-05 0.9999605 0.000176707384252606 nREFL nPRMARb\\ns sPRMsub1 0.0737 1.44963098985906 nPRMARb nPRMHRa\\nm PRMHR 0.9699915 0.03 0.000176707384252606 nPRMHRa nPRMHRb\\nattr PRMHR Rcx 11.009\\nattr PRMHR Rcy 11.009\\ns lp1 16.6107 nPRMHRb nPR2a\\nbs PR2 0.9997125 0.00025 0.0 -0.79 nPR2a nPR2b nPOP dump_19\\nattr PR2 Rcx -4.545\\nattr PR2 Rcy -4.545\\ns lp2 16.1647 nPR2b nPR3a\\nbs PR3 0.9999625 0.0 0.0 0.615 nPR3a nPR3b dump_5 dump_6\\nattr PR3 Rcx 36.027\\nattr PR3 Rcy 36.027\\ns lp3 19.5381 nPR3b nPRBS\\n%%% FTend PRC\\n\\n%%% FTblock BS\\nbs BS 0.4999625 0.5 0.0 45.0 nPRBS nYBS nBSi1 nBSi3\\ns BSsub1 0.0685 1.44963098985906 nBSi1 nBSi2\\ns BSsub2 0.0684 1.44963098985906 nBSi3 nBSi4\\nbs BSAR1 5e-05 0.99995 0.0 -29.195 nBSi2 dump_14 nXBS nPOX\\nbs BSAR2 5e-05 0.99995 0.0 29.195 nBSi4 dump_29 nSRBS dump_30\\n%%% FTend BS\\n\\n%%% FTblock Yarm\\ns ly1 5.0279 nYBS nITMY11\\nlens ITMYTL 34500.0 nITMY11 nITMYTLtrans\\ns ITMYTL_null 0.0 nITMYTLtrans nITMYconstL_in\\nlens ITMYconstL inf nITMYconstL_in nITMYconstL_trans\\ns ITMYTL_null2 0.0 nITMYconstL_trans nITMY1\\nm ITMYAR 2e-05 0.99998 -4.61212424992918e-05 nITMY1 nITMYs1\\ns ITMYsub 0.2 1.44963098985906 nITMYs1 nITMYs2\\nm ITMYHR 0.9859625 0.014 -4.61212424992918e-05 nITMYs2 nITMY2\\nattr ITMYHR Rcx -1934.0\\nattr ITMYHR Rcy -1934.0\\nattr ITMYHR mass 40.0\\ns LYarm 3994.5 nITMY2 nETMY1\\nm ETMYHR 0.9999575 5e-06 -0.00175684563686189 nETMY1 nETMYs1\\nattr ETMYHR Rcx 2245.0\\nattr ETMYHR Rcy 2245.0\\nattr ETMYHR mass 40.0\\ns ETMYsub 0.2 1.44963098985906 nETMYs1 nETMYs2\\nm ETMYAR 0.0005 0.9995 -0.00175684563686189 nETMYs2 nPTY\\n%%% FTend Yarm\\n\\n%%% FTblock Xarm\\ns lx1 5.0082 nXBS nITMX11\\nlens ITMXTL 34500.0 nITMX11 nITMXTLtrans\\ns ITMXtl_null 0.0 nITMXTLtrans nITMXconstL_in\\nlens ITMXconstL inf nITMXconstL_in nITMXconstL_trans\\ns ITMXTL_null2 0.0 nITMXconstL_trans nITMX1\\nm ITMXAR 2e-05 0.99998 4.61212424992918e-05 nITMX1 nITMXs1\\ns ITMXsub 0.2 1.44963098985906 nITMXs1 nITMXs2\\nm ITMXHR 0.9859625 0.014 4.61212424992918e-05 nITMXs2 nITMX2\\nattr ITMXHR Rcx -1934.0\\nattr ITMXHR Rcy -1934.0\\nattr ITMXHR mass 40.0\\ns LXarm 3994.5 nITMX2 nETMX1\\nm ETMXHR 0.9999575 5e-06 0.00171887764890592 nETMX1 nETMXs1\\nattr ETMXHR Rcx 2245.0\\nattr ETMXHR Rcy 2245.0\\nattr ETMXHR mass 40.0\\ns ETMXsub 0.2 1.44963098985906 nETMXs1 nETMXs2\\nm ETMXAR 0.0005 0.9995 0.00171887764890592 nETMXs2 nPTX\\n%%% FTend Xarm\\n\\n%%% FTblock SRC\\ns ls3 19.3661 nSRBS nSR3b\\nbs SR3 0.9999625 0.0 0.0 0.785 nSR3b nSR3a dump_20 dump_21\\nattr SR3 Rcx 35.972841\\nattr SR3 Rcy 35.972841\\ns ls2 15.4435 nSR3a nSR2b\\nbs SR2 0.9999625 0.0 0.0 -0.87 nSR2b nSR2a dump_22 dump_23\\nattr SR2 Rcx -6.406\\nattr SR2 Rcy -6.406\\ns ls1 15.7586 nSR2a nSRMHRa\\nm SRMHR 0.6499913 0.35 90.0079280184854 nSRMHRa nSRMHRb\\nattr SRMHR Rcx -5.6938\\nattr SRMHR Rcy -5.6938\\ns SRMsub 0.0749 1.44963098985906 nSRMHRb nSRMARa\\nm SRMAR 5e-08 0.99999995 90.0079280184854 nSRMARa nSRMARb\\n%%% FTend SRC\\n\\n%%% FTblock FI\\ns lIBAin 0.491516 nSRMARb nIBAin\\nm IBA 0.0 1.0 0.0 nIBAin nIBAout\\ns lOFIin 0.16 nIBAout nOFIin\\nbs IP 0.0 1.0 0.0 0.0 nOFIin dump_8 nIPtrans dump_9\\ns lIP 0.019 1.44963098985906 nIPtrans nROTin\\nm ROTin 0.0 1.0 0.0 nROTin nROTb\\ns lROT 0.08285 1.954 nROTb nROTouta\\nm ROTout 0.0 1.0 0.0 nROTouta nOPa\\ns lOP 0.019 1.44963098985906 nOPa nOPb\\nisol* OP 100000.0 nOPd nOPb nOPc\\ns lOP2 0.0 1.44963098985906 nOPc nOPe\\nm mOFIout2 0.0 1.0 0.0 nOPe nOFIout2\\ns lOP3 0.0 1.44963098985906 nOPd nOPf\\nm mOPinterface 0.0 1.0 0.0 nOPf nOFIout\\ns lWP 0.0127 1.65846 nOFIout nWPa\\nm WP 0.0 1.0 0.0 nWPa nWPb\\ns lOBA 0.2098563 nWPb nOBAin\\nm OBA 0.0 1.0 0.0 nOBAin nOBAout\\n%%% FTend FI\\n\\n%%% FTblock FilterCavity\\ns lOP_lensFC 0.541093376854 nOFIout2 nlensFC1a\\nlens lensFC1 -0.3 nlensFC1a nlensFC1b\\ns llensFC1_lensFC2 0.234279382609 nlensFC1b nlensFC2a\\nlens lensFC2 0.55 nlensFC2a nlensFC2b\\ns llensFC_FC 0.22462724054 nlensFC2b nIMFC2\\nbs IMFC 0.999939 6.1e-05 0.0 0.0 nIMFC1 nIMFC2 nIMFC3 nIMFC4\\nattr IMFC Rcx -15.999\\nattr IMFC Rcy -15.999\\ns lFC1 16.0 nIMFC3 nEMFC1\\ns lFC2 16.0 nEMFC2 nIMFC4\\nbs EMFC 1.0 0.0 -0.000882 0.0 nEMFC1 nEMFC2 dump_31 dump_32\\nattr EMFC Rcx 15.999\\nattr EMFC Rcy 15.999\\ns lsqz_FC 0.0 nsqz nIMFC1\\n%%% FTend FilterCavity\\n\\n%%% FTblock OMCpath\\ns lom1 2.724 nOBAout nOM1a\\nbs OM1 0.9991625 0.0008 0.0 2.251 nOM1a nOM1b dump_10 dump_11\\nattr OM1 Rcx 4.6\\nattr OM1 Rcy 4.6\\ns lom2 1.395 nOM1b nOM2a\\nbs OM2 0.9999525 1e-05 0.0 4.399 nOM2a nOM2b dump_15 dump_16\\nattr OM2 Rcx 1.7058\\nattr OM2 Rcy 1.7058\\ns lom3 0.631 nOM2b nOM3a\\nbs OM3 0.9999525 1e-05 0.0 30.037 nOM3a nOM3b nOM3trans dump_26\\ns lom3omc 0.196 nOM3b nOMC_ARIC_in\\ns lomOM3trans 0.1 nOM3trans nOMC_ARIC2_in\\n%%% FTend OMCpath\\n\\n%%% FTblock OMC\\nbs OMC_ARIC 0.0 1.0 0.0 4.004 nOMC_ARIC_in dump_36 nOMC_ARIC_trans dump_37\\ns subOMC_IC 0.01078 1.44963098985906 nOMC_ARIC_trans nOMC_HRIC_in\\nbs OMC_HRIC 0.99239 0.0076 0.0 2.7609 nOMC_HRIC_in dump_33 nOMC_HRIC_trans nOMC_HRICret\\ns OMC_ICOC 0.2815 nOMC_HRIC_trans nOMC_HROC_in\\nbs OMC_HROC 0.99249 0.0075 0.0 4.004 nOMC_HROC_in nOMC_HROC_refl nOMC_HROC_trans nOMC_HROC_ret\\ns subOMC_OC 0.01078 1.44963098985906 nOMC_HROC_trans nOMC_AROC_in\\nbs OMC_AROC 0.0 1.0 0.0 2.7609 nOMC_AROC_in dump_1 nOMC_AROC_trans dump_2\\ns OMC_OCCM1 0.2842 nOMC_HROC_refl nOMC_CM1_in\\nbs OMC_CM1 0.999954 3.6e-05 0.0 4.004 nOMC_CM1_in nOMC_CM1_refl dump_34 dump_35\\nattr OMC_CM1 Rcx 2.57321\\nattr OMC_CM1 Rcy 2.57321\\ns OMC_CM1CM2 0.2815 nOMC_CM1_refl nOMC_CM2_in\\nbs OMC_CM2 0.9999541 3.59e-05 0.0 4.004 nOMC_CM2_in nOMC_CM2_refl dump_12 dump_13\\nattr OMC_CM2 Rcx 2.57369\\nattr OMC_CM2 Rcy 2.57369\\ns CM2OC 0.2842 nOMC_CM2_refl nOMC_HRICret\\n%%% FTend OMC\\n\\n%%% FTblock Lengths\\nput lx1 L $Lmx\\nput ly1 L $Lmy\\nnoplot Laver\\nfunc Laver = 57.656 - 16.6107 - 16.1647 - 19.5381\\nnoplot Lmx\\nfunc Lmx = $Laver + 0.5*0.08 - 0.06873 * 1.44963098985906 - 0.2*1.44963098985906\\nnoplot Lmy\\nfunc Lmy = $Laver - 0.2*1.44963098985906 - 0.5*0.08\\n%%% FTend Lengths\\n\\n%%% FTblock HOMs\\ncav cavIMC MC2 nMC2in MC2 nMC2refl\\ncav cavPRX PRMHR nPRMHRb ITMXHR nITMXs2\\ncav cavPRY PRMHR nPRMHRb ITMYHR nITMYs2\\ncav cavSRX SRMHR nSRMHRa ITMXHR nITMXs2\\ncav cavSRY SRMHR nSRMHRa ITMYHR nITMYs2\\ncav cavXARM ITMXHR nITMX2 ETMXHR nETMX1\\ncav cavYARM ITMYHR nITMY2 ETMYHR nETMY1\\ncav cavOMC OMC_HROC nOMC_HROC_refl OMC_HROC nOMC_HROC_in\\ncav cavFC IMFC nIMFC3 IMFC nIMFC4\\n%%% FTend HOMs\\n\\nad inputa 0 nSRBS\\nbp inputxr x r nSRBS\\nbp inputyr y r nSRBS\\nbp inputxw x w nSRBS\\nbp inputyw y w nSRBS\\nbp inputxq x q nSRBS\\nbp inputyq y q nSRBS\\ncp cavXARM_x_w cavXARM x w\\ncp cavXARM_x_w0 cavXARM x w0\\ncp cavXARM_x_z cavXARM x z\\ncp cavXARM_x_r cavXARM x r\\ncp cavXARM_x_q cavXARM x q\\ncp cavXARM_x_length cavXARM x length\\ncp cavXARM_x_loss cavXARM x loss\\ncp cavYARM_x_w cavYARM x w\\ncp cavYARM_x_w0 cavYARM x w0\\ncp cavYARM_x_z cavYARM x z\\ncp cavYARM_x_r cavYARM x r\\ncp cavYARM_x_q cavYARM x q\\ncp cavYARM_x_length cavYARM x length\\ncp cavYARM_x_loss cavYARM x loss\\ncp cavOMC_x_w cavOMC x w\\ncp cavOMC_x_w0 cavOMC x w0\\ncp cavOMC_x_z cavOMC x z\\ncp cavOMC_x_r cavOMC x r\\ncp cavOMC_x_q cavOMC x q\\ncp cavOMC_x_length cavOMC x length\\ncp cavOMC_x_loss cavOMC x loss\\nbp outputxq x q nOMC_HROC_refl\\nbp outputyq y q nOMC_HROC_refl\\nmaxtem 2\\nnoxaxis\\nyaxis lin re:im\\ntime\\ngnuterm no\\npyterm no\\n',\n",
       " 'katVersion': '2.1\\n',\n",
       " 'runDateTime': datetime.datetime(2016, 6, 13, 9, 28, 53, 305414),\n",
       " 'runtime': 0.17487,\n",
       " 'stderr': '\\r',\n",
       " 'stdout': '\\n------------------------------------------------------------------------\\n                     FINESSE 2.1                  (build 2.1-2-gb87c29b)\\n       o_.-=.        Frequency domain INterferomEter Simulation SoftwarE\\n      (\\\\\\'\".\\\\|        16.05.2016         http://www.gwoptics.org/finesse/\\n      .>\\' (_--.      \\n   _=/d   ,^\\\\        Input file /tmp/tmpv61_j36q.kat,\\n  ~~ \\\\)-\\'   \\'        Output file /tmp/tmpv61_j36q.out,\\n     / |             Gnuplot file /tmp/tmpv61_j36q.gnu \\n    \\'  \\'                                        Mon Jun 13 09:28:53 2016\\n------------------------------------------------------------------------\\n\\x1b[1m** Amplitude detector \\'inputa\\' specified without mode indices, computing average amplitude (and dummy phase) over all modes.\\n\\x1b[0m Using automatic retrace\\n \\'noxaxis\\' has been set, ignoring all other xaxis commands\\n \\n computation time:  0.17487s\\n',\n",
       " 'x': array(0.0),\n",
       " 'xlabel': ' ',\n",
       " 'y': array([[ -6.54510643e-01,   3.61408057e-03,  -1.39284977e+03,\n",
       "           0.00000000e+00,  -1.39289203e+03,   0.00000000e+00,\n",
       "           5.31929289e-02,   0.00000000e+00,   5.61801313e-02,\n",
       "           0.00000000e+00,  -1.35518165e+03,   2.25936157e+02,\n",
       "          -1.36245450e+03,   2.03641232e+02,   1.40764743e-01,\n",
       "           7.07540464e-01,   1.40764734e-01,   7.10069128e-01,\n",
       "           5.29939093e-02,   0.00000000e+00,   1.20370407e-02,\n",
       "           0.00000000e+00,  -1.83421988e+03,   0.00000000e+00,\n",
       "          -1.93400000e+03,   0.00000000e+00,  -1.83421988e+03,\n",
       "           4.27806821e+02,   7.98900000e+03,   0.00000000e+00,\n",
       "           1.40794034e-02,   0.00000000e+00,   5.29939093e-02,\n",
       "           0.00000000e+00,   1.20370407e-02,   0.00000000e+00,\n",
       "          -1.83421988e+03,   0.00000000e+00,  -1.93400000e+03,\n",
       "           0.00000000e+00,  -1.83421988e+03,   4.27806821e+02,\n",
       "           7.98900000e+03,   0.00000000e+00,   1.40794034e-02,\n",
       "           0.00000000e+00,   4.99115039e-04,   0.00000000e+00,\n",
       "           4.89521215e-04,   0.00000000e+00,   1.40764743e-01,\n",
       "           0.00000000e+00,   3.69714894e+00,   0.00000000e+00,\n",
       "           1.40764743e-01,   7.07540464e-01,   1.13140000e+00,\n",
       "           0.00000000e+00,   1.51533625e-02,   0.00000000e+00,\n",
       "           5.34250000e+00,   0.00000000e+00,   4.99294066e+00,\n",
       "           0.00000000e+00,   5.01257380e+00,   0.00000000e+00]]),\n",
       " 'yaxis': 'lin re:im',\n",
       " 'ylabels': ['inputa Re',\n",
       "  'inputa Im',\n",
       "  'inputxr Re',\n",
       "  'inputxr Im',\n",
       "  'inputyr Re',\n",
       "  'inputyr Im',\n",
       "  'inputxw Re',\n",
       "  'inputxw Im',\n",
       "  'inputyw Re',\n",
       "  'inputyw Im',\n",
       "  'inputxq Re',\n",
       "  'inputxq Im',\n",
       "  'inputyq Re',\n",
       "  'inputyq Im',\n",
       "  'outputxq Re',\n",
       "  'outputxq Im',\n",
       "  'outputyq Re',\n",
       "  'outputyq Im',\n",
       "  'cavXARM_x_w Re',\n",
       "  'cavXARM_x_w Im',\n",
       "  'cavXARM_x_w0 Re',\n",
       "  'cavXARM_x_w0 Im',\n",
       "  'cavXARM_x_z Re',\n",
       "  'cavXARM_x_z Im',\n",
       "  'cavXARM_x_r Re',\n",
       "  'cavXARM_x_r Im',\n",
       "  'cavXARM_x_q Re',\n",
       "  'cavXARM_x_q Im',\n",
       "  'cavXARM_x_length Re',\n",
       "  'cavXARM_x_length Im',\n",
       "  'cavXARM_x_loss Re',\n",
       "  'cavXARM_x_loss Im',\n",
       "  'cavYARM_x_w Re',\n",
       "  'cavYARM_x_w Im',\n",
       "  'cavYARM_x_w0 Re',\n",
       "  'cavYARM_x_w0 Im',\n",
       "  'cavYARM_x_z Re',\n",
       "  'cavYARM_x_z Im',\n",
       "  'cavYARM_x_r Re',\n",
       "  'cavYARM_x_r Im',\n",
       "  'cavYARM_x_q Re',\n",
       "  'cavYARM_x_q Im',\n",
       "  'cavYARM_x_length Re',\n",
       "  'cavYARM_x_length Im',\n",
       "  'cavYARM_x_loss Re',\n",
       "  'cavYARM_x_loss Im',\n",
       "  'cavOMC_x_w Re',\n",
       "  'cavOMC_x_w Im',\n",
       "  'cavOMC_x_w0 Re',\n",
       "  'cavOMC_x_w0 Im',\n",
       "  'cavOMC_x_z Re',\n",
       "  'cavOMC_x_z Im',\n",
       "  'cavOMC_x_r Re',\n",
       "  'cavOMC_x_r Im',\n",
       "  'cavOMC_x_q Re',\n",
       "  'cavOMC_x_q Im',\n",
       "  'cavOMC_x_length Re',\n",
       "  'cavOMC_x_length Im',\n",
       "  'cavOMC_x_loss Re',\n",
       "  'cavOMC_x_loss Im',\n",
       "  'Laver Re',\n",
       "  'Laver Im',\n",
       "  'Lmx Re',\n",
       "  'Lmx Im',\n",
       "  'Lmy Re',\n",
       "  'Lmy Im']}"
      ]
     },
     "execution_count": 97,
     "metadata": {},
     "output_type": "execute_result"
    }
   ],
   "source": [
    "vars(out[0])"
   ]
  }
 ],
 "metadata": {
  "kernelspec": {
   "display_name": "Python 3",
   "language": "python",
   "name": "python3"
  },
  "language_info": {
   "codemirror_mode": {
    "name": "ipython",
    "version": 3
   },
   "file_extension": ".py",
   "mimetype": "text/x-python",
   "name": "python",
   "nbconvert_exporter": "python",
   "pygments_lexer": "ipython3",
   "version": "3.5.1"
  }
 },
 "nbformat": 4,
 "nbformat_minor": 0
}
