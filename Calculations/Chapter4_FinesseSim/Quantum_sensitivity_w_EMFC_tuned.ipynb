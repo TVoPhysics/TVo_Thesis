{
 "cells": [
  {
   "cell_type": "code",
   "execution_count": 1,
   "metadata": {
    "collapsed": false
   },
   "outputs": [
    {
     "name": "stdout",
     "output_type": "stream",
     "text": [
      "                                              ..-\n",
      "    PyKat 1.0.9           _                  '(\n",
      "                          \\`.|\\.__...-\"\"\"\"-_.\" )\n",
      "       ..+-----.._        /  ' `            .-'\n",
      "   . '            `:      7/* _/._\\    \\   (\n",
      "  (        '::;;+;;:      `-\"' =\" /,`\"\" `) /\n",
      "  L.        \\`:::a:f            c_/     n_'\n",
      "  ..`--...___`.  .    ,  \n",
      "   `^-....____:   +.      www.gwoptics.org/pykat\n",
      "\n"
     ]
    }
   ],
   "source": [
    "%matplotlib inline\n",
    "import pykat\n",
    "import pylab as pl\n",
    "import pandas\n",
    "import matplotlib.pyplot as plt\n",
    "import matplotlib\n",
    "import csv\n",
    "import math\n",
    "import numpy as np\n",
    "from pykat.parallel import parakat\n",
    "import pprint\n",
    "\n",
    "pandas.set_eng_float_format(accuracy=3, use_eng_prefix=True)"
   ]
  },
  {
   "cell_type": "code",
   "execution_count": 2,
   "metadata": {
    "collapsed": false
   },
   "outputs": [
    {
     "name": "stdout",
     "output_type": "stream",
     "text": [
      "--------------------------------------------------------------\n",
      "Running kat - Started at 2016-09-08 14:16:09.418471\n"
     ]
    },
    {
     "name": "stderr",
     "output_type": "stream",
     "text": [
      " 94% | ETA:  0:00:02 | Calculating                                             "
     ]
    },
    {
     "name": "stdout",
     "output_type": "stream",
     "text": [
      "\n",
      "Finished in 40.3198 seconds\n"
     ]
    },
    {
     "name": "stderr",
     "output_type": "stream",
     "text": [
      "\r",
      " 95% | ETA:  0:00:01 | Calculating                                             \r",
      " 96% | ETA:  0:00:01 | Calculating                                             \r",
      " 97% | ETA:  0:00:01 | Calculating                                             \r",
      " 98% | ETA:  0:00:00 | Calculating                                             \r",
      " 99% | ETA:  0:00:00 | Calculating                                             \r",
      "100% | ETA:  0:00:00 | Calculating                                             "
     ]
    }
   ],
   "source": [
    "katfile = './aLIGO_IFO_AWC_tuning_DCoff_maxtem2.kat'\n",
    "basekat = pykat.finesse.kat()\n",
    "basekat.loadKatFile(katfile)\n",
    "# Don't need these things so removing them\n",
    "#basekat.removeLine(\"startnode\")\n",
    "#basekat.removeBlock('locks',True)\n",
    "#basekat.removeBlock('ASuWFS',True)\n",
    "#basekat.removeBlock('REFLWFS',True)\n",
    "\n",
    "\n",
    "# Add QM noise detectors\n",
    "basekat.parseCommands(\"\"\"\n",
    "tf sus 1 0 p $mech_fres $mech_Q\n",
    "const mech_fres 1  # Approx. resonance frequency\n",
    "const mech_Q    1M # Guess for suspension Q factor\n",
    "\n",
    "# Differentially modulate the strain in the arms\n",
    "fsig darm  LXarm 1 0 1\n",
    "fsig darm2 LYarm 1 180 1\n",
    "\n",
    "#fsig darm  ETMXHR 1 0 .5\n",
    "#fsig darm2 ETMYHR 1 180 .5\n",
    "\n",
    "sq sqz 0 10 0 nsqz\n",
    "\n",
    "qnoisedS NSR_with_RP    1 $fs nOMC_AROC_trans\n",
    "qshotS   NSR_without_RP 1 $fs nOMC_AROC_trans\n",
    "#qnoised noise    $fs nOMCout\n",
    "#pd1     signal 1 $fs nOMCout\n",
    "#pdS3 power $f1 max $f2 max $fs max nOMCout\n",
    "#pdS sense\n",
    "\n",
    "\n",
    "xaxis darm f log 5 5k 1000\n",
    "yaxis log abs\n",
    "\"\"\")\n",
    "\n",
    "basekat.undumpNodes() #undump the vacuum nodes\n",
    "kat=basekat.deepcopy() #copy kat code\n",
    "\n",
    "out = kat.run()"
   ]
  },
  {
   "cell_type": "code",
   "execution_count": 3,
   "metadata": {
    "collapsed": false
   },
   "outputs": [
    {
     "ename": "TimeoutError",
     "evalue": "Hub connection request timed out",
     "output_type": "error",
     "traceback": [
      "\u001b[1;31m---------------------------------------------------------------------------\u001b[0m",
      "\u001b[1;31mTimeoutError\u001b[0m                              Traceback (most recent call last)",
      "\u001b[1;32m<ipython-input-3-af14e7cebc37>\u001b[0m in \u001b[0;36m<module>\u001b[1;34m()\u001b[0m\n\u001b[1;32m----> 1\u001b[1;33m \u001b[0mpk\u001b[0m \u001b[1;33m=\u001b[0m \u001b[0mparakat\u001b[0m\u001b[1;33m(\u001b[0m\u001b[1;33m)\u001b[0m \u001b[1;31m#enable parallel python processing\u001b[0m\u001b[1;33m\u001b[0m\u001b[0m\n\u001b[0m\u001b[0;32m      2\u001b[0m \u001b[1;33m\u001b[0m\u001b[0m\n\u001b[0;32m      3\u001b[0m \u001b[0mvary_fc_T\u001b[0m \u001b[1;33m=\u001b[0m \u001b[1;33m[\u001b[0m\u001b[1;33m]\u001b[0m\u001b[1;33m\u001b[0m\u001b[0m\n\u001b[0;32m      4\u001b[0m \u001b[0mdarm_list\u001b[0m \u001b[1;33m=\u001b[0m \u001b[1;33m[\u001b[0m\u001b[1;33m]\u001b[0m\u001b[1;33m\u001b[0m\u001b[0m\n\u001b[0;32m      5\u001b[0m \u001b[1;33m\u001b[0m\u001b[0m\n",
      "\u001b[1;32m/home/thomasvo/pykat/pykat/parallel.py\u001b[0m in \u001b[0;36m__init__\u001b[1;34m(self)\u001b[0m\n\u001b[0;32m     86\u001b[0m \u001b[1;33m\u001b[0m\u001b[0m\n\u001b[0;32m     87\u001b[0m     \u001b[1;32mdef\u001b[0m \u001b[0m__init__\u001b[0m\u001b[1;33m(\u001b[0m\u001b[0mself\u001b[0m\u001b[1;33m)\u001b[0m\u001b[1;33m:\u001b[0m\u001b[1;33m\u001b[0m\u001b[0m\n\u001b[1;32m---> 88\u001b[1;33m         \u001b[0mself\u001b[0m\u001b[1;33m.\u001b[0m\u001b[0m_rc\u001b[0m \u001b[1;33m=\u001b[0m \u001b[0mClient\u001b[0m\u001b[1;33m(\u001b[0m\u001b[1;33m)\u001b[0m\u001b[1;33m\u001b[0m\u001b[0m\n\u001b[0m\u001b[0;32m     89\u001b[0m         \u001b[0mself\u001b[0m\u001b[1;33m.\u001b[0m\u001b[0m_lview\u001b[0m \u001b[1;33m=\u001b[0m \u001b[0mself\u001b[0m\u001b[1;33m.\u001b[0m\u001b[0m_rc\u001b[0m\u001b[1;33m.\u001b[0m\u001b[0mload_balanced_view\u001b[0m\u001b[1;33m(\u001b[0m\u001b[1;33m)\u001b[0m\u001b[1;33m\u001b[0m\u001b[0m\n\u001b[0;32m     90\u001b[0m         \u001b[0mself\u001b[0m\u001b[1;33m.\u001b[0m\u001b[0m_lview\u001b[0m\u001b[1;33m.\u001b[0m\u001b[0mblock\u001b[0m \u001b[1;33m=\u001b[0m \u001b[1;32mFalse\u001b[0m\u001b[1;33m\u001b[0m\u001b[0m\n",
      "\u001b[1;32m/home/thomasvo/anaconda3/lib/python3.5/site-packages/ipyparallel/client/client.py\u001b[0m in \u001b[0;36m__init__\u001b[1;34m(self, url_file, profile, profile_dir, ipython_dir, context, debug, sshserver, sshkey, password, paramiko, timeout, cluster_id, **extra_args)\u001b[0m\n\u001b[0;32m    486\u001b[0m \u001b[1;33m\u001b[0m\u001b[0m\n\u001b[0;32m    487\u001b[0m         \u001b[1;32mtry\u001b[0m\u001b[1;33m:\u001b[0m\u001b[1;33m\u001b[0m\u001b[0m\n\u001b[1;32m--> 488\u001b[1;33m             \u001b[0mself\u001b[0m\u001b[1;33m.\u001b[0m\u001b[0m_connect\u001b[0m\u001b[1;33m(\u001b[0m\u001b[0msshserver\u001b[0m\u001b[1;33m,\u001b[0m \u001b[0mssh_kwargs\u001b[0m\u001b[1;33m,\u001b[0m \u001b[0mtimeout\u001b[0m\u001b[1;33m)\u001b[0m\u001b[1;33m\u001b[0m\u001b[0m\n\u001b[0m\u001b[0;32m    489\u001b[0m         \u001b[1;32mexcept\u001b[0m\u001b[1;33m:\u001b[0m\u001b[1;33m\u001b[0m\u001b[0m\n\u001b[0;32m    490\u001b[0m             \u001b[0mself\u001b[0m\u001b[1;33m.\u001b[0m\u001b[0mclose\u001b[0m\u001b[1;33m(\u001b[0m\u001b[0mlinger\u001b[0m\u001b[1;33m=\u001b[0m\u001b[1;36m0\u001b[0m\u001b[1;33m)\u001b[0m\u001b[1;33m\u001b[0m\u001b[0m\n",
      "\u001b[1;32m/home/thomasvo/anaconda3/lib/python3.5/site-packages/ipyparallel/client/client.py\u001b[0m in \u001b[0;36m_connect\u001b[1;34m(self, sshserver, ssh_kwargs, timeout)\u001b[0m\n\u001b[0;32m    606\u001b[0m         \u001b[0mevts\u001b[0m \u001b[1;33m=\u001b[0m \u001b[0mpoller\u001b[0m\u001b[1;33m.\u001b[0m\u001b[0mpoll\u001b[0m\u001b[1;33m(\u001b[0m\u001b[0mtimeout\u001b[0m\u001b[1;33m*\u001b[0m\u001b[1;36m1000\u001b[0m\u001b[1;33m)\u001b[0m\u001b[1;33m\u001b[0m\u001b[0m\n\u001b[0;32m    607\u001b[0m         \u001b[1;32mif\u001b[0m \u001b[1;32mnot\u001b[0m \u001b[0mevts\u001b[0m\u001b[1;33m:\u001b[0m\u001b[1;33m\u001b[0m\u001b[0m\n\u001b[1;32m--> 608\u001b[1;33m             \u001b[1;32mraise\u001b[0m \u001b[0merror\u001b[0m\u001b[1;33m.\u001b[0m\u001b[0mTimeoutError\u001b[0m\u001b[1;33m(\u001b[0m\u001b[1;34m\"Hub connection request timed out\"\u001b[0m\u001b[1;33m)\u001b[0m\u001b[1;33m\u001b[0m\u001b[0m\n\u001b[0m\u001b[0;32m    609\u001b[0m         \u001b[0midents\u001b[0m\u001b[1;33m,\u001b[0m \u001b[0mmsg\u001b[0m \u001b[1;33m=\u001b[0m \u001b[0mself\u001b[0m\u001b[1;33m.\u001b[0m\u001b[0msession\u001b[0m\u001b[1;33m.\u001b[0m\u001b[0mrecv\u001b[0m\u001b[1;33m(\u001b[0m\u001b[0mself\u001b[0m\u001b[1;33m.\u001b[0m\u001b[0m_query_socket\u001b[0m\u001b[1;33m,\u001b[0m \u001b[0mmode\u001b[0m\u001b[1;33m=\u001b[0m\u001b[1;36m0\u001b[0m\u001b[1;33m)\u001b[0m\u001b[1;33m\u001b[0m\u001b[0m\n\u001b[0;32m    610\u001b[0m         \u001b[1;32mif\u001b[0m \u001b[0mself\u001b[0m\u001b[1;33m.\u001b[0m\u001b[0mdebug\u001b[0m\u001b[1;33m:\u001b[0m\u001b[1;33m\u001b[0m\u001b[0m\n",
      "\u001b[1;31mTimeoutError\u001b[0m: Hub connection request timed out"
     ]
    }
   ],
   "source": [
    "pk = parakat() #enable parallel python processing\n",
    "\n",
    "vary_fc_T = []\n",
    "darm_list = []\n",
    "\n",
    "for i in range(0,10,1):\n",
    "    f = float(i)*(1e-6)\n",
    "    vary_fc_T.append(float(f))\n",
    "    \n",
    "for i in range(0,10,1):\n",
    "    basekat.undumpNodes()\n",
    "    kat=basekat.deepcopy()\n",
    "    vary = float(vary_fc_T[i])\n",
    "    kat.EMFC.T = vary\n",
    "    kat.EMFC.R = 1.0-vary\n",
    "    print(vary)\n",
    "    pk.run(kat, cmd_args=[\"-cr=on\"])\n",
    "    #darm_list.append(out['NSR_with_RP'])\n",
    "\n",
    "outs = pk.getResults()"
   ]
  },
  {
   "cell_type": "code",
   "execution_count": null,
   "metadata": {
    "collapsed": false
   },
   "outputs": [],
   "source": [
    "for i,out in enumerate(outs):\n",
    "    darm_list.append(outs[i]['NSR_with_RP'])\n",
    "    \n",
    "hbar=6.62606957E-34/(2.0 *np.pi)\n",
    "m = 40.\n",
    "L = 3994.5\n",
    "SQL_x = np.sqrt( 8 * hbar / ( m * (2*np.pi*out.x)**2)) / L"
   ]
  },
  {
   "cell_type": "code",
   "execution_count": null,
   "metadata": {
    "collapsed": false
   },
   "outputs": [],
   "source": [
    "darm_list[0]"
   ]
  },
  {
   "cell_type": "code",
   "execution_count": null,
   "metadata": {
    "collapsed": true
   },
   "outputs": [],
   "source": [
    "pk.clear()\n",
    "pk.close()"
   ]
  },
  {
   "cell_type": "code",
   "execution_count": null,
   "metadata": {
    "collapsed": false
   },
   "outputs": [],
   "source": [
    "gwinc_data = np.genfromtxt('./GwincOutput125W.csv', delimiter=',')\n",
    "headers = ['Freq','MirrorThermal','Newtonian','Quantum','ResGas','Seismic','SuspThermal','Total']\n",
    "\n",
    "Freq = []\n",
    "MirrorThermal = []\n",
    "Newtonian = []\n",
    "Quantum = []\n",
    "ResGas = []\n",
    "Seismic = []\n",
    "SuspThermal = []\n",
    "Total = []\n",
    "for i in range(len(gwinc_data)):\n",
    "    Freq.append(gwinc_data[i][0])\n",
    "    MirrorThermal.append(math.sqrt(gwinc_data[i][1]))\n",
    "    Newtonian.append(math.sqrt(gwinc_data[i][2]))\n",
    "    Quantum.append(math.sqrt(gwinc_data[i][3]))\n",
    "    ResGas.append(math.sqrt(gwinc_data[i][4]))\n",
    "    Seismic.append(math.sqrt(gwinc_data[i][5]))\n",
    "    SuspThermal.append(math.sqrt(gwinc_data[i][6]))\n",
    "    Total.append(math.sqrt(gwinc_data[i][7]))\n",
    "    "
   ]
  },
  {
   "cell_type": "code",
   "execution_count": null,
   "metadata": {
    "collapsed": false,
    "scrolled": true
   },
   "outputs": [],
   "source": [
    "plt.figure(figsize=(14,7))\n",
    "\n",
    "plt.loglog(out.x,out['NSR_with_RP'], label='Finesse QM limited Sensitivity')\n",
    "#plt.loglog(out.x,darm_list[2], label='10db')\n",
    "\n",
    "#plt.loglog(out.x,out['NSR_without_RP'],label='Finesse ShotNoise')\n",
    "plt.loglog(out.x,SQL_x,'-.',color='k', label='SQL')\n",
    "#plt.loglog(out.x,out['power'],label='Power on PD')\n",
    "#plt.loglog(out.x,out['sense'],label='Finesse Total')\n",
    "plt.loglog(Freq,Quantum,label='GwincQM noise')\n",
    "#plt.loglog(Freq,Total,label='Gwinc total noise')\n",
    "plt.title('GW detector: quantum-noise limited sensitivity')\n",
    "plt.xlabel('signal frequency [Hz]')\n",
    "plt.xlim([min(out.x),max(out.x)])\n",
    "plt.ylim([1E-24,2E-22])\n",
    "plt.legend()\n",
    "plt.ylabel('sensitivity [1/sqrt(Hz)]')\n",
    "plt.grid(True)\n"
   ]
  },
  {
   "cell_type": "code",
   "execution_count": null,
   "metadata": {
    "collapsed": false
   },
   "outputs": [],
   "source": [
    "len(darm_list)"
   ]
  },
  {
   "cell_type": "code",
   "execution_count": null,
   "metadata": {
    "collapsed": false
   },
   "outputs": [],
   "source": [
    "matplotlib.RcParams.update({'font.size', 'Large'})\n",
    "\n",
    "pl.figure(figsize=(9, 5), dpi=80)\n",
    "\n",
    "cm = pl.cm.Spectral_r\n",
    "norm = matplotlib.colors.Normalize(0, 1e-5)\n",
    "\n",
    "s_m = matplotlib.cm.ScalarMappable(cmap=cm, norm=norm)\n",
    "s_m.set_array([])\n",
    "\n",
    "for i in range(len(darm_list)):\n",
    "    c = c = s_m.to_rgba(vary_fc_T[i])\n",
    "    pl.subplot(111)\n",
    "    pl.loglog(out.x, darm_list[i],linewidth=3,zorder=1000, color = c)\n",
    "    pl.tick_params(labelsize=10)\n",
    "    \n",
    "pl.subplot(111)\n",
    "\n",
    "#plt.loglog(out.x,SQL_x,'-.',color='k', label='SQL')\n",
    "plt.loglog(Freq,Quantum,'o',label='Baseline ALIGO')\n",
    "\n",
    "#pl.loglog(out.x, darm_list[0],out.x, darm_list[1],out.x, darm_list[2],out.x, darm_list[3],out.x, darm_list[4], color = c )\n",
    "pl.title(\"Quantum noise varying EMFC Trans\", fontsize = 15)\n",
    "pl.xlim(out.x.min(),out.x.max())\n",
    "pl.ylim(3e-25,1e-22)\n",
    "pl.grid(True, zorder=-1)\n",
    "pl.legend()\n",
    "\n",
    "pl.xlabel(\"Frequency [Hz]\", fontsize = 10)\n",
    "pl.ylabel(\"Strain sensitivity [$1/\\\\sqrt{\\mathrm{Hz}}$]\", fontsize = 10)\n",
    "\n",
    "cb = pl.colorbar(s_m)\n",
    "cb.set_label(\"Trans of End Mirror]\", fontsize = 10)\n",
    "cb.ax.tick_params(labelsize=10) \n",
    "cb.formatter.set_powerlimits((1, 0))\n",
    "cb.update_ticks()\n",
    "\n",
    "pl.tick_params(labelsize=10)\n",
    "#pylab.savefig(\"fc_mismatch_to_sqz_ifo_maxtem_%i_sqzing_%g.pdf\" % (maxtem, kat.sqz.db))\n",
    "\n",
    "pl.savefig(\"ht_varyingEMFC_w10dbSqz.eps\")\n",
    "pl.show()"
   ]
  },
  {
   "cell_type": "code",
   "execution_count": null,
   "metadata": {
    "collapsed": false
   },
   "outputs": [],
   "source": [
    "%time"
   ]
  }
 ],
 "metadata": {
  "kernelspec": {
   "display_name": "Python 3",
   "language": "python",
   "name": "python3"
  },
  "language_info": {
   "codemirror_mode": {
    "name": "ipython",
    "version": 3
   },
   "file_extension": ".py",
   "mimetype": "text/x-python",
   "name": "python",
   "nbconvert_exporter": "python",
   "pygments_lexer": "ipython3",
   "version": "3.5.1"
  }
 },
 "nbformat": 4,
 "nbformat_minor": 0
}
