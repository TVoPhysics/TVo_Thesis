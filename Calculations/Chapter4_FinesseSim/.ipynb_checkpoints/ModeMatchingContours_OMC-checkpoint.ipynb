{
 "cells": [
  {
   "cell_type": "code",
   "execution_count": 2,
   "metadata": {
    "collapsed": true
   },
   "outputs": [],
   "source": [
    "description='''\n",
    "Using the OMC as a basis cavity, project all the current actuators on the OMC contour plots:\n",
    "\n",
    "ITMX and ITMY CO2 Thermal Lens\n",
    "\n",
    "ITM/ETM Ring Heaters\n",
    "\n",
    "SR3 HR Heater\n",
    "\n",
    "SRM AR Heater\n",
    "\n",
    "'''"
   ]
  },
  {
   "cell_type": "code",
   "execution_count": 6,
   "metadata": {},
   "outputs": [],
   "source": [
    "import pykat\n",
    "from pykat.ifo import aligo\n",
    "import pykat.ifo.aligo.plot\n",
    "import matplotlib.pyplot as plt\n",
    "%matplotlib inline"
   ]
  },
  {
   "cell_type": "code",
   "execution_count": 5,
   "metadata": {
    "collapsed": true
   },
   "outputs": [],
   "source": [
    "import numpy as np\n",
    "\n",
    "### My functions\n",
    "from kat_commands import *\n",
    "from cav_commands import *\n",
    "from MMT import modematch\n",
    "\n",
    "import get_WS\n",
    "import trace_mode"
   ]
  },
  {
   "cell_type": "code",
   "execution_count": 78,
   "metadata": {
    "collapsed": true
   },
   "outputs": [],
   "source": [
    "def try_it(kat_in):\n",
    "    result = None\n",
    "    tries = None\n",
    "    while result is None and tries < 20:    \n",
    "        try:\n",
    "            out = kat_in.run()\n",
    "            result = 1\n",
    "        except:\n",
    "            tries += 1 \n",
    "            print(\"Ran into a pipe error, running again\")\n",
    "            continue\n",
    "\n",
    "    return out"
   ]
  },
  {
   "cell_type": "code",
   "execution_count": 10,
   "metadata": {
    "collapsed": true
   },
   "outputs": [],
   "source": [
    "katfile = \"aLIGO_IFO_AWC_tuning_DCoff_maxtem4_modified.kat\""
   ]
  },
  {
   "cell_type": "code",
   "execution_count": 58,
   "metadata": {
    "collapsed": true
   },
   "outputs": [],
   "source": [
    "basekat = pykat.finesse.kat() \n",
    "basekat.load(katfile)\n",
    "basekat.parse(cav_commands_FC_first)\n",
    "basekat.parse(commands)\n",
    "basekat.parse('''\n",
    "noxaxis\n",
    "''')\n",
    "basekat.verbose=False"
   ]
  },
  {
   "cell_type": "code",
   "execution_count": 32,
   "metadata": {},
   "outputs": [
    {
     "name": "stdout",
     "output_type": "stream",
     "text": [
      "--------------------------------------------------------------\n",
      "Running kat - Started at 2019-02-14 09:35:56.337863\n"
     ]
    },
    {
     "name": "stderr",
     "output_type": "stream",
     "text": [
      "\r",
      "  0% | ETA:  --:--:-- | Calculating                                            \r",
      "100% | ETA:  0:00:00 | Calculating                                             "
     ]
    },
    {
     "name": "stdout",
     "output_type": "stream",
     "text": [
      "\n",
      "Finished in 0.934628 seconds\n"
     ]
    }
   ],
   "source": [
    "# Get the OMC mode\n",
    "kat = basekat.deepcopy()\n",
    "[OMCx,OMCy] = trace_mode.from_cav_to_BS(kat,'cavOMC')"
   ]
  },
  {
   "cell_type": "code",
   "execution_count": 148,
   "metadata": {},
   "outputs": [],
   "source": [
    "# Calculate SR3 curvature change\n",
    "dR_SR3 = np.linspace(-0.030,0.030,10)\n",
    "SRC_mode_vary_SR3 = []\n",
    "\n",
    "for i in range(len(dR_SR3)):\n",
    "    kat = basekat.deepcopy()\n",
    "    kat.SR3.Rcx = basekat.SR3.Rc.value + dR_SR3[i]\n",
    "    kat.SR3.Rcy = basekat.SR3.Rc.value + dR_SR3[i]\n",
    "    \n",
    "    [SRC_x,SRC_y] = trace_mode.from_cav_to_BS(kat,'cavOMC')\n",
    "    \n",
    "    SRC_mode_vary_SR3.append(SRC_x)\n",
    "\n",
    "SRC_mode_vary_SR3 = np.array(SRC_mode_vary_SR3)"
   ]
  },
  {
   "cell_type": "code",
   "execution_count": 149,
   "metadata": {},
   "outputs": [],
   "source": [
    "# Calculate SRM curvature change\n",
    "dR_SRM = np.linspace(-18e-1,18e-1,10)\n",
    "SRC_mode_vary_SRM = []\n",
    "\n",
    "for i in range(len(dR_SRM)):\n",
    "    kat = basekat.deepcopy()\n",
    "    kat.SRMHR.Rcx = basekat.SRMHR.Rc.value + dR_SRM[i]\n",
    "    kat.SRMHR.Rcy = basekat.SRMHR.Rc.value + dR_SRM[i]\n",
    "    \n",
    "    [SRC_x,SRC_y] = trace_mode.from_cav_to_BS(kat,'cavOMC')\n",
    "    \n",
    "    SRC_mode_vary_SRM.append(SRC_x)\n",
    "\n",
    "SRC_mode_vary_SRM = np.array(SRC_mode_vary_SRM)"
   ]
  },
  {
   "cell_type": "code",
   "execution_count": 162,
   "metadata": {},
   "outputs": [],
   "source": [
    "# Calculate OM1 curvature change\n",
    "dR_OM1 = np.linspace(-20e-1,50e-1,20)\n",
    "OMC_mode_vary_OM1 = []\n",
    "\n",
    "for i in range(len(dR_OM1)):\n",
    "    kat = basekat.deepcopy()\n",
    "    kat.OM1.Rcx = basekat.OM1.Rc.value + dR_OM1[i]\n",
    "    kat.OM1.Rcy = basekat.OM1.Rc.value + dR_OM1[i]\n",
    "\n",
    "    [temp_OMC_x,temp_OMC_y] = trace_mode.from_cav_to_BS(kat,'cavOMC')\n",
    "    \n",
    "    OMC_mode_vary_OM1.append(temp_OMC_x)\n",
    "\n",
    "OMC_mode_vary_OM1 = np.array(OMC_mode_vary_OM1)"
   ]
  },
  {
   "cell_type": "code",
   "execution_count": 151,
   "metadata": {
    "collapsed": true
   },
   "outputs": [],
   "source": [
    "# Calculate OM2 curvature change\n",
    "dR_OM2 = np.linspace(-4e-1,4e-1,10)\n",
    "OMC_mode_vary_OM2 = []\n",
    "\n",
    "for i in range(len(dR_SRM)):\n",
    "    kat = basekat.deepcopy()\n",
    "    kat.OM2.Rcx = basekat.OM2.Rc.value + dR_OM2[i]\n",
    "    kat.OM2.Rcy = basekat.OM2.Rc.value + dR_OM2[i]\n",
    "\n",
    "    [temp_OMC_x,temp_OMC_y] = trace_mode.from_cav_to_BS(kat,'cavOMC')\n",
    "    \n",
    "    OMC_mode_vary_OM2.append(temp_OMC_x)\n",
    "\n",
    "OMC_mode_vary_OM2 = np.array(OMC_mode_vary_OM2)"
   ]
  },
  {
   "cell_type": "code",
   "execution_count": 160,
   "metadata": {},
   "outputs": [],
   "source": [
    "# Calculate OM3 curvature change\n",
    "dR_OM3 = np.linspace(5e0,5e1,10)\n",
    "OMC_mode_vary_OM3 = []\n",
    "\n",
    "for i in range(len(dR_SRM)):\n",
    "    kat = basekat.deepcopy()\n",
    "    kat.OM3.Rcx = dR_OM3[i]\n",
    "    kat.OM3.Rcy = dR_OM3[i]\n",
    "\n",
    "    [temp_OMC_x,temp_OMC_y] = trace_mode.from_cav_to_BS(kat,'cavOMC')\n",
    "    \n",
    "    OMC_mode_vary_OM3.append(temp_OMC_x)\n",
    "    \n",
    "for i in range(len(dR_SRM)):\n",
    "    kat = basekat.deepcopy()\n",
    "    kat.OM3.Rcx = -dR_OM3[i]\n",
    "    kat.OM3.Rcy = -dR_OM3[i]\n",
    "\n",
    "    [temp_OMC_x,temp_OMC_y] = trace_mode.from_cav_to_BS(kat,'cavOMC')\n",
    "    \n",
    "    OMC_mode_vary_OM3.append(temp_OMC_x)\n",
    "\n",
    "OMC_mode_vary_OM3 = np.array(OMC_mode_vary_OM3)"
   ]
  },
  {
   "cell_type": "code",
   "execution_count": 153,
   "metadata": {},
   "outputs": [],
   "source": [
    "def make_contours(q):\n",
    "    x = np.linspace(-120, 120, 100)\n",
    "    y = np.linspace(-15, 15, 100)\n",
    "    z_list = []\n",
    "    zr_list = []\n",
    "\n",
    "    for i in range(len(x)):\n",
    "        z_list.append(q+x[i])\n",
    "        zr_list.append(q+x[i]*1j)\n",
    "\n",
    "\n",
    "    X, Y = np.meshgrid(z_list, zr_list)\n",
    "\n",
    "    Z = pykat.BeamParam.overlap(X,Y)\n",
    "    \n",
    "    return X,Y,Z\n",
    "\n",
    "X,Y,Z = make_contours(OMCx)"
   ]
  },
  {
   "cell_type": "code",
   "execution_count": null,
   "metadata": {},
   "outputs": [],
   "source": [
    "#### Plot\n",
    "plt.figure(figsize=(12, 8), dpi=200)\n",
    "\n",
    "CS = plt.contour(np.real(X),np.imag(Y),Z*100, levels=np.linspace(93,100,8))\n",
    "plt.plot(np.real(OMCx),np.imag(OMCx), '*',linewidth=1)\n",
    "plt.plot(np.real(SRC_mode_vary_SR3),np.imag(SRC_mode_vary_SR3), '--',linewidth=3, label='SR3')\n",
    "plt.plot(np.real(SRC_mode_vary_SRM),np.imag(SRC_mode_vary_SRM), '--',linewidth=3, label='SRM')\n",
    "plt.plot(np.real(OMC_mode_vary_OM1),np.imag(OMC_mode_vary_OM1), '--',linewidth=3, label='OM1')\n",
    "plt.plot(np.real(OMC_mode_vary_OM2),np.imag(OMC_mode_vary_OM2), '--',linewidth=3, label='OM2')\n",
    "plt.plot(np.real(OMC_mode_vary_OM3),np.imag(OMC_mode_vary_OM3), '--',linewidth=3, label='OM3')\n",
    "\n",
    "\n",
    "plt.clabel(CS, inline=1, fontsize=20)\n",
    "plt.legend(loc=2,fontsize=16)\n",
    "plt.tick_params(labelsize=20)\n",
    "\n",
    "plt.xlabel(\"Real q [m]\",fontsize=20)\n",
    "plt.ylabel(\"Imaginary q [m]\" ,fontsize=20)\n",
    "plt.grid()\n",
    "\n",
    "plt.savefig('../../Figures/OutputAct_Gouyphase.png')"
   ]
  }
 ],
 "metadata": {
  "kernelspec": {
   "display_name": "Python 3",
   "language": "python",
   "name": "python3"
  },
  "language_info": {
   "codemirror_mode": {
    "name": "ipython",
    "version": 3
   },
   "file_extension": ".py",
   "mimetype": "text/x-python",
   "name": "python",
   "nbconvert_exporter": "python",
   "pygments_lexer": "ipython3",
   "version": "3.6.2"
  }
 },
 "nbformat": 4,
 "nbformat_minor": 2
}
