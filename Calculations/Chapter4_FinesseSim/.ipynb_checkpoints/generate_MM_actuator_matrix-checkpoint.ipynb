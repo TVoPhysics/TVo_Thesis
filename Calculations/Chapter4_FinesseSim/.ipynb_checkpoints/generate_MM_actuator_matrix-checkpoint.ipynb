{
 "cells": [
  {
   "cell_type": "code",
   "execution_count": 1,
   "metadata": {},
   "outputs": [
    {
     "name": "stderr",
     "output_type": "stream",
     "text": [
      "C:\\Users\\tvo88\\Anaconda3\\lib\\site-packages\\h5py\\__init__.py:34: FutureWarning: Conversion of the second argument of issubdtype from `float` to `np.floating` is deprecated. In future, it will be treated as `np.float64 == np.dtype(float).type`.\n",
      "  from ._conv import register_converters as _register_converters\n"
     ]
    },
    {
     "name": "stdout",
     "output_type": "stream",
     "text": [
      "                                              ..-\n",
      "    PyKat 1.1.277         _                  '(\n",
      "                          \\`.|\\.__...-\"\"\"\"-_.\" )\n",
      "       ..+-----.._        /  ' `            .-'\n",
      "   . '            `:      7/* _/._\\    \\   (\n",
      "  (        '::;;+;;:      `-\"' =\" /,`\"\" `) /\n",
      "  L.        \\`:::a:f            c_/     n_'\n",
      "  ..`--...___`.  .    ,\n",
      "   `^-....____:   +.      www.gwoptics.org/pykat\n",
      "\n"
     ]
    }
   ],
   "source": [
    "import pykat\n",
    "import pylab as pl\n",
    "import pandas\n",
    "pandas.set_eng_float_format(accuracy=3, use_eng_prefix=True)"
   ]
  },
  {
   "cell_type": "code",
   "execution_count": 2,
   "metadata": {},
   "outputs": [
    {
     "name": "stderr",
     "output_type": "stream",
     "text": [
      "C:\\Users\\tvo88\\Anaconda3\\lib\\site-packages\\ipykernel_launcher.py:3: UserWarning: loadKatFile() depreciated, use load(...).\n",
      "  This is separate from the ipykernel package so we can avoid doing imports until\n"
     ]
    },
    {
     "name": "stdout",
     "output_type": "stream",
     "text": [
      "Parsing `set PRCL_err POP_f1_I re` into pykat object not implemented yet, added as extra line.\n",
      "Parsing `set MICH_err POP_f2_Q re` into pykat object not implemented yet, added as extra line.\n",
      "Parsing `set CARM_err REFL_f1_I re` into pykat object not implemented yet, added as extra line.\n",
      "Parsing `set SRCL_err REFL_f2_I re` into pykat object not implemented yet, added as extra line.\n",
      "Parsing `set OMC_DC P_DC_OMC re` into pykat object not implemented yet, added as extra line.\n"
     ]
    },
    {
     "name": "stderr",
     "output_type": "stream",
     "text": [
      "C:\\Users\\tvo88\\Anaconda3\\lib\\site-packages\\ipykernel_launcher.py:11: UserWarning: parseCommands depreciated, use parse.\n",
      "  # This is added back by InteractiveShellApp.init_path()\n",
      "C:\\Users\\tvo88\\Anaconda3\\lib\\site-packages\\ipykernel_launcher.py:19: UserWarning: parseCommands depreciated, use parse.\n"
     ]
    }
   ],
   "source": [
    "katfile = 'aligo_IFO_maxtem2.kat'\n",
    "basekat = pykat.finesse.kat()\n",
    "basekat.loadKatFile(katfile)\n",
    "\n",
    "# Add beam parameter detectors\n",
    "basekat.parseCommands(\"\"\"\n",
    "bp wx x w nYBS\n",
    "bp wy y w nYBS\n",
    "bp rcx x r nYBS\n",
    "bp rcy y r nYBS\n",
    "\"\"\")\n",
    "\n",
    "# Don't need these things so removing them\n",
    "basekat.removeLine(\"startnode\")\n",
    "basekat.removeBlock('locks',True)\n",
    "basekat.removeBlock('ASWFS',True)\n",
    "basekat.removeBlock('REFLWFS',True)\n",
    "basekat.verbose=False\n",
    "basekat.parseCommands('attr OM3 Rc 1e12')\n",
    "\n",
    "# Get initial beam parameters at BS using YARM cav as reference\n",
    "kat=basekat.deepcopy()\n",
    "kat.noxaxis = True\n",
    "for cav in kat.getAll(pykat.commands.cavity):\n",
    "    cav.enabled=False\n",
    "\n",
    "kat.cavYARM.enabled=True\n",
    "out = kat.run()\n",
    "\n",
    "wx_init=out['wx']\n",
    "wy_init=out['wy']\n",
    "sx_init=1/out['rcx']\n",
    "sy_init=1/out['rcy']\n",
    "\n",
    "# Set amount by which optic power should be changed to compute beam parameter slopes (in Diopters)\n",
    "dP = 1e-9\n",
    "\n",
    "# List of potential actuator optics, short names for plotting etc.\n",
    "# Please add to this list Antonio...\n",
    "acts=['PRM','PR2','PR3','SRM','SR2','SR3','ITMTL','ITM','ETM','OM1','OM2','OM3']\n",
    "\n",
    "# Actual names of components in Finesse model that are adjusted for each actuator\n",
    "# Please add to this list Antonio...\n",
    "act_names = {}\n",
    "act_names['PRM'] = 'PRMHR'\n",
    "act_names['PR2'] = 'PR2'\n",
    "act_names['PR3'] = 'PR3'\n",
    "act_names['SRM'] = 'SRMHR'\n",
    "act_names['SR2'] = 'SR2'\n",
    "act_names['SR3'] = 'SR3'\n",
    "act_names['ITMTL'] = 'ITMXTL'\n",
    "#act_names['ITMYTL'] = 'ITMYTL'\n",
    "#act_names['ITMX'] = 'ITMXHR'\n",
    "act_names['ITM'] = 'ITMXHR'\n",
    "#act_names['ITMY'] = 'ITMYHR'\n",
    "#act_names['ETMX'] = 'ETMXHR'\n",
    "act_names['ETM'] = 'ETMXHR'\n",
    "#act_names['ETMY'] = 'ETMYHR'\n",
    "act_names['OM1'] = 'OM1'\n",
    "act_names['OM2'] = 'OM2'\n",
    "act_names['OM3'] = 'OM3'\n",
    "\n",
    "\n",
    "# Curved mirror or lens\n",
    "# Please add to this list Antonio...\n",
    "\n",
    "act_types = {}\n",
    "\n",
    "for act in acts:\n",
    "    act_types[act] = 'mirror'\n",
    "    \n",
    "# act_types['ITMXTL'] = 'lens'\n",
    "# act_types['ITMYTL'] = 'lens'\n",
    "act_types['ITMTL'] = 'lens'\n",
    "\n",
    "# Diameters of optics, in case we want to use these for normalizing by optic stress, dissipated power or something.\n",
    "# Please add to this list Antonio...\n",
    "act_diams = {}\n",
    "act_diams['PRM'] = 0.15\n",
    "act_diams['ITMTL'] = 0.34\n",
    "act_diams['ITM'] = 0.34\n",
    "\n",
    "# Find the initial values of actuators, in Diopters (yes even curved mirrors)\n",
    "act_initvals = {}\n",
    "for act in acts:\n",
    "    \n",
    "    # Get the relevant component object from the kat object\n",
    "    fin_act_str='fin_act = basekat.'+act_names[act]\n",
    "    exec(fin_act_str)\n",
    "    \n",
    "    # For mirrors, set the initial value in terms of optical power (2/Rc)\n",
    "    if act_types[act]=='mirror':\n",
    "        act_initvals[act]=2/fin_act.Rc.value\n",
    "    \n",
    "    # For lenses, set the initial value in terms of lens power (1/f)\n",
    "    elif act_types[act]=='lens':\n",
    "        act_initvals[act]=1/fin_act.f.value\n",
    "\n",
    "# Generate xaxis commands for each actuator\n",
    "act_commands = {}\n",
    "\n",
    "for act in acts:\n",
    "    if act_types[act]=='mirror':\n",
    "        act_commands[act]= \"\"\"\n",
    "        xaxis {mname} Rcx lin {start} {stop} 1\n",
    "        put {mname} Rcy $x1\n",
    "        \"\"\".format(mname=act_names[act], start=(2/act_initvals[act]), stop=(2/(act_initvals[act]+dP)))\n",
    "        \n",
    "    elif act_types[act]=='lens':\n",
    "        act_commands[act]= \"\"\"\n",
    "        xaxis {lname} p lin {start} {stop} 1\n",
    "        \"\"\".format(lname=act_names[act], start=(act_initvals[act]), stop=(act_initvals[act]+dP))\n"
   ]
  },
  {
   "cell_type": "code",
   "execution_count": 5,
   "metadata": {},
   "outputs": [
    {
     "name": "stdout",
     "output_type": "stream",
     "text": [
      "cavPRX\n",
      "cavSRX\n",
      "cavXARM\n",
      "cavIMC\n",
      "cavOMC\n"
     ]
    },
    {
     "ename": "NameError",
     "evalue": "name 'padans' is not defined",
     "output_type": "error",
     "traceback": [
      "\u001b[1;31m---------------------------------------------------------------------------\u001b[0m",
      "\u001b[1;31mNameError\u001b[0m                                 Traceback (most recent call last)",
      "\u001b[1;32m<ipython-input-5-679486a620e2>\u001b[0m in \u001b[0;36m<module>\u001b[1;34m()\u001b[0m\n\u001b[0;32m     21\u001b[0m \u001b[1;33m\u001b[0m\u001b[0m\n\u001b[0;32m     22\u001b[0m \u001b[0mact_matrix_x\u001b[0m \u001b[1;33m=\u001b[0m \u001b[0mpandas\u001b[0m\u001b[1;33m.\u001b[0m\u001b[0mDataFrame\u001b[0m\u001b[1;33m(\u001b[0m\u001b[0mcolumns\u001b[0m\u001b[1;33m=\u001b[0m\u001b[0mcavDOFs\u001b[0m\u001b[1;33m,\u001b[0m \u001b[0mindex\u001b[0m\u001b[1;33m=\u001b[0m\u001b[0macts\u001b[0m\u001b[1;33m)\u001b[0m\u001b[1;33m\u001b[0m\u001b[0m\n\u001b[1;32m---> 23\u001b[1;33m \u001b[0mact_matrix_y\u001b[0m \u001b[1;33m=\u001b[0m \u001b[0mpadans\u001b[0m\u001b[1;33m.\u001b[0m\u001b[0mDataFrame\u001b[0m\u001b[1;33m(\u001b[0m\u001b[0mcolumns\u001b[0m\u001b[1;33m=\u001b[0m\u001b[0mcavDOFs\u001b[0m\u001b[1;33m,\u001b[0m \u001b[0mindex\u001b[0m\u001b[1;33m=\u001b[0m\u001b[0macts\u001b[0m\u001b[1;33m)\u001b[0m\u001b[1;33m\u001b[0m\u001b[0m\n\u001b[0m",
      "\u001b[1;31mNameError\u001b[0m: name 'padans' is not defined"
     ]
    }
   ],
   "source": [
    "# Set up a list of cavity DOF names (for plots and matrices), defocus and size for each cavity\n",
    "\n",
    "#cavnames = ['cavPRX','cavPRY','cavSRX','cavSRY','cavXARM','cavYARM','cavIMC','cavOMC']\n",
    "cavnames = ['cavPRX','cavSRX','cavXARM','cavIMC','cavOMC']\n",
    "\n",
    "cavDOFs = []\n",
    "\n",
    "for cavname in cavnames:\n",
    "    print(cavname)\n",
    "    if (cavname == 'cavPRX') or (cavname == 'cavSRX'):\n",
    "        cavDOFs.append(cavname[3:len(cavname)-1]+'C w')\n",
    "        cavDOFs.append(cavname[3:len(cavname)-1]+'C S')\n",
    "    elif cavname == 'cavXARM':\n",
    "        cavDOFs.append('ARMs w')\n",
    "        cavDOFs.append('ARMs S')\n",
    "    else:\n",
    "        cavDOFs.append(cavname[3:]+' w')\n",
    "        cavDOFs.append(cavname[3:]+' S')\n",
    "\n",
    "# intialize dataframes for storing the actuation matrix values, one for x-axis, one for y-axis\n",
    "\n",
    "act_matrix_x = pandas.DataFrame(columns=cavDOFs, index=acts)\n",
    "act_matrix_y = pan.DataFrame(columns=cavDOFs, index=acts)"
   ]
  },
  {
   "cell_type": "code",
   "execution_count": null,
   "metadata": {},
   "outputs": [],
   "source": [
    "# specify a subset of the full list of actuators here if needed\n",
    "#acts=['PRM','PR2','PR3','SRM','SR2','SR3','ITMXTL','ITMYTL','ITMX','ITMY','ETMX','ETMY','OM1','OM2','OM3']\n",
    "\n",
    "k=2*pl.pi/1064e-9\n",
    "\n",
    "# loop over actuators\n",
    "for act in acts:\n",
    "    kat=basekat.deepcopy()\n",
    "    # apply actuator specific xaxis commands\n",
    "    kat.parseCommands(act_commands[act])\n",
    "    \n",
    "    # loop through all cavities\n",
    "    for cav in cavnames:\n",
    "        \n",
    "        # First turn off all cavity commands\n",
    "        for allcavs in kat.getAll(pykat.commands.cavity):\n",
    "            allcavs.enabled = False\n",
    "        \n",
    "        # Now turn on just the one we're looking at in this loop\n",
    "        katcavstr='katcav=kat.'+cav\n",
    "        exec(katcavstr)\n",
    "        katcav.enabled = True\n",
    "    \n",
    "        # Run simulation\n",
    "        out=kat.run(printerr=1)\n",
    "        \n",
    "        # Calculate slopes of cavity parameters w.r.t. optic defocus change\n",
    "        wx_slope = (out['wx'][1]-out['wx'][0])/dP\n",
    "        sx_slope = (1/out['rcx'][1]-1/out['rcx'][0])/dP\n",
    "        wy_slope = (out['wy'][1]-out['wy'][0])/dP\n",
    "        sy_slope = (1/out['rcy'][1]-1/out['rcy'][0])/dP\n",
    "\n",
    "        # Place the calculated slopes in the actuation matrix, normalizing by the HG20 coupling factor\n",
    "        \n",
    "        if (katcav.name == 'cavPRX') or (katcav.name == 'cavSRX'):\n",
    "            cavname = katcav.name[3:len(katcav.name)-1]+'C'\n",
    "        elif katcav.name == 'cavXARM':\n",
    "            cavname='ARMs'\n",
    "        else:\n",
    "            cavname=katcav.name[3:]\n",
    "\n",
    "        act_matrix_x[cavname+' w'][act] = wx_slope/wx_init\n",
    "        act_matrix_x[cavname+' S'][act] = sx_slope*wx_init**2*k/4\n",
    "        act_matrix_y[cavname+' w'][act] = wy_slope/wy_init\n",
    "        act_matrix_y[cavname+' S'][act] = sx_slope*wx_init**2*k/4\n"
   ]
  },
  {
   "cell_type": "code",
   "execution_count": null,
   "metadata": {
    "collapsed": true
   },
   "outputs": [],
   "source": [
    "# Print actuation matrix. \n",
    "\n",
    "# There are fancier ways to do this, with nice formatting and making a LaTeX table etc., \n",
    "# but for now I just leave it like this. Units are currently all 1/D, or more specifically:\n",
    "# For beam size columns, units are [change in beam size] / [intial beam size] per Diopter on actuator\n",
    "# For beam defocus columns, units are [change in beam defocus] / [intial beam defocus] per Diopter on actuator\n",
    "pandas.set_eng_float_format(accuracy=2, use_eng_prefix=True)"
   ]
  },
  {
   "cell_type": "code",
   "execution_count": null,
   "metadata": {},
   "outputs": [],
   "source": [
    "act_matrix_x"
   ]
  },
  {
   "cell_type": "code",
   "execution_count": null,
   "metadata": {},
   "outputs": [],
   "source": [
    "act_matrix_y"
   ]
  },
  {
   "cell_type": "code",
   "execution_count": null,
   "metadata": {},
   "outputs": [],
   "source": [
    "OM3cpx=act_matrix_x['OMC w']['OM3']-1j*act_matrix_x['OMC S']['OM3']\n",
    "OM2cpx=act_matrix_x['OMC w']['OM2']-1j*act_matrix_x['OMC S']['OM2']\n",
    "OM1cpx=act_matrix_x['OMC w']['OM1']-1j*act_matrix_x['OMC S']['OM1']\n",
    "SRMcpx=-act_matrix_x['OMC w']['SRM']+1j*act_matrix_x['OMC S']['SRM'] #have to switch signs because curvature sign is different\n",
    "SR2cpx=act_matrix_x['OMC w']['SR2']-1j*act_matrix_x['OMC S']['SR2']\n",
    "SR3cpx=act_matrix_x['OMC w']['SR3']-1j*act_matrix_x['OMC S']['SR3']\n",
    "\n",
    "OM3Gouy=0.5*(pl.angle(OM3cpx*pl.exp(-1j*pl.pi*1/2)))\n",
    "OM2Gouy=0.5*(pl.angle(OM2cpx*pl.exp(-1j*pl.pi*1/2)))\n",
    "OM1Gouy=0.5*(pl.angle(OM1cpx*pl.exp(-1j*pl.pi*1/2)))\n",
    "SRMGouy=0.5*(pl.angle(SRMcpx*pl.exp(-1j*pl.pi*1/2)))\n",
    "SR2Gouy=0.5*(pl.angle(SR2cpx*pl.exp(-1j*pl.pi*1/2)))\n",
    "SR3Gouy=0.5*(pl.angle(SR3cpx*pl.exp(-1j*pl.pi*1/2)))\n",
    "\n",
    "print 'OM3 Gouy phase calculated from actuation matrix = '+str(OM3Gouy*180/pl.pi+180)+' deg'\n",
    "print 'OM2 Gouy phase calculated from actuation matrix = '+str(OM2Gouy*180/pl.pi+180)+' deg'\n",
    "print 'OM1 Gouy phase calculated from actuation matrix = '+str(OM1Gouy*180/pl.pi+180)+' deg'\n",
    "print 'SRM Gouy phase calculated from actuation matrix = '+str(SRMGouy*180/pl.pi)+' deg'\n",
    "print 'SR2 Gouy phase calculated from actuation matrix = '+str(SR2Gouy*180/pl.pi)+' deg'\n",
    "print 'SR3 Gouy phase calculated from actuation matrix = '+str(SR3Gouy*180/pl.pi)+' deg\\n'\n",
    "\n",
    "\n",
    "kat=basekat.deepcopy()\n",
    "kat.noxaxis=True\n",
    "for cav in kat.getAll(pykat.commands.cavity):\n",
    "    cav.enabled=False\n",
    "\n",
    "kat.cavOMC.enabled=True\n",
    "\n",
    "kat.parseCommands(\"\"\"\n",
    "gouy OM3gouyx x BSsub2 ls3 ls2 ls1 SRMsub sSRM_OM1 sOM1_OM2 sOM2_OM3\n",
    "gouy OM2gouyx x BSsub2 ls3 ls2 ls1 SRMsub sSRM_OM1 sOM1_OM2\n",
    "gouy OM1gouyx x BSsub2 ls3 ls2 ls1 SRMsub sSRM_OM1\n",
    "gouy SRMgouyx x BSsub2 ls3 ls2 ls1\n",
    "gouy SR2gouyx x BSsub2 ls3 ls2\n",
    "gouy SR3gouyx x BSsub2 ls3\"\"\")\n",
    "out=kat.run()\n",
    "\n",
    "print 'OM3 Gouy phase direct from Finesse file = '+str(out['OM3gouyx'])+' deg'\n",
    "print 'OM2 Gouy phase direct from Finesse file = '+str(out['OM2gouyx'])+' deg'\n",
    "print 'OM1 Gouy phase direct from Finesse file = '+str(out['OM1gouyx'])+' deg'\n",
    "print 'SRM Gouy phase direct from Finesse file = '+str(out['SRMgouyx'])+' deg'\n",
    "print 'SR2 Gouy phase direct from Finesse file = '+str(out['SR2gouyx'])+' deg'\n",
    "print 'SR3 Gouy phase direct from Finesse file = '+str(out['SR3gouyx'])+' deg'\n"
   ]
  },
  {
   "cell_type": "code",
   "execution_count": null,
   "metadata": {},
   "outputs": [],
   "source": [
    "20/2.7/36\n"
   ]
  },
  {
   "cell_type": "code",
   "execution_count": null,
   "metadata": {
    "collapsed": true
   },
   "outputs": [],
   "source": []
  }
 ],
 "metadata": {
  "kernelspec": {
   "display_name": "Python 3",
   "language": "python",
   "name": "python3"
  },
  "language_info": {
   "codemirror_mode": {
    "name": "ipython",
    "version": 3
   },
   "file_extension": ".py",
   "mimetype": "text/x-python",
   "name": "python",
   "nbconvert_exporter": "python",
   "pygments_lexer": "ipython3",
   "version": "3.6.2"
  }
 },
 "nbformat": 4,
 "nbformat_minor": 1
}
