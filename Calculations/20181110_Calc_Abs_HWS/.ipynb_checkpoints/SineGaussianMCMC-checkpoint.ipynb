{
 "cells": [
  {
   "cell_type": "code",
   "execution_count": 1,
   "metadata": {},
   "outputs": [
    {
     "ename": "ModuleNotFoundError",
     "evalue": "No module named 'corner'",
     "output_type": "error",
     "traceback": [
      "\u001b[1;31m---------------------------------------------------------------------------\u001b[0m",
      "\u001b[1;31mModuleNotFoundError\u001b[0m                       Traceback (most recent call last)",
      "\u001b[1;32m<ipython-input-1-d64bacb15fe2>\u001b[0m in \u001b[0;36m<module>\u001b[1;34m()\u001b[0m\n\u001b[0;32m      7\u001b[0m \u001b[1;32mimport\u001b[0m \u001b[0mscipy\u001b[0m\u001b[1;33m.\u001b[0m\u001b[0msignal\u001b[0m \u001b[1;32mas\u001b[0m \u001b[0msig\u001b[0m\u001b[1;33m\u001b[0m\u001b[0m\n\u001b[0;32m      8\u001b[0m \u001b[1;32mimport\u001b[0m \u001b[0mscipy\u001b[0m\u001b[1;33m.\u001b[0m\u001b[0mconstants\u001b[0m \u001b[1;32mas\u001b[0m \u001b[0mconst\u001b[0m\u001b[1;33m\u001b[0m\u001b[0m\n\u001b[1;32m----> 9\u001b[1;33m \u001b[1;32mimport\u001b[0m \u001b[0mcorner\u001b[0m\u001b[1;33m\u001b[0m\u001b[0m\n\u001b[0m\u001b[0;32m     10\u001b[0m \u001b[1;32mimport\u001b[0m \u001b[0memcee\u001b[0m \u001b[1;32mas\u001b[0m \u001b[0mmc\u001b[0m\u001b[1;33m\u001b[0m\u001b[0m\n\u001b[0;32m     11\u001b[0m \u001b[1;32mfrom\u001b[0m \u001b[0mmatplotlib\u001b[0m \u001b[1;32mimport\u001b[0m \u001b[0mstyle\u001b[0m\u001b[1;33m\u001b[0m\u001b[0m\n",
      "\u001b[1;31mModuleNotFoundError\u001b[0m: No module named 'corner'"
     ]
    }
   ],
   "source": [
    "%matplotlib inline\n",
    "from __future__ import division\n",
    "import numpy as np\n",
    "np.random.seed(123456789)   # repeatable results\n",
    "import matplotlib.pyplot as plt\n",
    "import matplotlib.mlab as mlab\n",
    "import scipy.signal as sig\n",
    "import scipy.constants as const\n",
    "import corner\n",
    "import emcee as mc\n",
    "from matplotlib import style\n",
    "style.use('dark_background')\n",
    "plt.rc('lines',linewidth=2)\n",
    "\n",
    "\n",
    "# Update the matplotlib configuration parameters:\n",
    "plt.rcParams.update({'lines.linewidth': 2,\n",
    "                     'font.size': 15,\n",
    "                     'font.family': 'serif',\n",
    "                     'figure.figsize': (15, 12),\n",
    "                     'axes.grid': True,\n",
    "                     'grid.color': '#555555'})\n"
   ]
  },
  {
   "cell_type": "code",
   "execution_count": null,
   "metadata": {
    "collapsed": true
   },
   "outputs": [],
   "source": [
    "def complex_sine_gaussian(central_time, central_freq, amplitude, phase, decay, time):\n",
    "    return amplitude * np.exp(- decay * np.square(time - central_time)) * np.exp(1j*(2*np.pi*central_freq*(time - central_time) + phase))"
   ]
  },
  {
   "cell_type": "code",
   "execution_count": null,
   "metadata": {},
   "outputs": [],
   "source": [
    "tc_true   =  0.0;     # 1 # seconds\n",
    "fc_true   =  7.0;     # 2 # Hz\n",
    "amp_true  =  1.5;     # 3 #\n",
    "phs_true  =  0.2; # 4 # radians #\n",
    "\n",
    "bw_true   =  0.25;    # Fractional = (Bandwidth/Central Frequency)\n",
    "bwr_true  = -6.0;     # dB\n",
    "duration  =  2.0;     # seconds\n",
    "sample_f  =  500;     # Hz\n",
    "\n",
    "t = np.linspace(-duration/2, duration/2, duration * sample_f, endpoint=False);\n",
    "\n",
    "# sinegauss_r, sinegauss_i, e = sig.gausspulse(t, fc_true, bw_true, bwr_true, retquad=True, retenv=True);\n",
    "# sinegauss = sinegauss_r * np.cos(phase) - sinegauss_i * np.sin(phase);\n",
    "\n",
    "ref = pow(10.0, bwr_true/20.0);\n",
    "a_true = -(np.pi * fc_true * bw_true)**2 / (4 * np.log(ref)) # 5 #\n",
    "print 'tc_true = ', tc_true\n",
    "print 'fc_true = ', fc_true\n",
    "print 'amp_true = ', amp_true\n",
    "print 'phs_true = ', phs_true\n",
    "print 'a_true = ', a_true\n",
    "sinegauss_c = complex_sine_gaussian(tc_true, fc_true, amp_true, phs_true, a_true, t);\n",
    "envelope = amp_true * np.exp(- a_true * np.square(t-tc_true))\n",
    "plt.plot(t, np.real(sinegauss_c), t, envelope, '--');\n",
    "plt.show()"
   ]
  },
  {
   "cell_type": "code",
   "execution_count": null,
   "metadata": {},
   "outputs": [],
   "source": [
    "noise_mu = 0.0;\n",
    "noise_std = 0.25;\n",
    "noise = np.random.normal(noise_mu, noise_std, len(t));\n",
    "# n, bins, patches = plt.hist(noise, 50, normed=1, facecolor='green')\n",
    "# y = mlab.normpdf(bins, noise_mu, noise_std)\n",
    "# plt.plot(bins, y, '--')\n",
    "# plt.show()\n",
    "signal = np.real(sinegauss_c) + noise;\n",
    "plt.plot(t, np.real(sinegauss_c), t, signal, 'o');\n"
   ]
  },
  {
   "cell_type": "code",
   "execution_count": null,
   "metadata": {},
   "outputs": [],
   "source": [
    "Amp_signal = np.sqrt(np.mean(np.square(signal)));\n",
    "Amp_noise  = np.sqrt(np.mean(np.square(noise)));\n",
    "SNR = np.square(Amp_signal/Amp_noise)\n",
    "print 'RMS Amplitude of the signal = ', Amp_signal\n",
    "print 'RMS Amplitude of the noise = ', Amp_noise\n",
    "print 'SNR = ', SNR"
   ]
  },
  {
   "cell_type": "code",
   "execution_count": null,
   "metadata": {
    "collapsed": true
   },
   "outputs": [],
   "source": [
    "# Define Log Likelihood\n",
    "uncs = noise_std * np.ones(len(t))  # Uniform uncertainty in each point\n",
    "def lnprob(theta, t, signal, uncs) :\n",
    "    tc = theta[0]\n",
    "    fc = theta[1]\n",
    "    amplitude = theta[2]\n",
    "    phase = theta[3]\n",
    "    a = theta[4]\n",
    "    \n",
    "#     a = b * fc**2\n",
    "    if tc < t[0] or t[-1] < tc or fc <= 0 or fc >= 0.5/(t[1]-t[0]) or amplitude <= 0 or amplitude > 5.0 or phase < -np.pi or phase >= np.pi or a <= 0 or a > 150.0 :\n",
    "        return -np.inf\n",
    "    else :\n",
    "        new_signal = np.real(complex_sine_gaussian(tc, fc, amplitude, phase, a, t));\n",
    "        return -np.sum(np.abs(signal - new_signal)**2/(2*np.square(uncs)))\n",
    "\n"
   ]
  },
  {
   "cell_type": "code",
   "execution_count": null,
   "metadata": {},
   "outputs": [],
   "source": [
    "ndim = 5\n",
    "nwalkers = 100\n",
    "rr = np.transpose(np.vstack([np.random.normal(0, 0.5, nwalkers), \n",
    "                             np.random.normal(0, 3.0, nwalkers),\n",
    "                             np.random.normal(0, 1.0, nwalkers),\n",
    "                             np.random.normal(0, 1.0, nwalkers),\n",
    "                             np.random.normal(0, 5.0, nwalkers) ]))\n",
    "p0 = np.tile(np.array([tc_true, fc_true, amp_true, phs_true, a_true]), (nwalkers,1)) + rr\n",
    "rr[0]"
   ]
  },
  {
   "cell_type": "code",
   "execution_count": null,
   "metadata": {
    "collapsed": true
   },
   "outputs": [],
   "source": [
    "samp = mc.EnsembleSampler(nwalkers, ndim, lnprob, args=[t, signal, uncs])"
   ]
  },
  {
   "cell_type": "code",
   "execution_count": null,
   "metadata": {
    "collapsed": true
   },
   "outputs": [],
   "source": [
    "pos, prob, state = samp.run_mcmc(p0, 1000)\n",
    "samp.reset()"
   ]
  },
  {
   "cell_type": "code",
   "execution_count": null,
   "metadata": {
    "collapsed": true
   },
   "outputs": [],
   "source": [
    "samp.run_mcmc(pos, 5000);"
   ]
  },
  {
   "cell_type": "code",
   "execution_count": null,
   "metadata": {
    "collapsed": true
   },
   "outputs": [],
   "source": [
    "results = np.copy(samp.flatchain) "
   ]
  },
  {
   "cell_type": "code",
   "execution_count": null,
   "metadata": {},
   "outputs": [],
   "source": [
    "range_list = [[t[0], t[-1]], [fc_true-3, fc_true+3], [amp_true-0.5, amp_true+1.0], [-np.pi, np.pi], [a_true/2, a_true*2]]\n",
    "h_c = corner.corner(results, \n",
    "                    color='0.5',\n",
    "                    bins=50, \n",
    "                    labels=['C Time', 'C Freq', 'Amplitude', 'Phase', 'Decay'],\n",
    "                    show_titles=True,\n",
    "                    title_kwargs={'fontsize':14},\n",
    "                    quantiles=[0.16, 0.5, 0.84],\n",
    "                    truths=[tc_true, fc_true, amp_true, phs_true, a_true],\n",
    "                    smooth=2,\n",
    "                    range=range_list,\n",
    "                    verbose=True,\n",
    "                    hist_kwargs={'color':'w'})\n",
    "h_c.savefig(\"SineGaussianTrianglePlots.pdf\")"
   ]
  },
  {
   "cell_type": "code",
   "execution_count": null,
   "metadata": {},
   "outputs": [],
   "source": [
    "tc_mean, fc_mean, amp_mean, phs_mean, a_mean = np.mean(results,axis=0)\n",
    "tc_median, fc_median, amp_median, phs_median, a_median = np.median(results,axis=0)\n",
    "covmat = np.cov(results.T)\n",
    "tc_unc, fc_unc, amp_unc, phs_unc, a_unc = np.sqrt(np.diag(covmat))\n",
    "print \"Means         = \", tc_mean, fc_mean, amp_mean, phs_mean, a_mean\n",
    "print \"Medians       = \", tc_median, fc_median, amp_median, phs_median, a_median\n",
    "print \"Uncertainties = \", tc_unc, fc_unc, amp_unc, phs_unc, a_unc\n",
    "print\n",
    "print \"Truths        = \", tc_true, fc_true, amp_true, phs_true, a_true\n",
    "print covmat\n",
    "\n",
    "recovered_sinegauss = complex_sine_gaussian(tc_median, fc_median, amp_median, phs_median, a_median, t);\n",
    "plt.plot(t, np.real(recovered_sinegauss), '--',label='Recovered Sine Gaussian')\n",
    "plt.plot(t, signal, 'o', label='Noisy Sine Gaussian')\n",
    "plt.legend(loc='best');\n",
    "plt.show();\n",
    "plt.plot(t, np.real(sinegauss_c), label='Actual Sine Gaussian')\n",
    "plt.plot(t, np.real(recovered_sinegauss), '--', label='Recovered Sine Gaussian')\n",
    "plt.legend(loc='best');\n",
    "plt.xlabel('Time (s)')\n",
    "plt.ylabel('Amplitude')\n",
    "plt.title('Input Sine Gaussian vs. MCMC Recovered Sine Gaussian')\n",
    "plt.savefig('ActualvsRecoveredSineGaussian.pdf')\n",
    "plt.show();\n",
    "plt.plot(t, np.real(recovered_sinegauss) - np.real(sinegauss_c), label='Residual (Recovered - Actual)')\n",
    "plt.legend(loc='best');"
   ]
  },
  {
   "cell_type": "code",
   "execution_count": null,
   "metadata": {
    "collapsed": true
   },
   "outputs": [],
   "source": []
  }
 ],
 "metadata": {
  "kernelspec": {
   "display_name": "Python 3",
   "language": "python",
   "name": "python3"
  },
  "language_info": {
   "codemirror_mode": {
    "name": "ipython",
    "version": 3
   },
   "file_extension": ".py",
   "mimetype": "text/x-python",
   "name": "python",
   "nbconvert_exporter": "python",
   "pygments_lexer": "ipython3",
   "version": "3.6.2"
  }
 },
 "nbformat": 4,
 "nbformat_minor": 1
}
