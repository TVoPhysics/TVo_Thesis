{
 "cells": [
  {
   "cell_type": "code",
   "execution_count": 12,
   "metadata": {},
   "outputs": [],
   "source": [
    "#\n",
    "#\n",
    "#                      ,,ggddY\"\"\"\"Ybbgg,,\n",
    "#                 ,agd\"\"'              `\"\"bg,\n",
    "#              ,gdP\"             2          \"Ybg,\n",
    "#            ,dP\"                             \"Yb,\n",
    "#          ,dP\"\\         _,,ddP\"\"\"Ybb,,_         /\"Yb,\n",
    "#         ,8\"    \\    ,dP\"'         `\"Yb,     /    \"8,\n",
    "#        ,8'       \\,d\"                 \"b, /       `8,\n",
    "#       ,8'        d\"                     \"b         `8,\n",
    "#       d'        d'                       `b        `b\n",
    "#       8         8                         8         8\n",
    "#       8         8            1            8         8\n",
    "#       8         8                         8         8\n",
    "#       8         Y,                       ,P         8\n",
    "#       Y,         Ya                     aP         ,P\n",
    "#       `8,   3     \"Ya                 aP\"     4   ,8'\n",
    "#       `8,          \"Yb,_         _,dP\"          ,8'\n",
    "#         `8a           `\"\"YbbgggddP\"\"'           a8'\n",
    "#          `Yba                |                adP'\n",
    "#            \"Yba              |              adY\"\n",
    "#              `\"Yba,          |          ,adP\"'\n",
    "#                `\"Y8ba,       |     ,ad8P\"'\n",
    "#                      ``\"\"YYbaaadPP\"\"''\n",
    "                      "
   ]
  },
  {
   "cell_type": "code",
   "execution_count": 13,
   "metadata": {},
   "outputs": [],
   "source": [
    "%matplotlib inline\n",
    "#### Simulate the sensing matrix for BPDs\n",
    "import numpy as np\n",
    "import matplotlib.pyplot as plt"
   ]
  },
  {
   "cell_type": "code",
   "execution_count": 14,
   "metadata": {},
   "outputs": [],
   "source": [
    "#params\n",
    "lam = 1064e-9"
   ]
  },
  {
   "cell_type": "code",
   "execution_count": 15,
   "metadata": {},
   "outputs": [],
   "source": [
    "# Create Gaussian beam intensity distribution with ability to offset within the array,\n",
    "# only worried about the 00 mode so that's easy.\n",
    "def Gauss00(x, y,x0,y0, w):\n",
    "    G = (2/(np.pi*w)) * np.exp(-2*( (x-x0)**2+(y-y0)**2 )/w**2)\n",
    "    #G = 2/(np.pi*w)*np.exp(-2.0/w**2* ( (x-x0)**2 + (y-y0)**2) )\n",
    "    return G"
   ]
  },
  {
   "cell_type": "code",
   "execution_count": 34,
   "metadata": {},
   "outputs": [],
   "source": [
    "mask_lwr_center = np.loadtxt('lowercenter.dat',delimiter=',')\n",
    "mask_upr_right = np.loadtxt('upperright.dat',delimiter=',')\n",
    "mask_upr_left = np.loadtxt('upperleft.dat',delimiter=',')\n",
    "mask_center = np.loadtxt('center.dat',delimiter=',')\n"
   ]
  },
  {
   "cell_type": "code",
   "execution_count": 32,
   "metadata": {},
   "outputs": [
    {
     "data": {
      "text/plain": [
       "501"
      ]
     },
     "execution_count": 32,
     "metadata": {},
     "output_type": "execute_result"
    }
   ],
   "source": []
  },
  {
   "cell_type": "code",
   "execution_count": 35,
   "metadata": {},
   "outputs": [
    {
     "data": {
      "image/png": "[encoded data removed]",
      "text/plain": [
       "<matplotlib.figure.Figure at 0x1c51f377ac8>"
      ]
     },
     "metadata": {},
     "output_type": "display_data"
    }
   ],
   "source": [
    "N = len(mask_lwr_center)\n",
    "array_size=.005\n",
    "x = np.linspace(-array_size, array_size, N)\n",
    "y = np.linspace(-array_size, array_size, N)\n",
    "X, Y = np.meshgrid(x, y)\n",
    "w=1.947e-3\n",
    "x0=0\n",
    "y0=0\n",
    "Z= Gauss00(X,Y,x0,y0,w)\n",
    "\n",
    "plt.figure(figsize=(5, 5), dpi=80)\n",
    "CS = plt.contour(X,Y,Z)\n",
    "plt.xlabel(\"X (mm)\",fontsize=16)\n",
    "plt.ylabel(\"Y (mm)\",fontsize=16)\n",
    "plt.grid()\n",
    "plt.show()"
   ]
  },
  {
   "cell_type": "code",
   "execution_count": 17,
   "metadata": {},
   "outputs": [],
   "source": [
    "# Create array for BPD\n",
    "size=(len(x),len(y))\n",
    "\n",
    "#R = w/np.sqrt(2)\n",
    "R = 1e-3\n",
    "\n",
    "center_x_index = Z.shape[0]/2\n",
    "center_y_index = Z.shape[1]/2\n",
    "\n",
    "units = array_size/len(x)"
   ]
  },
  {
   "cell_type": "code",
   "execution_count": 18,
   "metadata": {},
   "outputs": [],
   "source": [
    "#center\n",
    "mask3 = np.zeros(Z.shape)\n",
    "for i in range(len(X)):\n",
    "    for j in range(len(Y)):\n",
    "        if np.sqrt(( (center_x_index-i)**2 + (center_y_index-j)**2 ))*units>=R/2:\n",
    "            mask3[i][j] = 0\n",
    "        else:\n",
    "            mask3[i][j] = 1"
   ]
  },
  {
   "cell_type": "code",
   "execution_count": 19,
   "metadata": {},
   "outputs": [],
   "source": [
    "#full outer\n",
    "mask4 = np.zeros(Z.shape)\n",
    "for i in range(len(X)):\n",
    "    for j in range(len(Y)):\n",
    "        if np.sqrt(( (center_x_index-i)**2 + (center_y_index-j)**2 ))*units>=R/2:\n",
    "            mask4[i][j] = 1\n",
    "        else:\n",
    "            mask4[i][j] = 0"
   ]
  },
  {
   "cell_type": "code",
   "execution_count": null,
   "metadata": {},
   "outputs": [],
   "source": []
  },
  {
   "cell_type": "code",
   "execution_count": null,
   "metadata": {},
   "outputs": [],
   "source": []
  },
  {
   "cell_type": "code",
   "execution_count": 20,
   "metadata": {},
   "outputs": [
    {
     "name": "stdout",
     "output_type": "stream",
     "text": [
      "1274539.137977283\n",
      "1840659.1118462863\n",
      "ratio of outter over inner is 1.4441762178974324\n"
     ]
    },
    {
     "data": {
      "image/png": "[encoded data removed]",
      "text/plain": [
       "<matplotlib.figure.Figure at 0x1c51e8d8400>"
      ]
     },
     "metadata": {},
     "output_type": "display_data"
    }
   ],
   "source": [
    "inner_power = np.sum(mask3*Z)\n",
    "print(inner_power)\n",
    "\n",
    "outter_power = np.sum(mask4*Z)\n",
    "print(outter_power)\n",
    "\n",
    "print(\"ratio of outter over inner is \" + str(outter_power/inner_power))\n",
    "\n",
    "plt.figure(figsize=(5, 5), dpi=80)\n",
    "#plt.contour(X,Y,Z)\n",
    "plt.contourf(X,Y,mask4)\n",
    "plt.xlabel(\"X (mm)\",fontsize=16)\n",
    "plt.ylabel(\"Y (mm)\",fontsize=16)\n",
    "plt.colorbar()\n",
    "plt.grid()\n",
    "plt.show()"
   ]
  },
  {
   "cell_type": "code",
   "execution_count": null,
   "metadata": {},
   "outputs": [],
   "source": []
  },
  {
   "cell_type": "code",
   "execution_count": 21,
   "metadata": {},
   "outputs": [],
   "source": [
    "# Create array for Masks ()"
   ]
  }
 ],
 "metadata": {
  "kernelspec": {
   "display_name": "Python 3",
   "language": "python",
   "name": "python3"
  },
  "language_info": {
   "codemirror_mode": {
    "name": "ipython",
    "version": 3
   },
   "file_extension": ".py",
   "mimetype": "text/x-python",
   "name": "python",
   "nbconvert_exporter": "python",
   "pygments_lexer": "ipython3",
   "version": "3.6.2"
  }
 },
 "nbformat": 4,
 "nbformat_minor": 2
}
