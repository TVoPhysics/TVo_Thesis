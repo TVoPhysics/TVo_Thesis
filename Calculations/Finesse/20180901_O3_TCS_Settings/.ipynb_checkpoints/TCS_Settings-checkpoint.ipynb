{
 "cells": [
  {
   "cell_type": "code",
   "execution_count": null,
   "metadata": {
    "collapsed": true
   },
   "outputs": [],
   "source": [
    "Description = \"\"\"\n",
    "Calculate the ring heater and CO2 settings for O3.\n",
    "TCS is hard, there are a lot of ways to set up the maths.\n",
    "First the code will calculate the neccessary co2 and ITM ring heater settings to achieve a nominal thermal lens of\n",
    "50 km in the ITM substrate, I think it's 50km because of modematching the arms with the PRC.  The general\n",
    "logic is that the ring heaters are to always be on, then the co2 ramps down in power as the main ifo beams ramps up.\n",
    "This calculation is highly dependent on the absorption of the test masses both in the substrate and in the coating.\n",
    "\n",
    "Then the ETM ring heaters needed to be set to properly mode match between the two arms given absorption, ITM\n",
    "ringheater settings and static radii of curvature.\n",
    "\n",
    "08/08/2018\n",
    "TVo\n",
    "\"\"\""
   ]
  },
  {
   "cell_type": "code",
   "execution_count": null,
   "metadata": {},
   "outputs": [],
   "source": [
    "import numpy as np\n",
    "import pykat\n",
    "import matplotlib.pyplot as pl\n",
    "import matplotlib\n",
    "import matplotlib.lines as mlines\n",
    "\n",
    "%matplotlib inline\n",
    "import trace_mode"
   ]
  },
  {
   "cell_type": "code",
   "execution_count": null,
   "metadata": {},
   "outputs": [],
   "source": [
    "#### Find the amount of ring heater or annular heating required for the proper substrate lens\n",
    "ITMXstat = -1/310812.+1/664100.\n",
    "ITMYstat = 1.7E-6-1/1392000.\n",
    "\n",
    "#absorption estimates for HR surfaces of TM .5ppm\n",
    "abs_ix=0.206e-6 \n",
    "abs_ex=0.2e-6 \n",
    "abs_iy=0.454e-6\n",
    "abs_ey=0.2e-6\n",
    "\n",
    "#Power in the arms\n",
    "P_opt = P_in =  50.0\n",
    "prc_gain = 45\n",
    "arm_gain = 228\n",
    "bs = 0.5\n",
    "P_arm = P_in*prc_gain*arm_gain*0.5\n",
    "\n",
    "# Paramters work out the TCS settings for O2\n",
    "RH_SUBdef = -9e-6\n",
    "#CO2_SUBdef = 6.23e-5 Old\n",
    "CO2_SUBdef = 2.5e-5\n",
    "SelfSUBdef = 4.87e-4\n",
    "\n",
    "# Parameters for surface deformation \n",
    "RH_SURFdef = 9.91e-7\n",
    "SelfSURFdef = -3.60e-5\n",
    "    \n",
    "## For a given absoprtion and static lens, return surface and substrate deformation\n",
    "nomLens = 1/50e3\n",
    "\n",
    "#Baseline arm cavity measurements\n",
    "Lambda = 1064e-9\n",
    "\n",
    "R_ix= 1940.3\n",
    "R_ex= 2244.2\n",
    "R_iy= 1939.2\n",
    "R_ey= 2246.9\n",
    "\n",
    "L = 3994.5"
   ]
  },
  {
   "cell_type": "code",
   "execution_count": null,
   "metadata": {},
   "outputs": [],
   "source": []
  },
  {
   "cell_type": "code",
   "execution_count": null,
   "metadata": {
    "collapsed": true
   },
   "outputs": [],
   "source": [
    "#Calculate Eigenmode\n",
    "def cavity_info(Lambda, L, Rc1, Rc2):\n",
    "    \"\"\"\n",
    "    Function computes several cavity paramaters\n",
    "    Input: Lambda, L (length), Rc1, Rc2 (radii of curvature of cavity mirrors)\n",
    "    Output: zr (Rayleigh range), w0 (waist size), z1 (distance waist<->mirror1)\n",
    "            w1, w2 (spot size on both mirrors)\n",
    "    \"\"\"\n",
    "    g1 = 1-L/Rc1\n",
    "    g2 = 1-L/Rc2\n",
    "    G  = g1*g2\n",
    "    G1 = (g1+g2-2*G)\n",
    "\n",
    "    k = 2.0*np.pi/Lambda\n",
    "\n",
    "    zr = np.sqrt( L**2 * G * (1.0-G)/G1**2) \n",
    "    z1 = L * g2 * (1-g1) / G1\n",
    "    z2 = L * g1 * (1-g2) / G1\n",
    "    w0 =  np.sqrt( zr * Lambda / np.pi ) \n",
    "    w1 = np.sqrt( L * Lambda /np.pi * np.sqrt( g2 / (g1 * (1-G)) ))\n",
    "    w2 = np.sqrt( L * Lambda /np.pi * np.sqrt( g1 / (g2 * (1-G)) ))\n",
    "    q = z1+1j*zr\n",
    "    return [zr, w0, z1, w1, w2, q]"
   ]
  },
  {
   "cell_type": "code",
   "execution_count": null,
   "metadata": {
    "collapsed": true
   },
   "outputs": [],
   "source": [
    "def find_co2_lens_adj(staticLens,absorb,P_in,RHpower):\n",
    "    selfLens = SelfSUBdef*(P_in*prc_gain*arm_gain*absorb)\n",
    "    \n",
    "    RHLens = RHpower*RH_SUBdef\n",
    "    \n",
    "    abs_rh_lens = selfLens+staticLens+RHLens\n",
    "    \n",
    "    totalLensErr = nomLens - (abs_rh_lens)\n",
    "\n",
    "    CO2power = totalLensErr/CO2_SUBdef\n",
    "    CO2Lens = CO2power*CO2_SUBdef\n",
    "    \n",
    "    return [CO2power,CO2Lens,abs_rh_lens,totalLensErr]"
   ]
  },
  {
   "cell_type": "code",
   "execution_count": null,
   "metadata": {
    "collapsed": true
   },
   "outputs": [],
   "source": [
    "def find_co2_rh_lens(staticLens,absorb,P_in):\n",
    "    selfLens = SelfSUBdef*(P_in*prc_gain*arm_gain*absorb)\n",
    "\n",
    "    totalLensErr = nomLens - (selfLens+staticLens)\n",
    "\n",
    "    abs_lens = selfLens+staticLens\n",
    "\n",
    "    CO2power = totalLensErr/CO2_SUBdef\n",
    "    RHpower = totalLensErr/RH_SUBdef\n",
    "\n",
    "    CO2Lens = CO2power*CO2_SUBdef    \n",
    "    RHLens = RHpower*RH_SUBdef\n",
    "\n",
    "    return [CO2Lens,RHLens,abs_lens,CO2power,RHpower]"
   ]
  },
  {
   "cell_type": "code",
   "execution_count": null,
   "metadata": {
    "collapsed": true
   },
   "outputs": [],
   "source": [
    "def plot_heating(stat,abs_i,label):\n",
    "    S = []\n",
    "    C = []\n",
    "    P_in = np.arange(0,60,1)\n",
    "    \n",
    "    for i in range(-5,5,1):\n",
    "        if i != 0:\n",
    "            delta_abs = float(i)*5e-9\n",
    "            absorb = abs_i +delta_abs\n",
    "        else:\n",
    "            absorb = abs_i\n",
    "        f = find_co2_rh_lens(stat,absorb,P_in)\n",
    "        f[0] = f[0].clip(min=0)\n",
    "        f[1] = f[1].clip(max=0)\n",
    "        f[3] = f[3].clip(min=0)\n",
    "        f[4] = f[4].clip(min=0)\n",
    "        S.append(f)\n",
    "        \n",
    "        # for each absoprtion amount, there's an optimal ring heater value which corrects the substrate static+self\n",
    "        # if we set the P_opt got O3 then we can find the O3 power values\n",
    "        o3_pwr = find_co2_rh_lens(stat,absorb,P_opt)\n",
    "        c = find_co2_lens_adj(stat,absorb,P_in,o3_pwr[4])\n",
    "        c[0] = c[0].clip(min=0)\n",
    "        c[1] = c[1].clip(min=0)\n",
    "        \n",
    "        C.append(c)\n",
    "    \n",
    "    settings_opt = find_co2_rh_lens(stat,abs_i,P_opt)\n",
    "    rh_pwr_opt = settings_opt[4]\n",
    "    co2_preheat_w_rh = find_co2_lens_adj(stat,abs_i,0.0,rh_pwr_opt)\n",
    "    co2_preheat =co2_preheat_w_rh[0]\n",
    "\n",
    "    \n",
    "    P_circ = P_in*prc_gain*arm_gain/1000.0\n",
    "################################ Plot\n",
    "    pl.figure(figsize=(20, 10), dpi=80)\n",
    "\n",
    "############################\n",
    "    pl.subplot(221)\n",
    "    pl.title(label)\n",
    "\n",
    "    pl.axvline(x=P_opt*prc_gain*arm_gain/1000.0, linewidth=4,linestyle='--',label='Nominal O3 Power')\n",
    "    pl.axhline(y=1/50000.0, linewidth=4,linestyle='--',color='cyan',label='Nominal 50km Substrate Lens')\n",
    "\n",
    "    for i in range(len(S)):\n",
    "        if i == len(S)/2:\n",
    "            pl.plot(P_circ,S[i][0],linewidth=4,color='red',label='CO2 Lens')\n",
    "            pl.plot(P_circ,S[i][1],linewidth=4,color='blue',label='RH Lens')\n",
    "            pl.plot(P_circ,S[i][2],linewidth=4,color='black',label='Self-Heating + Static Lens')\n",
    "        else:\n",
    "            pl.plot(P_circ,S[i][0],linewidth=1,color='red')\n",
    "            pl.plot(P_circ,S[i][1],linewidth=1,color='blue')\n",
    "            pl.plot(P_circ,S[i][2],linewidth=1,color='black')\n",
    "\n",
    "    pl.ylabel(\"Lensing (Diopters)\",fontsize=16)\n",
    "    pl.xlabel(\"Circulating Arm Power (kW) \",fontsize=16)\n",
    "    pl.ticklabel_format(axis='y', style='sci', scilimits=(-2,2))\n",
    "    pl.grid()\n",
    "    pl.legend()\n",
    "    \n",
    "############################\n",
    "    pl.subplot(222)\n",
    "    pl.title(label + \" Adjusted for static Ring Heater\")\n",
    "\n",
    "    pl.axvline(x=P_opt*prc_gain*arm_gain/1000.0, linewidth=4,linestyle='--',label='Nominal O3 Power')\n",
    "    pl.axhline(y=1/50000.0, linewidth=4,linestyle='--',color='cyan',label='Nominal 50km Substrate Lens')\n",
    "\n",
    "    for i in range(len(C)):\n",
    "        if i == len(C)/2:\n",
    "            pl.plot(P_circ,C[i][1],linewidth=4,color='red',label='CO2 Lens')\n",
    "            pl.plot(P_circ,C[i][2],linewidth=4,color='black',label='Self-Heating + Static Lens + Ring Heater Optimum')\n",
    "        else:\n",
    "            pl.plot(P_circ,C[i][1],linewidth=1,color='red')\n",
    "            pl.plot(P_circ,C[i][2],linewidth=1,color='black')\n",
    "\n",
    "    pl.ylabel(\"Lensing (Diopters)\",fontsize=16)\n",
    "    pl.xlabel(\"Circulating Arm Power (kW) \",fontsize=16)\n",
    "    pl.ticklabel_format(axis='y', style='sci', scilimits=(-2,2))\n",
    "    pl.grid()\n",
    "    pl.legend()\n",
    "    \n",
    "###########################\n",
    "    pl.subplot(223)\n",
    "\n",
    "    for i in range(len(S)):\n",
    "        if i == len(S)/2:\n",
    "            pl.plot(P_circ,S[i][3],linewidth=4,color='red')\n",
    "            pl.plot(P_circ,S[i][4],linewidth=4,color='blue')\n",
    "        else:\n",
    "            pl.plot(P_circ,S[i][3],linewidth=1,color='red')\n",
    "            pl.plot(P_circ,S[i][4],linewidth=1,color='blue')\n",
    "\n",
    "    pl.ylabel(\"TCS Power (Watts)\",fontsize=16)\n",
    "    pl.xlabel(\"Circulating Arm Power (kW) \",fontsize=16)\n",
    "    pl.ticklabel_format(axis='y', style='sci', scilimits=(-2,2))\n",
    "    pl.grid()\n",
    "    \n",
    "###########################\n",
    "    pl.subplot(224)\n",
    "\n",
    "    for i in range(len(C)):\n",
    "        if i == len(S)/2:\n",
    "            pl.plot(P_circ,C[i][0],linewidth=4,color='red')\n",
    "        else:\n",
    "            pl.plot(P_circ,C[i][0],linewidth=1,color='red')\n",
    "\n",
    "    pl.ylabel(\"TCS Power (Watts)\",fontsize=16)\n",
    "    pl.xlabel(\"Circulating Arm Power (kW) \",fontsize=16)\n",
    "    pl.ticklabel_format(axis='y', style='sci', scilimits=(-2,2))\n",
    "    pl.grid()\n",
    "\n",
    "    pl.savefig(label+\"_TCS_Settings.png\")\n",
    "    pl.show()    \n",
    "    return rh_pwr_opt,co2_preheat\n"
   ]
  },
  {
   "cell_type": "code",
   "execution_count": null,
   "metadata": {},
   "outputs": [],
   "source": [
    "itmx_heating = plot_heating(ITMXstat,abs_ix,\"ITMX\")\n",
    "\n",
    "print(\"Nominal ITMX RH Setting is \"+ str(itmx_heating[0]) + \"W\")\n",
    "print(\"Nominal ITMX CO2 Preheating Setting is \"+ str(itmx_heating[1]) + \"W\")"
   ]
  },
  {
   "cell_type": "code",
   "execution_count": null,
   "metadata": {},
   "outputs": [],
   "source": [
    "itmy_heating = plot_heating(ITMYstat,abs_iy,\"ITMY\")\n",
    "\n",
    "print(\"Nominal ITMY RH Setting is \"+ str(itmy_heating[0]) + \"W\")\n",
    "print(\"Nominal ITMY CO2 Preheating Setting is \"+ str(itmy_heating[1]) + \"W\")"
   ]
  },
  {
   "cell_type": "code",
   "execution_count": null,
   "metadata": {
    "collapsed": true
   },
   "outputs": [],
   "source": [
    "abs_gain = -3.65e-5 # diopters per watt for self on surface deformation\n",
    "\n",
    "#in diopters\n",
    "dS_ix_self = P_arm * abs_ix * abs_gain + itmx_heating[0] * RH_SURFdef\n",
    "dS_ex_self = P_arm * abs_ex * abs_gain\n",
    "dS_iy_self = P_arm * abs_iy * abs_gain + itmy_heating[0] * RH_SURFdef\n",
    "dS_ey_self = P_arm * abs_ey * abs_gain"
   ]
  },
  {
   "cell_type": "code",
   "execution_count": null,
   "metadata": {
    "collapsed": true
   },
   "outputs": [],
   "source": [
    "# Calculate the q values for each arm with absorption and ITMX ring heater.\n",
    "R_ix_w_abs = (1/R_ix + dS_ix_self)**(-1)\n",
    "R_ex_w_abs = (1/R_ex + dS_ex_self)**(-1)\n",
    "R_iy_w_abs = (1/R_iy + dS_iy_self)**(-1)\n",
    "R_ey_w_abs = (1/R_ey + dS_ey_self)**(-1)\n",
    "\n",
    "xarm_w_abs = cavity_info(Lambda, L, R_ix_w_abs,R_ex_w_abs)\n",
    "yarm_w_abs = cavity_info(Lambda, L, R_ix_w_abs,R_ey_w_abs)\n",
    "\n",
    "qx_w_abs=pykat.BeamParam(q=xarm_w_abs[2]+1j*xarm_w_abs[0]) \n",
    "qy_w_abs=pykat.BeamParam(q=yarm_w_abs[2]+1j*yarm_w_abs[0])"
   ]
  },
  {
   "cell_type": "code",
   "execution_count": null,
   "metadata": {
    "collapsed": true
   },
   "outputs": [],
   "source": [
    "#Now we try to explore the ring heater space to determine a few optimal settings\n",
    "#because the ring heater causes a substrate thermal distortion, it's probably easier to not use it?\n",
    "P_rh_ex = np.arange(0,10.0,.01)\n",
    "P_rh_ey = np.arange(0,10.0,.01)"
   ]
  },
  {
   "cell_type": "code",
   "execution_count": null,
   "metadata": {
    "collapsed": true
   },
   "outputs": [],
   "source": [
    "###We need to calculate the PRC mode with new substrate lens and HR surface. It's easiest to do this with Pykat\n",
    "katfile = \"aLIGO_IFO_AWC_tuning_DCoff_maxtem2.kat\"\n",
    "basekat = pykat.finesse.kat() \n",
    "basekat.load(katfile)\n",
    "basekat.parse(\"noxaxis\")\n",
    "basekat.parse(\"maxtem \"+str(2))\n",
    "kat=basekat.deepcopy() #copy kat code\n",
    "kat.verbose = False\n",
    "\n",
    "kat.ITMXHR.Rcx.value = -R_ix_w_abs\n",
    "kat.ITMXHR.Rcy.value = -R_ix_w_abs\n",
    "\n",
    "kat.ITMYHR.Rcx.value = -R_iy_w_abs\n",
    "kat.ITMYHR.Rcy.value = -R_iy_w_abs\n",
    "\n",
    "[q_PRX_ITMX_x,q_PRX_ITMX_y]  = trace_mode.from_cav_to_node(kat,'cavPRX','nITMX2')"
   ]
  },
  {
   "cell_type": "code",
   "execution_count": null,
   "metadata": {
    "collapsed": true
   },
   "outputs": [],
   "source": [
    "#get overlap for ring heater settings of ETMs\n",
    "def overlap(P_rh_ex,P_rh_ey):\n",
    "\n",
    "    dS_rh_ex =P_rh_ex * RH_SURFdef\n",
    "    dS_rh_ey =P_rh_ey * RH_SURFdef\n",
    "\n",
    "    R_ix_w_abs_rh = (1/R_ix + dS_ix_self)**(-1)\n",
    "    R_ex_w_abs_rh = (1/R_ex + dS_ex_self+dS_rh_ex)**(-1)\n",
    "    R_iy_w_abs_rh = (1/R_iy + dS_iy_self)**(-1)\n",
    "    R_ey_w_abs_rh = (1/R_ey + dS_ey_self+dS_rh_ey)**(-1)\n",
    "\n",
    "    xarm_w_abs_rh = cavity_info(Lambda, L, R_ix_w_abs_rh,R_ex_w_abs_rh)\n",
    "    yarm_w_abs_rh = cavity_info(Lambda, L, R_ix_w_abs_rh,R_ey_w_abs_rh)\n",
    "    \n",
    "    overlap = pykat.BeamParam.overlap(xarm_w_abs_rh[5], yarm_w_abs_rh[5])\n",
    "    \n",
    "    return overlap\n",
    "\n",
    "def overlap_prc(P_rh_ex,P_rh_ey,q_prc):\n",
    "\n",
    "    dS_rh_ex =P_rh_ex * RH_SURFdef\n",
    "    dS_rh_ey =P_rh_ey * RH_SURFdef\n",
    "\n",
    "    R_ix_w_abs_rh = (1/R_ix + dS_ix_self)**(-1)\n",
    "    R_ex_w_abs_rh = (1/R_ex + dS_ex_self+dS_rh_ex)**(-1)\n",
    "    R_iy_w_abs_rh = (1/R_iy + dS_iy_self)**(-1)\n",
    "    R_ey_w_abs_rh = (1/R_ey + dS_ey_self+dS_rh_ey)**(-1)\n",
    "\n",
    "    xarm_w_abs_rh = cavity_info(Lambda, L, R_ix_w_abs_rh,R_ex_w_abs_rh)\n",
    "    yarm_w_abs_rh = cavity_info(Lambda, L, R_ix_w_abs_rh,R_ey_w_abs_rh)\n",
    "    \n",
    "    overlap = pykat.BeamParam.overlap(xarm_w_abs_rh[5], q_prc)\n",
    "    \n",
    "    return overlap"
   ]
  },
  {
   "cell_type": "code",
   "execution_count": null,
   "metadata": {
    "collapsed": true
   },
   "outputs": [],
   "source": [
    "X, Y = np.meshgrid(P_rh_ex, P_rh_ey)\n",
    "\n",
    "Z = (1.0-overlap(X,Y))*1e6"
   ]
  },
  {
   "cell_type": "code",
   "execution_count": null,
   "metadata": {
    "collapsed": true
   },
   "outputs": [],
   "source": [
    "# Find the indices which have good mode matching between the arms\n",
    "indices = np.argwhere(Z<1e-5)\n",
    "\n",
    "#Powers relating to good mode matching between the arms\n",
    "ex_p = []\n",
    "ey_p= []\n",
    "for i in range(len(indices)):\n",
    "    xs = float(X[int(indices[i][0])][int(indices[i][1])])\n",
    "    ex_p.append(xs)\n",
    "    ys = float(Y[int(indices[i][0])][int(indices[i][1])])\n",
    "    ey_p.append(ys)\n",
    "\n",
    "ex_p=np.asarray(ex_p)\n",
    "ey_p=np.asarray(ey_p)"
   ]
  },
  {
   "cell_type": "code",
   "execution_count": null,
   "metadata": {
    "collapsed": true
   },
   "outputs": [],
   "source": [
    "# We know with the previous list that the arms are well modematched, so we need to calculate the prc overlap\n",
    "prc_overlap_rh = (1-overlap_prc(ex_p,ey_p,-np.conjugate(q_PRX_ITMX_x)))*1e6"
   ]
  },
  {
   "cell_type": "code",
   "execution_count": null,
   "metadata": {},
   "outputs": [],
   "source": [
    "opt_mm_ind = prc_overlap_rh.argmin()\n",
    "opt_mm_ex_pwr = ex_p[opt_mm_ind]\n",
    "opt_mm_ey_pwr = ey_p[opt_mm_ind]\n",
    "\n",
    "print(\"Optimal EX RH Power \"+ str(opt_mm_ex_pwr))\n",
    "print(\"Optimal EY RH Power \"+ str(opt_mm_ey_pwr))\n",
    "print(\"This will give a mode mismatch of \" +str(round(prc_overlap_rh.min(),6)) + \" PPM between the arms and PRC\")"
   ]
  },
  {
   "cell_type": "code",
   "execution_count": null,
   "metadata": {},
   "outputs": [],
   "source": [
    "#### Plot\n",
    "pl.figure(figsize=(10, 6), dpi=80)\n",
    "\n",
    "pl.scatter(ex_p,ey_p,marker='x',c=prc_overlap_rh,cmap=pl.get_cmap('plasma'), \n",
    "           label='Optimal Mode Matching Line Between Arms')\n",
    "\n",
    "pl.xlabel(\"Power ETMX RH [W]\",fontsize=16)\n",
    "pl.ylabel(\"Power ETMY RH [W]\",fontsize=16)\n",
    "\n",
    "pl.grid()\n",
    "\n",
    "cbar = pl.colorbar()\n",
    "cbar.set_label('PRC Mode-Mismatch [ppm]',fontsize = 16)\n",
    "pl.legend(loc='upper left',fontsize=14)\n",
    "\n",
    "pl.savefig(\"ETM_TCS_Settings.png\")\n",
    "pl.show()"
   ]
  },
  {
   "cell_type": "code",
   "execution_count": null,
   "metadata": {},
   "outputs": [],
   "source": [
    "#Calculating the simple michaelson contrast defect Estimate\n",
    "S_thermal = ITMXstat - ITMYstat + 0.5*( (-2/R_ix) + (+2/R_iy) )\n",
    "\n",
    "print(\"Required thermal lens in ITMX in diopters \" +str(S_thermal))\n",
    "\n",
    "co2sub_central = -2.5e-5 #udiopters/watt for central\n",
    "p_co2_central = S_thermal/co2sub_central\n",
    "print(\"This means CO2Y central heating requires approximately \" + str(p_co2_central))"
   ]
  },
  {
   "cell_type": "code",
   "execution_count": null,
   "metadata": {},
   "outputs": [],
   "source": [
    "### Calculating the RH power needed for cold lens\n",
    "P_rh = 2 * ( ITMXstat - ITMYstat + 1/R_iy - 1/R_ix) / (2*RH_SUBdef + RH_SURFdef)\n",
    "\n",
    "print(\"The amount of RH power on ITMX is \" +str(P_rh))"
   ]
  }
 ],
 "metadata": {
  "kernelspec": {
   "display_name": "Python 3",
   "language": "python",
   "name": "python3"
  },
  "language_info": {
   "codemirror_mode": {
    "name": "ipython",
    "version": 3
   },
   "file_extension": ".py",
   "mimetype": "text/x-python",
   "name": "python",
   "nbconvert_exporter": "python",
   "pygments_lexer": "ipython3",
   "version": "3.6.2"
  }
 },
 "nbformat": 4,
 "nbformat_minor": 2
}
