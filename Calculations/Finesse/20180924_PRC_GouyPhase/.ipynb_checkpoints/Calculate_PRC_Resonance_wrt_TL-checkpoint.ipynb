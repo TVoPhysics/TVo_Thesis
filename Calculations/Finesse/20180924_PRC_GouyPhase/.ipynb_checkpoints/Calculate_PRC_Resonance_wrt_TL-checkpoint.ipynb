{
 "cells": [
  {
   "cell_type": "code",
   "execution_count": 1,
   "metadata": {
    "collapsed": true
   },
   "outputs": [],
   "source": [
    "description = \"\"\"\n",
    "09/24/2018\n",
    "\n",
    "Over the past weekend Stefan and Sheila turned down the CO2 laser which made some higher order modes disappear \n",
    "from the antisymmetric port.  These higher order modes showed up with a particular CO2 power which made it resonate,\n",
    "what is odd is that the occurence happened when bringing the arms into resonance from the CARM reduction.\n",
    "\n",
    "The goal of this code is to use Finesse to map out the HOM resonances in the power recycling cavity and then see\n",
    "how the thermal lens varies the round trip gouy phase.\n",
    "\"\"\""
   ]
  },
  {
   "cell_type": "code",
   "execution_count": 2,
   "metadata": {},
   "outputs": [
    {
     "name": "stdout",
     "output_type": "stream",
     "text": [
      "                                              ..-\n",
      "    PyKat 1.1.244         _                  '(\n",
      "                          \\`.|\\.__...-\"\"\"\"-_.\" )\n",
      "       ..+-----.._        /  ' `            .-'\n",
      "   . '            `:      7/* _/._\\    \\   (\n",
      "  (        '::;;+;;:      `-\"' =\" /,`\"\" `) /\n",
      "  L.        \\`:::a:f            c_/     n_'\n",
      "  ..`--...___`.  .    ,  \n",
      "   `^-....____:   +.      www.gwoptics.org/pykat\n",
      "\n"
     ]
    }
   ],
   "source": [
    "import pykat\n",
    "import numpy as np\n",
    "import matplotlib.pyplot as pl\n",
    "\n",
    "%matplotlib inline"
   ]
  },
  {
   "cell_type": "code",
   "execution_count": 4,
   "metadata": {
    "collapsed": true
   },
   "outputs": [],
   "source": [
    "#Load ALIGO design\n",
    "katfile = \"design_with_IMC_HAM2_FI_OMC.kat\"\n",
    "\n",
    "basekat = pykat.finesse.kat() \n",
    "basekat.load(katfile)"
   ]
  },
  {
   "cell_type": "code",
   "execution_count": 5,
   "metadata": {
    "collapsed": true
   },
   "outputs": [],
   "source": [
    "#Turn off all cavity commands so I don't get confused\n",
    "for cav in basekat.getAll(pykat.commands.cavity):\n",
    "    cav.enabled = False"
   ]
  },
  {
   "cell_type": "code",
   "execution_count": 7,
   "metadata": {
    "collapsed": true
   },
   "outputs": [],
   "source": [
    "kat_PRCx = basekat.deepcopy()\n",
    "\n",
    "kat_PRCx.cavPRX.enabled=True\n",
    "kat_PRCx.parse(\"cp \")\n",
    "\n",
    "\n",
    "kat_PRCx.run()"
   ]
  }
 ],
 "metadata": {
  "kernelspec": {
   "display_name": "Python 3",
   "language": "python",
   "name": "python3"
  },
  "language_info": {
   "codemirror_mode": {
    "name": "ipython",
    "version": 3
   },
   "file_extension": ".py",
   "mimetype": "text/x-python",
   "name": "python",
   "nbconvert_exporter": "python",
   "pygments_lexer": "ipython3",
   "version": "3.6.2"
  }
 },
 "nbformat": 4,
 "nbformat_minor": 2
}
