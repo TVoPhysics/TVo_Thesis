{
 "cells": [
  {
   "cell_type": "code",
   "execution_count": 1,
   "metadata": {},
   "outputs": [
    {
     "name": "stderr",
     "output_type": "stream",
     "text": [
      "C:\\Users\\tvo88\\Anaconda3\\lib\\site-packages\\h5py\\__init__.py:34: FutureWarning: Conversion of the second argument of issubdtype from `float` to `np.floating` is deprecated. In future, it will be treated as `np.float64 == np.dtype(float).type`.\n",
      "  from ._conv import register_converters as _register_converters\n"
     ]
    },
    {
     "name": "stdout",
     "output_type": "stream",
     "text": [
      "                                              ..-\n",
      "    PyKat 1.1.277         _                  '(\n",
      "                          \\`.|\\.__...-\"\"\"\"-_.\" )\n",
      "       ..+-----.._        /  ' `            .-'\n",
      "   . '            `:      7/* _/._\\    \\   (\n",
      "  (        '::;;+;;:      `-\"' =\" /,`\"\" `) /\n",
      "  L.        \\`:::a:f            c_/     n_'\n",
      "  ..`--...___`.  .    ,\n",
      "   `^-....____:   +.      www.gwoptics.org/pykat\n",
      "\n"
     ]
    }
   ],
   "source": [
    "%matplotlib inline\n",
    "\n",
    "import pykat\n",
    "import numpy as np\n",
    "\n",
    "import pykat.ifo.aligo as aligo\n",
    "import pykat.ifo.aligo.plot\n",
    "import matplotlib.pyplot as plt\n",
    "\n",
    "import scipy\n",
    "from scipy.optimize import curve_fit\n",
    "from scipy.interpolate import interp1d\n",
    "\n",
    "pykat.init_pykat_plotting(fmts=['svg'])"
   ]
  },
  {
   "cell_type": "code",
   "execution_count": 2,
   "metadata": {},
   "outputs": [
    {
     "name": "stderr",
     "output_type": "stream",
     "text": [
      "ERROR:root:File `'LHO.py'` not found.\n"
     ]
    },
    {
     "ename": "NameError",
     "evalue": "name 'make_LHO' is not defined",
     "output_type": "error",
     "traceback": [
      "\u001b[1;31m---------------------------------------------------------------------------\u001b[0m",
      "\u001b[1;31mNameError\u001b[0m                                 Traceback (most recent call last)",
      "\u001b[1;32m<ipython-input-2-ef56efceb9a2>\u001b[0m in \u001b[0;36m<module>\u001b[1;34m()\u001b[0m\n\u001b[0;32m      1\u001b[0m \u001b[0mget_ipython\u001b[0m\u001b[1;33m(\u001b[0m\u001b[1;33m)\u001b[0m\u001b[1;33m.\u001b[0m\u001b[0mmagic\u001b[0m\u001b[1;33m(\u001b[0m\u001b[1;34m'run LHO.py'\u001b[0m\u001b[1;33m)\u001b[0m\u001b[1;33m\u001b[0m\u001b[0m\n\u001b[0;32m      2\u001b[0m \u001b[1;33m\u001b[0m\u001b[0m\n\u001b[1;32m----> 3\u001b[1;33m \u001b[0mbase\u001b[0m \u001b[1;33m=\u001b[0m \u001b[0mmake_LHO\u001b[0m\u001b[1;33m(\u001b[0m\u001b[1;33m)\u001b[0m\u001b[1;33m\u001b[0m\u001b[0m\n\u001b[0m\u001b[0;32m      4\u001b[0m \u001b[0mbase\u001b[0m\u001b[1;33m.\u001b[0m\u001b[0mverbose\u001b[0m \u001b[1;33m=\u001b[0m \u001b[1;32mFalse\u001b[0m\u001b[1;33m\u001b[0m\u001b[0m\n\u001b[0;32m      5\u001b[0m \u001b[0mbase\u001b[0m\u001b[1;33m.\u001b[0m\u001b[0mdumpify\u001b[0m\u001b[1;33m(\u001b[0m\u001b[1;33m)\u001b[0m\u001b[1;33m\u001b[0m\u001b[0m\n",
      "\u001b[1;31mNameError\u001b[0m: name 'make_LHO' is not defined"
     ]
    }
   ],
   "source": [
    "%run LHO.py\n",
    "\n",
    "base = make_LHO()\n",
    "base.verbose = False\n",
    "base.dumpify()\n",
    "\n",
    "# We take a pickoff of the OMC refl and measure the beamscan along there\n",
    "base.parse(\"s sOMC_REFL 2 nOMC_ICb nOMC_REFL\")\n",
    "\n",
    "# Data taken for matching the OPO beam to the OMC\n",
    "# Furthest, Middle, and Closest refer to the second adjustable\n",
    "# lens position after the OPO. Close means closest to the OPO\n",
    "Furthest = np.array([[-0.2635,-0.2285,-0.2005,-0.1555,-0.1135],\n",
    "                     [0.000621,0.000647,0.0006675,0.000714,0.000757],\n",
    "                     [0.0004515,0.00046,0.000475,0.00049,0.00052]])\n",
    "\n",
    "Closest  = np.array([[-0.2635,-0.2379,-0.1935,-0.1585,-0.1175],\n",
    "                     [0.000334,0.000326,0.0003175,0.0003355,0.0003745],\n",
    "                     [0.000358,0.000344,0.000327,0.000332,0.000354   ]])\n",
    "\n",
    "Middle   = np.array([[-0.2635,-0.2379,-0.1935,-0.1615,-0.1205         ,1.2255,1.2255,1.2972,1.2972,1.3588,1.3588,1.419,1.419,1.474,1.474  ],\n",
    "                     [0.000395,0.0003825,0.0004105,0.00043,0.0004585  ,0.001835,0.00182,0.00185,0.001885,0.001935,0.001825,0.002,0.002,0.00185,0.00205   ],\n",
    "                     [0.000374,0.000373,0.0003735,0.0003885,0.0004055 ,0.001315,0.0013,0.00128,0.00136,0.00136,0.00139,0.001415,0.001345,0.00131,0.001365 ]])\n",
    "\n",
    "OPO      = np.array([[2.5*25.4e-3, 28.5*25.4e-3, 39.75*25.4e-3, (16.5-2.125)*25.4e-3],\n",
    "                     [2320e-6, 1830e-6, 1680e-6, 2030e-6],\n",
    "                     [2301e-6, 1730e-6, 1590e-6, 2000e-6]])\n",
    "\n",
    "\n",
    "OPO_wo_lens2 = np.array([[2.25*25.4e-3, 4.5*25.4e-3],\n",
    "                         [4454e-6     , 4918e-6    ],\n",
    "                         [4530e-6     , 4816e-6    ]])\n",
    "\n",
    "Middle_SRM_refl_HAM6 = np.array([[1.36, 1.33, 1.3081, 0.4826, 0.433, 0.381 ],\n",
    "                                 [1786e-6, 1787e-6, 1782e-6, 1768e-6, 1776e-6, 1784e-6],\n",
    "                                 [2332e-6, 2216e-6, 2209e-6, 2017e-6, 2022e-6, 2043e-6]])\n",
    "\n",
    "def cav2node(cav_name, node, verbose =True, base=base):\n",
    "    \"\"\"\n",
    "    This method traces a cavity's eigen mode to a\n",
    "    given node in the model. \n",
    "    \n",
    "    cav_name: cavity name\n",
    "    node: node to trace beam to\n",
    "    verbose: More or less info\n",
    "    base: The kat object to do the tracing with\n",
    "    \"\"\"\n",
    "    kat = base.deepcopy()\n",
    "\n",
    "    for cav in kat.getAll(pykat.commands.cavity):\n",
    "        if cav_name not in cav.name:\n",
    "            cav.remove()\n",
    "\n",
    "    kat.noxaxis = True\n",
    "    kat.parse(\"pd p nAS\")\n",
    "\n",
    "    _, T = kat.run(getTraceData=True)\n",
    "    qx, qy, _ = T[0][node]\n",
    "    \n",
    "    if verbose: print(\"%s -> %s\" % (cav_name, node), qx.q, qy.q)\n",
    "    return qx, qy\n",
    "\n",
    "\n",
    "def single_bounce_SQZ(base, direction = 'x', verbose=True, to_node='nAS'):\n",
    "    \"\"\"\n",
    "    This does a single bounce trace off of SRM HR surface from the OPO beam.\n",
    "    This happens in two parts. Once trace from the OPO to the SRM HR\n",
    "    a refl off of SRM HR, and then a trace from this reflected beam to\n",
    "    the requested node.\n",
    "    \n",
    "    Returns the final q value going in to the OMC\n",
    "    \"\"\"\n",
    "    SQZqx = base.sqz.nSQZ.qx \n",
    "    SQZqy = base.sqz.nSQZ.qy\n",
    "    \n",
    "    if direction == 'y':\n",
    "        qin = SQZqy\n",
    "    else:\n",
    "        qin = SQZqx\n",
    "\n",
    "    SQZ2SRM = base.beamTrace(qin, \"nSQZ\", \"nSRMs1\", direction=direction)\n",
    "    \n",
    "    #ITMX substrate\n",
    "    n = base.SRMsub.n.value\n",
    "\n",
    "    # Manually calculate the reflection off of SRM HR inside substrate\n",
    "    q2 = pykat.optics.ABCD.apply(base.SRM.ABCD(\"nSRMs1\", \"nSRMs1\", direction=direction),\n",
    "                                 SQZ2SRM.q_out,\n",
    "                                 n, n)\n",
    "\n",
    "    if to_node != \"nSRMs1\":\n",
    "        SRM2OMC = base.beamTrace(q2, \"nSRMs1\", to_node, direction=direction)\n",
    "\n",
    "        if verbose:\n",
    "            SQZ2SRM.print()\n",
    "            SRM2OMC.print()\n",
    "\n",
    "        return pykat.BeamParam(q=SRM2OMC.q_out)\n",
    "    else:\n",
    "        if verbose:\n",
    "            SQZ2SRM.print()\n",
    "        \n",
    "        return pykat.BeamParam(q=SQZ2SRM.q_out)"
   ]
  },
  {
   "cell_type": "code",
   "execution_count": null,
   "metadata": {
    "collapsed": true
   },
   "outputs": [],
   "source": [
    "def func_sqz_middle_fit(x, dz1, dz2, direction, base):\n",
    "    kat = base.deepcopy()\n",
    "\n",
    "    lens2_actuator_pos = 0.5\n",
    "    \n",
    "    if direction == 'x':\n",
    "        qin = kat.sqz.nSQZ.qx\n",
    "    else:\n",
    "        qin = kat.sqz.nSQZ.qy\n",
    "    \n",
    "    kat.data['fn_OPO_shift_lenses'](kat, dz1, lens2_actuator_pos, dz2)\n",
    "    \n",
    "    trace_SQZ_SRM = kat.beamTrace(qin, 'nSQZ', \"nSRMs1\", direction)\n",
    "    z, w = trace_SQZ_SRM.beamsize_z(5e-3)\n",
    "    \n",
    "    return interp1d(z, w)(x)"
   ]
  },
  {
   "cell_type": "markdown",
   "metadata": {},
   "source": [
    "# Fit to ZM1 beamscan\n",
    "\n",
    "We took a beam scan after ZM1 with lens2 in the middle position. Here we fit this beam shape by varying the q value used at the squeezer component. This is then the beam shape that is propagating towards the SRM. Assuming the lengths and lenses before lens2 are good, we can vary the lens2 position and predict the beam at the OMC later."
   ]
  },
  {
   "cell_type": "code",
   "execution_count": null,
   "metadata": {
    "collapsed": true
   },
   "outputs": [],
   "source": [
    "kat = base.deepcopy()\n",
    "\n",
    "def func_sqz_middle_fitx(x, dz1, dz2):\n",
    "    return func_sqz_middle_fit(x, dz1, dz2, 'x', kat)\n",
    "\n",
    "def func_sqz_middle_fity(x, dz1, dz2):\n",
    "    return func_sqz_middle_fit(x, dz1, dz2, 'y', kat)\n",
    "\n",
    "trace_SQZ_SRM_HR = kat.beamTrace(base.sqz.nSQZ.qx, 'nSQZ', \"nSRMs1\",'x')\n",
    "ZM1_pos          = trace_SQZ_SRM_HR.data['ZM1']['z']\n",
    "\n",
    "xdata = ZM1_pos + OPO[0,:]\n",
    "ydata = OPO[1,:]/2e-3\n",
    "p0x = (0, 0)\n",
    "poptlensx, covx = curve_fit(func_sqz_middle_fitx, xdata, ydata, p0=p0x)\n",
    "\n",
    "xdata = ZM1_pos + OPO[0,:]\n",
    "ydata = OPO[2,:]/2e-3\n",
    "p0y = (0, 0)\n",
    "poptlensy, covy = curve_fit(func_sqz_middle_fity, xdata, ydata, p0=p0y)\n",
    "\n",
    "display(\"x fit [dz1, dz2]\", poptlensx, \"in\", p0x)\n",
    "display(\"y fit [dz1, dz2]\", poptlensy, \"in\", p0y)"
   ]
  },
  {
   "cell_type": "code",
   "execution_count": null,
   "metadata": {
    "collapsed": true
   },
   "outputs": [],
   "source": [
    "z = np.linspace(0, trace_SQZ_SRM_HR.data['nSRMs1']['z']-0.01, 1000)\n",
    "\n",
    "plt.figure(figsize=(5*1.6, 4))\n",
    "#plt.plot(z, func_sqz_middle_fitx(z, 0, 0), 'r--', label='x (initial)')\n",
    "#plt.plot(z, func_sqz_middle_fity(z, 0, 0), 'b--',label='y (initial)')\n",
    "\n",
    "plt.plot(z, func_sqz_middle_fitx(z, *poptlensx), 'r', label='x')\n",
    "plt.plot(z, func_sqz_middle_fity(z, *poptlensy),  'b', label='y')\n",
    "\n",
    "fval = base.sqz_lens2.f.value\n",
    "kat.sqz_lens2.f = np.inf\n",
    "\n",
    "plt.plot(z, func_sqz_middle_fitx(z, *poptlensx), 'k--', label='x (wo lens2)')\n",
    "plt.plot(z, func_sqz_middle_fity(z, *poptlensy), 'k:',label='y (wo lens2)')\n",
    "\n",
    "kat.sqz_lens2.f = fval\n",
    "\n",
    "plt.scatter(ZM1_pos + OPO[0,:], OPO[1,:]/2e-3, 50, color='r', marker='x', label='meas (x)')\n",
    "plt.scatter(ZM1_pos + OPO[0,:], OPO[2,:]/2e-3, 50, color='b', marker='+', label='meas (y)')\n",
    "\n",
    "plt.scatter(ZM1_pos + OPO_wo_lens2[0,:], OPO_wo_lens2[1,:]/2e-3, 50, color='k', marker='x', label='meas wo lens 2 (x)')\n",
    "plt.scatter(ZM1_pos + OPO_wo_lens2[0,:], OPO_wo_lens2[2,:]/2e-3, 50, color='k', marker='x', label='meas wo lens 2 (y)')\n",
    "\n",
    "plt.xlabel(\"Position from M1 HR [m]\")\n",
    "plt.ylabel(\"Beamsize [mm]\")\n",
    "plt.legend(ncol=4, loc=\"upper center\")\n",
    "plt.title(\"OPO -> SRM Fit\")\n",
    "plt.xlim(0, 2.5)\n",
    "plt.ylim(0, 3.2)\n",
    "\n",
    "\n",
    "\n"
   ]
  },
  {
   "cell_type": "markdown",
   "metadata": {},
   "source": [
    "# Set base model to use lens offsets that fit ZM1 data"
   ]
  },
  {
   "cell_type": "code",
   "execution_count": null,
   "metadata": {
    "collapsed": true
   },
   "outputs": [],
   "source": [
    "z = np.linspace(0, 3, 1000)\n",
    "dz1, dz2 = np.mean((poptlensx,), 0)\n",
    "\n",
    "print(\"average lens offsets to use:\", dz1, dz2)\n",
    "\n",
    "base.data['fn_OPO_shift_lenses'](base, dz1, 0.5, dz2)\n",
    "\n",
    "plt.plot(z, func_sqz_middle_fitx(z, dz1, dz2), 'r--', label='x (initial)')\n",
    "plt.plot(z, func_sqz_middle_fity(z, dz1, dz2), 'b--', label='y (initial)')\n",
    "\n",
    "plt.scatter(ZM1_pos + OPO[0,:], OPO[1,:]/2e-3, 50, color='r', marker='x', label='meas (x)')\n",
    "plt.scatter(ZM1_pos + OPO[0,:], OPO[2,:]/2e-3, 50, color='b', marker='x', label='meas (y)')\n",
    "\n",
    "plt.xlabel(\"Position from M1 HR [m]\")\n",
    "plt.ylabel(\"Beamsize [mm]\")\n",
    "plt.legend()\n",
    "plt.title(\"Fit\")\n"
   ]
  },
  {
   "cell_type": "markdown",
   "metadata": {},
   "source": [
    "# Project beams to OMC"
   ]
  },
  {
   "cell_type": "code",
   "execution_count": null,
   "metadata": {
    "collapsed": true
   },
   "outputs": [],
   "source": [
    "def SRM_HR_substrate_refl(qix, qiy):\n",
    "    qx = pykat.optics.ABCD.apply(base.SRM.ABCD(\"nSRMs1\", \"nSRMs1\", direction='x'),\n",
    "                                     qix, kat.SRMsub.n.value, kat.SRMsub.n.value)\n",
    "    qy = pykat.optics.ABCD.apply(base.SRM.ABCD(\"nSRMs1\", \"nSRMs1\", direction='y'),\n",
    "                                     qiy, kat.SRMsub.n.value, kat.SRMsub.n.value)\n",
    "    \n",
    "    return qx, qy\n",
    "\n",
    "def run(kat):\n",
    "    \"\"\"\n",
    "    This function runs the provided kat object to trace the beam form the\n",
    "    OPO to the OMC. It plots the data taken against the model generated.\n",
    "    The parameters of the model can be changed by changing the input kat.\n",
    "    The popt x/y are the optimised qx and qy from the fitting before of the\n",
    "    beam coming out of the OPO after ZM1.\n",
    "    \"\"\"\n",
    "    fig = plt.figure(figsize=(4*2, 4))\n",
    "    ax = plt.subplot(111)\n",
    "\n",
    "    fig2 = plt.figure(figsize=(4*2, 4))\n",
    "    ax2 = plt.subplot(111)\n",
    "\n",
    "    # Get cavity OMC q at SRM...\n",
    "    OMCqx, OMCqy = cav2node('OMC', 'nSRMs1', kat)\n",
    "    OMCqx.reverse()\n",
    "    OMCqy.reverse()\n",
    "    \n",
    "    # Then trace it back to get the beam shape\n",
    "    trace_OMCx = kat.beamTrace(OMCqx, 'nSRMs1', \"nOMC_REFL\",'x')\n",
    "    trace_OMCx.plot_beamsize(ax=ax2, color='k', ls='--', label=\"OMC\")\n",
    "    trace_OMCy = kat.beamTrace(OMCqy, 'nSRMs1', \"nOMC_REFL\",'y')\n",
    "    trace_OMCy.plot_beamsize(ax=ax2, color='k', ls=':', label=\"OMC\")\n",
    "    \n",
    "    print(OMCqx, OMCqy)\n",
    "    \n",
    "    # Loop over the three lens2 options and do the tracing\n",
    "    for lens2_pos,c,pos in zip([0.05, 0.5, 0.95], ['r','g','b'], ['Far', 'Middle', 'Close']):\n",
    "        #shift_lenses(kat, 0, lens2_pos)\n",
    "        kat.data['fn_OPO_shift_lenses'](kat, dz1, lens2_pos, dz2)\n",
    "        \n",
    "        trace_SQZ_SRMx = kat.beamTrace(kat.sqz.nSQZ.qx, 'nSQZ', \"nSRMs1\",'x')\n",
    "        trace_SQZ_SRMx.plot_beamsize(ax=ax, color=c, label=pos + '(x)')\n",
    "        trace_SQZ_SRMy = kat.beamTrace(kat.sqz.nSQZ.qy, 'nSQZ', \"nSRMs1\",'y')\n",
    "        trace_SQZ_SRMy.plot_beamsize(ax=ax, color=c, label=pos + '(y)', ls='--')\n",
    "        \n",
    "        qx, qy = SRM_HR_substrate_refl(trace_SQZ_SRMx.q_out, trace_SQZ_SRMy.q_out)\n",
    "        \n",
    "        trace_SRM_OMCx = kat.beamTrace(qx, 'nSRMs1', \"nOMC_REFL\",'x')\n",
    "        trace_SRM_OMCx.plot_beamsize(ax=ax2, color=c, label=pos + '(x)')\n",
    "        trace_SRM_OMCy = kat.beamTrace(qy, 'nSRMs1', \"nOMC_REFL\",'y')\n",
    "        trace_SRM_OMCy.plot_beamsize(ax=ax2, color=c, label=pos + '(y)', ls='--')\n",
    "\n",
    "        print(pos, \"x\", pykat.BeamParam.overlap(trace_SRM_OMCx.q_out, trace_OMCx.q_out))\n",
    "        print(pos, \"y\", pykat.BeamParam.overlap(trace_SRM_OMCy.q_out, trace_OMCy.q_out))\n",
    "\n",
    "    OMC_waist_pos = trace_OMCx.data['OM3']['z'] + 0.117 + 0.2 + 0.141\n",
    "    ZM1_pos = trace_SQZ_SRM_HR.data['ZM1']['z']\n",
    "\n",
    "    # Factor of two because measurement in diameter\n",
    "    ax.scatter(ZM1_pos + OPO[0,:], OPO[1,:]/2e-3, color='k', marker='x')\n",
    "    ax.scatter(ZM1_pos + OPO[0,:], OPO[2,:]/2e-3, color='k', marker='+')\n",
    "    \n",
    "    ax2.scatter(OMC_waist_pos + Furthest[0,:], Furthest[1,:]/1e-3, color='r', marker='x', label='meas x')\n",
    "    ax2.scatter(OMC_waist_pos + Middle[0,:],   Middle[1,:]/1e-3, color='g', marker='x',   label='meas x')\n",
    "    ax2.scatter(OMC_waist_pos + Closest[0,:],  Closest[1,:]/1e-3, color='b', marker='x',  label='meas x')\n",
    "\n",
    "    ax2.scatter(OMC_waist_pos + Furthest[0,:], Furthest[2,:]/1e-3, color='r', marker='+', label='meas y')\n",
    "    ax2.scatter(OMC_waist_pos + Middle[0,:],   Middle[2,:]/1e-3, color='g', marker='+',   label='meas y')\n",
    "    ax2.scatter(OMC_waist_pos + Closest[0,:],  Closest[2,:]/1e-3, color='b', marker='+',  label='meas y')\n",
    "\n",
    "    OM1_pos = trace_OMCx.data['OM1']['z']\n",
    "    \n",
    "    ax2.scatter(OM1_pos - Middle_SRM_refl_HAM6[0,:], Middle_SRM_refl_HAM6[1,:]/2e-3, color='g', marker='x')\n",
    "    ax2.scatter(OM1_pos - Middle_SRM_refl_HAM6[0,:], Middle_SRM_refl_HAM6[2,:]/2e-3, color='g', marker='+')\n",
    "    \n",
    "    Middle_SRM_refl_HAM6\n",
    "    \n",
    "    \n",
    "    ax.set_xlabel(\"OPO -> SRM\")\n",
    "    ax.legend()\n",
    "    #ax.set_xlim(1,1.5)\n",
    "    ax.set_ylim(0,2)\n",
    "\n",
    "    ax2.set_xlabel(\"SRM -> OMC REFL\")\n",
    "    ax2.legend(ncol=2)\n",
    "    ax2.set_ylim(0,3)\n",
    "\n",
    "    ax2.set_xlim(0, None)\n",
    "    ax2.set_ylim(0.2, 1.9)"
   ]
  },
  {
   "cell_type": "code",
   "execution_count": null,
   "metadata": {
    "collapsed": true
   },
   "outputs": [],
   "source": [
    "kat = base.deepcopy()\n",
    "\n",
    "kat.lzm1_zm2.L *= 1\n",
    "kat.sSRM_FI.L *= 1\n",
    "kat.sFI_OM1.L *= 1\n",
    "kat.sOM1_OM2.L *= 1\n",
    "\n",
    "kat.SRM.Rcx *= 0\n",
    "kat.SRM.Rcy *= 0\n",
    "\n",
    "#kat.sqz_lens1.f = 0.250 *2.23\n",
    "#kat.sqz_lens2.f = 0.350*2.23\n",
    "run(kat)\n"
   ]
  },
  {
   "cell_type": "markdown",
   "metadata": {},
   "source": [
    "This fit looks reasonable considering we still don't have a good explanation for the amount of astigmatism. However the waist position and size of the closest and middle values are looking comparable to https://alog.ligo-wa.caltech.edu/aLOG/index.php?callRep=41504. Furthest is still a bit odd. The astigmatism is large, perhaps the lens2 is not centered or shifted...\n",
    "\n",
    "Assuming this represents the close and middle results well though we can now shift the lens even closer and check the mismatching to the OMC."
   ]
  },
  {
   "cell_type": "code",
   "execution_count": null,
   "metadata": {
    "collapsed": true
   },
   "outputs": [],
   "source": [
    "def run_change_lens2(kat):\n",
    "    fig2 = plt.figure(figsize=(4*2, 4))\n",
    "    ax2 = plt.subplot(111)\n",
    "\n",
    "    OMCqx, OMCqy = cav2node('OMC', 'nSRM2', kat)\n",
    "    OMCqx.reverse()\n",
    "    OMCqy.reverse()\n",
    "\n",
    "    trace_OMCx = kat.beamTrace(OMCqx, 'nSRM2', \"nOMC_REFL\",'x')\n",
    "    trace_OMCx.plot_beamsize(ax=ax2, color='k', ls='--', label=\"OMC\")\n",
    "\n",
    "    trace_OMCy = kat.beamTrace(OMCqy, 'nSRM2', \"nOMC_REFL\",'y')\n",
    "    trace_OMCy.plot_beamsize(ax=ax2, color='k', ls=':', label=\"OMC\")\n",
    "\n",
    "    # Here shift the lens 2 and 4 cm closer compared to the cloest position, and see what happens...\n",
    "    for dl,c,pos in zip([0e-2, 2e-2, 4e-2], ['r','g','b'], ['0cm', '2cm', '4cm']):\n",
    "        pos = \"%.2f cm\" % (dl*100)\n",
    "        lens2_pos = 0.95 # factor of 0.95 for total 42mm range, is kind of right for the closest measurement we did before\n",
    "        \n",
    "        kat.data['fn_OPO_shift_lenses'](kat, 0, lens2_pos, dl)\n",
    "        \n",
    "        trace_SQZ_SRMx = kat.beamTrace(kat.sqz.nSQZ.qx, 'nSQZ', \"nSRMs2\",'x')\n",
    "        \n",
    "        qx = single_bounce_SQZ(kat, 'x', False, 'nSRM2')\n",
    "\n",
    "        trace_SRM_OMCx = kat.beamTrace(qx, 'nSRM2', \"nOMC_REFL\",'x')\n",
    "        trace_SRM_OMCx.plot_beamsize(ax=ax2, color=c, label=pos + '(x)')\n",
    "\n",
    "        trace_SQZ_SRMy = kat.beamTrace(kat.sqz.nSQZ.qy, 'nSQZ', \"nSRMs2\",'y')\n",
    "        \n",
    "        qy = single_bounce_SQZ(kat, 'y', False, 'nSRMs2')\n",
    "\n",
    "        trace_SRM_OMCy = kat.beamTrace(qy, 'nSRMs2', \"nOMC_REFL\",'y')\n",
    "        trace_SRM_OMCy.plot_beamsize(ax=ax2, color=c, label=pos + '(y)', ls='--')\n",
    "\n",
    "        print(pos, \"x mismatch\", pykat.BeamParam.overlap(trace_SRM_OMCx.q_out, trace_OMCx.q_out))\n",
    "        print(pos, \"y mismatch\", pykat.BeamParam.overlap(trace_SRM_OMCy.q_out, trace_OMCy.q_out))\n",
    "\n",
    "    ax2.set_xlabel(\"SRM AR -> OMC REFL\")\n",
    "    ax2.legend()\n",
    "    ax2.set_ylim(0,3)\n",
    "\n",
    "    ax2.set_xlim(5.3, 6.5)\n",
    "    ax2.set_ylim(0, 1)"
   ]
  },
  {
   "cell_type": "code",
   "execution_count": null,
   "metadata": {
    "collapsed": true
   },
   "outputs": [],
   "source": [
    "kat = base.deepcopy()\n",
    "kat.lzm1_zm2.L = 2260e-3\n",
    "kat.sOM1_OM2.L = 1.39\n",
    "run_change_lens2(kat)"
   ]
  },
  {
   "cell_type": "markdown",
   "metadata": {},
   "source": [
    "So we see that the mode matching gets worse as we move lens2 closer...\n",
    "\n",
    "The waist position gets better but it also gets smaller which hurts us."
   ]
  },
  {
   "cell_type": "code",
   "execution_count": null,
   "metadata": {
    "collapsed": true
   },
   "outputs": [],
   "source": [
    "def run_change_lens1(kat):\n",
    "    fig2 = plt.figure(figsize=(4*2, 4))\n",
    "    ax2 = plt.subplot(111)\n",
    "\n",
    "    OMCqx, OMCqy = cav2node('OMC', 'nSRM2', kat)\n",
    "    OMCqx.reverse()\n",
    "    OMCqy.reverse()\n",
    "\n",
    "    trace_OMCx = kat.beamTrace(OMCqx, 'nSRM2', \"nOMC_REFL\",'x')\n",
    "    trace_OMCx.plot_beamsize(ax=ax2, color='k', ls='--', label=\"OMC\")\n",
    "\n",
    "    trace_OMCy = kat.beamTrace(OMCqy, 'nSRM2', \"nOMC_REFL\",'y')\n",
    "    trace_OMCy.plot_beamsize(ax=ax2, color='k', ls=':', label=\"OMC\")\n",
    "\n",
    "    # Here shift the lens 2 and 4 cm closer compared to the cloest position, and see what happens...\n",
    "    for dl,c,pos in zip([2e-2, 4e-2, 10e-2], ['r','g','b'], ['0cm', '2cm', '4cm']):\n",
    "        pos = \"%.2f cm\" % (dl*100)\n",
    "        \n",
    "        kat.data['fn_OPO_shift_lenses'](kat, dl, 0.95, 10e-2)\n",
    "        \n",
    "        trace_SQZ_SRMx = kat.beamTrace(kat.sqz.nSQZ.qx, 'nSQZ', \"nSRMs2\",'x')\n",
    "        \n",
    "        qx = single_bounce_SQZ(kat, 'x', False, 'nSRM2')\n",
    "\n",
    "        trace_SRM_OMCx = kat.beamTrace(qx, 'nSRM2', \"nOMC_REFL\",'x')\n",
    "        trace_SRM_OMCx.plot_beamsize(ax=ax2, color=c, label=pos + '(x)')\n",
    "\n",
    "        trace_SQZ_SRMy = kat.beamTrace(kat.sqz.nSQZ.qy, 'nSQZ', \"nSRMs2\",'y')\n",
    "        \n",
    "        qy = single_bounce_SQZ(kat, 'y', False, 'nSRMs2')\n",
    "\n",
    "        trace_SRM_OMCy = kat.beamTrace(qy, 'nSRMs2', \"nOMC_REFL\",'y')\n",
    "        trace_SRM_OMCy.plot_beamsize(ax=ax2, color=c, label=pos + '(y)', ls='--')\n",
    "\n",
    "        #print(kat.lsqz_lens1.L.value, kat.lsqz_lens1_lens2.L.value, kat.lsqz_lens2_zm1.L.value)\n",
    "        print(pos, \"x mismatch\", pykat.BeamParam.overlap(trace_SRM_OMCx.q_out, trace_OMCx.q_out))\n",
    "        print(pos, \"y mismatch\", pykat.BeamParam.overlap(trace_SRM_OMCy.q_out, trace_OMCy.q_out))\n",
    "\n",
    "    ax2.set_xlabel(\"SRM AR -> OMC REFL\")\n",
    "    ax2.legend()\n",
    "    ax2.set_ylim(0,3)\n",
    "\n",
    "    ax2.set_xlim(5.3, 6.5)\n",
    "    ax2.set_ylim(0, 1)"
   ]
  },
  {
   "cell_type": "code",
   "execution_count": null,
   "metadata": {
    "collapsed": true
   },
   "outputs": [],
   "source": [
    "kat = base.deepcopy()\n",
    "kat.lzm1_zm2.L = 2260e-3\n",
    "kat.sOM1_OM2.L = 1.39\n",
    "run_change_lens1(kat)"
   ]
  },
  {
   "cell_type": "code",
   "execution_count": null,
   "metadata": {
    "collapsed": true
   },
   "outputs": [],
   "source": [
    "def run_change_lens1_lens2(kat, dz1, dz2, f1, f2, plot=False, **kwargs):\n",
    "    if plot:\n",
    "        fig2 = plt.figure(figsize=(4*2, 4))\n",
    "        ax2 = plt.subplot(111)\n",
    "\n",
    "    kat.sqz_lens1.f = f1\n",
    "    kat.sqz_lens2.f = f2\n",
    "    \n",
    "    OMCqx, OMCqy = cav2node('OMC', 'nSRM2', kat)\n",
    "    OMCqx.reverse()\n",
    "    OMCqy.reverse()\n",
    "\n",
    "    trace_OMCx = kat.beamTrace(OMCqx, 'nSRM2', \"nOMC_REFL\",'x')\n",
    "    trace_OMCy = kat.beamTrace(OMCqy, 'nSRM2', \"nOMC_REFL\",'y')\n",
    "\n",
    "    if plot: trace_OMCy.plot_beamsize(ax=ax2, color='k', ls=':', label=\"OMC\")\n",
    "    if plot: trace_OMCx.plot_beamsize(ax=ax2, color='k', ls='--', label=\"OMC\")\n",
    "\n",
    "    kat.data['fn_OPO_shift_lenses'](kat, dz1, 0.5, dz2)\n",
    "    \n",
    "    trace_SQZ_SRMx = kat.beamTrace(kat.sqz.nSQZ.qx, 'nSQZ', \"nSRMs2\",'x')\n",
    "\n",
    "    qx = single_bounce_SQZ(kat, 'x', False, 'nSRM2')\n",
    "\n",
    "    trace_SRM_OMCx = kat.beamTrace(qx, 'nSRM2', \"nOMC_REFL\",'x')\n",
    "    \n",
    "    if plot: trace_SRM_OMCx.plot_beamsize(ax=ax2, **kwargs)\n",
    "\n",
    "    trace_SQZ_SRMy = kat.beamTrace(kat.sqz.nSQZ.qy, 'nSQZ', \"nSRMs2\",'y')\n",
    "\n",
    "    qy = single_bounce_SQZ(kat, 'y', False, 'nSRMs2')\n",
    "\n",
    "    trace_SRM_OMCy = kat.beamTrace(qy, 'nSRMs2', \"nOMC_REFL\",'y')\n",
    "    kwargs['ls'] = '--'\n",
    "    if plot: trace_SRM_OMCy.plot_beamsize(ax=ax2, **kwargs)\n",
    "\n",
    "    print(\"x mismatch\", pykat.BeamParam.overlap(trace_SRM_OMCx.q_out, trace_OMCx.q_out))\n",
    "    print(\"y mismatch\", pykat.BeamParam.overlap(trace_SRM_OMCy.q_out, trace_OMCy.q_out))\n",
    "\n",
    "    if plot:\n",
    "        ax2.set_xlabel(\"SRM AR -> OMC REFL\")\n",
    "        ax2.legend()\n",
    "#         ax2.set_ylim(0,3)\n",
    "\n",
    "#         ax2.set_xlim(5.3, 6.5)\n",
    "#         ax2.set_ylim(0, 1)"
   ]
  },
  {
   "cell_type": "code",
   "execution_count": null,
   "metadata": {
    "collapsed": true
   },
   "outputs": [],
   "source": [
    "kat = base.deepcopy()\n",
    "kat.lzm1_zm2.L = 2260e-3\n",
    "kat.sOM1_OM2.L = 1.39\n",
    "\n",
    "\n",
    "run_change_lens1_lens2(kat, dz1, dz2, base.sqz_lens1.f.value*4, 0.75*2.2, plot=True, c='r')"
   ]
  },
  {
   "cell_type": "code",
   "execution_count": null,
   "metadata": {
    "collapsed": true
   },
   "outputs": [],
   "source": [
    "run_change_lens1_lens2(kat, dz1, dz2-2e-2, 0.250 *2.23, 0.350*2.23, plot=True, c='r')"
   ]
  },
  {
   "cell_type": "code",
   "execution_count": null,
   "metadata": {
    "collapsed": true
   },
   "outputs": [],
   "source": [
    "base.sqz_lens1.f.value, base.sqz_lens2.f.value"
   ]
  },
  {
   "cell_type": "code",
   "execution_count": null,
   "metadata": {
    "collapsed": true
   },
   "outputs": [],
   "source": []
  }
 ],
 "metadata": {
  "kernelspec": {
   "display_name": "Python 3",
   "language": "python",
   "name": "python3"
  },
  "language_info": {
   "codemirror_mode": {
    "name": "ipython",
    "version": 3
   },
   "file_extension": ".py",
   "mimetype": "text/x-python",
   "name": "python",
   "nbconvert_exporter": "python",
   "pygments_lexer": "ipython3",
   "version": "3.6.2"
  }
 },
 "nbformat": 4,
 "nbformat_minor": 2
}
