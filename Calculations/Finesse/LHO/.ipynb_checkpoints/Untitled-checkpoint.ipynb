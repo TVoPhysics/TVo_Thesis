{
 "cells": [
  {
   "cell_type": "code",
   "execution_count": 1,
   "metadata": {},
   "outputs": [
    {
     "name": "stderr",
     "output_type": "stream",
     "text": [
      "C:\\Users\\tvo88\\Anaconda3\\lib\\site-packages\\h5py\\__init__.py:34: FutureWarning: Conversion of the second argument of issubdtype from `float` to `np.floating` is deprecated. In future, it will be treated as `np.float64 == np.dtype(float).type`.\n",
      "  from ._conv import register_converters as _register_converters\n"
     ]
    },
    {
     "name": "stdout",
     "output_type": "stream",
     "text": [
      "                                              ..-\n",
      "    PyKat 1.1.277         _                  '(\n",
      "                          \\`.|\\.__...-\"\"\"\"-_.\" )\n",
      "       ..+-----.._        /  ' `            .-'\n",
      "   . '            `:      7/* _/._\\    \\   (\n",
      "  (        '::;;+;;:      `-\"' =\" /,`\"\" `) /\n",
      "  L.        \\`:::a:f            c_/     n_'\n",
      "  ..`--...___`.  .    ,\n",
      "   `^-....____:   +.      www.gwoptics.org/pykat\n",
      "\n"
     ]
    }
   ],
   "source": [
    "import pykat\n",
    "import numpy as np\n",
    "\n",
    "import pykat.ifo.aligo as aligo\n",
    "import pykat.ifo.aligo.plot\n",
    "import matplotlib.pyplot as plt\n",
    "from matplotlib.ticker import FormatStrFormatter\n",
    "\n",
    "%matplotlib inline"
   ]
  },
  {
   "cell_type": "code",
   "execution_count": null,
   "metadata": {
    "collapsed": true
   },
   "outputs": [],
   "source": []
  },
  {
   "cell_type": "code",
   "execution_count": null,
   "metadata": {
    "collapsed": true
   },
   "outputs": [],
   "source": []
  },
  {
   "cell_type": "code",
   "execution_count": null,
   "metadata": {},
   "outputs": [
    {
     "name": "stdout",
     "output_type": "stream",
     "text": [
      "[1.e-05 2.e-05 3.e-05 4.e-05 5.e-05]\n"
     ]
    }
   ],
   "source": [
    "x = np.linspace(10e-6,50e-6,5)\n",
    "print(x)"
   ]
  },
  {
   "cell_type": "code",
   "execution_count": null,
   "metadata": {
    "scrolled": true
   },
   "outputs": [
    {
     "name": "stdout",
     "output_type": "stream",
     "text": [
      "0\n",
      "\u001b[93m\n",
      "Pykat parsing does not preserve inline comments. Moving inline\n",
      "comments before command\n",
      "\u001b[0m\n",
      "Zero-ing locks\n",
      "Finding phasing\n",
      "CARM -83.754338217689 -85\n",
      "Finding phasing\n",
      "PRCL -56.29149236943903 -60\n",
      "Finding phasing\n",
      "MICH 123.162593503816 103.4\n",
      "Running with new phasing\n",
      "1\n",
      "\u001b[93m\n",
      "Pykat parsing does not preserve inline comments. Moving inline\n",
      "comments before command\n",
      "\u001b[0m\n",
      "Zero-ing locks\n",
      "\u001b[93m\n",
      "Keyboard interrupt caught, stopped simulation.\n",
      "\u001b[0m\n",
      "Ran into a pykat error, trying again\n",
      "Zero-ing locks\n",
      "Finding phasing\n",
      "CARM -80.58962428046402 -85\n",
      "Finding phasing\n",
      "PRCL -53.305241436069025 -60\n",
      "Finding phasing\n",
      "MICH 123.740359109026 103.4\n",
      "Running with new phasing\n",
      "\u001b[93m\n",
      "Keyboard interrupt caught, stopped simulation.\n",
      "\u001b[0m\n",
      "2\n",
      "\u001b[93m\n",
      "Pykat parsing does not preserve inline comments. Moving inline\n",
      "comments before command\n",
      "\u001b[0m\n",
      "Zero-ing locks\n"
     ]
    }
   ],
   "source": [
    "results =[]\n",
    "for i in range(len(x)):\n",
    "    print(i)\n",
    "    base = aligo.make_kat(\"design_with_IMC_HAM2_FI_OMC\", keepComments=True, preserveConstants=True)\n",
    "    base.phase = 3\n",
    "    base.L0.P = 20\n",
    "    #base.IFO.remove_IMC_HAM2(True, False)\n",
    "    base.maxtem = 2\n",
    "    base.SRM.T = 0.32\n",
    "\n",
    "    # Provide about PRG ~ 50\n",
    "    base.ITMY.L = 20e-6\n",
    "    base.ITMX.L = 20e-6\n",
    "\n",
    "    base.ITMY_lens.p = 1/base.ITMY_lens.f.value + x[i]\n",
    "    base.ITMX_lens.p = 1/base.ITMX_lens.f.value + 10e-6\n",
    "\n",
    "    base.IFO.CARM.port.phase = -85 #92.5\n",
    "    base.IFO.PRCL.port.phase = -60 #119.8\n",
    "    base.IFO.PRCL.quad = 'I'\n",
    "\n",
    "    base.IFO.SRCL.port = base.IFO.POP_f2\n",
    "    base.IFO.SRCL.quad = 'I'\n",
    "\n",
    "    base.IFO.MICH.port.phase = 103.4\n",
    "    base.IFO.MICH.quad = 'Q'\n",
    "\n",
    "    \n",
    "    result = None\n",
    "    while result is None:\n",
    "        try:\n",
    "            base = aligo.setup(base, verbose=False)\n",
    "            print(\"Zero-ing locks\")\n",
    "            base.IFO.zero_locks() #Find phases to lock the IFO\n",
    "            result = 1\n",
    "        except:\n",
    "            pass\n",
    "            print(\"Ran into a pykat error, trying again\")\n",
    "\n",
    "    #### Maximize the phasing for the sensors.\n",
    "    for dof in ['CARM', 'PRCL', 'MICH']:\n",
    "        kat = base.deepcopy()\n",
    "        dof = kat.IFO.DOFs[dof]\n",
    "        kat.noxaxis = True\n",
    "        kat.removeBlock('locks')\n",
    "        kat.parse( dof.fsig(fsig=1) )\n",
    "        kat.parse( dof.transfer() )\n",
    "        kat.parse(f\"\"\"\n",
    "        maximize max {dof.transfer_name()} re {dof.transfer_name()} phase1 -1000 1000 1e-3\n",
    "        \"\"\")\n",
    "        result= None\n",
    "        while result is None:\n",
    "            try:\n",
    "                print(\"Finding phasing\")\n",
    "                out = kat.run()\n",
    "                result = 1\n",
    "            except:\n",
    "                pass\n",
    "                print(\"Ran into a pykat error, trying again\")\n",
    "\n",
    "        dof.port.phase = out['max'] % 360 - 180\n",
    "        if dof.quad == 'Q':\n",
    "            dof.port.phase += 90\n",
    "\n",
    "        print(dof.name, dof.port.phase, base.IFO.DOFs[dof.name].port.phase)\n",
    "        base.IFO.DOFs[dof.name].port.phase = dof.port.phase\n",
    "\n",
    "    base.parse('''\n",
    "    pd0 POP_DC nPOP\n",
    "    pd1 POP_RF90_I 90994710.0 max nPOP\n",
    "    pd1 POP_RF18_I 18198942.0 max nPOP\n",
    "\n",
    "    pd Prc nPRM2\n",
    "    pd Pin nPRMs2*\n",
    "    \n",
    "    noxaxis\n",
    "    \n",
    "    ''')\n",
    "    \n",
    "    result = None\n",
    "    while result is None:\n",
    "        try:\n",
    "            print(\"Running with new phasing\")\n",
    "            out = kat.run()\n",
    "            result = 1\n",
    "        except:\n",
    "            pass\n",
    "            print(\"Ran into a pykat error, trying again\")\n",
    "            \n",
    "    out = base.run()\n",
    "    results.append(out)"
   ]
  },
  {
   "cell_type": "code",
   "execution_count": null,
   "metadata": {},
   "outputs": [],
   "source": [
    "POP18 = []\n",
    "\n",
    "for i in range(len(results)):\n",
    "    POP18.append(results[i]['POP_RF18_I'])"
   ]
  },
  {
   "cell_type": "code",
   "execution_count": null,
   "metadata": {},
   "outputs": [],
   "source": []
  },
  {
   "cell_type": "code",
   "execution_count": null,
   "metadata": {},
   "outputs": [],
   "source": [
    "fig = plt.figure(figsize=(14,3),dpi=100)\n",
    "\n",
    "ax = fig.add_subplot(121)\n",
    "ax.plot(x,POP18/POP18[0], linewidth=4, label='POP_RF18_I')\n",
    "ax.set_ylabel('Normalized Power', fontsize=16)\n",
    "ax.set_xlabel('ITM Diff. Thermal Lens  [$\\mu$diopters]',fontsize=14)\n",
    "ax.tick_params(axis='both', labelsize=14)\n",
    "plt.legend(fontsize=14)"
   ]
  },
  {
   "cell_type": "code",
   "execution_count": null,
   "metadata": {
    "collapsed": true
   },
   "outputs": [],
   "source": []
  }
 ],
 "metadata": {
  "kernelspec": {
   "display_name": "Python 3",
   "language": "python",
   "name": "python3"
  },
  "language_info": {
   "codemirror_mode": {
    "name": "ipython",
    "version": 3
   },
   "file_extension": ".py",
   "mimetype": "text/x-python",
   "name": "python",
   "nbconvert_exporter": "python",
   "pygments_lexer": "ipython3",
   "version": "3.6.2"
  }
 },
 "nbformat": 4,
 "nbformat_minor": 2
}
