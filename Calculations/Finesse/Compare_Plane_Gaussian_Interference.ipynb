{
 "cells": [
  {
   "cell_type": "code",
   "execution_count": 1,
   "metadata": {
    "collapsed": false
   },
   "outputs": [
    {
     "name": "stdout",
     "output_type": "stream",
     "text": [
      "                                              ..-\n",
      "    PyKat 1.0.17          _                  '(\n",
      "                          \\`.|\\.__...-\"\"\"\"-_.\" )\n",
      "       ..+-----.._        /  ' `            .-'\n",
      "   . '            `:      7/* _/._\\    \\   (\n",
      "  (        '::;;+;;:      `-\"' =\" /,`\"\" `) /\n",
      "  L.        \\`:::a:f            c_/     n_'\n",
      "  ..`--...___`.  .    ,  \n",
      "   `^-....____:   +.      www.gwoptics.org/pykat\n",
      "\n"
     ]
    }
   ],
   "source": [
    "%matplotlib inline\n",
    "\n",
    "import numpy as np\n",
    "import pylab as pl\n",
    "import pykat\n",
    "\n",
    "\n",
    "### My Functions\n",
    "import EM"
   ]
  },
  {
   "cell_type": "code",
   "execution_count": 2,
   "metadata": {
    "collapsed": false
   },
   "outputs": [],
   "source": [
    "P_out_list = []\n",
    "\n",
    "offset_list = []\n",
    "\n",
    "wavelength = 1064e-9\n",
    "points = 100\n",
    "for i in range(-points,points,1):\n",
    "    \n",
    "    phase = (float(i)/points) * 2 *np.pi\n",
    "    \n",
    "    E1 = EM.Plane.ComplexAmplitude(1.0,10,phase)\n",
    "    E2 = EM.Plane.ComplexAmplitude(1.0,10)\n",
    "    P_out = (E1+E2)*np.conjugate(E1+E2)\n",
    "    \n",
    "    P_out_list.append(P_out)\n",
    "    offset_list.append( (360/(2*np.pi)) * phase)"
   ]
  },
  {
   "cell_type": "code",
   "execution_count": 3,
   "metadata": {
    "collapsed": false
   },
   "outputs": [
    {
     "name": "stdout",
     "output_type": "stream",
     "text": [
      "(562337268542+0j) (281168634271+0j)\n"
     ]
    }
   ],
   "source": [
    "waist = 1064e-9\n",
    "\n",
    "zR = np.pi * (waist**2)/wavelength\n",
    "\n",
    "E1 = EM.Gaussian.ComplexAmplitude(0,zR,0)\n",
    "P1 = E1*np.conjugate(E1)\n",
    "\n",
    "E2 = EM.Gaussian.ComplexAmplitude(zR,zR,0)\n",
    "P2 = E2*np.conjugate(E2)\n",
    "\n",
    "print(P1,P2)"
   ]
  },
  {
   "cell_type": "code",
   "execution_count": 4,
   "metadata": {
    "collapsed": false
   },
   "outputs": [
    {
     "name": "stdout",
     "output_type": "stream",
     "text": [
      "2.952624674426497e-06\n",
      "(3.81065503972e+14+0j)\n",
      "(3.81065503972e+14+0j)\n"
     ]
    }
   ],
   "source": [
    "waist = 1e-6\n",
    "\n",
    "zR = np.pi * (waist**2)/wavelength\n",
    "\n",
    "print(zR)\n",
    "\n",
    "p1_indv = []\n",
    "P1 = 0\n",
    "\n",
    "for i in range(0,1000,1):\n",
    "    \n",
    "    r = float(i)/1000 * waist \n",
    "    E1 = EM.Gaussian.ComplexAmplitude(0,zR,r)\n",
    "    P1 += E1*np.conjugate(E1)\n",
    "    p1_indv.append(E1*np.conjugate(E1))\n",
    "    \n",
    "print(sum(p1_indv))\n",
    "print(P1)"
   ]
  },
  {
   "cell_type": "code",
   "execution_count": null,
   "metadata": {
    "collapsed": false
   },
   "outputs": [],
   "source": []
  },
  {
   "cell_type": "code",
   "execution_count": 7,
   "metadata": {
    "collapsed": false
   },
   "outputs": [],
   "source": [
    "### Now for the more complicated Gaussian Beam\n",
    "P_out_list_g = []\n",
    "\n",
    "offset_list_g = []\n",
    "\n",
    "waist = 1e-4\n",
    "zR = np.pi * (waist**2)/wavelength\n",
    "\n",
    "points = 100\n",
    "\n",
    "for i in range(-points,points,1):\n",
    "    phase = (float(i))/points * 2*np.pi\n",
    "    \n",
    "    ### for each phase shift in the beam phase, integrate the face of the beam.\n",
    "    norm = EM.Gaussian.ComplexAmplitude(0,zR,0)\n",
    "    P_indv = []\n",
    "    for j in range(0,100,1):\n",
    "        r = float(i)/100 * 3 * zR\n",
    "    \n",
    "        E1 = EM.Gaussian.ComplexAmplitude(10+phase,zR,r)/norm\n",
    "        E2 = EM.Gaussian.ComplexAmplitude(10,zR,r)/norm\n",
    "        P_out = (E1+E2)*np.conjugate(E1+E2)\n",
    "        \n",
    "        P_indv.append(P_out)\n",
    "\n",
    "    P_out_list_g.append(2*np.pi*sum(P_indv))\n",
    "    offset_list_g.append( (360/(2*np.pi)) * phase)"
   ]
  },
  {
   "cell_type": "code",
   "execution_count": null,
   "metadata": {
    "collapsed": false
   },
   "outputs": [],
   "source": []
  },
  {
   "cell_type": "code",
   "execution_count": 10,
   "metadata": {
    "collapsed": false
   },
   "outputs": [
    {
     "data": {
      "text/plain": [
       "[(6.2694672856952925e-09+0j),\n",
       " (8.2312111590332272e-09+0j),\n",
       " (1.0777265279465519e-08+0j),\n",
       " (1.4072301478905614e-08+0j),\n",
       " (1.8324554117178284e-08+0j),\n",
       " (2.3796518811517891e-08+0j),\n",
       " (3.0818050986343895e-08+0j),\n",
       " (3.9802342953852065e-08+0j),\n",
       " (5.1265338955313554e-08+0j),\n",
       " (6.5849238423630306e-08+0j),\n",
       " (8.4350839154872507e-08+0j),\n",
       " (1.0775558418228156e-07+0j),\n",
       " (1.3727829976530514e-07+0j),\n",
       " (1.7441174297766658e-07+0j),\n",
       " (2.2098423694875676e-07+0j),\n",
       " (2.7922773320849756e-07+0j),\n",
       " (3.5185810512797189e-07+0j),\n",
       " (4.4216919693830963e-07+0j),\n",
       " (5.5414238903155647e-07+0j),\n",
       " (6.9257186621025058e-07+0j),\n",
       " (8.6322458635970819e-07+0j),\n",
       " (1.0729769561041116e-06+0j),\n",
       " (1.3300805038670029e-06+0j),\n",
       " (1.6442833131524759e-06+0j),\n",
       " (2.0271838140121848e-06+0j),\n",
       " (2.4923513448895465e-06+0j),\n",
       " (3.0565532259899513e-06+0j),\n",
       " (3.7342952135491186e-06+0j),\n",
       " (4.5532938526486233e-06+0j),\n",
       " (5.53577745853195e-06+0j),\n",
       " (6.7144060523009194e-06+0j),\n",
       " (8.1185731943097054e-06+0j),\n",
       " (9.7637567213726899e-06+0j),\n",
       " (1.1781166508498883e-05+0j),\n",
       " (1.4176359626863863e-05+0j),\n",
       " (1.6660612222302988e-05+0j),\n",
       " (2.0624275512403396e-05+0j),\n",
       " (2.418548119568872e-05+0j),\n",
       " (2.9143669788265353e-05+0j),\n",
       " (3.4689493991937734e-05+0j),\n",
       " (3.9134279634532017e-05+0j),\n",
       " (4.2969467326985433e-05+0j),\n",
       " (4.9303944902088708e-05+0j),\n",
       " (6.2527515817757966e-05+0j),\n",
       " (8.3557521205840585e-05+0j),\n",
       " (8.8490408951834407e-05+0j),\n",
       " (8.1124962781460084e-05+0j),\n",
       " (8.9325910875593555e-05+0j),\n",
       " (0.00013055195275585348+0j),\n",
       " (0.00021602964125315587+0j),\n",
       " (0.00011442805163531196+0j),\n",
       " (0.00024958396992488829+0j),\n",
       " (0.00037994766011487249+0j),\n",
       " (0.00044279602978971526+0j),\n",
       " (0.0005441946237232032+0j),\n",
       " (0.00043308308701981764+0j),\n",
       " (0.00015586415263097453+0j),\n",
       " (0.00091771309907598647+0j),\n",
       " (0.00020201024408954949+0j),\n",
       " (0.00061700674317063324+0j),\n",
       " (0.0014504084564950924+0j),\n",
       " (0.001728449402166779+0j),\n",
       " (0.0019917373864874444+0j),\n",
       " (0.0023508053539641641+0j),\n",
       " (0.0017963943118541521+0j),\n",
       " (0.00011250451616546373+0j),\n",
       " (0.0023580680161439074+0j),\n",
       " (0.0024516335758532322+0j),\n",
       " (0.0017379485339269138+0j),\n",
       " (0.002219838539083952+0j),\n",
       " (0.0052305342324793537+0j),\n",
       " (0.00059327391425392046+0j),\n",
       " (0.0014005593034357292+0j),\n",
       " (0.0058235665176509304+0j),\n",
       " (0.0084114255306816793+0j),\n",
       " (0.0091190353795936596+0j),\n",
       " (0.0095609844775596808+0j),\n",
       " (0.01055280811517397+0j),\n",
       " (0.011691305982202674+0j),\n",
       " (0.011122871781858222+0j),\n",
       " (0.0066761953115904975+0j),\n",
       " (0.00072015733258288172+0j),\n",
       " (0.0027403387112296925+0j),\n",
       " (0.013763434652878+0j),\n",
       " (0.012700676804431226+0j),\n",
       " (0.0002766035371071863+0j),\n",
       " (0.011082702600613083+0j),\n",
       " (0.015241223250914888+0j),\n",
       " (4.1438931993305961e-05+0j),\n",
       " (0.017933080941391649+0j),\n",
       " (0.006260959146897515+0j),\n",
       " (0.0095336570248340385+0j),\n",
       " (0.015187498184593529+0j),\n",
       " (0.0033156229249719795+0j),\n",
       " (0.019916411051017512+0j),\n",
       " (0.00083506101050196053+0j),\n",
       " (0.021612518896569437+0j),\n",
       " (0.00014773515959503447+0j),\n",
       " (0.022019269002272988+0j),\n",
       " (1.0102224267232032e-05+0j),\n",
       " (0.021910513857602006+0j),\n",
       " (9.9651325542322952e-06+0j),\n",
       " (0.021475964484471623+0j),\n",
       " (0.00013972681415447998+0j),\n",
       " (0.020587752342727968+0j),\n",
       " (0.00074126384569045487+0j),\n",
       " (0.01866479689858442+0j),\n",
       " (0.0027471323808420695+0j),\n",
       " (0.014488586006366353+0j),\n",
       " (0.007507707903296708+0j),\n",
       " (0.0072034829185679749+0j),\n",
       " (0.014382536029185433+0j),\n",
       " (0.00042357169870096051+0j),\n",
       " (0.015876321096295672+0j),\n",
       " (0.0043288813421461566+0j),\n",
       " (0.0046889032127952184+0j),\n",
       " (0.014316253984107789+0j),\n",
       " (0.0024880469775030193+0j),\n",
       " (0.0033951465053242988+0j),\n",
       " (0.012338085582920343+0j),\n",
       " (0.0069698015980505902+0j),\n",
       " (0.00012400407790362551+0j),\n",
       " (0.003376949607257736+0j),\n",
       " (0.0089081066932735035+0j),\n",
       " (0.0091956528238641005+0j),\n",
       " (0.0056362824996636961+0j),\n",
       " (0.0021685989780444778+0j),\n",
       " (0.00042356666957366756+0j),\n",
       " (3.882781762395445e-06+0j),\n",
       " (6.9425835968930439e-05+0j),\n",
       " (0.00011038477025982328+0j),\n",
       " (2.8543867362843015e-05+0j),\n",
       " (4.667637191408747e-05+0j),\n",
       " (0.00060005613153976862+0j),\n",
       " (0.0020073828965718838+0j),\n",
       " (0.0037326976393121606+0j),\n",
       " (0.0039960147454205361+0j),\n",
       " (0.0017515743631752749+0j),\n",
       " (1.7507753601689797e-05+0j),\n",
       " (0.0020151114420731944+0j),\n",
       " (0.002606116245306407+0j),\n",
       " (6.1194249004988812e-05+0j),\n",
       " (0.0019841524781602855+0j),\n",
       " (0.00092896976155427838+0j),\n",
       " (0.0010268401541490097+0j),\n",
       " (0.00096006561526084419+0j),\n",
       " (0.0011023358014995959+0j),\n",
       " (0.00027087450397906594+0j),\n",
       " (0.0014237292871188733+0j),\n",
       " (0.00033609832899872714+0j),\n",
       " (0.0002573354553528079+0j),\n",
       " (0.00096317352813661875+0j),\n",
       " (0.00086708095186829675+0j),\n",
       " (0.0003916842196892033+0j),\n",
       " (0.00012138578856344408+0j),\n",
       " (6.7188988380427518e-05+0j),\n",
       " (7.7770568472320143e-05+0j),\n",
       " (7.7238718614878156e-05+0j),\n",
       " (6.9814993215639649e-05+0j),\n",
       " (0.00010618424474705076+0j),\n",
       " (0.00023216153524746987+0j),\n",
       " (0.00037308134616425865+0j),\n",
       " (0.00030949359898828235+0j),\n",
       " (8.8374686548541858e-05+0j),\n",
       " (0.00016640356661949142+0j),\n",
       " (0.00024991473117362632+0j),\n",
       " (6.4847442049717656e-05+0j),\n",
       " (0.00021818259098884497+0j),\n",
       " (6.2119973800932082e-05+0j),\n",
       " (0.00017884334280836132+0j),\n",
       " (7.8106620139062444e-05+0j),\n",
       " (8.8280719272134259e-05+0j),\n",
       " (0.00013506076943175092+0j),\n",
       " (8.9296359953908497e-05+0j),\n",
       " (5.2390724186823849e-05+0j),\n",
       " (5.1472543789690419e-05+0j),\n",
       " (5.8917255138881219e-05+0j),\n",
       " (6.0440727456666984e-05+0j),\n",
       " (5.5423466297041481e-05+0j),\n",
       " (4.6495260848237712e-05+0j),\n",
       " (3.8412277166749131e-05+0j),\n",
       " (3.9020101407391391e-05+0j),\n",
       " (4.8872169129244873e-05+0j),\n",
       " (4.7615748285607079e-05+0j),\n",
       " (3.1493578815614767e-05+0j),\n",
       " (3.6896052667170227e-05+0j),\n",
       " (3.3656440695891174e-05+0j),\n",
       " (2.897232666079678e-05+0j),\n",
       " (2.8588677591420064e-05+0j),\n",
       " (2.7712374499337162e-05+0j),\n",
       " (2.1588707673883005e-05+0j),\n",
       " (2.3954896834050015e-05+0j),\n",
       " (2.286527853251147e-05+0j),\n",
       " (1.9285369940630534e-05+0j),\n",
       " (1.6943806688577178e-05+0j),\n",
       " (1.5709701974637796e-05+0j),\n",
       " (1.4743594845396221e-05+0j),\n",
       " (1.3799089479183245e-05+0j),\n",
       " (1.3031769651491671e-05+0j),\n",
       " (1.2651556678465934e-05+0j)]"
      ]
     },
     "execution_count": 10,
     "metadata": {},
     "output_type": "execute_result"
    }
   ],
   "source": [
    "P_out_list_g"
   ]
  },
  {
   "cell_type": "code",
   "execution_count": 9,
   "metadata": {
    "collapsed": false
   },
   "outputs": [
    {
     "name": "stderr",
     "output_type": "stream",
     "text": [
      "/home/thomasvo/anaconda3/lib/python3.5/site-packages/matplotlib/axes/_axes.py:519: UserWarning: No labelled objects found. Use label='...' kwarg on individual plots.\n",
      "  warnings.warn(\"No labelled objects found. \"\n"
     ]
    },
    {
     "data": {
      "image/png": "[encoded data removed]",
      "text/plain": [
       "<matplotlib.figure.Figure at 0x7f8761043a20>"
      ]
     },
     "metadata": {},
     "output_type": "display_data"
    }
   ],
   "source": [
    "pl.figure(figsize=(9, 5), dpi=80)\n",
    "\n",
    "pl.subplot(111)\n",
    "\n",
    "pl.plot(offset_list_g,np.absolute(P_out_list_g))\n",
    "\n",
    "pl.legend(fontsize=15)\n",
    "\n",
    "pl.xlabel(\"Phase (Deg)\",fontsize=20)\n",
    "pl.ylabel(\"Normalized Power\",fontsize=20)\n",
    "\n",
    "###Main plot formatting\n",
    "pl.tick_params(labelsize=20)\n",
    "pl.tick_params(which='both', width=2)\n",
    "pl.tick_params(which='major', length=7)\n",
    "pl.tick_params(which='minor', length=4)\n",
    "pl.grid(True, zorder=-1)\n",
    "\n",
    "pl.show()"
   ]
  }
 ],
 "metadata": {
  "kernelspec": {
   "display_name": "Python 3",
   "language": "python",
   "name": "python3"
  },
  "language_info": {
   "codemirror_mode": {
    "name": "ipython",
    "version": 3
   },
   "file_extension": ".py",
   "mimetype": "text/x-python",
   "name": "python",
   "nbconvert_exporter": "python",
   "pygments_lexer": "ipython3",
   "version": "3.5.1"
  }
 },
 "nbformat": 4,
 "nbformat_minor": 0
}
