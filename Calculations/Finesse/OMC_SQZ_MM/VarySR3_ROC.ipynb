{
 "cells": [
  {
   "cell_type": "code",
   "execution_count": 1,
   "metadata": {
    "collapsed": true
   },
   "outputs": [],
   "source": [
    "#### What is the effect on the quantum noise and the DARM Cavity Pole if we add -23.7 mm  to SR3 RoC?\n",
    "#### New SRM and new SRC length?"
   ]
  },
  {
   "cell_type": "code",
   "execution_count": 2,
   "metadata": {},
   "outputs": [
    {
     "name": "stdout",
     "output_type": "stream",
     "text": [
      "                                              ..-\n",
      "    PyKat 1.0.19          _                  '(\n",
      "                          \\`.|\\.__...-\"\"\"\"-_.\" )\n",
      "       ..+-----.._        /  ' `            .-'\n",
      "   . '            `:      7/* _/._\\    \\   (\n",
      "  (        '::;;+;;:      `-\"' =\" /,`\"\" `) /\n",
      "  L.        \\`:::a:f            c_/     n_'\n",
      "  ..`--...___`.  .    ,  \n",
      "   `^-....____:   +.      www.gwoptics.org/pykat\n",
      "\n"
     ]
    }
   ],
   "source": [
    "%matplotlib inline\n",
    "import pykat\n",
    "import pylab as pl\n",
    "import numpy as np\n",
    "\n",
    "### My functions\n",
    "from kat_commands import *\n",
    "from cav_commands import *\n",
    "from load_kat_data import *\n",
    "from MMT import modematch\n",
    "\n",
    "import get_WS\n",
    "import trace_mode"
   ]
  },
  {
   "cell_type": "code",
   "execution_count": 3,
   "metadata": {
    "collapsed": true
   },
   "outputs": [],
   "source": [
    "katfile = \"aLIGO_IFO_AWC_tuning_DCoff_maxtem4_modified.kat\"\n",
    "maxtem = 2"
   ]
  },
  {
   "cell_type": "code",
   "execution_count": 28,
   "metadata": {},
   "outputs": [
    {
     "name": "stdout",
     "output_type": "stream",
     "text": [
      "Parsing `dbs OPP nOPb nOPc nOPd nOPz` into pykat object not implemented yet, added as extra line.\n",
      "\u001b[91m\n",
      "--------------------------------------------------------------\n",
      "Error from pykat:\n",
      "Mirror SRMHR has R+T+L = 0.9266, must equal 1 +- 1e-14\n",
      "--------------------------------------------------------------\n",
      "\u001b[0m\n"
     ]
    },
    {
     "ename": "SystemExit",
     "evalue": "1",
     "output_type": "error",
     "traceback": [
      "An exception has occurred, use %tb to see the full traceback.\n",
      "\u001b[1;31mSystemExit\u001b[0m\u001b[1;31m:\u001b[0m 1\n"
     ]
    },
    {
     "name": "stderr",
     "output_type": "stream",
     "text": [
      "C:\\Users\\tvo88\\Anaconda3\\lib\\site-packages\\IPython\\core\\interactiveshell.py:2870: UserWarning: To exit: use 'exit', 'quit', or Ctrl-D.\n",
      "  warn(\"To exit: use 'exit', 'quit', or Ctrl-D.\", stacklevel=1)\n"
     ]
    }
   ],
   "source": [
    "#load the original kat file (ie Perfect Modematching) as a reference\n",
    "basekat = pykat.finesse.kat() \n",
    "basekat.loadKatFile(katfile)\n",
    "basekat.parseCommands(darm_commands)\n",
    "basekat.parseCommands('''pd1 signal $fs nOMC_AROC_trans''')\n",
    "basekat.parseCommands(cav_commands_FC_first)\n",
    "basekat.parseCommands(\"maxtem \"+str(maxtem))\n",
    "basekat.undumpNodes() #undump the vacuum nodes\n",
    "kat=basekat.deepcopy() #copy kat code\n",
    "kat.verbose = False\n",
    "\n",
    "out_orig = kat.run()\n",
    "\n",
    "### change SR3 ROC is -3 mm/Watt \n",
    "### at 7.9 watts input the change is about -23.7 mm\n",
    "#kat.SR3.Rc.value = kat.SR3.Rc.value - 0.0237\n",
    "#kat.ls3.L.value = kat.ls3.L.value + 0.01\n",
    "kat.SRMHR.T.value = 0.25\n",
    "out_new_ROC = kat.run()"
   ]
  },
  {
   "cell_type": "code",
   "execution_count": null,
   "metadata": {
    "collapsed": true
   },
   "outputs": [],
   "source": [
    "##### Testing to trace the modes\n",
    "#### Turn off all the cav commands except SRCY to extract the eigenmode at the BS\n",
    "[srcx,srcy] = trace_mode.from_cav_to_BS(kat,'cavSRY')\n",
    "\n",
    "#### Turn off all the cav commands except XARM to extract the eigenmode at the BS\n",
    "[ARMx,ARMy] = trace_mode.from_cav_to_BS(kat,'cavXARM')\n",
    "\n",
    "#### Turn off all the cav commands except OMC to extract the eigenmode at the BS\n",
    "[OMCx,OMCy] = trace_mode.from_cav_to_BS(kat,'cavOMC')\n",
    "\n",
    "#### Turn off all the cav commands except FC to extract the eigenmode at the BS\n",
    "[FCx,FCy] = trace_mode.from_cav_to_BS(kat,'cavFC')"
   ]
  },
  {
   "cell_type": "code",
   "execution_count": null,
   "metadata": {},
   "outputs": [],
   "source": [
    "pykat.BeamParam.overlap(srcx,OMCx)"
   ]
  },
  {
   "cell_type": "code",
   "execution_count": null,
   "metadata": {},
   "outputs": [],
   "source": [
    "pl.figure(figsize=(9, 5), dpi=80)\n",
    "pl.subplot(111)\n",
    "\n",
    "pl.loglog(out_new_ROC.x, out_orig['NSR_with_RP'],'--',linewidth=2, label='O2')\n",
    "pl.loglog(out_new_ROC.x, out_new_ROC['NSR_with_RP'],linewidth=2, label='Post O2')\n",
    "\n",
    "#pl.xlim(out_new_ROC.x.min(),out_new_ROC.x.max())\n",
    "pl.xlim(10,2000)\n",
    "pl.ylim(2e-24,6e-23)\n",
    "\n",
    "pl.xlabel(\"Frequency [Hz]\",fontsize=20)\n",
    "pl.ylabel(\"Strain sensitivity [$1/\\\\sqrt{\\mathrm{Hz}}$]\",fontsize=20)\n",
    "\n",
    "###Main plot formatting\n",
    "pl.tick_params(labelsize=20)\n",
    "pl.tick_params(which='both', width=2)\n",
    "pl.tick_params(which='major', length=7)\n",
    "pl.tick_params(which='minor', length=4)\n",
    "pl.grid(True, zorder=-1)\n",
    "pl.legend(fontsize=20)\n",
    "\n",
    "pl.show()"
   ]
  },
  {
   "cell_type": "code",
   "execution_count": null,
   "metadata": {},
   "outputs": [],
   "source": [
    "pl.figure(figsize=(9, 5), dpi=80)\n",
    "pl.subplot(111)\n",
    "\n",
    "pl.loglog(out_new_ROC.x, (2*np.pi/1064E-9)*out_orig['signal'],'--',linewidth=2, label='O2')\n",
    "pl.loglog(out_new_ROC.x, (2*np.pi/1064E-9)*out_new_ROC['signal'],linewidth=2, label='Post O2')\n",
    "\n",
    "#pl.xlim(out_new_ROC.x.min(),out_new_ROC.x.max())\n",
    "pl.xlim(5,2000)\n",
    "pl.ylim(1e19,1e21)\n",
    "\n",
    "pl.xlabel(\"Frequency [Hz]\",fontsize=20)\n",
    "pl.ylabel(\"OMC_Trans_PD Response [W/m]\",fontsize=20)\n",
    "\n",
    "###Main plot formatting\n",
    "pl.tick_params(labelsize=20)\n",
    "pl.tick_params(which='both', width=2)\n",
    "pl.tick_params(which='major', length=7)\n",
    "pl.tick_params(which='minor', length=4)\n",
    "pl.grid(True, zorder=-1)\n",
    "pl.legend(fontsize=20)\n",
    "\n",
    "pl.show()"
   ]
  },
  {
   "cell_type": "code",
   "execution_count": null,
   "metadata": {
    "collapsed": true
   },
   "outputs": [],
   "source": [
    "### Modematch the SRC to the OMC\n"
   ]
  }
 ],
 "metadata": {
  "kernelspec": {
   "display_name": "Python 3",
   "language": "python",
   "name": "python3"
  },
  "language_info": {
   "codemirror_mode": {
    "name": "ipython",
    "version": 3
   },
   "file_extension": ".py",
   "mimetype": "text/x-python",
   "name": "python",
   "nbconvert_exporter": "python",
   "pygments_lexer": "ipython3",
   "version": "3.6.2"
  }
 },
 "nbformat": 4,
 "nbformat_minor": 1
}
