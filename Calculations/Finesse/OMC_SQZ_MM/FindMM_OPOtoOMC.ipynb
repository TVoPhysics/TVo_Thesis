{
 "cells": [
  {
   "cell_type": "code",
   "execution_count": 7,
   "metadata": {
    "collapsed": true
   },
   "outputs": [],
   "source": [
    "#### What happens when ONLY mode mismatch the FC into the IFO?\n",
    "\n",
    "### we need to make sure we lock in the Sqz Mode"
   ]
  },
  {
   "cell_type": "code",
   "execution_count": 8,
   "metadata": {},
   "outputs": [],
   "source": [
    "%matplotlib inline\n",
    "import pykat\n",
    "import pylab as pl\n",
    "import numpy as np\n",
    "\n",
    "### My functions\n",
    "from kat_commands import *\n",
    "from cav_commands import *\n",
    "from load_kat_data import *\n",
    "from MMT import modematch\n",
    "\n",
    "import get_WS\n",
    "import trace_mode"
   ]
  },
  {
   "cell_type": "code",
   "execution_count": 12,
   "metadata": {
    "collapsed": true
   },
   "outputs": [],
   "source": [
    "katfile = \"aLIGO_OnlySqz_OMC.kat\"\n",
    "maxtem = 0"
   ]
  },
  {
   "cell_type": "code",
   "execution_count": 38,
   "metadata": {},
   "outputs": [
    {
     "name": "stdout",
     "output_type": "stream",
     "text": [
      "Parsing `dbs OPP nOPb nOPc nOPd nOPz` into pykat object not implemented yet, added as extra line.\n"
     ]
    }
   ],
   "source": [
    "#load the original kat file (ie Perfect Modematching) as a reference\n",
    "basekat = pykat.finesse.kat() \n",
    "basekat.loadKatFile(katfile)\n",
    "basekat.parseCommands(darm_commands)\n",
    "basekat.parseCommands(\"maxtem \"+str(maxtem))\n",
    "basekat.parseCommands(\"\"\"\n",
    "bp q_SRMHR_x x q nSRMHRa\n",
    "bp q_SRMHR_y y q nSRMHRa\n",
    "\n",
    "bp q_sqz_x x q nOPO_HRIC_in\n",
    "bp q_sqz_y y q nOPO_HRIC_in\n",
    "\n",
    "bp q_OMC_x x q nOMC_HRIC_in\n",
    "bp q_OMC_y y q nOMC_HRIC_in\n",
    "\"\"\")\n",
    "basekat.undumpNodes() #undump the vacuum nodes"
   ]
  },
  {
   "cell_type": "code",
   "execution_count": 28,
   "metadata": {},
   "outputs": [],
   "source": [
    "#Set the mode of the Sqz\n",
    "kat=basekat.deepcopy() #copy kat code\n",
    "kat.verbose = False\n",
    "kat.parseCommands(\"\"\"\n",
    "gauss gaussOPOx OPO_HRIC nOPO_HRIC_in 187.9u .055 200.2u 0.055\n",
    "\"\"\")\n",
    "out = kat.run()"
   ]
  },
  {
   "cell_type": "code",
   "execution_count": 29,
   "metadata": {},
   "outputs": [
    {
     "name": "stdout",
     "output_type": "stream",
     "text": [
      "--------------------------------------------------------------\n",
      "Running kat - Started at 2018-02-23 16:15:35.029510\n"
     ]
    },
    {
     "name": "stderr",
     "output_type": "stream",
     "text": [
      "\r",
      "  0% | ETA:  --:--:-- | Calculating                                            \r",
      "  1% | ETA:  0:00:00 | Calculating                                             \r",
      "  2% | ETA:  0:00:00 | Calculating                                             \r",
      "  3% | ETA:  0:00:00 | Calculating                                             \r",
      "  4% | ETA:  0:00:00 | Calculating                                             \r",
      "  5% | ETA:  0:00:00 | Calculating                                             \r",
      "  6% | ETA:  0:00:00 | Calculating                                             \r",
      "  7% | ETA:  0:00:00 | Calculating                                             \r",
      "  8% | ETA:  0:00:00 | Calculating                                             \r",
      "  9% | ETA:  0:00:00 | Calculating                                             \r",
      " 10% | ETA:  0:00:00 | Calculating                                             \r",
      " 11% | ETA:  0:00:00 | Calculating                                             \r",
      " 12% | ETA:  0:00:00 | Calculating                                             \r",
      " 13% | ETA:  0:00:00 | Calculating                                             \r",
      " 14% | ETA:  0:00:00 | Calculating                                             \r",
      " 15% | ETA:  0:00:00 | Calculating                                             \r",
      " 16% | ETA:  0:00:00 | Calculating                                             \r",
      " 17% | ETA:  0:00:00 | Calculating                                             \r",
      " 18% | ETA:  0:00:00 | Calculating                                             \r",
      " 19% | ETA:  0:00:00 | Calculating                                             \r",
      " 20% | ETA:  0:00:00 | Calculating                                             \r",
      " 21% | ETA:  0:00:00 | Calculating                                             \r",
      " 22% | ETA:  0:00:00 | Calculating                                             \r",
      " 23% | ETA:  0:00:00 | Calculating                                             \r",
      " 24% | ETA:  0:00:00 | Calculating                                             \r",
      " 25% | ETA:  0:00:00 | Calculating                                             \r",
      " 26% | ETA:  0:00:00 | Calculating                                             \r",
      " 27% | ETA:  0:00:00 | Calculating                                             \r",
      " 28% | ETA:  0:00:00 | Calculating                                             \r",
      " 29% | ETA:  0:00:00 | Calculating                                             \r",
      " 30% | ETA:  0:00:00 | Calculating                                             \r",
      " 31% | ETA:  0:00:00 | Calculating                                             \r",
      " 32% | ETA:  0:00:00 | Calculating                                             \r",
      " 33% | ETA:  0:00:00 | Calculating                                             \r",
      " 34% | ETA:  0:00:00 | Calculating                                             \r",
      " 35% | ETA:  0:00:00 | Calculating                                             \r",
      " 36% | ETA:  0:00:00 | Calculating                                             \r",
      " 37% | ETA:  0:00:00 | Calculating                                             \r",
      " 38% | ETA:  0:00:00 | Calculating                                             \r",
      " 39% | ETA:  0:00:00 | Calculating                                             \r",
      " 40% | ETA:  0:00:00 | Calculating                                             \r",
      " 41% | ETA:  0:00:00 | Calculating                                             \r",
      " 42% | ETA:  0:00:00 | Calculating                                             \r",
      " 43% | ETA:  0:00:00 | Calculating                                             \r",
      " 44% | ETA:  0:00:00 | Calculating                                             \r",
      " 45% | ETA:  0:00:00 | Calculating                                             \r",
      " 46% | ETA:  0:00:00 | Calculating                                             \r",
      " 47% | ETA:  0:00:00 | Calculating                                             \r",
      " 48% | ETA:  0:00:00 | Calculating                                             \r",
      " 49% | ETA:  0:00:00 | Calculating                                             \r",
      " 50% | ETA:  0:00:00 | Calculating                                             \r",
      " 51% | ETA:  0:00:00 | Calculating                                             \r",
      " 52% | ETA:  0:00:00 | Calculating                                             \r",
      " 53% | ETA:  0:00:00 | Calculating                                             \r",
      " 54% | ETA:  0:00:00 | Calculating                                             \r",
      " 55% | ETA:  0:00:00 | Calculating                                             \r",
      " 56% | ETA:  0:00:00 | Calculating                                             \r",
      " 57% | ETA:  0:00:00 | Calculating                                             \r",
      " 58% | ETA:  0:00:00 | Calculating                                             \r",
      " 59% | ETA:  0:00:00 | Calculating                                             \r",
      " 60% | ETA:  0:00:00 | Calculating                                             \r",
      " 61% | ETA:  0:00:00 | Calculating                                             \r",
      " 62% | ETA:  0:00:00 | Calculating                                             \r",
      " 63% | ETA:  0:00:00 | Calculating                                             "
     ]
    },
    {
     "name": "stdout",
     "output_type": "stream",
     "text": [
      "\n",
      "Finished in 1.59524 seconds\n"
     ]
    },
    {
     "name": "stderr",
     "output_type": "stream",
     "text": [
      "\r",
      " 63% | ETA:  0:00:00 | Calculating                                             \r",
      " 64% | ETA:  0:00:00 | Calculating                                             \r",
      " 65% | ETA:  0:00:00 | Calculating                                             \r",
      " 66% | ETA:  0:00:00 | Calculating                                             \r",
      " 67% | ETA:  0:00:00 | Calculating                                             \r",
      " 68% | ETA:  0:00:00 | Calculating                                             \r",
      " 69% | ETA:  0:00:00 | Calculating                                             \r",
      " 70% | ETA:  0:00:00 | Calculating                                             \r",
      " 71% | ETA:  0:00:00 | Calculating                                             \r",
      " 72% | ETA:  0:00:00 | Calculating                                             \r",
      " 73% | ETA:  0:00:00 | Calculating                                             \r",
      " 74% | ETA:  0:00:00 | Calculating                                             \r",
      " 75% | ETA:  0:00:00 | Calculating                                             \r",
      " 76% | ETA:  0:00:00 | Calculating                                             \r",
      " 77% | ETA:  0:00:00 | Calculating                                             \r",
      " 78% | ETA:  0:00:00 | Calculating                                             \r",
      " 79% | ETA:  0:00:00 | Calculating                                             \r",
      " 80% | ETA:  0:00:00 | Calculating                                             \r",
      " 81% | ETA:  0:00:00 | Calculating                                             \r",
      " 82% | ETA:  0:00:00 | Calculating                                             \r",
      " 83% | ETA:  0:00:00 | Calculating                                             \r",
      " 84% | ETA:  0:00:00 | Calculating                                             \r",
      " 85% | ETA:  0:00:00 | Calculating                                             \r",
      " 86% | ETA:  0:00:00 | Calculating                                             \r",
      " 87% | ETA:  0:00:00 | Calculating                                             \r",
      " 88% | ETA:  0:00:00 | Calculating                                             \r",
      " 89% | ETA:  0:00:00 | Calculating                                             \r",
      " 90% | ETA:  0:00:00 | Calculating                                             \r",
      " 91% | ETA:  0:00:00 | Calculating                                             \r",
      " 92% | ETA:  0:00:00 | Calculating                                             \r",
      " 93% | ETA:  0:00:00 | Calculating                                             \r",
      " 94% | ETA:  0:00:00 | Calculating                                             \r",
      " 95% | ETA:  0:00:00 | Calculating                                             \r",
      " 96% | ETA:  0:00:00 | Calculating                                             \r",
      " 97% | ETA:  0:00:00 | Calculating                                             \r",
      " 98% | ETA:  0:00:00 | Calculating                                             \r",
      " 99% | ETA:  0:00:00 | Calculating                                             \r",
      "100% | ETA:  0:00:00 | Saving data                                             "
     ]
    }
   ],
   "source": [
    "#Get the mode of the OMC\n",
    "kat1 = basekat.deepcopy()\n",
    "kat1.parseCommands(\"\"\"\n",
    "cav cavOMC OMC_HROC nOMC_HROC_refl OMC_HROC nOMC_HROC_in\n",
    "\"\"\")\n",
    "outOMC = kat1.run()"
   ]
  },
  {
   "cell_type": "code",
   "execution_count": 32,
   "metadata": {},
   "outputs": [
    {
     "name": "stdout",
     "output_type": "stream",
     "text": [
      "--------------------------------------------------------------\n",
      "Running kat - Started at 2018-02-23 16:17:03.752502\n"
     ]
    },
    {
     "name": "stderr",
     "output_type": "stream",
     "text": [
      "\r",
      "  0% | ETA:  --:--:-- | Calculating                                            \r",
      "  1% | ETA:  0:00:00 | Calculating                                             \r",
      "  2% | ETA:  0:00:00 | Calculating                                             \r",
      "  3% | ETA:  0:00:00 | Calculating                                             \r",
      "  4% | ETA:  0:00:00 | Calculating                                             \r",
      "  5% | ETA:  0:00:00 | Calculating                                             \r",
      "  6% | ETA:  0:00:00 | Calculating                                             \r",
      "  7% | ETA:  0:00:00 | Calculating                                             \r",
      "  8% | ETA:  0:00:00 | Calculating                                             \r",
      "  9% | ETA:  0:00:00 | Calculating                                             \r",
      " 10% | ETA:  0:00:00 | Calculating                                             \r",
      " 11% | ETA:  0:00:00 | Calculating                                             \r",
      " 12% | ETA:  0:00:00 | Calculating                                             \r",
      " 13% | ETA:  0:00:00 | Calculating                                             \r",
      " 14% | ETA:  0:00:00 | Calculating                                             \r",
      " 15% | ETA:  0:00:00 | Calculating                                             \r",
      " 16% | ETA:  0:00:00 | Calculating                                             \r",
      " 17% | ETA:  0:00:00 | Calculating                                             \r",
      " 18% | ETA:  0:00:00 | Calculating                                             \r",
      " 19% | ETA:  0:00:00 | Calculating                                             \r",
      " 20% | ETA:  0:00:00 | Calculating                                             \r",
      " 21% | ETA:  0:00:00 | Calculating                                             \r",
      " 22% | ETA:  0:00:00 | Calculating                                             \r",
      " 23% | ETA:  0:00:00 | Calculating                                             \r",
      " 24% | ETA:  0:00:00 | Calculating                                             \r",
      " 25% | ETA:  0:00:00 | Calculating                                             \r",
      " 26% | ETA:  0:00:00 | Calculating                                             \r",
      " 27% | ETA:  0:00:00 | Calculating                                             \r",
      " 28% | ETA:  0:00:00 | Calculating                                             \r",
      " 29% | ETA:  0:00:00 | Calculating                                             \r",
      " 30% | ETA:  0:00:00 | Calculating                                             \r",
      " 31% | ETA:  0:00:00 | Calculating                                             \r",
      " 32% | ETA:  0:00:00 | Calculating                                             \r",
      " 33% | ETA:  0:00:00 | Calculating                                             \r",
      " 34% | ETA:  0:00:00 | Calculating                                             \r",
      " 35% | ETA:  0:00:00 | Calculating                                             \r",
      " 36% | ETA:  0:00:00 | Calculating                                             \r",
      " 37% | ETA:  0:00:00 | Calculating                                             \r",
      " 38% | ETA:  0:00:00 | Calculating                                             \r",
      " 39% | ETA:  0:00:00 | Calculating                                             \r",
      " 40% | ETA:  0:00:00 | Calculating                                             \r",
      " 41% | ETA:  0:00:00 | Calculating                                             \r",
      " 42% | ETA:  0:00:00 | Calculating                                             \r",
      " 43% | ETA:  0:00:00 | Calculating                                             \r",
      " 44% | ETA:  0:00:00 | Calculating                                             \r",
      " 45% | ETA:  0:00:00 | Calculating                                             \r",
      " 46% | ETA:  0:00:00 | Calculating                                             \r",
      " 47% | ETA:  0:00:00 | Calculating                                             \r",
      " 48% | ETA:  0:00:00 | Calculating                                             \r",
      " 49% | ETA:  0:00:00 | Calculating                                             \r",
      " 50% | ETA:  0:00:00 | Calculating                                             \r",
      " 51% | ETA:  0:00:00 | Calculating                                             \r",
      " 52% | ETA:  0:00:00 | Calculating                                             \r",
      " 53% | ETA:  0:00:00 | Calculating                                             \r",
      " 54% | ETA:  0:00:00 | Calculating                                             \r",
      " 55% | ETA:  0:00:00 | Calculating                                             \r",
      " 56% | ETA:  0:00:00 | Calculating                                             \r",
      " 57% | ETA:  0:00:00 | Calculating                                             \r",
      " 58% | ETA:  0:00:00 | Calculating                                             \r",
      " 59% | ETA:  0:00:00 | Calculating                                             \r",
      " 60% | ETA:  0:00:00 | Calculating                                             \r",
      " 61% | ETA:  0:00:00 | Calculating                                             \r",
      " 62% | ETA:  0:00:00 | Calculating                                             \r",
      " 63% | ETA:  0:00:00 | Calculating                                             "
     ]
    },
    {
     "name": "stdout",
     "output_type": "stream",
     "text": [
      "\n",
      "Finished in 1.48194 seconds\n"
     ]
    },
    {
     "name": "stderr",
     "output_type": "stream",
     "text": [
      "\r",
      " 63% | ETA:  0:00:00 | Calculating                                             \r",
      " 64% | ETA:  0:00:00 | Calculating                                             \r",
      " 65% | ETA:  0:00:00 | Calculating                                             \r",
      " 66% | ETA:  0:00:00 | Calculating                                             \r",
      " 67% | ETA:  0:00:00 | Calculating                                             \r",
      " 68% | ETA:  0:00:00 | Calculating                                             \r",
      " 69% | ETA:  0:00:00 | Calculating                                             \r",
      " 70% | ETA:  0:00:00 | Calculating                                             \r",
      " 71% | ETA:  0:00:00 | Calculating                                             \r",
      " 72% | ETA:  0:00:00 | Calculating                                             \r",
      " 73% | ETA:  0:00:00 | Calculating                                             \r",
      " 74% | ETA:  0:00:00 | Calculating                                             \r",
      " 75% | ETA:  0:00:00 | Calculating                                             \r",
      " 76% | ETA:  0:00:00 | Calculating                                             \r",
      " 77% | ETA:  0:00:00 | Calculating                                             \r",
      " 78% | ETA:  0:00:00 | Calculating                                             \r",
      " 79% | ETA:  0:00:00 | Calculating                                             \r",
      " 80% | ETA:  0:00:00 | Calculating                                             \r",
      " 81% | ETA:  0:00:00 | Calculating                                             \r",
      " 82% | ETA:  0:00:00 | Calculating                                             \r",
      " 83% | ETA:  0:00:00 | Calculating                                             \r",
      " 84% | ETA:  0:00:00 | Calculating                                             \r",
      " 85% | ETA:  0:00:00 | Calculating                                             \r",
      " 86% | ETA:  0:00:00 | Calculating                                             \r",
      " 87% | ETA:  0:00:00 | Calculating                                             \r",
      " 88% | ETA:  0:00:00 | Calculating                                             \r",
      " 89% | ETA:  0:00:00 | Calculating                                             \r",
      " 90% | ETA:  0:00:00 | Calculating                                             \r",
      " 91% | ETA:  0:00:00 | Calculating                                             \r",
      " 92% | ETA:  0:00:00 | Calculating                                             \r",
      " 93% | ETA:  0:00:00 | Calculating                                             \r",
      " 94% | ETA:  0:00:00 | Calculating                                             \r",
      " 95% | ETA:  0:00:00 | Calculating                                             \r",
      " 96% | ETA:  0:00:00 | Calculating                                             \r",
      " 97% | ETA:  0:00:00 | Calculating                                             \r",
      " 98% | ETA:  0:00:00 | Calculating                                             \r",
      " 99% | ETA:  0:00:00 | Calculating                                             \r",
      "100% | ETA:  0:00:00 | Saving data                                             "
     ]
    }
   ],
   "source": [
    "#Get the mode of the SRC\n",
    "kat2 = basekat.deepcopy()\n",
    "kat2.parseCommands(\"\"\"\n",
    "cav cavSRX SRMHR nSRMHRa ITMXHR nITMXs2\n",
    "cav cavSRY SRMHR nSRMHRa ITMYHR nITMYs2\n",
    "\"\"\")\n",
    "outSRC = kat2.run()"
   ]
  },
  {
   "cell_type": "code",
   "execution_count": 23,
   "metadata": {},
   "outputs": [],
   "source": [
    "q_sqz_x = out[\"q_sqz_x\"][0]\n",
    "q_sqz_y = out[\"q_sqz_y\"][0]\n",
    "\n",
    "q_sqz_x_obj = pykat.BeamParam(q=q_sqz_x)\n",
    "q_sqz_y_obj = pykat.BeamParam(q=q_sqz_y)"
   ]
  },
  {
   "cell_type": "code",
   "execution_count": null,
   "metadata": {
    "scrolled": true
   },
   "outputs": [],
   "source": []
  },
  {
   "cell_type": "code",
   "execution_count": null,
   "metadata": {},
   "outputs": [],
   "source": [
    "kat.nodes.getComponentsBetween('nOMC_HROC_refl','nOPO_HRIC_in')"
   ]
  },
  {
   "cell_type": "code",
   "execution_count": 49,
   "metadata": {},
   "outputs": [],
   "source": []
  },
  {
   "cell_type": "code",
   "execution_count": null,
   "metadata": {},
   "outputs": [],
   "source": []
  },
  {
   "cell_type": "code",
   "execution_count": null,
   "metadata": {
    "collapsed": true
   },
   "outputs": [],
   "source": []
  },
  {
   "cell_type": "code",
   "execution_count": null,
   "metadata": {
    "collapsed": true
   },
   "outputs": [],
   "source": [
    "pykat.BeamParam.overlap(-np.conjugate(out_mismatch_sqz['q_sqz_x'][0]),out_perfect_mm['q_sqz_x'][0])"
   ]
  },
  {
   "cell_type": "code",
   "execution_count": null,
   "metadata": {
    "collapsed": true
   },
   "outputs": [],
   "source": [
    "##### Testing to trace the modes\n",
    "#### Turn off all the cav commands except SRCY to extract the eigenmode at the BS\n",
    "[srcx,srcy] = trace_mode.from_cav_to_BS(kat0,'cavSRY')\n",
    "\n",
    "#### Turn off all the cav commands except XARM to extract the eigenmode at the BS\n",
    "[ARMx,ARMy] = trace_mode.from_cav_to_BS(kat0,'cavXARM')\n",
    "\n",
    "#### Turn off all the cav commands except OMC to extract the eigenmode at the BS\n",
    "[OMCx,OMCy] = trace_mode.from_cav_to_BS(kat0,'cavOMC')\n",
    "\n",
    "#### Turn off all the cav commands except FC to extract the eigenmode at the BS\n",
    "[FCx,FCy] = trace_mode.from_cav_to_BS(kat0,'cavFC')"
   ]
  },
  {
   "cell_type": "code",
   "execution_count": null,
   "metadata": {
    "collapsed": true
   },
   "outputs": [],
   "source": []
  },
  {
   "cell_type": "code",
   "execution_count": null,
   "metadata": {
    "collapsed": true
   },
   "outputs": [],
   "source": []
  },
  {
   "cell_type": "code",
   "execution_count": null,
   "metadata": {
    "collapsed": true
   },
   "outputs": [],
   "source": []
  },
  {
   "cell_type": "code",
   "execution_count": null,
   "metadata": {
    "collapsed": true
   },
   "outputs": [],
   "source": []
  },
  {
   "cell_type": "code",
   "execution_count": null,
   "metadata": {
    "collapsed": true
   },
   "outputs": [],
   "source": []
  }
 ],
 "metadata": {
  "kernelspec": {
   "display_name": "Python 3",
   "language": "python",
   "name": "python3"
  },
  "language_info": {
   "codemirror_mode": {
    "name": "ipython",
    "version": 3
   },
   "file_extension": ".py",
   "mimetype": "text/x-python",
   "name": "python",
   "nbconvert_exporter": "python",
   "pygments_lexer": "ipython3",
   "version": "3.6.2"
  }
 },
 "nbformat": 4,
 "nbformat_minor": 1
}
