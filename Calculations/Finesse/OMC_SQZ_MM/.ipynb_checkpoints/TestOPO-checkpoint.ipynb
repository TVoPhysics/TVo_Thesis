{
 "cells": [
  {
   "cell_type": "code",
   "execution_count": null,
   "metadata": {
    "collapsed": true
   },
   "outputs": [],
   "source": [
    "### Meant to test OPO bowtie"
   ]
  },
  {
   "cell_type": "code",
   "execution_count": 1,
   "metadata": {},
   "outputs": [
    {
     "name": "stdout",
     "output_type": "stream",
     "text": [
      "                                              ..-\n",
      "    PyKat 1.0.19          _                  '(\n",
      "                          \\`.|\\.__...-\"\"\"\"-_.\" )\n",
      "       ..+-----.._        /  ' `            .-'\n",
      "   . '            `:      7/* _/._\\    \\   (\n",
      "  (        '::;;+;;:      `-\"' =\" /,`\"\" `) /\n",
      "  L.        \\`:::a:f            c_/     n_'\n",
      "  ..`--...___`.  .    ,  \n",
      "   `^-....____:   +.      www.gwoptics.org/pykat\n",
      "\n"
     ]
    }
   ],
   "source": [
    "%matplotlib inline\n",
    "import pykat\n",
    "import pylab as pl\n",
    "import numpy as np"
   ]
  },
  {
   "cell_type": "code",
   "execution_count": 48,
   "metadata": {},
   "outputs": [],
   "source": [
    "katcode = '''\n",
    "#l L0 1 0 lin\n",
    "sq sqz 0 10 0 lin\n",
    "s laser2opo 1 lin nOPO_ARIC_in\n",
    "\n",
    "#### Mode matching from OPO\n",
    "# insert a MMT between the squeezer and the FC so you can separate the modes\n",
    "s ssqz_lens1 0.1 nOPO_AROC_trans nsqz_lens1a\n",
    "lens sqz_lens1 inf nsqz_lens1a nsqz_lens1b\n",
    "s ssqz_lens1_lens2 0.1 nsqz_lens1b nsqz_lens2a\n",
    "lens sqz_lens2 inf nsqz_lens2a nsqz_lens2b\n",
    "\n",
    "# Distance lensSqz2 --> ZM1\n",
    "s lzm1 1.395 nsqz_lens2b nZM1a \n",
    "\n",
    "# ZM1\n",
    "bs1 ZM1 10u $Mloss 0 4.399 nZM1a nZM1b dump dump\n",
    "attr ZM2 Rc 1.7058\n",
    "\n",
    "# Distance ZM1 --> ZM2\n",
    "s lzm2 0.631 nZM1b nZM2a\n",
    "bs1 ZM2 10u $Mloss 0 30.037 nZM2a nZM2b dump dump\n",
    "\n",
    "# Distance ZM2 --> OFI \n",
    "s lzm2fi 0.196 nZM2b nOFIout2\n",
    "\n",
    "#OPO (as built parameters: T1600067-v1)\n",
    "# Input Coupler IC (flat mirror)\n",
    "bs1 OPO_ARIC 1 0 0 4.004 nOPO_ARIC_in nOPO_ARICrefl nOPO_ARIC_trans nOPO_ARICret\n",
    "s subOPO_IC 0.01078 $nsilica nOPO_ARIC_trans nOPO_HRIC_in\n",
    "s subOPO_IOC 0.01078 $nsilica nOPO_HRIC_refl nOPO_ARICret\n",
    "bs1 OPO_HRIC 0.0076 10u 0 2.7609 nOPO_HRIC_in nOPO_HRIC_refl nOPO_HRIC_trans nOPO_HRICret\n",
    "# Distance from IC to OC \n",
    "s OPO_ICOC 0.2815 1 nOPO_HRIC_trans nOPO_HROC_in\n",
    "\n",
    "# Output Coupler OC (flat mirror)\n",
    "bs1 OPO_HROC 0.0075 10u 0 4.004 nOPO_HROC_in nOPO_HROC_refl nOPO_HROC_trans nOPO_HROC_ret\n",
    "s subOPO_OC 0.01078 $nsilica nOPO_HROC_trans nOPO_AROC_in\n",
    "bs1 OPO_AROC 1 0 0 2.7609 nOPO_AROC_in dump nOPO_AROC_trans dump\n",
    "# Distance from OC to CM1\n",
    "s OPO_OCCM1 0.2842 1 nOPO_HROC_refl nOPO_CM1_in\n",
    "\n",
    "# Curved Mirror CM1\n",
    "bs1 OPO_CM1 36u 10u 0 4.004 nOPO_CM1_in nOPO_CM1_refl dump dump\n",
    "\n",
    "# Distance from CM1 to CM2 \n",
    "s OPO_CM1CM2 0.2815 1 nOPO_CM1_refl nOPO_CM2_in\n",
    "attr OPO_CM1 Rc 2.57321\n",
    "\n",
    "# Curved Mirror CM2\n",
    "bs1 OPO_CM2 35.9u 10u 0 4.004 nOPO_CM2_in nOPO_CM2_refl dump dump\n",
    "attr OPO_CM2 Rc 2.57369\n",
    "\n",
    "# Distance from CM2 to IC \n",
    "s CM2OPOOC 0.2842 1 nOPO_CM2_refl nOPO_HRICret\n",
    "\n",
    "cav cavOPO OPO_HROC nOPO_HROC_refl OPO_HROC nOPO_HROC_in\n",
    "noxaxis\n",
    "\n",
    "const nsilica 1.44963098985906\n",
    "const Mloss 0\n",
    "bp q_OPO_y y q nsqz_lens1a\n",
    "\n",
    "\n",
    "'''"
   ]
  },
  {
   "cell_type": "code",
   "execution_count": 49,
   "metadata": {},
   "outputs": [
    {
     "name": "stdout",
     "output_type": "stream",
     "text": [
      "--------------------------------------------------------------\n",
      "Running kat - Started at 2018-02-22 17:03:45.325754\n",
      "\u001b[91m\n",
      "--------------------------------------------------------------\n",
      "Error from Finesse:\n",
      "  \n",
      "Error:   Components OPO_ARIC and OPO_HRIC must be\n",
      "separated by a space from version 1.1 of Finesse\n",
      "--------------------------------------------------------------\n",
      "\u001b[0m\n",
      "\n",
      "Finished in 0.212563 seconds\n"
     ]
    },
    {
     "ename": "SystemExit",
     "evalue": "1",
     "output_type": "error",
     "traceback": [
      "An exception has occurred, use %tb to see the full traceback.\n",
      "\u001b[1;31mSystemExit\u001b[0m\u001b[1;31m:\u001b[0m 1\n"
     ]
    },
    {
     "name": "stderr",
     "output_type": "stream",
     "text": [
      "C:\\Users\\tvo88\\Anaconda3\\lib\\site-packages\\IPython\\core\\interactiveshell.py:2870: UserWarning: To exit: use 'exit', 'quit', or Ctrl-D.\n",
      "  warn(\"To exit: use 'exit', 'quit', or Ctrl-D.\", stacklevel=1)\n"
     ]
    }
   ],
   "source": [
    "#load the original kat file (ie Perfect Modematching) as a reference\n",
    "basekat = pykat.finesse.kat() \n",
    "basekat.parseCommands(katcode)\n",
    "kat=basekat.deepcopy() #copy kat code\n",
    "\n",
    "out_perfect_mm = kat.run()"
   ]
  }
 ],
 "metadata": {
  "kernelspec": {
   "display_name": "Python 3",
   "language": "python",
   "name": "python3"
  },
  "language_info": {
   "codemirror_mode": {
    "name": "ipython",
    "version": 3
   },
   "file_extension": ".py",
   "mimetype": "text/x-python",
   "name": "python",
   "nbconvert_exporter": "python",
   "pygments_lexer": "ipython3",
   "version": "3.6.2"
  }
 },
 "nbformat": 4,
 "nbformat_minor": 2
}
