{
 "cells": [
  {
   "cell_type": "code",
   "execution_count": 227,
   "metadata": {
    "collapsed": true
   },
   "outputs": [],
   "source": [
    "### Meant to test OPO bowtie"
   ]
  },
  {
   "cell_type": "code",
   "execution_count": 229,
   "metadata": {},
   "outputs": [],
   "source": [
    "%matplotlib inline\n",
    "import pykat\n",
    "import pylab as pl\n",
    "import numpy as np"
   ]
  },
  {
   "cell_type": "code",
   "execution_count": 414,
   "metadata": {},
   "outputs": [
    {
     "name": "stdout",
     "output_type": "stream",
     "text": [
      "--------------------------------------------------------------\n",
      "Running kat - Started at 2018-02-23 11:59:14.491247\n",
      "\n",
      "Finished in 0.218579 seconds\n",
      "cavOPO_x_stability Re 0.988948653236\n",
      "cavOPO_x_stability Im 0.0\n",
      "cavOPO_y_stability Re 0.841187912642\n",
      "cavOPO_y_stability Im 0.0\n",
      "cavOPO_x_q Re 0.0529485\n",
      "cavOPO_x_q Im 0.00858627436123\n",
      "cavOPO_y_q Re 0.0529485\n",
      "cavOPO_y_q Im 0.0337493085316\n",
      "cavOPO_x_w0 Re 5.39260063384e-05\n",
      "cavOPO_x_w0 Im 0.0\n",
      "cavOPO_y_w0 Re 0.000106912458699\n",
      "cavOPO_y_w0 Im 0.0\n",
      "cavOPO_x_fsr Re 880439990.25\n",
      "cavOPO_x_fsr Im 0.0\n",
      "cavOPO_y_fsr Re 880439990.25\n",
      "cavOPO_y_fsr Im 0.0\n",
      "cavOPO_x_fwhm Re 21755003.6923\n",
      "cavOPO_x_fwhm Im 0.0\n",
      "cavOPO_y_fwhm Re 21755003.6923\n",
      "cavOPO_y_fwhm Im 0.0\n",
      "cavOPO_x_finesse Re 40.4706890746\n",
      "cavOPO_x_finesse Im 0.0\n",
      "cavOPO_y_finesse Re 40.4706890746\n",
      "cavOPO_y_finesse Im 0.0\n"
     ]
    },
    {
     "name": "stderr",
     "output_type": "stream",
     "text": [
      "\r",
      "  0% | ETA:  --:--:-- | Calculating                                            \r",
      "100% | ETA:  0:00:00 | Calculating                                             "
     ]
    }
   ],
   "source": [
    "katcode = '''\n",
    "l L0 100 0 nlin1\n",
    "s lbs 1 nlin1 nlin2\n",
    "\n",
    "sq sqz 0 10 0 nsqzin1\n",
    "s sqzopo 1 nsqzin1 nsqzin2\n",
    "\n",
    "bs bsin 0.5 0.5 0 45 nlin2 dump nbs2opo nsqzin2\n",
    "s bsopo 1 nbs2opo nOPO_ARIC_in\n",
    "\n",
    "#### Mode matching from OPO\n",
    "# insert a MMT between the squeezer and the FC so you can separate the modes\n",
    "s ssqz_lens1 0.1 nOPO_ARICrefl nsqz_lens1a\n",
    "lens sqz_lens1 inf nsqz_lens1a nsqz_lens1b\n",
    "s ssqz_lens1_lens2 0.1 nsqz_lens1b nsqz_lens2a\n",
    "lens sqz_lens2 inf nsqz_lens2a nsqz_lens2b\n",
    "\n",
    "# Distance lensSqz2 --> ZM1\n",
    "s lzm1 1.395 nsqz_lens2b nZM1a \n",
    "\n",
    "# ZM1\n",
    "bs1 ZM1 10u $Mloss 0 4.399 nZM1a nZM1b dump dump\n",
    "attr ZM2 Rc 1.7058\n",
    "\n",
    "# Distance ZM1 --> ZM2\n",
    "s lzm2 0.631 nZM1b nZM2a\n",
    "bs1 ZM2 10u $Mloss 0 30.037 nZM2a nZM2b dump dump\n",
    "\n",
    "# Distance ZM2 --> OFI \n",
    "s lzm2fi 0.196 nZM2b nOFIout2\n",
    "\n",
    "#OPO (as built parameters: T1600067-v1)\n",
    "# Input Coupler IC (flat mirror)\n",
    "bs1 OPO_ARIC 1 0 0 4.004 nOPO_ARIC_in nOPO_ARICrefl nOPO_ARIC_trans nOPO_ARICret\n",
    "s subOPO_IC 0.01078 $nsilica nOPO_ARIC_trans nOPO_HRIC_in\n",
    "s subOPO_IOC 0.01078 $nsilica nOPO_HRIC_refl nOPO_ARICret\n",
    "bs1 OPO_HRIC 0.125 10u 0 6 nOPO_HRIC_in nOPO_HRIC_refl nOPO_HRIC_trans nOPO_HRICret\n",
    "\n",
    "# Distance from IC to OC \n",
    "s OPO_ICOC 0.110 1 nOPO_HRIC_trans nOPO_HROC_in\n",
    "\n",
    "# Output Coupler OC (flat mirror)\n",
    "bs1 OPO_HROC 0.0015 10u 0 6 nOPO_HROC_in nOPO_HROC_refl nOPO_HROC_trans nOPO_HROC_ret\n",
    "s subOPO_OC 0.01078 $nsilica nOPO_HROC_trans nOPO_AROC_in\n",
    "bs1 OPO_AROC 1 0 0 2.7609 nOPO_AROC_in dump nOPO_AROC_trans dump\n",
    "\n",
    "# Distance from OC to CM1\n",
    "s OPO_OCCM1 0.087103 1 nOPO_HROC_refl nOPO_CM1_in\n",
    "\n",
    "# Curved Mirror CM1\n",
    "bs1 OPO_CM1 0.01 10u 0 6 nOPO_CM1_in nOPO_CM1_refl dump dump\n",
    "attr OPO_CM1 Rc 0.050\n",
    "\n",
    "# Distance from CM1 to CM2 \n",
    "s OPO_CM1CM2 0.06040 1 nOPO_CM1_refl nOPO_CM2_in\n",
    "\n",
    "# Curved Mirror CM2\n",
    "bs1 OPO_CM2 0.01 10u 0 6 nOPO_CM2_in nOPO_CM2_refl dump dump\n",
    "attr OPO_CM2 Rc 0.050\n",
    "\n",
    "# Distance from CM2 to IC \n",
    "s CM2OPOOC 0.083 1 nOPO_CM2_refl nOPO_HRICret\n",
    "\n",
    "# Absent crystal makes this cavity unstable\n",
    "#cav cavOPO OPO_HROC nOPO_HROC_refl OPO_HROC nOPO_HROC_in\n",
    "\n",
    "\n",
    "cp cavOPO x stability\n",
    "cp cavOPO y stability\n",
    "\n",
    "cp cavOPO x q\n",
    "cp cavOPO y q\n",
    "\n",
    "cp cavOPO x w0\n",
    "cp cavOPO y w0\n",
    "\n",
    "cp cavOPO x fsr\n",
    "cp cavOPO y fsr\n",
    "\n",
    "cp cavOPO x fwhm\n",
    "cp cavOPO y fwhm\n",
    "\n",
    "cp cavOPO x finesse\n",
    "cp cavOPO y finesse\n",
    "\n",
    "const nsilica 1.44963098985906\n",
    "const Mloss 0\n",
    "\n",
    "noxaxis\n",
    "yaxis re:im\n",
    "'''\n",
    "\n",
    "#load the original kat file (ie Perfect Modematching) as a reference\n",
    "basekat = pykat.finesse.kat() \n",
    "basekat.parseCommands(katcode)\n",
    "#basekat.undumpNodes()\n",
    "kat=basekat.deepcopy() #copy kat code\n",
    "\n",
    "out = kat.run()\n",
    "\n",
    "for i in range(0,len(out.ylabels)):\n",
    "    print(out.ylabels[i], out.y[0][i])"
   ]
  },
  {
   "cell_type": "code",
   "execution_count": 359,
   "metadata": {},
   "outputs": [
    {
     "data": {
      "text/plain": [
       "0.54317389292226004"
      ]
     },
     "execution_count": 359,
     "metadata": {},
     "output_type": "execute_result"
    }
   ],
   "source": [
    "out.y[0][0]"
   ]
  },
  {
   "cell_type": "code",
   "execution_count": 332,
   "metadata": {},
   "outputs": [
    {
     "ename": "BasePyKatException",
     "evalue": "No output by the name 'qdA' found in the output",
     "output_type": "error",
     "traceback": [
      "\u001b[1;31m---------------------------------------------------------------------------\u001b[0m",
      "\u001b[1;31mBasePyKatException\u001b[0m                        Traceback (most recent call last)",
      "\u001b[1;32m<ipython-input-332-706146794d3e>\u001b[0m in \u001b[0;36m<module>\u001b[1;34m()\u001b[0m\n\u001b[0;32m      2\u001b[0m \u001b[0mpl\u001b[0m\u001b[1;33m.\u001b[0m\u001b[0msubplot\u001b[0m\u001b[1;33m(\u001b[0m\u001b[1;36m111\u001b[0m\u001b[1;33m)\u001b[0m\u001b[1;33m\u001b[0m\u001b[0m\n\u001b[0;32m      3\u001b[0m \u001b[1;33m\u001b[0m\u001b[0m\n\u001b[1;32m----> 4\u001b[1;33m \u001b[0mpl\u001b[0m\u001b[1;33m.\u001b[0m\u001b[0mplot\u001b[0m\u001b[1;33m(\u001b[0m\u001b[0mout\u001b[0m\u001b[1;33m.\u001b[0m\u001b[0mx\u001b[0m\u001b[1;33m,\u001b[0m \u001b[0mout\u001b[0m\u001b[1;33m[\u001b[0m\u001b[1;34m'qdA'\u001b[0m\u001b[1;33m]\u001b[0m\u001b[1;33m,\u001b[0m\u001b[1;34m'--'\u001b[0m\u001b[1;33m,\u001b[0m\u001b[0mlinewidth\u001b[0m\u001b[1;33m=\u001b[0m\u001b[1;36m3\u001b[0m\u001b[1;33m,\u001b[0m \u001b[0mlabel\u001b[0m\u001b[1;33m=\u001b[0m\u001b[1;34m'quad detector A'\u001b[0m\u001b[1;33m)\u001b[0m\u001b[1;33m\u001b[0m\u001b[0m\n\u001b[0m\u001b[0;32m      5\u001b[0m \u001b[0mpl\u001b[0m\u001b[1;33m.\u001b[0m\u001b[0mplot\u001b[0m\u001b[1;33m(\u001b[0m\u001b[0mout\u001b[0m\u001b[1;33m.\u001b[0m\u001b[0mx\u001b[0m\u001b[1;33m,\u001b[0m \u001b[0mout\u001b[0m\u001b[1;33m[\u001b[0m\u001b[1;34m'qdP'\u001b[0m\u001b[1;33m]\u001b[0m\u001b[1;33m,\u001b[0m\u001b[1;34m'--'\u001b[0m\u001b[1;33m,\u001b[0m\u001b[0mlinewidth\u001b[0m\u001b[1;33m=\u001b[0m\u001b[1;36m3\u001b[0m\u001b[1;33m,\u001b[0m \u001b[0mlabel\u001b[0m\u001b[1;33m=\u001b[0m\u001b[1;34m'quad detector P'\u001b[0m\u001b[1;33m)\u001b[0m\u001b[1;33m\u001b[0m\u001b[0m\n\u001b[0;32m      6\u001b[0m \u001b[1;33m\u001b[0m\u001b[0m\n",
      "\u001b[1;32m~\\Anaconda3\\lib\\site-packages\\pykat\\finesse.py\u001b[0m in \u001b[0;36m__getitem__\u001b[1;34m(self, value)\u001b[0m\n\u001b[0;32m    640\u001b[0m                 \u001b[1;32mreturn\u001b[0m \u001b[0mout\u001b[0m\u001b[1;33m.\u001b[0m\u001b[0msqueeze\u001b[0m\u001b[1;33m(\u001b[0m\u001b[1;33m)\u001b[0m\u001b[1;33m\u001b[0m\u001b[0m\n\u001b[0;32m    641\u001b[0m         \u001b[1;32melse\u001b[0m\u001b[1;33m:\u001b[0m\u001b[1;33m\u001b[0m\u001b[0m\n\u001b[1;32m--> 642\u001b[1;33m             \u001b[1;32mraise\u001b[0m  \u001b[0mpkex\u001b[0m\u001b[1;33m.\u001b[0m\u001b[0mBasePyKatException\u001b[0m\u001b[1;33m(\u001b[0m\u001b[1;34m\"No output by the name '{0}' found in the output\"\u001b[0m\u001b[1;33m.\u001b[0m\u001b[0mformat\u001b[0m\u001b[1;33m(\u001b[0m\u001b[0mstr\u001b[0m\u001b[1;33m(\u001b[0m\u001b[0mvalue\u001b[0m\u001b[1;33m)\u001b[0m\u001b[1;33m)\u001b[0m\u001b[1;33m)\u001b[0m\u001b[1;33m\u001b[0m\u001b[0m\n\u001b[0m\u001b[0;32m    643\u001b[0m \u001b[1;33m\u001b[0m\u001b[0m\n\u001b[0;32m    644\u001b[0m \u001b[1;33m@\u001b[0m\u001b[0mcanFreeze\u001b[0m\u001b[1;33m\u001b[0m\u001b[0m\n",
      "\u001b[1;31mBasePyKatException\u001b[0m: No output by the name 'qdA' found in the output"
     ]
    },
    {
     "data": {
      "image/png": "[encoded data removed]",
      "text/plain": [
       "<matplotlib.figure.Figure at 0x1efa61cc2e8>"
      ]
     },
     "metadata": {},
     "output_type": "display_data"
    }
   ],
   "source": [
    "pl.figure(figsize=(9, 5), dpi=80)\n",
    "pl.subplot(111)\n",
    "\n",
    "pl.plot(out.x, out['qdA'],'--',linewidth=3, label='quad detector A')\n",
    "pl.plot(out.x, out['qdP'],'--',linewidth=3, label='quad detector P')\n",
    "\n",
    "pl.xlim(out.x.min(),out.x.max())\n",
    "\n",
    "pl.xlabel(\"Phase [Degrees]\",fontsize=15)\n",
    "pl.ylabel(\"Strain sensitivity [$1/\\\\sqrt{\\mathrm{Hz}}$]\",fontsize=15)\n",
    "\n",
    "###Main plot formatting\n",
    "pl.tick_params(labelsize=20)\n",
    "pl.tick_params(which='both', width=2)\n",
    "pl.tick_params(which='major', length=7)\n",
    "pl.tick_params(which='minor', length=4)\n",
    "pl.grid(True, zorder=-1)\n",
    "pl.legend(fontsize=12)\n",
    "\n",
    "pl.show()"
   ]
  },
  {
   "cell_type": "code",
   "execution_count": null,
   "metadata": {
    "scrolled": false
   },
   "outputs": [],
   "source": [
    "pl.figure(figsize=(9, 5), dpi=80)\n",
    "pl.subplot(111)\n",
    "\n",
    "pl.plot(out.x, np.abs(out['sdin']),'--',linewidth=3, label='sqz detector in')\n",
    "pl.plot(out.x, np.abs(out['sdout']),'--',linewidth=3, label='sqz detector out')\n",
    "\n",
    "pl.xlim(out.x.min(),out.x.max())\n",
    "\n",
    "pl.xlabel(\"Phase [Degrees]\",fontsize=15)\n",
    "pl.ylabel(\"Abs\",fontsize=15)\n",
    "\n",
    "###Main plot formatting\n",
    "pl.tick_params(labelsize=20)\n",
    "pl.tick_params(which='both', width=2)\n",
    "pl.tick_params(which='major', length=7)\n",
    "pl.tick_params(which='minor', length=4)\n",
    "pl.grid(True, zorder=-1)\n",
    "pl.legend(fontsize=20)\n",
    "\n",
    "pl.show()"
   ]
  },
  {
   "cell_type": "code",
   "execution_count": null,
   "metadata": {},
   "outputs": [],
   "source": [
    "fig = pl.figure(figsize=(9, 5), dpi=80)\n",
    "ax = fig.add_subplot(111)\n",
    "ax.plot(out.x, np.abs(out['sdin']), label = 'sdin abs')\n",
    "ax.plot(out.x, np.abs(out['sdout']),label = 'sdout abs')\n",
    "\n",
    "ax2 = ax.twinx()\n",
    "ax2.plot(out.x, np.angle(out['sdin']), '--', label = 'sdin phase')\n",
    "ax2.plot(out.x, np.angle(out['sdout']), '--', label = 'sdout phase')\n",
    "\n",
    "pl.legend(loc=0)\n",
    "ax.grid()\n",
    "pl.show()"
   ]
  },
  {
   "cell_type": "code",
   "execution_count": null,
   "metadata": {},
   "outputs": [],
   "source": [
    "pl.figure(figsize=(9, 5), dpi=80)\n",
    "pl.subplot(111)\n",
    "\n",
    "pl.plot(out.x, out['sqzd_noise'],'--',linewidth=3, label='sqzd out')\n",
    "pl.plot(out.x, out['shot_noise'],'--',linewidth=3, label='shot out')\n",
    "\n",
    "pl.xlim(out.x.min(),out.x.max())\n",
    "\n",
    "pl.xlabel(\"Phase [Degrees]\",fontsize=15)\n",
    "pl.ylabel(\"Abs\",fontsize=15)\n",
    "\n",
    "###Main plot formatting\n",
    "pl.tick_params(labelsize=20)\n",
    "pl.tick_params(which='both', width=2)\n",
    "pl.tick_params(which='major', length=7)\n",
    "pl.tick_params(which='minor', length=4)\n",
    "pl.grid(True, zorder=-1)\n",
    "pl.legend(fontsize=20)\n",
    "\n",
    "pl.show()"
   ]
  },
  {
   "cell_type": "code",
   "execution_count": null,
   "metadata": {},
   "outputs": [],
   "source": [
    "pl.figure(figsize=(9, 5), dpi=80)\n",
    "pl.subplot(111)\n",
    "\n",
    "pl.plot(out.x, out['pdin'],'--',linewidth=3, label='pd detector in')\n",
    "pl.plot(out.x, out['pdout'],'--',linewidth=3, label='pd detector out')\n",
    "\n",
    "\n",
    "pl.xlim(out.x.min(),out.x.max())\n",
    "\n",
    "pl.xlabel(\"Phase [Degrees]\",fontsize=15)\n",
    "pl.ylabel(\"Strain sensitivity [$1/\\\\sqrt{\\mathrm{Hz}}$]\",fontsize=15)\n",
    "\n",
    "###Main plot formatting\n",
    "pl.tick_params(labelsize=20)\n",
    "pl.tick_params(which='both', width=2)\n",
    "pl.tick_params(which='major', length=7)\n",
    "pl.tick_params(which='minor', length=4)\n",
    "pl.grid(True, zorder=-1)\n",
    "pl.legend(fontsize=20)\n",
    "\n",
    "pl.show()"
   ]
  },
  {
   "cell_type": "code",
   "execution_count": null,
   "metadata": {},
   "outputs": [],
   "source": []
  }
 ],
 "metadata": {
  "kernelspec": {
   "display_name": "Python 3",
   "language": "python",
   "name": "python3"
  },
  "language_info": {
   "codemirror_mode": {
    "name": "ipython",
    "version": 3
   },
   "file_extension": ".py",
   "mimetype": "text/x-python",
   "name": "python",
   "nbconvert_exporter": "python",
   "pygments_lexer": "ipython3",
   "version": "3.6.2"
  }
 },
 "nbformat": 4,
 "nbformat_minor": 2
}
