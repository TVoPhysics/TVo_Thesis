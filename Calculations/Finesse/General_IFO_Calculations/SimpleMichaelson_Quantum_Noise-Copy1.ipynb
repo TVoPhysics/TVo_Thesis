{
 "cells": [
  {
   "cell_type": "code",
   "execution_count": 1,
   "metadata": {},
   "outputs": [
    {
     "name": "stdout",
     "output_type": "stream",
     "text": [
      "                                              ..-\n",
      "    PyKat 1.0.19          _                  '(\n",
      "                          \\`.|\\.__...-\"\"\"\"-_.\" )\n",
      "       ..+-----.._        /  ' `            .-'\n",
      "   . '            `:      7/* _/._\\    \\   (\n",
      "  (        '::;;+;;:      `-\"' =\" /,`\"\" `) /\n",
      "  L.        \\`:::a:f            c_/     n_'\n",
      "  ..`--...___`.  .    ,  \n",
      "   `^-....____:   +.      www.gwoptics.org/pykat\n",
      "\n"
     ]
    }
   ],
   "source": [
    "%matplotlib inline\n",
    "import pykat\n",
    "import pykat.optics.ABCD as abcd\n",
    "import pylab as pl\n",
    "import matplotlib.pyplot as plt\n",
    "import matplotlib\n",
    "import numpy as np\n",
    "\n",
    "### My functions\n",
    "from kat_commands import *\n",
    "from MMT import *\n",
    "from cav_commands import *\n",
    "from load_kat_data import *\n",
    "import get_WS\n",
    "import trace_mode"
   ]
  },
  {
   "cell_type": "code",
   "execution_count": 86,
   "metadata": {},
   "outputs": [
    {
     "name": "stderr",
     "output_type": "stream",
     "text": [
      "C:\\Users\\tvo88\\Anaconda3\\lib\\site-packages\\pykat\\finesse.py:1651: UserWarning: 'KatRun2D' does not have attribute called 'yaxis'\n",
      "  r.yaxis = self.yaxis\n"
     ]
    },
    {
     "data": {
      "image/png": "[encoded data removed]",
      "text/plain": [
       "<matplotlib.figure.Figure at 0x1c64b3e98d0>"
      ]
     },
     "metadata": {},
     "output_type": "display_data"
    }
   ],
   "source": [
    "kat_code = \"\"\"\n",
    "# Laser input\n",
    "l l1 $Pin 0 nin\n",
    "s s1 0 nin nprc1\n",
    "\n",
    "# Power recycling mirror\n",
    "m1 prm $prmT 0 90 nprc1 nprc2\n",
    "s prc $lprc nprc2 nbsin\n",
    "\n",
    "# Central beamsplitter\n",
    "bs bs1 .5 .5 0 45 nbsin n0y n0x nbsout\n",
    "\n",
    "# X-arm\n",
    "s ichx $lmichx n0x n1x\n",
    "m1 itmx $itmT 0 90 n1x n2x\n",
    "s armx $Larm n2x n3x\n",
    "m1 etmx 5u 0 89.999875 n3x n4x\n",
    "attr itmx mass $Mtm zmech sus1\n",
    "attr etmx mass $Mtm zmech sus1\n",
    "\n",
    "# Y-arm\n",
    "s ichy $lmichy n0y n1y\n",
    "m1 itmy $itmT 0 0.000125  n1y n2y\n",
    "s army $Larm n2y n3y\n",
    "m1 etmy 5u 0 0.0035 n3y n4y\n",
    "attr itmy mass $Mtm zmech sus1\n",
    "attr etmy mass $Mtm zmech sus1\n",
    "\n",
    "# Signal recycling mirror\n",
    "s src $lsrc nbsout nsrc1\n",
    "m1 srm $srmT 0 $srm_phi nsrc1 nsrc2\n",
    "\n",
    "pd1 asport $fs nsrc2 % photo detector in South port\n",
    "beam b1 nsrc2\n",
    "xaxis b1 x lin -2 2 100\n",
    "x2axis b1 y lin -2 2 100\n",
    "\n",
    "\n",
    "# Force-to-position transfer function for longitudinal\n",
    "# motions of test masses\n",
    "tf sus1 1 0 p $mech_fres $mech_Q\n",
    "const mech_fres 1 # 9 sus-thermal spike\n",
    "const mech_Q 1M # Guess for suspension Q factor\n",
    "\n",
    "# DC readout: 100mW = michy_phi 0.07 _or_ darm_phi .00025\n",
    "\n",
    "const Larm 3994.5\n",
    "const itmT 0\n",
    "const srmT 1\n",
    "const prmT 1\n",
    "const Pin 1\n",
    "const Mtm 40\n",
    "const srm_phi 0\n",
    "const lmichx 4.5\n",
    "const lmichy 4.45\n",
    "const lprc 53\n",
    "const lsrc 50.525\n",
    "\n",
    "attr itmy Rc -1934\n",
    "attr etmy Rc 2245\n",
    "\n",
    "attr itmx Rc -1934\n",
    "attr etmx Rc 2245\n",
    "\"\"\"\n",
    "\n",
    "pd_output = \"\"\"\n",
    "xaxis etmy phi lin 0 360 100 % changing the microscopic position of mN\n",
    "\"\"\"\n",
    "\n",
    "darm_commands1 = \"\"\"\n",
    "# A squeezed source could be injected into the dark port\n",
    "sq sq1 0 0 90 nsrc2\n",
    "# Differentially modulate the arm lengths\n",
    "fsig darm armx 1 0\n",
    "fsig darm2 army 1 180\n",
    "\n",
    "qnoisedS NSR_with_RP 1 $fs nsrc2\n",
    "\n",
    "qshotS NSR_without_RP 1 $fs nsrc2\n",
    "\n",
    "xaxis darm f log 10 5k 1000\n",
    "yaxis log abs\n",
    "\"\"\"\n",
    "\n",
    "basekat = pykat.finesse.kat() \n",
    "basekat.parseCommands(kat_code)\n",
    "kat=basekat.deepcopy() #copy kat code\n",
    "kat.verbose = False\n",
    "\n",
    "kat.itmx.phi.value = 90\n",
    "\n",
    "out = kat.run()\n",
    "\n",
    "\n",
    "\n",
    "x =out.x\n",
    "y =out.y\n",
    "\n",
    "x_grid, y_grid = np.meshgrid(x,y)\n",
    "\n",
    "pl.figure(figsize=(12, 9), dpi=80)\n",
    "\n",
    "pl.contourf(x_grid,y_grid,out['b1'])\n",
    "pl.colorbar()\n",
    "pl.show()"
   ]
  }
 ],
 "metadata": {
  "kernelspec": {
   "display_name": "Python 3",
   "language": "python",
   "name": "python3"
  },
  "language_info": {
   "codemirror_mode": {
    "name": "ipython",
    "version": 3
   },
   "file_extension": ".py",
   "mimetype": "text/x-python",
   "name": "python",
   "nbconvert_exporter": "python",
   "pygments_lexer": "ipython3",
   "version": "3.6.2"
  }
 },
 "nbformat": 4,
 "nbformat_minor": 1
}
