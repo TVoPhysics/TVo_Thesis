{
 "cells": [
  {
   "cell_type": "code",
   "execution_count": 20,
   "metadata": {
    "collapsed": true
   },
   "outputs": [],
   "source": [
    "import pykat\n",
    "import pylab as pl"
   ]
  },
  {
   "cell_type": "code",
   "execution_count": 78,
   "metadata": {
    "collapsed": true
   },
   "outputs": [],
   "source": [
    "kat_code = \"\"\"\n",
    "l l1 1 0 n0\n",
    "\n",
    "s lmod1 1 n0 n1\n",
    "mod mod1 $f1 0.18 1 pm n1 n2\n",
    "s lmod2 1 n2 n3\n",
    "mod mod2 $f2 0.18 1 pm n3 nOBAout\n",
    "\n",
    "tem l1 0 0 0.625 0.0 \n",
    "tem l1 0 1 0.1 0.0\n",
    "tem l1 1 0 0.1 0.0\n",
    "tem l1 1 1 0.075 0.0\n",
    "tem l1 0 2 0.05 0.0\n",
    "tem l1 2 0 0.05 0.0\n",
    "\n",
    "\n",
    "# Distance OBA --> OM1  \n",
    "s lom1 2.724 nOBAout nOM1a \n",
    "\n",
    "#OM1\n",
    "bs1 OM1 800u $Mloss 0 2.251 nOM1a nOM1b dump dump # T is set for high power; Loss is a guess\n",
    "attr OM1 Rc 4.6\n",
    "\n",
    "# Distance OM1 --> OM2\n",
    "s lom2 1.395 nOM1b nOM2a \n",
    "\n",
    "# OM2\n",
    "bs1 OM2 10u $Mloss 0 4.399 nOM2a nOM2b dump dump  # T is a guess\n",
    "attr OM2 Rc 1.7058\n",
    "\n",
    "# Distance OM2 --> OM3\n",
    "s lom3 0.631 nOM2b nOM3a \n",
    "bs1 OM3 10u $Mloss 0 30.037 nOM3a nOM3b nOM3trans dump # T is a guess\n",
    "\n",
    "# Distance OM3 --> OMC input coupler IC (AR side)\n",
    "s lom3omc 0.196 nOM3b nOMC_ARIC_in # By design should be ~0.31\n",
    "\n",
    "#  Distance in transmission to OM3 used for testing\n",
    "s lomOM3trans 0.1 nOM3trans nOMC_ARIC2_in\n",
    "\n",
    "###########################################################################\n",
    "%%% FTend OMCpath \n",
    "\n",
    "%%% FTblock OMC\n",
    "###########################################################################\n",
    "# OMC (as built parameters: D1300507-v1)\n",
    "\n",
    "# Input Coupler IC (flat mirror)\n",
    "bs1 OMC_ARIC 1 0 0 4.004 nOMC_ARIC_in dump nOMC_ARIC_trans dump \n",
    "s subOMC_IC 0.01078 $nsilica nOMC_ARIC_trans nOMC_HRIC_in\n",
    "bs1 OMC_HRIC 0.0076 10u 0 2.7609 nOMC_HRIC_in dump nOMC_HRIC_trans nOMC_HRICret\n",
    "# Distance from IC to OC \n",
    "s OMC_ICOC 0.2815 1 nOMC_HRIC_trans nOMC_HROC_in\n",
    "\n",
    "# Output Coupler OC (flat mirror)\n",
    "bs1 OMC_HROC 0.0075 10u 0 4.004 nOMC_HROC_in nOMC_HROC_refl nOMC_HROC_trans nOMC_HROC_ret\n",
    "s subOMC_OC 0.01078 $nsilica nOMC_HROC_trans nOMC_AROC_in\n",
    "bs1 OMC_AROC 1 0 0 2.7609 nOMC_AROC_in dump nOMC_AROC_trans dump\n",
    "# Distance from OC to CM1\n",
    "s OMC_OCCM1 0.2842 1 nOMC_HROC_refl nOMC_CM1_in\n",
    "\n",
    "# Curved Mirror CM1\n",
    "bs1 OMC_CM1 36u 10u 0 4.004 nOMC_CM1_in nOMC_CM1_refl dump dump\n",
    "\n",
    "# Distance from CM1 to CM2 \n",
    "s OMC_CM1CM2 0.2815 1 nOMC_CM1_refl nOMC_CM2_in\n",
    "attr OMC_CM1 Rc 2.57321\n",
    "\n",
    "# Curved Mirror CM2\n",
    "bs1 OMC_CM2 35.9u 10u 0 4.004 nOMC_CM2_in nOMC_CM2_refl dump dump\n",
    "attr OMC_CM2 Rc 2.57369\n",
    "\n",
    "# Distance from CM2 to IC \n",
    "s CM2OC 0.2842 1 nOMC_CM2_refl nOMC_HRICret\n",
    "\n",
    "const Mloss 37.5u\n",
    "const nsilica 1.44963098985906\n",
    "const f1 9.099471M\n",
    "const nf1 -9.099471M\n",
    "const f2 45.497355M\n",
    "const nf2 -45.497355M\n",
    "\n",
    "pd OMC_DCPD nOMC_AROC_trans\n",
    "\n",
    "cav cavOMC OMC_HROC nOMC_HROC_refl OMC_HROC nOMC_HROC_in\n",
    "\n",
    "xaxis OMC_CM1 phi lin -181 181 5000\n",
    "yaxis abs\n",
    "maxtem 4\n",
    "\"\"\""
   ]
  },
  {
   "cell_type": "code",
   "execution_count": 79,
   "metadata": {},
   "outputs": [
    {
     "name": "stdout",
     "output_type": "stream",
     "text": [
      "Parsing `tem l1 0 0 0.625 0.0` into pykat object not implemented yet, added as extra line.\n",
      "Parsing `tem l1 0 1 0.1 0.0` into pykat object not implemented yet, added as extra line.\n",
      "Parsing `tem l1 1 0 0.1 0.0` into pykat object not implemented yet, added as extra line.\n",
      "Parsing `tem l1 1 1 0.075 0.0` into pykat object not implemented yet, added as extra line.\n",
      "Parsing `tem l1 0 2 0.05 0.0` into pykat object not implemented yet, added as extra line.\n",
      "Parsing `tem l1 2 0 0.05 0.0` into pykat object not implemented yet, added as extra line.\n",
      "--------------------------------------------------------------\n",
      "Running kat - Started at 2018-03-01 09:47:31.942263\n"
     ]
    },
    {
     "name": "stderr",
     "output_type": "stream",
     "text": [
      "100% | ETA:  0:00:00 | Calculating                                             "
     ]
    },
    {
     "name": "stdout",
     "output_type": "stream",
     "text": [
      "\n",
      "Finished in 5.79949 seconds\n"
     ]
    }
   ],
   "source": [
    "#Get the mode of the OMC\n",
    "basekat = pykat.finesse.kat() \n",
    "basekat.parseCommands(kat_code)\n",
    "kat = basekat.deepcopy()\n",
    "outOMC = kat.run()"
   ]
  },
  {
   "cell_type": "code",
   "execution_count": 80,
   "metadata": {},
   "outputs": [
    {
     "name": "stderr",
     "output_type": "stream",
     "text": [
      "C:\\Users\\tvo88\\Anaconda3\\lib\\site-packages\\matplotlib\\axes\\_axes.py:545: UserWarning: No labelled objects found. Use label='...' kwarg on individual plots.\n",
      "  warnings.warn(\"No labelled objects found. \"\n"
     ]
    },
    {
     "data": {
      "image/png": "[encoded data removed]",
      "text/plain": [
       "<matplotlib.figure.Figure at 0x1c786b3c9e8>"
      ]
     },
     "metadata": {},
     "output_type": "display_data"
    }
   ],
   "source": [
    "pl.figure(figsize=(9, 5), dpi=80)\n",
    "\n",
    "pl.plot(outOMC.x,outOMC['OMC_DCPD'], '-',linewidth=3)\n",
    "\n",
    "pl.xlabel(\"Phase (degrees)\")\n",
    "pl.ylabel(\"Normalized Power (watts)\")\n",
    "\n",
    "###Main plot formatting\n",
    "pl.tick_params(labelsize=12)\n",
    "pl.tick_params(which='both', width=2)\n",
    "pl.tick_params(which='major', length=7)\n",
    "pl.tick_params(which='minor', length=4)\n",
    "pl.grid(True, zorder=-1)\n",
    "pl.legend(fontsize=20)\n",
    "\n",
    "pl.show()"
   ]
  }
 ],
 "metadata": {
  "kernelspec": {
   "display_name": "Python 3",
   "language": "python",
   "name": "python3"
  },
  "language_info": {
   "codemirror_mode": {
    "name": "ipython",
    "version": 3
   },
   "file_extension": ".py",
   "mimetype": "text/x-python",
   "name": "python",
   "nbconvert_exporter": "python",
   "pygments_lexer": "ipython3",
   "version": "3.6.2"
  }
 },
 "nbformat": 4,
 "nbformat_minor": 2
}
