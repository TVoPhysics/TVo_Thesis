{
 "cells": [
  {
   "cell_type": "code",
   "execution_count": 89,
   "metadata": {},
   "outputs": [],
   "source": [
    "import pykat\n",
    "import pylab as pl\n",
    "import numpy as np\n",
    "import scipy.signal"
   ]
  },
  {
   "cell_type": "code",
   "execution_count": 197,
   "metadata": {
    "collapsed": true
   },
   "outputs": [],
   "source": [
    "kat_code = \"\"\"\n",
    "l l1 1 0 nOBAout\n",
    "\n",
    "#s lmod1 1 n0 n1\n",
    "#mod mod1 $f1 0.18 1 pm n1 n2\n",
    "#s lmod2 1 n2 n3\n",
    "#mod mod2 $f2 0.18 1 pm n3 n4\n",
    "#s lmod3 1 n4 n5\n",
    "#mod mod3 $f3 0.18 1 pm n5 nOBAout\n",
    "\n",
    "tem l1 0 0 1.0 0.0 \n",
    "#tem l1 0 1 0.1 0.0\n",
    "#tem l1 1 0 0.1 0.0\n",
    "#tem l1 1 1 0.075 0.0\n",
    "#tem l1 0 2 0.05 0.0\n",
    "#tem l1 2 0 0.05 0.0\n",
    "\n",
    "\n",
    "# Distance OBA --> OM1  \n",
    "s lom1 2.724 nOBAout nOM1a \n",
    "\n",
    "#OM1\n",
    "bs1 OM1 800u $Mloss 0 2.251 nOM1a nOM1b dump dump # T is set for high power; Loss is a guess\n",
    "attr OM1 Rc 4.6\n",
    "\n",
    "# Distance OM1 --> OM2\n",
    "s lom2 1.395 nOM1b nOM2a \n",
    "\n",
    "# OM2\n",
    "bs1 OM2 10u $Mloss 0 4.399 nOM2a nOM2b dump dump  # T is a guess\n",
    "attr OM2 Rc 1.7058\n",
    "\n",
    "# Distance OM2 --> OM3\n",
    "s lom3 0.631 nOM2b nOM3a \n",
    "bs1 OM3 10u $Mloss 0 30.037 nOM3a nOM3b nOM3trans dump # T is a guess\n",
    "\n",
    "# Distance OM3 --> OMC input coupler IC (AR side)\n",
    "s lom3omc 0.196 nOM3b nOMC_ARIC_in # By design should be ~0.31\n",
    "\n",
    "#  Distance in transmission to OM3 used for testing\n",
    "s lomOM3trans 0.1 nOM3trans nOMC_ARIC2_in\n",
    "\n",
    "###########################################################################\n",
    "%%% FTend OMCpath \n",
    "\n",
    "%%% FTblock OMC\n",
    "###########################################################################\n",
    "# OMC (as built parameters: D1300507-v1)\n",
    "\n",
    "# Input Coupler IC (flat mirror)\n",
    "bs1 OMC_ARIC 1 0 0 4.004 nOMC_ARIC_in dump nOMC_ARIC_trans dump \n",
    "s subOMC_IC 0.01078 $nsilica nOMC_ARIC_trans nOMC_HRIC_in\n",
    "bs1 OMC_HRIC 0.0076 10u 0 2.7609 nOMC_HRIC_in dump nOMC_HRIC_trans nOMC_HRICret\n",
    "# Distance from IC to OC \n",
    "s OMC_ICOC 0.2815 1 nOMC_HRIC_trans nOMC_HROC_in\n",
    "\n",
    "# Output Coupler OC (flat mirror)\n",
    "bs1 OMC_HROC 0.0075 10u 0 4.004 nOMC_HROC_in nOMC_HROC_refl nOMC_HROC_trans nOMC_HROC_ret\n",
    "s subOMC_OC 0.01078 $nsilica nOMC_HROC_trans nOMC_AROC_in\n",
    "bs1 OMC_AROC 1 0 0 2.7609 nOMC_AROC_in dump nOMC_AROC_trans dump\n",
    "# Distance from OC to CM1\n",
    "s OMC_OCCM1 0.2842 1 nOMC_HROC_refl nOMC_CM1_in\n",
    "\n",
    "# Curved Mirror CM1\n",
    "bs1 OMC_CM1 36u 10u 0 4.004 nOMC_CM1_in nOMC_CM1_refl dump dump\n",
    "\n",
    "# Distance from CM1 to CM2 \n",
    "s OMC_CM1CM2 0.2815 1 nOMC_CM1_refl nOMC_CM2_in\n",
    "attr OMC_CM1 Rc 2.57321\n",
    "\n",
    "# Curved Mirror CM2\n",
    "bs1 OMC_CM2 35.9u 10u 0 4.004 nOMC_CM2_in nOMC_CM2_refl dump dump\n",
    "attr OMC_CM2 Rc 2.57369\n",
    "\n",
    "# Distance from CM2 to IC \n",
    "s CM2OC 0.2842 1 nOMC_CM2_refl nOMC_HRICret\n",
    "\n",
    "const Mloss 37.5u\n",
    "const nsilica 1.44963098985906\n",
    "const f1 9.099471M\n",
    "const nf1 -9.099471M\n",
    "const f2 45.497355M\n",
    "const nf2 -45.497355M\n",
    "const f3 36.497355M\n",
    "const nf3 -36.497355M\n",
    "\n",
    "pd OMC_DCPD nOMC_AROC_trans\n",
    "cp cavOMC x q\n",
    "\n",
    "bp q_in_x x q nOBAout\n",
    "bp q_in_y y q nOBAout\n",
    "\n",
    "cav cavOMC OMC_HROC nOMC_HROC_refl OMC_HROC nOMC_HROC_in\n",
    "\n",
    "xaxis OMC_CM2 phi lin -10 190 5000\n",
    "yaxis re:im\n",
    "maxtem 4\n",
    "\"\"\""
   ]
  },
  {
   "cell_type": "code",
   "execution_count": 314,
   "metadata": {
    "collapsed": true
   },
   "outputs": [],
   "source": [
    "### Define the misalignment calculation\n",
    "def misalignment(alpha,w0):\n",
    "    lam = 1064e-9\n",
    "    k = np.exp(-(np.sqrt(2))*(np.pi*w0*alpha/lam)**2)\n",
    "    return k\n",
    "\n",
    "def misalignment_est(alpha,w0):\n",
    "    lam = 1064e-9\n",
    "    k = 1-(np.sqrt(2))*(np.pi*w0*alpha/lam)**2\n",
    "    return k\n",
    "\n",
    "def displacement(dr,w0):\n",
    "    k = np.exp(-(dr/w0)**2)\n",
    "    return k"
   ]
  },
  {
   "cell_type": "code",
   "execution_count": 198,
   "metadata": {},
   "outputs": [
    {
     "name": "stdout",
     "output_type": "stream",
     "text": [
      "Parsing `tem l1 0 0 1.0 0.0` into pykat object not implemented yet, added as extra line.\n",
      "--------------------------------------------------------------\n",
      "Running kat - Started at 2018-05-01 16:23:19.991470\n"
     ]
    },
    {
     "name": "stderr",
     "output_type": "stream",
     "text": [
      "100% | ETA:  0:00:00 | Calculating                                             "
     ]
    },
    {
     "name": "stdout",
     "output_type": "stream",
     "text": [
      "\n",
      "Finished in 3.22207 seconds\n"
     ]
    }
   ],
   "source": [
    "#Get the mode of the OMC\n",
    "basekat = pykat.finesse.kat() \n",
    "basekat.parse(kat_code)\n",
    "kat = basekat.deepcopy()\n",
    "outOMC = kat.run()"
   ]
  },
  {
   "cell_type": "code",
   "execution_count": 318,
   "metadata": {},
   "outputs": [
    {
     "name": "stdout",
     "output_type": "stream",
     "text": [
      "--------------------------------------------------------------\n",
      "Running kat - Started at 2018-05-02 13:37:41.037170\n"
     ]
    },
    {
     "name": "stderr",
     "output_type": "stream",
     "text": [
      "100% | ETA:  0:00:00 | Calculating                                             "
     ]
    },
    {
     "name": "stdout",
     "output_type": "stream",
     "text": [
      "\n",
      "Finished in 5.85658 seconds\n"
     ]
    }
   ],
   "source": [
    "q_in_x = pykat.BeamParam(q=outOMC['q_in_x'][0])\n",
    "q_in_y = pykat.BeamParam(q=outOMC['q_in_y'][0])\n",
    "\n",
    "kat1 = basekat.deepcopy()\n",
    "kat1.parse('gauss gauss_in_x l1 nOBAout '+str(q_in_x.w0)+' ' +str(-q_in_x.z) + ' '+str(q_in_y.w0)+' ' +str(-q_in_y.z))\n",
    "kat1.parse('attr OMC_HROC xbeta 20u')\n",
    "kat1.parse('attr OMC_HRIC xbeta -20u')\n",
    "\n",
    "outOMC1 = kat1.run()"
   ]
  },
  {
   "cell_type": "code",
   "execution_count": 319,
   "metadata": {},
   "outputs": [
    {
     "name": "stdout",
     "output_type": "stream",
     "text": [
      "X-direction overlap mismatch is 1.0\n",
      "Y-direction overlap mismatch is 1.0\n",
      "Average overlap mismatch is 1.0\n",
      "0.992587293117958 0.9925596824752765\n"
     ]
    }
   ],
   "source": [
    "### Modal mismatch\n",
    "mismatch_x = pykat.BeamParam.overlap(q_in_x,outOMC['q_in_x'][0])\n",
    "mismatch_y = pykat.BeamParam.overlap(q_in_y,outOMC['q_in_y'][0])\n",
    "\n",
    "avg = .5*(mismatch_x+mismatch_y)\n",
    "\n",
    "print(\"X-direction overlap mismatch is \"+ str(round(mismatch_x,2)) )\n",
    "print(\"Y-direction overlap mismatch is \"+ str(round(mismatch_y,2)) )\n",
    "print(\"Average overlap mismatch is \"+ str(round(avg,2)) )\n",
    "\n",
    "### Misalignment\n",
    "k = misalignment(40e-6,q_in_x.w0)\n",
    "print(k,misalignment_est(40e-6,q_in_x.w0))"
   ]
  },
  {
   "cell_type": "code",
   "execution_count": 320,
   "metadata": {},
   "outputs": [
    {
     "name": "stdout",
     "output_type": "stream",
     "text": [
      "[ 257 2788 3778 4768]\n"
     ]
    },
    {
     "data": {
      "text/plain": [
       "(0.992648334583312+0j)"
      ]
     },
     "execution_count": 320,
     "metadata": {},
     "output_type": "execute_result"
    }
   ],
   "source": [
    "peak_indices = scipy.signal.find_peaks_cwt(np.abs(outOMC1['OMC_DCPD']),np.arange(.1,10),min_snr=1)\n",
    "\n",
    "print(peak_indices)\n",
    "HOM = outOMC1['OMC_DCPD'][peak_indices[2]] + outOMC1['OMC_DCPD'][peak_indices[1]]\n",
    "1-(HOM/outOMC1['OMC_DCPD'][peak_indices[0]])"
   ]
  },
  {
   "cell_type": "code",
   "execution_count": 321,
   "metadata": {
    "scrolled": false
   },
   "outputs": [
    {
     "name": "stderr",
     "output_type": "stream",
     "text": [
      "C:\\Users\\tvo88\\Anaconda3\\lib\\site-packages\\matplotlib\\axes\\_axes.py:545: UserWarning: No labelled objects found. Use label='...' kwarg on individual plots.\n",
      "  warnings.warn(\"No labelled objects found. \"\n"
     ]
    },
    {
     "data": {
      "image/png": "[encoded data removed]",
      "text/plain": [
       "<matplotlib.figure.Figure at 0x1ef8efb8c50>"
      ]
     },
     "metadata": {},
     "output_type": "display_data"
    }
   ],
   "source": [
    "pl.figure(figsize=(9, 5), dpi=80)\n",
    "\n",
    "pl.semilogy(outOMC.x,np.real(outOMC['OMC_DCPD']), '-',linewidth=3)\n",
    "pl.semilogy(outOMC1.x,np.real(outOMC1['OMC_DCPD']), '-',linewidth=3)\n",
    "for i in range(len(peak_indices)):\n",
    "    pl.plot(outOMC1.x[peak_indices],np.real(outOMC1['OMC_DCPD'][peak_indices]),'*')\n",
    "\n",
    "pl.xlabel(\"Phase (Degrees)\")\n",
    "pl.ylabel(\"Normalized Power (watts)\")\n",
    "\n",
    "###Main plot formatting\n",
    "pl.tick_params(labelsize=12)\n",
    "pl.tick_params(which='both', width=2)\n",
    "pl.tick_params(which='major', length=7)\n",
    "pl.tick_params(which='minor', length=4)\n",
    "pl.grid(True, zorder=-1)\n",
    "pl.legend(fontsize=20)\n",
    "\n",
    "pl.show()"
   ]
  },
  {
   "cell_type": "code",
   "execution_count": 239,
   "metadata": {
    "collapsed": true
   },
   "outputs": [],
   "source": [
    "np.savetxt(\"InModel.txt\",[outOMC.x,outOMC['OMC_DCPD']],delimiter=' ')"
   ]
  },
  {
   "cell_type": "code",
   "execution_count": 240,
   "metadata": {
    "collapsed": true
   },
   "outputs": [],
   "source": [
    "### Experimental OMC Mode Scan Data\n",
    "data = np.loadtxt(\"TVo_OMC_ModeScan_0W.txt\")"
   ]
  },
  {
   "cell_type": "code",
   "execution_count": 241,
   "metadata": {},
   "outputs": [
    {
     "name": "stderr",
     "output_type": "stream",
     "text": [
      "C:\\Users\\tvo88\\Anaconda3\\lib\\site-packages\\matplotlib\\axes\\_axes.py:545: UserWarning: No labelled objects found. Use label='...' kwarg on individual plots.\n",
      "  warnings.warn(\"No labelled objects found. \"\n"
     ]
    },
    {
     "data": {
      "image/png": "[encoded data removed]",
      "text/plain": [
       "<matplotlib.figure.Figure at 0x1ef8bc7d940>"
      ]
     },
     "metadata": {},
     "output_type": "display_data"
    }
   ],
   "source": [
    "pl.figure(figsize=(9, 5), dpi=80)\n",
    "\n",
    "pl.semilogy(data[:,1],data[:,2], '-')\n",
    "\n",
    "pl.xlabel(\"PZT Offset (Volts)\")\n",
    "pl.ylabel(\"OMC DCPD SUM Power (milliwatts)\")\n",
    "\n",
    "###Main plot formatting\n",
    "pl.tick_params(labelsize=12)\n",
    "pl.tick_params(which='both', width=2)\n",
    "pl.tick_params(which='major', length=7)\n",
    "pl.tick_params(which='minor', length=4)\n",
    "pl.grid(True, zorder=-1)\n",
    "pl.legend(fontsize=20)\n",
    "pl.ylim(4e-5,3e-1)\n",
    "\n",
    "pl.show()"
   ]
  }
 ],
 "metadata": {
  "kernelspec": {
   "display_name": "Python 3",
   "language": "python",
   "name": "python3"
  },
  "language_info": {
   "codemirror_mode": {
    "name": "ipython",
    "version": 3
   },
   "file_extension": ".py",
   "mimetype": "text/x-python",
   "name": "python",
   "nbconvert_exporter": "python",
   "pygments_lexer": "ipython3",
   "version": "3.6.2"
  }
 },
 "nbformat": 4,
 "nbformat_minor": 2
}
