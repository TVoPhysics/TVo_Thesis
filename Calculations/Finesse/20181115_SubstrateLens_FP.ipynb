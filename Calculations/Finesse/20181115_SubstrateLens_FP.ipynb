{
 "cells": [
  {
   "cell_type": "code",
   "execution_count": 699,
   "metadata": {},
   "outputs": [],
   "source": [
    "import pykat\n",
    "import matplotlib.pyplot as pl\n",
    "import numpy as np\n",
    "\n",
    "\n",
    "%matplotlib inline"
   ]
  },
  {
   "cell_type": "code",
   "execution_count": 748,
   "metadata": {},
   "outputs": [],
   "source": [
    "kat_code = \"\"\"\n",
    "%%% FTblock laser\n",
    "###########################################################################\n",
    "# Laser and input optics\n",
    "l L0 1 0.0 0.0 ni\n",
    "\n",
    "s lx2 0 ni nlensa\n",
    "\n",
    "lens ITMX_lens0 inf nlensa nlensb\n",
    "\n",
    "###########################################################################\n",
    "%%% FTend laser\n",
    "\n",
    "%%% FTblock Xarm\n",
    "###########################################################################\n",
    "\n",
    "# Distance from beam splitter to X arm input mirror \n",
    "s lx1 2000 nlensb nITMX1a\n",
    "\n",
    "lens ITMX_lens $SLX_f nITMX1a nITMX1b\n",
    "s sITMX_th2 0 nITMX1b nITMX1\n",
    "\n",
    "# X arm input mirror\n",
    "m2 ITMXAR 0 20u 0 nITMX1 nITMXs1 \n",
    "s ITMXsub 0.2 $nsilica nITMXs1 nITMXs2\n",
    "m1 ITMX 0.014 $Mloss $phi_ITMX nITMXs2 nITMX2\n",
    "attr ITMX Rc -1934\n",
    "\n",
    "# X arm length\n",
    "s LX $Larm nITMX2 nETMX1\n",
    "\n",
    "# X arm end mirror\n",
    "m1 ETMX 5u $Mloss $phi_ETMX nETMX1 nETMXs1\n",
    "s ETMXsub 0.2 $nsilica nETMXs1 nETMXs2\n",
    "m2 ETMXAR 0 500u 0 nETMXs2 nPTX \n",
    "attr ETMX Rc 2245\n",
    "attr ETMX mass 40\n",
    "attr ITMX mass 40\n",
    "\n",
    "###########################################################################\n",
    "%%% FTend Xarm\n",
    "\n",
    "\n",
    "%%% FTblock constants\n",
    "###########################################################################\n",
    "const nsilica 1.44963098985906\n",
    "const nTGG 1.954\n",
    "const nCalcite 1.65846\n",
    "const Mloss 37.5u\n",
    "const Larm 3994.4692\n",
    "const fM 36.397884M\n",
    "const fP 54.596826M\n",
    "const TLY_f 34.5k         # Thermal lens ITMY\n",
    "const TLX_f 34.5k         # Thermal lens ITMX\n",
    "const SLY_f inf           # Substrate lens ITMY\n",
    "const SLX_f inf           # Substrate lens ITMX\n",
    "const th_f 34.5k\n",
    "###########################################################################\n",
    "%%% FTend constants\n",
    "\n",
    "%%% FTblock tunings\n",
    "###########################################################################\n",
    "const phi_SRM 90.0\n",
    "const phi_PRM 0.0\n",
    "const phi_ITMX 0.0\n",
    "const phi_ITMY 0.0\n",
    "const phi_ETMX 0.0\n",
    "const phi_ETMY 0.0\n",
    "const phi_BS 0\n",
    "###########################################################################\n",
    "%%% FTend tunings\n",
    "\n",
    "#detectors\n",
    "\n",
    "bp q_refl_x x q nITMX1b\n",
    "bp q_in     x q ni\n",
    "\n",
    "maxtem 4\n",
    "\n",
    "noxaxis\n",
    "yaxis re:im\n",
    "\"\"\"\n",
    "basekat = pykat.finesse.kat() \n",
    "basekat.parse(kat_code)"
   ]
  },
  {
   "cell_type": "code",
   "execution_count": 756,
   "metadata": {},
   "outputs": [
    {
     "name": "stdout",
     "output_type": "stream",
     "text": [
      "--------------------------------------------------------------\n",
      "Running kat - Started at 2018-11-15 11:45:50.345465\n",
      "\n",
      "Finished in 0.0807788 seconds\n"
     ]
    },
    {
     "name": "stderr",
     "output_type": "stream",
     "text": [
      "\r",
      "  0% | ETA:  --:--:-- | Calculating                                            \r",
      "100% | ETA:  0:00:00 | Calculating                                             "
     ]
    }
   ],
   "source": [
    "kat0 = basekat.deepcopy()\n",
    "kat0.parse('''\n",
    "cav cavXARM ITMX nITMX2 ETMX nETMX1\n",
    "''')\n",
    "out0 = kat0.run()"
   ]
  },
  {
   "cell_type": "code",
   "execution_count": 757,
   "metadata": {},
   "outputs": [
    {
     "data": {
      "text/plain": [
       "(3300.5998789886+209.25458352935j)"
      ]
     },
     "execution_count": 757,
     "metadata": {},
     "output_type": "execute_result"
    }
   ],
   "source": [
    "out0['q_in']"
   ]
  },
  {
   "cell_type": "code",
   "execution_count": 758,
   "metadata": {},
   "outputs": [
    {
     "name": "stdout",
     "output_type": "stream",
     "text": [
      "--------------------------------------------------------------\n",
      "Running kat - Started at 2018-11-15 11:45:50.524982\n"
     ]
    },
    {
     "name": "stderr",
     "output_type": "stream",
     "text": [
      "\r",
      "  0% | ETA:  --:--:-- | Calculating                                            \r",
      "100% | ETA:  0:00:00 | Calculating                                             "
     ]
    },
    {
     "name": "stdout",
     "output_type": "stream",
     "text": [
      "\n",
      "Finished in 0.147604 seconds\n"
     ]
    }
   ],
   "source": [
    "kat1 = basekat.deepcopy()\n",
    "\n",
    "gauss_cmd ='gauss* laser_in L0 ni ' + str(-np.real(out0['q_in'])) + ' ' + str(np.imag(out0['q_in']))\n",
    "\n",
    "kat1.parse(gauss_cmd)\n",
    "\n",
    "#kat1.ITMX_lens.f.value = 1/(50e-6)\n",
    "#kat1.ITMX_lens0.f.value = 1/(50e-6)\n",
    "out1, T = kat1.run(getTraceData=True)"
   ]
  },
  {
   "cell_type": "code",
   "execution_count": 759,
   "metadata": {},
   "outputs": [
    {
     "data": {
      "text/plain": [
       "(1300.5998789886+209.25458352935j)"
      ]
     },
     "execution_count": 759,
     "metadata": {},
     "output_type": "execute_result"
    }
   ],
   "source": [
    "out0['q_refl_x']"
   ]
  },
  {
   "cell_type": "code",
   "execution_count": 760,
   "metadata": {},
   "outputs": [
    {
     "name": "stdout",
     "output_type": "stream",
     "text": [
      "(1300.5998789886+209.25458352935j)\n"
     ]
    }
   ],
   "source": [
    "q = -np.conj(out1['q_refl_x'])\n",
    "\n",
    "print(q)"
   ]
  },
  {
   "cell_type": "code",
   "execution_count": 761,
   "metadata": {},
   "outputs": [
    {
     "data": {
      "text/plain": [
       "1.0"
      ]
     },
     "execution_count": 761,
     "metadata": {},
     "output_type": "execute_result"
    }
   ],
   "source": [
    "### Check\n",
    "pykat.BeamParam.overlap(q,out0['q_refl_x'])"
   ]
  },
  {
   "cell_type": "code",
   "execution_count": 762,
   "metadata": {},
   "outputs": [
    {
     "data": {
      "text/plain": [
       "1.0"
      ]
     },
     "execution_count": 762,
     "metadata": {},
     "output_type": "execute_result"
    }
   ],
   "source": [
    "pykat.BeamParam.overlap(-np.conj(out0['q_in']),out1['q_in'])"
   ]
  }
 ],
 "metadata": {
  "kernelspec": {
   "display_name": "Python 3",
   "language": "python",
   "name": "python3"
  },
  "language_info": {
   "codemirror_mode": {
    "name": "ipython",
    "version": 3
   },
   "file_extension": ".py",
   "mimetype": "text/x-python",
   "name": "python",
   "nbconvert_exporter": "python",
   "pygments_lexer": "ipython3",
   "version": "3.6.2"
  }
 },
 "nbformat": 4,
 "nbformat_minor": 2
}
