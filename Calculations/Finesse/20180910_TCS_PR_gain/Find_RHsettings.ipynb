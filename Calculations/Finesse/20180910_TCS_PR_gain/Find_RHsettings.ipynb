{
 "cells": [
  {
   "cell_type": "code",
   "execution_count": 110,
   "metadata": {},
   "outputs": [],
   "source": [
    "Description = \"\"\"\n",
    "Calculate the ring heater and CO2 settings in order to achieve maximum PRC gain in a cold state with the\n",
    "substrate lens in a non-nominal state.  This is another way to show that the contrast defect is good or bad\n",
    "in full lock and whether it maches our current estimates.\n",
    "\n",
    "Strategy:  In the cold state, the PRC has the mode equal to the static lens with effectively no absorption\n",
    "on the HR surface.  What we need to figure out is how to tune the ring heaters to get higher power recycling gain\n",
    "in the cold state, this is a static value which will be additive to the amount of absorption we need.\n",
    "\n",
    "Optical set up:\n",
    "- ITMX ring heater at .28 Watts to counter the substrate lens difference and the radii of curvature difference\n",
    "in the simple michelson.\n",
    "- Substrate thermal lens is not nominal because there is no CO2 and no higher power.\n",
    "\n",
    "09/10/2018\n",
    "TVo\n",
    "\"\"\""
   ]
  },
  {
   "cell_type": "code",
   "execution_count": 123,
   "metadata": {},
   "outputs": [],
   "source": [
    "import numpy as np\n",
    "import pykat\n",
    "import matplotlib.pyplot as pl\n",
    "import trace_mode\n",
    "\n",
    "%matplotlib inline"
   ]
  },
  {
   "cell_type": "code",
   "execution_count": 189,
   "metadata": {},
   "outputs": [],
   "source": [
    "#### Find the amount of ring heater or annular heating required for the proper substrate lens\n",
    "ITMXstat = -1./310812.+1./664100.\n",
    "ITMYstat = 1.7E-6-1./1392000.\n",
    "\n",
    "#absorption estimates for HR surfaces of TM .5ppm\n",
    "abs_ix=0.2e-6 \n",
    "abs_ex=0.2e-6 \n",
    "abs_iy=0.483e-6\n",
    "abs_ey=0.2e-6\n",
    "\n",
    "#Power in the arms\n",
    "P_opt = P_in =  50.0\n",
    "prc_gain = 30\n",
    "arm_gain = 250\n",
    "P_arm = P_in*prc_gain*arm_gain \n",
    "\n",
    "# Paramters work out the TCS settings for O2\n",
    "RH_SUBdef = -9e-6\n",
    "#CO2_SUBdef = 6.23e-5 Old\n",
    "CO2_SUBdef = 2.5e-5\n",
    "SelfSUBdef = 4.87e-4\n",
    "\n",
    "# Parameters for surface deformation \n",
    "RH_SURFdef = 9.91e-7\n",
    "SelfSURFdef = -3.60e-5\n",
    "    \n",
    "## For a given absoprtion and static lens, return surface and substrate deformation\n",
    "nomLens = 1/50e3\n",
    "\n",
    "#Baseline arm cavity measurements\n",
    "Lambda = 1064e-9\n",
    "\n",
    "R_ix= 1940.3\n",
    "R_ex= 2244.2\n",
    "R_iy= 1939.2\n",
    "R_ey= 2246.9\n",
    "\n",
    "L = 3994.5"
   ]
  },
  {
   "cell_type": "code",
   "execution_count": 557,
   "metadata": {},
   "outputs": [],
   "source": [
    "#Calculate Eigenmode\n",
    "def cavity_info(Lambda, L, Rc1, Rc2):\n",
    "    \"\"\"\n",
    "    Function computes several cavity paramaters\n",
    "    Input: Lambda, L (length), Rc1, Rc2 (radii of curvature of cavity mirrors)\n",
    "    Output: zr (Rayleigh range), w0 (waist size), z1 (distance waist<->mirror1)\n",
    "            w1, w2 (spot size on both mirrors)\n",
    "    \"\"\"\n",
    "    g1 = 1-L/Rc1\n",
    "    g2 = 1-L/Rc2\n",
    "    G  = g1*g2\n",
    "    G1 = (g1+g2-2*G)\n",
    "\n",
    "    k = 2.0*np.pi/Lambda\n",
    "\n",
    "    zr = np.sqrt( L**2 * G * (1.0-G)/G1**2) \n",
    "    z1 = L * g2 * (1-g1) / G1\n",
    "    z2 = L * g1 * (1-g2) / G1\n",
    "    w0 =  np.sqrt( zr * Lambda / np.pi ) \n",
    "    w1 = np.sqrt( L * Lambda /np.pi * np.sqrt( g2 / (g1 * (1-G)) ))\n",
    "    w2 = np.sqrt( L * Lambda /np.pi * np.sqrt( g1 / (g2 * (1-G)) ))\n",
    "    q = z1+1j*zr\n",
    "    return [zr, w0, z1, w1, w2, q]\n",
    "\n",
    "\n",
    "def overlap(P_rh_ix,P_rh_iy,P_rh_ex,P_rh_ey,q_prc):\n",
    "\n",
    "    dS_rh_ix = P_rh_ix * RH_SURFdef\n",
    "    dS_rh_iy = P_rh_iy * RH_SURFdef\n",
    "    dS_rh_ex = P_rh_ex * RH_SURFdef\n",
    "    dS_rh_ey = P_rh_ey * RH_SURFdef\n",
    "\n",
    "    R_ix_w_abs_rh = (1./R_ix + dS_rh_ix)**(-1.)\n",
    "    R_ex_w_abs_rh = (1./R_ex + dS_rh_ex)**(-1.)\n",
    "    R_iy_w_abs_rh = (1./R_iy + dS_rh_iy)**(-1.)\n",
    "    R_ey_w_abs_rh = (1./R_ey + dS_rh_ey)**(-1.)\n",
    "\n",
    "    xarm_w_abs_rh = cavity_info(Lambda, L, R_ix_w_abs_rh,R_ex_w_abs_rh)\n",
    "    yarm_w_abs_rh = cavity_info(Lambda, L, R_ix_w_abs_rh,R_ey_w_abs_rh)\n",
    "    \n",
    "    overlap_prc = pykat.BeamParam.overlap(xarm_w_abs_rh[5], q_prc)\n",
    "    overlap_arm = pykat.BeamParam.overlap(xarm_w_abs_rh[5], yarm_w_abs_rh[5])\n",
    "    return [overlap_arm,overlap_prc]"
   ]
  },
  {
   "cell_type": "code",
   "execution_count": 545,
   "metadata": {},
   "outputs": [
    {
     "name": "stdout",
     "output_type": "stream",
     "text": [
      "The amount of RH power on ITMX is 0.28230256317809543\n",
      "0.5403122417784757\n"
     ]
    }
   ],
   "source": [
    "### Calculating the RH power needed for cold lens\n",
    "P_rh_ix = 2. * ( ITMXstat - ITMYstat + 1./R_iy - 1./R_ix) / (2*RH_SUBdef + RH_SURFdef)\n",
    "\n",
    "print(\"The amount of RH power on ITMX is \" +str(P_rh))\n",
    "\n",
    "### Calculate the RH power for ETM mismatch\n",
    "P_rh_ey = (-1./R_ey + 1./R_ex)/RH_SURFdef\n",
    "print(P_rh_ey)"
   ]
  },
  {
   "cell_type": "code",
   "execution_count": 549,
   "metadata": {},
   "outputs": [
    {
     "name": "stdout",
     "output_type": "stream",
     "text": [
      "-1939.247334080716 -1939.2000000000003 2244.2 2244.2\n"
     ]
    }
   ],
   "source": [
    "### Single pass actuation is therefore:\n",
    "P_rh_ix_stat = P_rh_ix\n",
    "P_rh_iy_stat = 0.0\n",
    "P_rh_ex_stat = 0.0\n",
    "P_rh_ey_stat = P_rh_ey\n",
    "\n",
    "R_ix_w_rh=-( (1.0/R_ix) + (P_rh_ix_stat * RH_SURFdef) )**(-1.)\n",
    "R_iy_w_rh=-( (1.0/R_iy) + (P_rh_iy_stat * RH_SURFdef) )**(-1.)\n",
    "R_ex_w_rh= ( (1.0/R_ex) + (P_rh_ex_stat * RH_SURFdef) )**(-1.)\n",
    "R_ey_w_rh= ( (1.0/R_ey) + (P_rh_ey_stat * RH_SURFdef) )**(-1.)\n",
    "\n",
    "f_ix_w_rh = ( (ITMXstat) - (P_rh_ix * RH_SUBdef) )**(-1.)\n",
    "f_iy_w_rh = ( (ITMYstat) - (P_rh_iy * RH_SUBdef) )**(-1.)\n",
    "\n",
    "print(R_ix_w_rh,R_iy_w_rh,R_ex_w_rh,R_ey_w_rh)"
   ]
  },
  {
   "cell_type": "code",
   "execution_count": 550,
   "metadata": {},
   "outputs": [
    {
     "name": "stdout",
     "output_type": "stream",
     "text": [
      "74.67575649622304ppm is the loss between PRX and PRY\n"
     ]
    }
   ],
   "source": [
    "### Calculate the PRC Mode with the original lensing\n",
    "katfile = \"../kat_files/aLIGO_IFO_AWC_tuning_DCoff_maxtem2.kat\"\n",
    "basekat = pykat.finesse.kat() \n",
    "basekat.load(katfile)\n",
    "basekat.parse(\"noxaxis\")\n",
    "basekat.parse(\"maxtem \"+str(2))\n",
    "kat=basekat.deepcopy() #copy kat code\n",
    "kat.verbose = False\n",
    "\n",
    "kat.ITMXHR.Rcx.value = R_ix\n",
    "kat.ITMXHR.Rcy.value = R_ix\n",
    "\n",
    "kat.ITMYHR.Rcx.value = R_iy\n",
    "kat.ITMYHR.Rcy.value = R_iy\n",
    "\n",
    "kat.ETMXHR.Rcx.value = R_ex\n",
    "kat.ETMXHR.Rcy.value = R_ex\n",
    "\n",
    "kat.ETMYHR.Rcx.value = R_ey\n",
    "kat.ETMYHR.Rcy.value = R_ey\n",
    "\n",
    "kat.ITMXTL.f = 1.0/ITMXstat\n",
    "kat.ITMYTL.f = 1.0/ITMYstat\n",
    "\n",
    "[q_PRX_ITMX_x,q_PRX_ITMX_y]  = trace_mode.from_cav_to_node(kat,'cavPRX','nITMX2')\n",
    "[q_PRY_ITMY_x,q_PRY_ITMY_y]  = trace_mode.from_cav_to_node(kat,'cavPRY','nITMY2')\n",
    "\n",
    "# Check that the PRC is modematched to itself with the orginal lenses, idiot check\n",
    "overlap = pykat.BeamParam.overlap(q_PRX_ITMX_x,q_PRY_ITMY_x)\n",
    "print(str((1-overlap)*1e6) +\"ppm is the loss between PRX and PRY\")\n"
   ]
  },
  {
   "cell_type": "code",
   "execution_count": 551,
   "metadata": {},
   "outputs": [
    {
     "name": "stdout",
     "output_type": "stream",
     "text": [
      "1.5417705959697159ppm is the loss between PRX and PRY\n"
     ]
    }
   ],
   "source": [
    "### Calculate the PRC Mode with the new lensing\n",
    "\n",
    "###We need to calculate the PRC mode with new substrate lens and HR surface. It's easiest to do this with Pykat\n",
    "katfile = \"../kat_files/aLIGO_IFO_AWC_tuning_DCoff_maxtem2.kat\"\n",
    "basekat = pykat.finesse.kat() \n",
    "basekat.load(katfile)\n",
    "basekat.parse(\"noxaxis\")\n",
    "basekat.parse(\"maxtem \"+str(2))\n",
    "kat=basekat.deepcopy() #copy kat code\n",
    "kat.verbose = False\n",
    "\n",
    "kat.ITMXHR.Rcx.value = R_ix_w_rh\n",
    "kat.ITMXHR.Rcy.value = R_ix_w_rh\n",
    "\n",
    "kat.ITMYHR.Rcx.value = R_iy_w_rh\n",
    "kat.ITMYHR.Rcy.value = R_iy_w_rh\n",
    "\n",
    "kat.ETMXHR.Rcx.value = R_ex_w_rh\n",
    "kat.ETMXHR.Rcy.value = R_ex_w_rh\n",
    "\n",
    "kat.ETMYHR.Rcx.value = R_ey_w_rh\n",
    "kat.ETMYHR.Rcy.value = R_ey_w_rh\n",
    "\n",
    "kat.ITMXTL.f = -f_ix_w_rh\n",
    "kat.ITMYTL.f = -f_iy_w_rh\n",
    "\n",
    "[q_PRX_ITMX_x,q_PRX_ITMX_y]  = trace_mode.from_cav_to_node(kat,'cavPRX','nITMX2')\n",
    "[q_PRY_ITMY_x,q_PRY_ITMY_y]  = trace_mode.from_cav_to_node(kat,'cavPRY','nITMY2')\n",
    "\n",
    "# Check that the PRC is modematched to itself with the new radii of curvature\n",
    "overlap = pykat.BeamParam.overlap(q_PRX_ITMX_x,q_PRY_ITMY_x)\n",
    "print(str((1-overlap)*1e6) +\"ppm is the loss between PRX and PRY\")"
   ]
  },
  {
   "cell_type": "code",
   "execution_count": 558,
   "metadata": {},
   "outputs": [
    {
     "data": {
      "text/plain": [
       "[0.9999846841125842, 0.9841114618944211]"
      ]
     },
     "execution_count": 558,
     "metadata": {},
     "output_type": "execute_result"
    }
   ],
   "source": [
    "overlap(0.0,0.0,0.0,0.0,-np.conjugate(q_PRX_ITMX_x))"
   ]
  },
  {
   "cell_type": "code",
   "execution_count": 559,
   "metadata": {},
   "outputs": [
    {
     "name": "stdout",
     "output_type": "stream",
     "text": [
      "15642.3273393671 ppm is the loss between the prc and the arms\n",
      "0.0 ppm is the loss between the xarm and yarm\n"
     ]
    }
   ],
   "source": [
    "### After correcting for static mode mismatch with ITMX RH, the arms are \n",
    "### relatively well matched, but the prc to arms is really bad.\n",
    "\n",
    "[arm2arm,arm2prc] = overlap(P_rh_ix_stat,0.0,0.0,P_rh_ey_stat,-np.conjugate(q_PRX_ITMX_x))\n",
    "\n",
    "print(str((1-arm2prc)*1e6), \"ppm is the loss between the prc and the arms\")\n",
    "print(str((1-arm2arm)*1e6), \"ppm is the loss between the xarm and yarm\")"
   ]
  },
  {
   "cell_type": "code",
   "execution_count": 560,
   "metadata": {},
   "outputs": [
    {
     "data": {
      "text/plain": [
       "1.0"
      ]
     },
     "execution_count": 560,
     "metadata": {},
     "output_type": "execute_result"
    }
   ],
   "source": [
    "### Calculate the static ETM mismatch"
   ]
  },
  {
   "cell_type": "code",
   "execution_count": 569,
   "metadata": {},
   "outputs": [],
   "source": [
    "### We can search for the proper modematching between the arms in the ETMS first\n",
    "\n",
    "P_rh_ex = np.arange(0,10.0,.01)\n",
    "P_rh_ey = np.arange(0,10.0,.01)\n",
    "\n",
    "X, Y = np.meshgrid(P_rh_ex, P_rh_ey)\n",
    "\n",
    "overlap_endRH_on = overlap(P_rh_ix_stat,0.0,X,P_rh_ey_stat+Y,-np.conjugate(q_PRX_ITMX_x))"
   ]
  },
  {
   "cell_type": "code",
   "execution_count": 573,
   "metadata": {},
   "outputs": [
    {
     "data": {
      "text/plain": [
       "array([[1.        , 0.99999999, 0.99999998, ..., 0.99341266, 0.99339785,\n",
       "        0.99338302],\n",
       "       [0.99999999, 1.        , 0.99999999, ..., 0.99342446, 0.99340966,\n",
       "        0.99339484],\n",
       "       [0.99999998, 0.99999999, 1.        , ..., 0.99343624, 0.99342146,\n",
       "        0.99340666],\n",
       "       ...,\n",
       "       [0.99341266, 0.99342446, 0.99343624, ..., 1.        , 0.99999999,\n",
       "        0.99999997],\n",
       "       [0.99339785, 0.99340966, 0.99342146, ..., 0.99999999, 1.        ,\n",
       "        0.99999999],\n",
       "       [0.99338302, 0.99339484, 0.99340666, ..., 0.99999997, 0.99999999,\n",
       "        1.        ]])"
      ]
     },
     "execution_count": 573,
     "metadata": {},
     "output_type": "execute_result"
    }
   ],
   "source": [
    "overlap_endRH_on[0]"
   ]
  },
  {
   "cell_type": "code",
   "execution_count": 574,
   "metadata": {},
   "outputs": [],
   "source": [
    "Z_arm = overlap_endRH_on[1]\n",
    "\n",
    "# Find the indices which have good mode matching between the arms\n",
    "indices = np.argwhere(Z_arm<1)\n",
    "\n",
    "#Powers relating to good mode matching between the arms\n",
    "ex_p = []\n",
    "ey_p= []\n",
    "for i in range(len(indices)):\n",
    "    xs = float(X[int(indices[i][0])][int(indices[i][1])])\n",
    "    ex_p.append(xs)\n",
    "    ys = float(Y[int(indices[i][0])][int(indices[i][1])])\n",
    "    ey_p.append(ys)\n",
    "\n",
    "ex_p=np.asarray(ex_p)\n",
    "ey_p=np.asarray(ey_p)"
   ]
  },
  {
   "cell_type": "code",
   "execution_count": 571,
   "metadata": {},
   "outputs": [
    {
     "name": "stdout",
     "output_type": "stream",
     "text": [
      "[0.   0.01 0.02 ... 9.97 9.98 9.99] [0.   0.   0.   ... 9.99 9.99 9.99]\n"
     ]
    }
   ],
   "source": [
    "print(ex_p,ey_p)"
   ]
  },
  {
   "cell_type": "code",
   "execution_count": 575,
   "metadata": {},
   "outputs": [
    {
     "name": "stdout",
     "output_type": "stream",
     "text": [
      "[0.98435767 0.98437569 0.98439369 ... 0.99803244 0.99804056 0.99804867]\n"
     ]
    }
   ],
   "source": [
    "# We know with the previous list that the arms are well modematched, so we need to calculate the prc overlap\n",
    "prc_overlap_rh = (1.0-overlap(P_rh,0.0,ex_p,ey_p,-np.conjugate(q_PRX_ITMX_x))[1])*1e6\n",
    "print(overlap(P_rh,0.0,ex_p,ey_p,-np.conjugate(q_PRX_ITMX_x))[1])"
   ]
  },
  {
   "cell_type": "code",
   "execution_count": 576,
   "metadata": {},
   "outputs": [
    {
     "name": "stdout",
     "output_type": "stream",
     "text": [
      "Optimal EX RH Power 9.99\n",
      "Optimal EY RH Power 0.0\n",
      "This will give a mode mismatch of 1951.333502 PPM between the arms and PRC\n"
     ]
    }
   ],
   "source": [
    "opt_mm_ind = prc_overlap_rh.argmin()\n",
    "opt_mm_ex_pwr = ex_p[opt_mm_ind]\n",
    "opt_mm_ey_pwr = ey_p[opt_mm_ind]\n",
    "\n",
    "print(\"Optimal EX RH Power \"+ str(opt_mm_ex_pwr))\n",
    "print(\"Optimal EY RH Power \"+ str(opt_mm_ey_pwr))\n",
    "print(\"This will give a mode mismatch of \" +str(round(prc_overlap_rh.min(),6)) + \" PPM between the arms and PRC\")"
   ]
  }
 ],
 "metadata": {
  "kernelspec": {
   "display_name": "Python 3",
   "language": "python",
   "name": "python3"
  },
  "language_info": {
   "codemirror_mode": {
    "name": "ipython",
    "version": 3
   },
   "file_extension": ".py",
   "mimetype": "text/x-python",
   "name": "python",
   "nbconvert_exporter": "python",
   "pygments_lexer": "ipython3",
   "version": "3.6.2"
  }
 },
 "nbformat": 4,
 "nbformat_minor": 2
}
