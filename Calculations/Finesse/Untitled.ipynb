{
 "cells": [
  {
   "cell_type": "code",
   "execution_count": 2,
   "metadata": {},
   "outputs": [
    {
     "name": "stdout",
     "output_type": "stream",
     "text": [
      "Object `sfpey` not found.\n"
     ]
    }
   ],
   "source": [
    "import sfepy"
   ]
  },
  {
   "cell_type": "code",
   "execution_count": 7,
   "metadata": {},
   "outputs": [],
   "source": [
    "\n",
    "from __future__ import absolute_import\n",
    "import numpy as np\n",
    "\n",
    "from sfepy.mechanics.matcoefs import stiffness_from_lame\n",
    "from sfepy import data_dir\n",
    "\n",
    "# Material parameters.\n",
    "lam = 10.0\n",
    "mu = 5.0\n",
    "thermal_expandability = 1.25e-5\n",
    "T0 = 20.0 # Background temperature.\n",
    "\n",
    "filename_mesh = data_dir + '/meshes/3d/block.mesh'\n",
    "\n",
    "options = {\n",
    "    'nls' : 'newton',\n",
    "    'ls' : 'ls',\n",
    "\n",
    "    'block_solve' : True,\n",
    "}\n",
    "\n",
    "regions = {\n",
    "    'Omega' : 'all',\n",
    "    'Left' : ('vertices in (x < -4.99)', 'facet'),\n",
    "    'Right' : ('vertices in (x > 4.99)', 'facet'),\n",
    "    'Bottom' : ('vertices in (z < -0.99)', 'facet'),\n",
    "}\n",
    "\n",
    "fields = {\n",
    "    'displacement': ('real', 3, 'Omega', 1),\n",
    "    'temperature': ('real', 1, 'Omega', 1),\n",
    "}\n",
    "\n",
    "variables = {\n",
    "    'u' : ('unknown field', 'displacement', 0),\n",
    "    'v' : ('test field', 'displacement', 'u'),\n",
    "    'T' : ('unknown field', 'temperature', 1),\n",
    "    's' : ('test field', 'temperature', 'T'),\n",
    "}\n",
    "\n",
    "ebcs = {\n",
    "    'u0' : ('Left', {'u.all' : 0.0}),\n",
    "    't0' : ('Left', {'T.0' : 20.0}),\n",
    "    't2' : ('Bottom', {'T.0' : 0.0}),\n",
    "    't1' : ('Right', {'T.0' : 30.0}),\n",
    "}\n",
    "\n",
    "eye_sym = np.array([[1], [1], [1], [0], [0], [0]], dtype=np.float64)\n",
    "materials = {\n",
    "    'solid' : ({\n",
    "        'D' : stiffness_from_lame(3, lam=lam, mu=mu),\n",
    "        'alpha' : (3.0 * lam + 2.0 * mu) * thermal_expandability * eye_sym\n",
    "    },),\n",
    "}\n",
    "\n",
    "equations = {\n",
    "    'balance_of_forces' : \"\"\"\n",
    "        + dw_lin_elastic.2.Omega(solid.D, v, u)\n",
    "        - dw_biot.2.Omega(solid.alpha, v, T)\n",
    "        = 0\n",
    "    \"\"\",\n",
    "    'temperature' : \"\"\"\n",
    "        + dw_laplace.1.Omega(s, T)\n",
    "        = 0\n",
    "    \"\"\"\n",
    "}\n",
    "\n",
    "solvers = {\n",
    "    'ls' : ('ls.scipy_direct', {}),\n",
    "    'newton' : ('nls.newton', {\n",
    "        'i_max'      : 1,\n",
    "        'eps_a'      : 1e-10,\n",
    "    }),\n",
    "}"
   ]
  },
  {
   "cell_type": "code",
   "execution_count": 9,
   "metadata": {},
   "outputs": [
    {
     "ename": "SyntaxError",
     "evalue": "invalid syntax (<ipython-input-9-b619ec109ea0>, line 1)",
     "output_type": "error",
     "traceback": [
      "\u001b[1;36m  File \u001b[1;32m\"<ipython-input-9-b619ec109ea0>\"\u001b[1;36m, line \u001b[1;32m1\u001b[0m\n\u001b[1;33m    ./postproc.py block.vtk -d'u,plot_displacements,rel_scaling=1000,color_kind=\"scalars\",color_name=\"T\"' --wireframe --only-names=u -b\u001b[0m\n\u001b[1;37m    ^\u001b[0m\n\u001b[1;31mSyntaxError\u001b[0m\u001b[1;31m:\u001b[0m invalid syntax\n"
     ]
    }
   ],
   "source": []
  }
 ],
 "metadata": {
  "kernelspec": {
   "display_name": "Python 3",
   "language": "python",
   "name": "python3"
  },
  "language_info": {
   "codemirror_mode": {
    "name": "ipython",
    "version": 3
   },
   "file_extension": ".py",
   "mimetype": "text/x-python",
   "name": "python",
   "nbconvert_exporter": "python",
   "pygments_lexer": "ipython3",
   "version": "3.6.2"
  }
 },
 "nbformat": 4,
 "nbformat_minor": 2
}
