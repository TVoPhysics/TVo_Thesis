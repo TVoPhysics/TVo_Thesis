{
 "cells": [
  {
   "cell_type": "code",
   "execution_count": 9,
   "metadata": {
    "collapsed": true
   },
   "outputs": [],
   "source": [
    "#### What is the effect on the quantum noise and the DARM Cavity Pole if we add -23.7 mm  to SR3 RoC?\n",
    "#### New SRM and new SRC length?"
   ]
  },
  {
   "cell_type": "code",
   "execution_count": 10,
   "metadata": {},
   "outputs": [],
   "source": [
    "%matplotlib inline\n",
    "import pykat\n",
    "import pylab as pl\n",
    "import numpy as np\n",
    "\n",
    "### My functions\n",
    "from kat_commands import *\n",
    "from cav_commands import *\n",
    "from load_kat_data import *\n",
    "from MMT import modematch\n",
    "\n",
    "import get_WS\n",
    "import trace_mode"
   ]
  },
  {
   "cell_type": "code",
   "execution_count": 11,
   "metadata": {
    "collapsed": true
   },
   "outputs": [],
   "source": [
    "katfile = \"aLIGO_IFO_AWC_tuning_DCoff_maxtem4_modified.kat\"\n",
    "maxtem = 2"
   ]
  },
  {
   "cell_type": "code",
   "execution_count": null,
   "metadata": {},
   "outputs": [],
   "source": [
    "#load the original kat file (ie Perfect Modematching) as a reference\n",
    "basekat = pykat.finesse.kat() \n",
    "basekat.load(katfile)\n",
    "basekat.parse(darm_commands)\n",
    "basekat.parse('''pd1 signal $fs nOMC_AROC_trans''')\n",
    "basekat.parse(cav_commands_FC_first)\n",
    "basekat.parse(\"maxtem \"+str(maxtem))\n",
    "basekat.undumpify()#undump the vacuum nodes\n",
    "kat=basekat.deepcopy() #copy kat code\n",
    "kat.verbose = False\n",
    "\n",
    "out_orig = kat.run()\n",
    "\n",
    "### change SR3 ROC is -3 mm/Watt \n",
    "### at 7.9 watts input the change is about -23.7 mm\n",
    "#kat.SR3.Rc.value = kat.SR3.Rc.value - 0.0237\n",
    "#kat.ls3.L.value = kat.ls3.L.value + 0.01\n",
    "kat.SRMHR.T.value = 0.25\n",
    "out_new_ROC = kat.run()"
   ]
  },
  {
   "cell_type": "code",
   "execution_count": null,
   "metadata": {
    "collapsed": true
   },
   "outputs": [],
   "source": [
    "##### Testing to trace the modes\n",
    "#### Turn off all the cav commands except SRCY to extract the eigenmode at the BS\n",
    "[srcx,srcy] = trace_mode.from_cav_to_BS(kat,'cavSRY')\n",
    "\n",
    "#### Turn off all the cav commands except XARM to extract the eigenmode at the BS\n",
    "[ARMx,ARMy] = trace_mode.from_cav_to_BS(kat,'cavXARM')\n",
    "\n",
    "#### Turn off all the cav commands except OMC to extract the eigenmode at the BS\n",
    "[OMCx,OMCy] = trace_mode.from_cav_to_BS(kat,'cavOMC')\n",
    "\n",
    "#### Turn off all the cav commands except FC to extract the eigenmode at the BS\n",
    "[FCx,FCy] = trace_mode.from_cav_to_BS(kat,'cavFC')"
   ]
  },
  {
   "cell_type": "code",
   "execution_count": null,
   "metadata": {
    "collapsed": true
   },
   "outputs": [],
   "source": [
    "pykat.BeamParam.overlap(srcx,OMCx)"
   ]
  },
  {
   "cell_type": "code",
   "execution_count": null,
   "metadata": {
    "collapsed": true
   },
   "outputs": [],
   "source": [
    "pl.figure(figsize=(9, 5), dpi=80)\n",
    "pl.subplot(111)\n",
    "\n",
    "pl.loglog(out_new_ROC.x, out_orig['NSR_with_RP'],'--',linewidth=2, label='O2')\n",
    "pl.loglog(out_new_ROC.x, out_new_ROC['NSR_with_RP'],linewidth=2, label='Post O2')\n",
    "\n",
    "#pl.xlim(out_new_ROC.x.min(),out_new_ROC.x.max())\n",
    "pl.xlim(10,2000)\n",
    "pl.ylim(2e-24,6e-23)\n",
    "\n",
    "pl.xlabel(\"Frequency [Hz]\",fontsize=20)\n",
    "pl.ylabel(\"Strain sensitivity [$1/\\\\sqrt{\\mathrm{Hz}}$]\",fontsize=20)\n",
    "\n",
    "###Main plot formatting\n",
    "pl.tick_params(labelsize=20)\n",
    "pl.tick_params(which='both', width=2)\n",
    "pl.tick_params(which='major', length=7)\n",
    "pl.tick_params(which='minor', length=4)\n",
    "pl.grid(True, zorder=-1)\n",
    "pl.legend(fontsize=20)\n",
    "\n",
    "pl.show()"
   ]
  },
  {
   "cell_type": "code",
   "execution_count": null,
   "metadata": {
    "collapsed": true
   },
   "outputs": [],
   "source": [
    "pl.figure(figsize=(9, 5), dpi=80)\n",
    "pl.subplot(111)\n",
    "\n",
    "pl.loglog(out_new_ROC.x, (2*np.pi/1064E-9)*out_orig['signal'],'--',linewidth=2, label='O2')\n",
    "pl.loglog(out_new_ROC.x, (2*np.pi/1064E-9)*out_new_ROC['signal'],linewidth=2, label='Post O2')\n",
    "\n",
    "#pl.xlim(out_new_ROC.x.min(),out_new_ROC.x.max())\n",
    "pl.xlim(5,2000)\n",
    "pl.ylim(1e19,1e21)\n",
    "\n",
    "pl.xlabel(\"Frequency [Hz]\",fontsize=20)\n",
    "pl.ylabel(\"OMC_Trans_PD Response [W/m]\",fontsize=20)\n",
    "\n",
    "###Main plot formatting\n",
    "pl.tick_params(labelsize=20)\n",
    "pl.tick_params(which='both', width=2)\n",
    "pl.tick_params(which='major', length=7)\n",
    "pl.tick_params(which='minor', length=4)\n",
    "pl.grid(True, zorder=-1)\n",
    "pl.legend(fontsize=20)\n",
    "\n",
    "pl.show()"
   ]
  },
  {
   "cell_type": "code",
   "execution_count": null,
   "metadata": {
    "collapsed": true
   },
   "outputs": [],
   "source": [
    "### Modematch the SRC to the OMC\n"
   ]
  }
 ],
 "metadata": {
  "kernelspec": {
   "display_name": "Python 3",
   "language": "python",
   "name": "python3"
  },
  "language_info": {
   "codemirror_mode": {
    "name": "ipython",
    "version": 3
   },
   "file_extension": ".py",
   "mimetype": "text/x-python",
   "name": "python",
   "nbconvert_exporter": "python",
   "pygments_lexer": "ipython3",
   "version": "3.6.2"
  }
 },
 "nbformat": 4,
 "nbformat_minor": 1
}
