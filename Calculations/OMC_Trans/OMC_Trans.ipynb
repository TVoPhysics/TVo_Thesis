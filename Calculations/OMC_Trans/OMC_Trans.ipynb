{
 "cells": [
  {
   "cell_type": "code",
   "execution_count": 14,
   "metadata": {},
   "outputs": [
    {
     "name": "stdout",
     "output_type": "stream",
     "text": [
      "OMC Gain is 126.103404792\n",
      "OMC_Trans per watt is 0.0063051702396\n"
     ]
    }
   ],
   "source": [
    "### Calculate OMC Trans power T1000276\n",
    "import numpy as np\n",
    "#input coupler reflectivity and transmistivity\n",
    "t1 = np.sqrt(7930/1e6)\n",
    "r1 = np.sqrt(1-t1**2)\n",
    "r2 = r1\n",
    "\n",
    "#high reflector transmission \n",
    "T_hc = 50/1e6\n",
    "\n",
    "#power build up\n",
    "p = (t1/(1-r1*r2))**2\n",
    "print(\"OMC Gain is \"+str(p))\n",
    "\n",
    "#power through high reflector\n",
    "OMC_Trans = p*T_hc\n",
    "print(\"OMC_Trans per watt is \" + str(OMC_Trans))"
   ]
  }
 ],
 "metadata": {
  "kernelspec": {
   "display_name": "Python 3",
   "language": "python",
   "name": "python3"
  },
  "language_info": {
   "codemirror_mode": {
    "name": "ipython",
    "version": 3
   },
   "file_extension": ".py",
   "mimetype": "text/x-python",
   "name": "python",
   "nbconvert_exporter": "python",
   "pygments_lexer": "ipython3",
   "version": "3.6.2"
  }
 },
 "nbformat": 4,
 "nbformat_minor": 2
}
