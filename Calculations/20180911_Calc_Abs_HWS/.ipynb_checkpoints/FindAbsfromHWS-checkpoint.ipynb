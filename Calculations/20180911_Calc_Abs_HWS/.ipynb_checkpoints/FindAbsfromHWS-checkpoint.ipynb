{
 "cells": [
  {
   "cell_type": "code",
   "execution_count": null,
   "metadata": {
    "collapsed": true
   },
   "outputs": [],
   "source": [
    "description=\"\"\"\n",
    "Find the absorption fitting.\n",
    "\"\"\""
   ]
  },
  {
   "cell_type": "code",
   "execution_count": null,
   "metadata": {},
   "outputs": [],
   "source": [
    "import numpy as np\n",
    "import scipy\n",
    "from scipy import interpolate\n",
    "from scipy import stats\n",
    "from scipy.optimize import least_squares\n",
    "import matplotlib.pyplot as pl\n",
    "import statistics\n",
    "\n",
    "%matplotlib inline"
   ]
  },
  {
   "cell_type": "code",
   "execution_count": null,
   "metadata": {},
   "outputs": [],
   "source": [
    "model = np.loadtxt('1W_self_heating_defocus_doublepass.txt')\n",
    "\n",
    "time_model = model[:,0]\n",
    "abs_model  = model[:,1]\n",
    "\n",
    "def TL(x,a,b):    \n",
    "    y = interpolate.interp1d(time_model,-abs_model/1e6,fill_value=\"extrapolate\")\n",
    "    \n",
    "    ynew = y(x)\n",
    "    \n",
    "    return a + (b * ynew)\n",
    "    \n",
    "a=0.0\n",
    "b=1.0\n",
    "x = np.arange(0,1,.001) #hours\n",
    "f = TL(x,a,b)\n",
    "\n",
    "#### Plot\n",
    "pl.figure(figsize=(5, 3), dpi=80)\n",
    "pl.plot(x,f)\n",
    "pl.grid()\n",
    "pl.show()"
   ]
  },
  {
   "cell_type": "code",
   "execution_count": null,
   "metadata": {
    "collapsed": true
   },
   "outputs": [],
   "source": [
    "imc_pwr = np.loadtxt('20180910_ABS_IMC_pwr.dat')\n",
    "dataITMX = np.loadtxt('20180910_ABS_ITMX_sph.dat')\n",
    "dataITMY = np.loadtxt('20180910_ABS_ITMY_sph.dat')\n",
    "dataETMX = np.loadtxt('20180910_ABS_ETMX_sph.dat')\n",
    "dataETMY = np.loadtxt('20180910_ABS_ETMY_sph.dat')"
   ]
  },
  {
   "cell_type": "code",
   "execution_count": null,
   "metadata": {},
   "outputs": [],
   "source": [
    "dataITMX"
   ]
  },
  {
   "cell_type": "code",
   "execution_count": null,
   "metadata": {
    "collapsed": true
   },
   "outputs": [],
   "source": [
    "#get power down time/index\n",
    "indx = np.argwhere(imc_pwr<2.0)\n",
    "\n",
    "s_indx = indx[0][0] + (16*30)#choose a start time a little bit after power down to get a quieter time after lockloss\n",
    "e_indx = s_indx + 1*60*60*16  #convert index to seconds (1hour)\n",
    "\n",
    "p_in=17.0\n",
    "prc_g = 45.0\n",
    "bs = 0.5\n",
    "arm_g = 282.0\n",
    "\n",
    "p_arm = p_in*prc_g*bs*arm_g\n",
    "\n",
    "def get_abs(optic):\n",
    "    time_ix = (optic[s_indx:e_indx,0] - optic[s_indx,0])/(60.0*60.0)\n",
    "    data_ix = optic[s_indx:e_indx,1] - optic[s_indx,1]\n",
    "\n",
    "    data_start_avg = np.average(data_ix[0:100])#rescale start to zero, guess\n",
    "    data_ix = data_ix - data_start_avg\n",
    "\n",
    "    [opt,b]=scipy.optimize.curve_fit(TL,time_ix,data_ix)\n",
    "    arm_abs = 1e9*opt[1]/p_arm #scale to get the absorption in ppm\n",
    "    print(arm_abs)\n",
    "\n",
    "    \n",
    "    ### Get the uncertainty\n",
    "    m=100\n",
    "    uns = e_indx+(60*16*40)\n",
    "    un_arr = np.zeros(m)\n",
    "    for i in range(m):\n",
    "        i1 = int(uns+(float(i)*60*16))\n",
    "        i2 = int(uns+(float(i+1)*60*16))\n",
    "        t_un = optic[i1:i2,0]\n",
    "        d_un = optic[i1:i2,1]\n",
    "        [m_un,b_un] = scipy.optimize.curve_fit(TL,t_un,d_un)\n",
    "        un_arr[i] = m_un[1]\n",
    "    \n",
    "    res = TL(time_ix,opt[0],opt[1])-data_ix\n",
    "    rms = np.sqrt( np.sum(np.square(un_arr))/len(un_arr) )\n",
    "    std = scipy.std(un_arr)\n",
    "    sem = stats.sem(un_arr)\n",
    "    print(1e9*rms/p_arm)\n",
    "    print(1e9*std/p_arm)\n",
    "    \n",
    "    pl.figure(figsize=(10, 8), dpi=80)\n",
    "    pl.subplot(211)\n",
    "    pl.plot(time_ix,data_ix*1e6,label=\"Data\")\n",
    "    pl.plot(time_ix,res*1e6,label=\"Residuals\")\n",
    "    pl.plot(time_ix,TL(time_ix,opt[0],opt[1])*1e6,label=\"Comsol Model\",linewidth=3.0)\n",
    "    pl.ylabel(\"Spherical Power (uDiopters)\")\n",
    "    pl.xlabel(\"Time After Lockloss (Hours)\")\n",
    "    pl.legend()\n",
    "    pl.grid()\n",
    "    \n",
    "    pl.subplot(212)\n",
    "    pl.plot(optic[uns:int(uns+(m*60*15)),0],optic[uns:int(uns+(m*60*15)),1]*1e6, label=\"Data to estimate RMS Noise\")\n",
    "    pl.ylabel(\"Spherical Power (uDiopters)\")\n",
    "    pl.xlabel(\"Time (Sec) \")\n",
    "    pl.grid()\n",
    "    pl.legend()\n",
    "    pl.show()"
   ]
  },
  {
   "cell_type": "code",
   "execution_count": null,
   "metadata": {},
   "outputs": [],
   "source": [
    "get_abs(dataITMX)"
   ]
  },
  {
   "cell_type": "code",
   "execution_count": null,
   "metadata": {},
   "outputs": [],
   "source": [
    "get_abs(dataITMY)"
   ]
  },
  {
   "cell_type": "code",
   "execution_count": null,
   "metadata": {},
   "outputs": [],
   "source": [
    "get_abs(dataETMX)"
   ]
  },
  {
   "cell_type": "code",
   "execution_count": null,
   "metadata": {},
   "outputs": [],
   "source": [
    "get_abs(dataETMY)"
   ]
  }
 ],
 "metadata": {
  "kernelspec": {
   "display_name": "Python 3",
   "language": "python",
   "name": "python3"
  },
  "language_info": {
   "codemirror_mode": {
    "name": "ipython",
    "version": 3
   },
   "file_extension": ".py",
   "mimetype": "text/x-python",
   "name": "python",
   "nbconvert_exporter": "python",
   "pygments_lexer": "ipython3",
   "version": "3.6.2"
  }
 },
 "nbformat": 4,
 "nbformat_minor": 2
}
