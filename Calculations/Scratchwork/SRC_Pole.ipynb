{
 "cells": [
  {
   "cell_type": "code",
   "execution_count": 47,
   "metadata": {},
   "outputs": [],
   "source": [
    "import numpy as np"
   ]
  },
  {
   "cell_type": "code",
   "execution_count": 51,
   "metadata": {},
   "outputs": [
    {
     "name": "stdout",
     "output_type": "stream",
     "text": [
      "0.8225569889071517 0.9929753269845127\n",
      "0.8651296199693655\n",
      "42.34223894748859\n",
      "448.5042816805502\n"
     ]
    }
   ],
   "source": [
    "r_s = np.sqrt(1-0.3234)\n",
    "r_i = np.sqrt(1-0.014)\n",
    "\n",
    "print(r_s, r_i)\n",
    "\n",
    "r_comp = (r_i-r_s) / ( 1.0 - r_i*r_s)\n",
    "\n",
    "print(r_comp**2.0)\n",
    "\n",
    "c = 3.0e8\n",
    "L = 4000.0\n",
    "\n",
    "\n",
    "\n",
    "r1 = r_i\n",
    "r2 = np.sqrt(1-40e-6)\n",
    "\n",
    "F = np.pi * np.sqrt(r1*r2)/ (1-r1*r2)\n",
    "\n",
    "pole = ((1 - r1*r2) /(r1*r2)) *( c/(2*L)) *(1/(2*np.pi))\n",
    "\n",
    "print(pole)\n",
    "\n",
    "r1 = r_comp\n",
    "r2 = np.sqrt(1-40e-6)\n",
    "\n",
    "pole_SRC = ((1 - r1*r2) /(r1*r2)) *( c/(2*L)) *(1/(2*np.pi))\n",
    "\n",
    "print(pole_SRC)"
   ]
  }
 ],
 "metadata": {
  "kernelspec": {
   "display_name": "Python 3",
   "language": "python",
   "name": "python3"
  },
  "language_info": {
   "codemirror_mode": {
    "name": "ipython",
    "version": 3
   },
   "file_extension": ".py",
   "mimetype": "text/x-python",
   "name": "python",
   "nbconvert_exporter": "python",
   "pygments_lexer": "ipython3",
   "version": "3.6.2"
  }
 },
 "nbformat": 4,
 "nbformat_minor": 2
}
