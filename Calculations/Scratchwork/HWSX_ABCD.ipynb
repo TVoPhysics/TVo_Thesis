{
 "cells": [
  {
   "cell_type": "code",
   "execution_count": null,
   "metadata": {
    "collapsed": true
   },
   "outputs": [],
   "source": []
  },
  {
   "cell_type": "code",
   "execution_count": 184,
   "metadata": {},
   "outputs": [],
   "source": [
    "import pykat\n",
    "import numpy as np\n",
    "import pandas\n",
    "import matplotlib.pyplot as pl\n",
    "from scipy import stats\n",
    "\n",
    "%matplotlib inline"
   ]
  },
  {
   "cell_type": "code",
   "execution_count": 262,
   "metadata": {
    "collapsed": true
   },
   "outputs": [],
   "source": [
    "kat_code = \"\"\"\n",
    "l L0 1 0 n0 \n",
    "\n",
    "s lbs 0 n0 n1\n",
    "\n",
    "bs1 bssource 0.5 0 0 45 n1 n2 dump nhws\n",
    "\n",
    "s sbstolens1 2.7057 n2 nlens1in\n",
    "\n",
    "lens len1 1.6994 nlens1in nlens1out\n",
    "\n",
    "s slens1tolens2 2.8092 nlens1out nlens2in\n",
    "\n",
    "lens len2 -1.6994 nlens2in nlens2out\n",
    "\n",
    "s slenstoSR3 17.3953 nlens2out nSR3in\n",
    "\n",
    "bs1 SR3 0 0 0 0.785 nSR3in nSR3out dump dump\n",
    "\n",
    "attr SR3 Rc 35.972841\n",
    "\n",
    "s SR3toBS 19.3661 nSR3out nBSin \n",
    "\n",
    "#AR surface\n",
    "bs1 BS 0 0 0 45 nBSin nBSout dump dump\n",
    "\n",
    "s BStoITMX1 5.2882 nBSout nITMXin\n",
    "\n",
    "#ITM\n",
    "m1 ITMHR 1u 0 0 nITMXin nITMXout\n",
    "attr ITMHR Rc -1934\n",
    "#HWS \n",
    "s sbs1toHWS 2.7057 nhws nhwsout\n",
    "\n",
    "pd HWSa nhwsout\n",
    "pdtype HWSa y-split\n",
    "\n",
    "pd HWSb nhwsout\n",
    "pdtype HWSb y-split\n",
    "\n",
    "pd ITMXpd nITMXout\n",
    "pdtype ITMXpd y-split\n",
    "\n",
    "noxaxis \n",
    "\"\"\""
   ]
  },
  {
   "cell_type": "code",
   "execution_count": 263,
   "metadata": {},
   "outputs": [
    {
     "name": "stdout",
     "output_type": "stream",
     "text": [
      "--------------------------------------------------------------\n",
      "Running kat - Started at 2018-10-03 13:57:26.935325\n",
      "\n",
      "Finished in 0.0688167 seconds\n"
     ]
    },
    {
     "name": "stderr",
     "output_type": "stream",
     "text": [
      "\r",
      "  0% | ETA:  --:--:-- | Calculating                                            \r",
      "100% | ETA:  0:00:00 | Calculating                                             "
     ]
    },
    {
     "data": {
      "text/plain": [
       "<pykat.finesse.KatRun at 0x1fa26decb00>"
      ]
     },
     "execution_count": 263,
     "metadata": {},
     "output_type": "execute_result"
    }
   ],
   "source": [
    "basekat = pykat.finesse.kat() \n",
    "basekat.parse(kat_code)\n",
    "\n",
    "kat = basekat.deepcopy()\n",
    "\n",
    "kat.run()"
   ]
  },
  {
   "cell_type": "code",
   "execution_count": 264,
   "metadata": {},
   "outputs": [],
   "source": [
    "bs1toHWS = kat.sbs1toHWS.ABCD('nhws','nhwsout')\n",
    "\n",
    "len1 = kat.len1.ABCD('nlens1in','nlens1out')\n",
    "\n",
    "slen1tolen2 = kat.slens1tolens2.ABCD('nlens1out','nlens2in')\n",
    "\n",
    "len2 = kat.len2.ABCD('nlens2in','nlens2out')\n",
    "\n",
    "slen2toSR3 = kat.slenstoSR3.ABCD('nlens2out','nSR3in')\n",
    "\n",
    "SR3 = kat.SR3.ABCD('nSR3in','nSR3out')\n",
    "\n",
    "sSR3toBS = kat.SR3toBS.ABCD('nSR3out','nBSin')\n",
    "\n",
    "sBStoITMX = kat.BStoITMX1.ABCD('nBSout', 'nITMXin')\n",
    "\n",
    "ITMX = kat.ITMHR.ABCD('nITMXin', 'nITMXout')"
   ]
  },
  {
   "cell_type": "code",
   "execution_count": 265,
   "metadata": {
    "collapsed": true
   },
   "outputs": [],
   "source": [
    "# Create in-out vectors\n",
    "row = np.arange(-1.0,1.0,1e-2)\n",
    "zeros = np.zeros(row.shape)\n",
    "\n",
    "in_v =np.column_stack([zeros,row])\n",
    "out_v = np.column_stack([zeros,row])"
   ]
  },
  {
   "cell_type": "code",
   "execution_count": 306,
   "metadata": {},
   "outputs": [
    {
     "name": "stdout",
     "output_type": "stream",
     "text": [
      "[[-5.72579502e-02 -1.41327522e+00]\n",
      " [ 4.43134837e-03 -1.73554464e+01]]\n",
      "[ 1.41327522 17.35544638] [ 0. -1.]\n"
     ]
    }
   ],
   "source": [
    "SR3_to_HWS = bs1toHWS * len1 * slen1tolen2 * len2 * slen2toSR3\n",
    "\n",
    "SR3_to_ITMX_ret = SR3 * sSR3toBS * sBStoITMX *ITMX* sBStoITMX * sSR3toBS\n",
    "\n",
    "#ITMX_to_HWS = bs1toHWS* len1 * slen1tolen2 * len2 * slen2toSR3 * SR3 * sSR3toBS * sBStoITMX\n",
    "\n",
    "m = np.matrix(SR3_to_HWS*SR3_to_ITMX_ret)\n",
    "\n",
    "print(m)\n",
    "\n",
    "#m = np.matrix(ITMX_to_HWS)\n",
    "\n",
    "for i  in range(len(in_v)):\n",
    "    out_v[i] = np.dot(m,in_v[i])\n",
    "\n",
    "\n",
    "print(out_v[0],in_v[0])"
   ]
  },
  {
   "cell_type": "code",
   "execution_count": 307,
   "metadata": {},
   "outputs": [
    {
     "name": "stdout",
     "output_type": "stream",
     "text": [
      "[[ 1.         49.3086    ]\n",
      " [-0.05560272 -1.74169217]]\n",
      "[[  0.02114378   1.41003415]\n",
      " [ -0.97272803 -17.57394997]]\n"
     ]
    }
   ],
   "source": [
    "print(SR3_to_ITMX_ret)\n",
    "\n",
    "print(SR3_to_HWS)"
   ]
  },
  {
   "cell_type": "code",
   "execution_count": 308,
   "metadata": {},
   "outputs": [],
   "source": [
    "check =\"\"\"### To make sure the sign of the SR3 is correct, inject into flat, sh\n",
    "SR3_to_ITMX_ret_flat = sSR3toBS * sBStoITMX * sBStoITMX * sSR3toBS\n",
    "\n",
    "out_check = np.column_stack([zeros,row])\n",
    "in_check = np.column_stack([zeros,row])\n",
    "\n",
    "for i  in range(len(in_v)):\n",
    "    out_check[i] = np.dot(SR3_to_ITMX_ret_flat,in_check[i])\n",
    "\n",
    "pl.figure(figsize=(15, 5), dpi=80)\n",
    "\n",
    "pl.subplot(121)\n",
    "\n",
    "pl.plot(row,out_check[:,0], 'o',linewidth=3)\n",
    "\n",
    "pl.xlabel(\"SR3 Optic Tilt(rad)\")\n",
    "pl.ylabel(\"On HWS (m)\")\n",
    "\n",
    "#Main plot formatting\n",
    "pl.tick_params(labelsize=12)\n",
    "pl.tick_params(which='both', width=2)\n",
    "pl.tick_params(which='major', length=7)\n",
    "pl.tick_params(which='minor', length=4)\n",
    "pl.grid(True, zorder=-1)\n",
    "pl.legend(fontsize=15)\n",
    "\n",
    "pl.subplot(122)\n",
    "pl.plot(row,out_check[:,1], 'o',linewidth=3)\n",
    "\n",
    "pl.xlabel(\"SR3 Optic Tilt(rad)\")\n",
    "pl.ylabel(\"On HWS (rad)\")\n",
    "\n",
    "#Main plot formatting\n",
    "pl.tick_params(labelsize=12)\n",
    "pl.tick_params(which='both', width=2)\n",
    "pl.tick_params(which='major', length=7)\n",
    "pl.tick_params(which='minor', length=4)\n",
    "pl.grid(True, zorder=-1)\n",
    "pl.legend(fontsize=15)\n",
    "\n",
    "pl.show()\"\"\""
   ]
  },
  {
   "cell_type": "code",
   "execution_count": 309,
   "metadata": {},
   "outputs": [],
   "source": [
    "def slope_finder(x,y):\n",
    "    slope, intercept, r_value, p_value, std_err = stats.linregress(x,y)\n",
    "    return slope\n",
    "\n",
    "s_dis = round(slope_finder(row,out_v[:,0]),3)\n",
    "s_ang = round(slope_finder(row,out_v[:,1]),3)"
   ]
  },
  {
   "cell_type": "code",
   "execution_count": 313,
   "metadata": {
    "scrolled": false
   },
   "outputs": [
    {
     "data": {
      "image/png": "[encoded data removed]",
      "text/plain": [
       "<matplotlib.figure.Figure at 0x1fa2ad81e10>"
      ]
     },
     "metadata": {},
     "output_type": "display_data"
    }
   ],
   "source": [
    "pl.figure(figsize=(15, 5), dpi=80)\n",
    "\n",
    "pl.subplot(121)\n",
    "\n",
    "pl.plot(row,out_v[:,0], 'o',linewidth=3,label='Displacement: slope = '+ str(s_dis))\n",
    "\n",
    "pl.xlabel(\"SR3 Optic Tilt(rad)\")\n",
    "pl.ylabel(\"On HWS (m)\")\n",
    "\n",
    "#Main plot formatting\n",
    "pl.tick_params(labelsize=12)\n",
    "pl.tick_params(which='both', width=2)\n",
    "pl.tick_params(which='major', length=7)\n",
    "pl.tick_params(which='minor', length=4)\n",
    "pl.grid(True, zorder=-1)\n",
    "pl.legend(fontsize=15)\n",
    "\n",
    "pl.subplot(122)\n",
    "pl.plot(row,out_v[:,1], 'o',linewidth=3,label='Angle: slope = '+ str(s_ang))\n",
    "\n",
    "pl.xlabel(\"SR3 Optic Tilt(rad)\")\n",
    "pl.ylabel(\"On HWS (rad)\")\n",
    "\n",
    "#Main plot formatting\n",
    "pl.tick_params(labelsize=12)\n",
    "pl.tick_params(which='both', width=2)\n",
    "pl.tick_params(which='major', length=7)\n",
    "pl.tick_params(which='minor', length=4)\n",
    "pl.grid(True, zorder=-1)\n",
    "pl.legend(fontsize=15)\n",
    "\n",
    "pl.savefig('SR3toHWSx_sensitivity.png')\n",
    "pl.show()"
   ]
  },
  {
   "cell_type": "code",
   "execution_count": 311,
   "metadata": {},
   "outputs": [
    {
     "name": "stdout",
     "output_type": "stream",
     "text": [
      "[[-5.72579502e-02 -1.62053624e-03]\n",
      " [ 4.43134837e-03 -1.74646982e+01]]\n"
     ]
    }
   ],
   "source": [
    "#Does this match Aidan's estimate, D should be -17.5 and B should be close to zero\n",
    "ITMX_to_HWS = bs1toHWS* len1 * slen1tolen2 * len2 * slen2toSR3 * SR3 * sSR3toBS * sBStoITMX\n",
    "\n",
    "print(ITMX_to_HWS)"
   ]
  }
 ],
 "metadata": {
  "kernelspec": {
   "display_name": "Python 3",
   "language": "python",
   "name": "python3"
  },
  "language_info": {
   "codemirror_mode": {
    "name": "ipython",
    "version": 3
   },
   "file_extension": ".py",
   "mimetype": "text/x-python",
   "name": "python",
   "nbconvert_exporter": "python",
   "pygments_lexer": "ipython3",
   "version": "3.6.2"
  }
 },
 "nbformat": 4,
 "nbformat_minor": 2
}
